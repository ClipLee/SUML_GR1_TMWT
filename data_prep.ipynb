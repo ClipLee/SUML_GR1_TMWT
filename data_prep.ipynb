{
 "cells": [
  {
   "cell_type": "markdown",
   "metadata": {},
   "source": [
    "# Przygotowanie środowiska"
   ]
  },
  {
   "cell_type": "code",
   "execution_count": 1,
   "metadata": {},
   "outputs": [
    {
     "ename": "ModuleNotFoundError",
     "evalue": "No module named 'pandas'",
     "output_type": "error",
     "traceback": [
      "\u001b[0;31m---------------------------------------------------------------------------\u001b[0m",
      "\u001b[0;31mModuleNotFoundError\u001b[0m                       Traceback (most recent call last)",
      "\u001b[1;32m/Users/dominikabalcerowska/Library/Mobile Documents/com~apple~CloudDocs/suml/SUML_GR1_TMWT/data_prep.ipynb Komórka 2\u001b[0m line \u001b[0;36m2\n\u001b[1;32m      <a href='vscode-notebook-cell:/Users/dominikabalcerowska/Library/Mobile%20Documents/com~apple~CloudDocs/suml/SUML_GR1_TMWT/data_prep.ipynb#W1sZmlsZQ%3D%3D?line=0'>1</a>\u001b[0m \u001b[39mimport\u001b[39;00m \u001b[39mos\u001b[39;00m\n\u001b[0;32m----> <a href='vscode-notebook-cell:/Users/dominikabalcerowska/Library/Mobile%20Documents/com~apple~CloudDocs/suml/SUML_GR1_TMWT/data_prep.ipynb#W1sZmlsZQ%3D%3D?line=1'>2</a>\u001b[0m \u001b[39mimport\u001b[39;00m \u001b[39mpandas\u001b[39;00m \u001b[39mas\u001b[39;00m \u001b[39mpd\u001b[39;00m\n\u001b[1;32m      <a href='vscode-notebook-cell:/Users/dominikabalcerowska/Library/Mobile%20Documents/com~apple~CloudDocs/suml/SUML_GR1_TMWT/data_prep.ipynb#W1sZmlsZQ%3D%3D?line=2'>3</a>\u001b[0m \u001b[39mimport\u001b[39;00m \u001b[39mpickle\u001b[39;00m\n\u001b[1;32m      <a href='vscode-notebook-cell:/Users/dominikabalcerowska/Library/Mobile%20Documents/com~apple~CloudDocs/suml/SUML_GR1_TMWT/data_prep.ipynb#W1sZmlsZQ%3D%3D?line=4'>5</a>\u001b[0m \u001b[39mimport\u001b[39;00m \u001b[39mmatplotlib\u001b[39;00m\u001b[39m.\u001b[39;00m\u001b[39mpyplot\u001b[39;00m \u001b[39mas\u001b[39;00m \u001b[39mplt\u001b[39;00m\n",
      "\u001b[0;31mModuleNotFoundError\u001b[0m: No module named 'pandas'"
     ]
    }
   ],
   "source": [
    "import os\n",
    "import pandas as pd\n",
    "import pickle\n",
    "\n",
    "import matplotlib.pyplot as plt\n",
    "import seaborn as sns\n",
    "import numpy as np\n",
    "\n",
    "import cufflinks as cf"
   ]
  },
  {
   "cell_type": "code",
   "execution_count": null,
   "metadata": {},
   "outputs": [
    {
     "ename": "",
     "evalue": "",
     "output_type": "error",
     "traceback": [
      "\u001b[1;31mNie można uruchomić jądra, ponieważ środowisko języka Python „~/Downloads/SUML_GR1_TMWT-main/.conda/bin/python” nie jest już dostępne. Rozważ wybranie innego jądra lub odświeżenie listy środowisk języka Python."
     ]
    }
   ],
   "source": [
    "from platform import python_version\n",
    "python_version()"
   ]
  },
  {
   "cell_type": "markdown",
   "metadata": {},
   "source": [
    "# Przygotowanie danych do analizy"
   ]
  },
  {
   "cell_type": "code",
   "execution_count": null,
   "metadata": {},
   "outputs": [
    {
     "ename": "",
     "evalue": "",
     "output_type": "error",
     "traceback": [
      "\u001b[1;31mNie można uruchomić jądra, ponieważ środowisko języka Python „~/Downloads/SUML_GR1_TMWT-main/.conda/bin/python” nie jest już dostępne. Rozważ wybranie innego jądra lub odświeżenie listy środowisk języka Python."
     ]
    }
   ],
   "source": [
    "from pandas.core.indexes import base\n",
    "os.getcwd()"
   ]
  },
  {
   "cell_type": "code",
   "execution_count": null,
   "metadata": {},
   "outputs": [
    {
     "ename": "",
     "evalue": "",
     "output_type": "error",
     "traceback": [
      "\u001b[1;31mNie można uruchomić jądra, ponieważ środowisko języka Python „~/Downloads/SUML_GR1_TMWT-main/.conda/bin/python” nie jest już dostępne. Rozważ wybranie innego jądra lub odświeżenie listy środowisk języka Python."
     ]
    }
   ],
   "source": [
    "base_data = pd.read_csv(\"data/weatherAUS.csv\")"
   ]
  },
  {
   "cell_type": "code",
   "execution_count": null,
   "metadata": {},
   "outputs": [
    {
     "ename": "",
     "evalue": "",
     "output_type": "error",
     "traceback": [
      "\u001b[1;31mNie można uruchomić jądra, ponieważ środowisko języka Python „~/Downloads/SUML_GR1_TMWT-main/.conda/bin/python” nie jest już dostępne. Rozważ wybranie innego jądra lub odświeżenie listy środowisk języka Python."
     ]
    }
   ],
   "source": [
    "base_data"
   ]
  },
  {
   "cell_type": "code",
   "execution_count": null,
   "metadata": {},
   "outputs": [
    {
     "ename": "",
     "evalue": "",
     "output_type": "error",
     "traceback": [
      "\u001b[1;31mNie można uruchomić jądra, ponieważ środowisko języka Python „~/Downloads/SUML_GR1_TMWT-main/.conda/bin/python” nie jest już dostępne. Rozważ wybranie innego jądra lub odświeżenie listy środowisk języka Python."
     ]
    }
   ],
   "source": [
    "print(base_data)"
   ]
  },
  {
   "cell_type": "code",
   "execution_count": null,
   "metadata": {},
   "outputs": [
    {
     "ename": "",
     "evalue": "",
     "output_type": "error",
     "traceback": [
      "\u001b[1;31mNie można uruchomić jądra, ponieważ środowisko języka Python „~/Downloads/SUML_GR1_TMWT-main/.conda/bin/python” nie jest już dostępne. Rozważ wybranie innego jądra lub odświeżenie listy środowisk języka Python."
     ]
    }
   ],
   "source": [
    "base_data.columns"
   ]
  },
  {
   "cell_type": "code",
   "execution_count": null,
   "metadata": {},
   "outputs": [
    {
     "ename": "",
     "evalue": "",
     "output_type": "error",
     "traceback": [
      "\u001b[1;31mNie można uruchomić jądra, ponieważ środowisko języka Python „~/Downloads/SUML_GR1_TMWT-main/.conda/bin/python” nie jest już dostępne. Rozważ wybranie innego jądra lub odświeżenie listy środowisk języka Python."
     ]
    }
   ],
   "source": [
    "categorical = [var for var in base_data.columns if base_data[var].dtype == 'O']\n",
    "\n",
    "print('There are {} categorical variables\\n'.format(len(categorical)))\n",
    "\n",
    "print('The categorical variables are :', categorical)"
   ]
  },
  {
   "cell_type": "code",
   "execution_count": null,
   "metadata": {},
   "outputs": [
    {
     "ename": "",
     "evalue": "",
     "output_type": "error",
     "traceback": [
      "\u001b[1;31mNie można uruchomić jądra, ponieważ środowisko języka Python „~/Downloads/SUML_GR1_TMWT-main/.conda/bin/python” nie jest już dostępne. Rozważ wybranie innego jądra lub odświeżenie listy środowisk języka Python."
     ]
    }
   ],
   "source": [
    "base_data.isnull().sum()"
   ]
  },
  {
   "cell_type": "markdown",
   "metadata": {},
   "source": [
    "Kolumny z największymi ilościami brakujących danych to Cloud9am (38%), Cloud3pm (41%), Evaporation (43%) oraz Sunshine (48%)."
   ]
  },
  {
   "cell_type": "code",
   "execution_count": null,
   "metadata": {},
   "outputs": [
    {
     "ename": "",
     "evalue": "",
     "output_type": "error",
     "traceback": [
      "\u001b[1;31mNie można uruchomić jądra, ponieważ środowisko języka Python „~/Downloads/SUML_GR1_TMWT-main/.conda/bin/python” nie jest już dostępne. Rozważ wybranie innego jądra lub odświeżenie listy środowisk języka Python."
     ]
    }
   ],
   "source": [
    "print(base_data.shape[0])"
   ]
  },
  {
   "cell_type": "code",
   "execution_count": null,
   "metadata": {},
   "outputs": [
    {
     "ename": "",
     "evalue": "",
     "output_type": "error",
     "traceback": [
      "\u001b[1;31mNie można uruchomić jądra, ponieważ środowisko języka Python „~/Downloads/SUML_GR1_TMWT-main/.conda/bin/python” nie jest już dostępne. Rozważ wybranie innego jądra lub odświeżenie listy środowisk języka Python."
     ]
    }
   ],
   "source": [
    "cloud9am_mean = base_data['Cloud9am'].mean()\n",
    "cloud3pm_mean = base_data['Cloud3pm'].mean()\n",
    "\n",
    "print(\"Average Cloud9am:\", cloud9am_mean)\n",
    "print(\"Average Cloud3pm:\", cloud3pm_mean)"
   ]
  },
  {
   "cell_type": "code",
   "execution_count": null,
   "metadata": {},
   "outputs": [
    {
     "ename": "",
     "evalue": "",
     "output_type": "error",
     "traceback": [
      "\u001b[1;31mNie można uruchomić jądra, ponieważ środowisko języka Python „~/Downloads/SUML_GR1_TMWT-main/.conda/bin/python” nie jest już dostępne. Rozważ wybranie innego jądra lub odświeżenie listy środowisk języka Python."
     ]
    }
   ],
   "source": [
    "sns.heatmap(base_data.isnull(), yticklabels=False, cbar=False, cmap='viridis')"
   ]
  },
  {
   "cell_type": "code",
   "execution_count": null,
   "metadata": {},
   "outputs": [
    {
     "ename": "",
     "evalue": "",
     "output_type": "error",
     "traceback": [
      "\u001b[1;31mNie można uruchomić jądra, ponieważ środowisko języka Python „~/Downloads/SUML_GR1_TMWT-main/.conda/bin/python” nie jest już dostępne. Rozważ wybranie innego jądra lub odświeżenie listy środowisk języka Python."
     ]
    }
   ],
   "source": [
    "base_data['Location'].unique()"
   ]
  },
  {
   "cell_type": "code",
   "execution_count": null,
   "metadata": {},
   "outputs": [
    {
     "ename": "",
     "evalue": "",
     "output_type": "error",
     "traceback": [
      "\u001b[1;31mNie można uruchomić jądra, ponieważ środowisko języka Python „~/Downloads/SUML_GR1_TMWT-main/.conda/bin/python” nie jest już dostępne. Rozważ wybranie innego jądra lub odświeżenie listy środowisk języka Python."
     ]
    }
   ],
   "source": [
    "import pandas as pd\n",
    "\n",
    "# Słownik zawierający australijskie miasta i ich współrzędne\n",
    "australian_cities = {\n",
    "    \"Albury\": (-36.0736, 146.9135),\n",
    "    \"BadgerysCreek\": (-33.8500, 150.7500),\n",
    "    \"Cobar\": (-31.5500, 145.8333),\n",
    "    \"CoffsHarbour\": (-30.3000, 153.1333),\n",
    "    \"Moree\": (-29.4667, 149.8500),\n",
    "    \"Newcastle\": (-32.9333, 151.7500),\n",
    "    \"NorahHead\": (-33.2833, 151.5667),\n",
    "    \"NorfolkIsland\": (-29.0333, 167.9500),\n",
    "    \"Penrith\": (-33.7500, 150.7000),\n",
    "    \"Richmond\": (-33.6167, 150.7500),\n",
    "    \"Sydney\": (-33.8688, 151.2093),\n",
    "    \"SydneyAirport\": (-33.9461, 151.1772),\n",
    "    \"WaggaWagga\": (-35.1167, 147.4667),\n",
    "    \"Williamtown\": (-32.8500, 151.8167),\n",
    "    \"Wollongong\": (-34.4250, 150.8833),\n",
    "    \"Canberra\": (-35.3075, 149.1244),\n",
    "    \"Tuggeranong\": (-35.4235, 149.0754),\n",
    "    \"MountGinini\": (-35.5500, 148.7500),\n",
    "    \"Ballarat\": (-37.5500, 143.8500),\n",
    "    \"Bendigo\": (-36.7667, 144.2667),\n",
    "    \"Sale\": (-38.1167, 147.0667),\n",
    "    \"MelbourneAirport\": (-37.6667, 144.8333),\n",
    "    \"Melbourne\": (-37.8136, 144.9631),\n",
    "    \"Mildura\": (-34.2000, 142.1500),\n",
    "    \"Nhil\": (-38.2500, 141.6667),\n",
    "    \"Portland\": (-38.3500, 141.6167),\n",
    "    \"Watsonia\": (-37.7167, 145.0500),\n",
    "    \"Dartmoor\": (-37.9167, 141.2500),\n",
    "    \"Brisbane\": (-27.4698, 153.0251),\n",
    "    \"Cairns\": (-16.9167, 145.7667),\n",
    "    \"GoldCoast\": (-28.0167, 153.4000),\n",
    "    \"Townsville\": (-19.2500, 146.8000),\n",
    "    \"Adelaide\": (-34.9333, 138.5833),\n",
    "    \"MountGambier\": (-37.8333, 140.7667),\n",
    "    \"Nuriootpa\": (-34.4667, 139.0000),\n",
    "    \"Woomera\": (-31.1500, 136.8167),\n",
    "    \"Albany\": (-35.0167, 117.850),\n",
    "    \"Witchcliffe\": (-33.9500, 115.1833),\n",
    "    \"PearceRAAF\": (-31.9167, 115.9500),\n",
    "    \"PerthAirport\": (-31.9417, 115.9625),\n",
    "    \"Perth\": (-31.9522, 115.8589),\n",
    "    \"SalmonGums\": (-33.5667, 123.0833),\n",
    "    \"Walpole\": (-34.3667, 116.4167),\n",
    "    \"Hobart\": (-42.8806, 147.3256),\n",
    "    \"Launceston\": (-41.4593, 147.1472),\n",
    "    \"AliceSprings\": (-23.6972, 134.9959),\n",
    "    \"Darwin\": (-12.4631, 130.8411),\n",
    "    \"Katherine\": (-14.4667, 132.4500),\n",
    "    \"Uluru\": (-25.3458, 132.8639)\n",
    "}\n",
    "\n",
    "# Stwórz lub wczytaj DataFrame z kolumną \"Location\" zawierającą tylko podane miasta\n",
    "\n",
    "# Utwórz kolumny 'Latitude' i 'Longitude' mapując miasta na współrzędne z słownika\n",
    "base_data['Latitude'] = base_data['Location'].apply(lambda x: australian_cities[x][0] if x in australian_cities else None)\n",
    "base_data['Longitude'] = base_data['Location'].apply(lambda x: australian_cities[x][1] if x in australian_cities else None)"
   ]
  },
  {
   "cell_type": "code",
   "execution_count": null,
   "metadata": {},
   "outputs": [
    {
     "ename": "",
     "evalue": "",
     "output_type": "error",
     "traceback": [
      "\u001b[1;31mNie można uruchomić jądra, ponieważ środowisko języka Python „~/Downloads/SUML_GR1_TMWT-main/.conda/bin/python” nie jest już dostępne. Rozważ wybranie innego jądra lub odświeżenie listy środowisk języka Python."
     ]
    }
   ],
   "source": [
    "'''\n",
    "# Dodanie prefiksów do kolumn\n",
    "base_data['WindGustDir'] = 'WGD_' + base_data['WindGustDir'].astype(str)\n",
    "base_data['WindDir9am'] = 'WD9_' + base_data['WindDir9am'].astype(str)\n",
    "base_data['WindDir3pm'] = 'WD15_' + base_data['WindDir3pm'].astype(str)\n",
    "'''"
   ]
  },
  {
   "cell_type": "code",
   "execution_count": null,
   "metadata": {},
   "outputs": [
    {
     "ename": "",
     "evalue": "",
     "output_type": "error",
     "traceback": [
      "\u001b[1;31mNie można uruchomić jądra, ponieważ środowisko języka Python „~/Downloads/SUML_GR1_TMWT-main/.conda/bin/python” nie jest już dostępne. Rozważ wybranie innego jądra lub odświeżenie listy środowisk języka Python."
     ]
    }
   ],
   "source": [
    "print(base_data['Latitude'], ['Longitude'])"
   ]
  },
  {
   "cell_type": "code",
   "execution_count": null,
   "metadata": {},
   "outputs": [
    {
     "ename": "",
     "evalue": "",
     "output_type": "error",
     "traceback": [
      "\u001b[1;31mNie można uruchomić jądra, ponieważ środowisko języka Python „~/Downloads/SUML_GR1_TMWT-main/.conda/bin/python” nie jest już dostępne. Rozważ wybranie innego jądra lub odświeżenie listy środowisk języka Python."
     ]
    }
   ],
   "source": [
    "sns.heatmap(base_data.isnull(), yticklabels=False, cbar=False, cmap='viridis')"
   ]
  },
  {
   "cell_type": "code",
   "execution_count": null,
   "metadata": {},
   "outputs": [
    {
     "ename": "",
     "evalue": "",
     "output_type": "error",
     "traceback": [
      "\u001b[1;31mNie można uruchomić jądra, ponieważ środowisko języka Python „~/Downloads/SUML_GR1_TMWT-main/.conda/bin/python” nie jest już dostępne. Rozważ wybranie innego jądra lub odświeżenie listy środowisk języka Python."
     ]
    }
   ],
   "source": [
    "def clean_data(base_data):\n",
    "    # przekształć datę na typ datetime\n",
    "    base_data['Date'] = pd.to_datetime(base_data['Date'])\n",
    "\n",
    "    # wyodrębnij rok z daty\n",
    "    base_data['Year'] = base_data['Date'].dt.year\n",
    "\n",
    "    # wyodrębnij miesiąc z daty\n",
    "    base_data['Month'] = base_data['Date'].dt.month\n",
    "\n",
    "    # wyodrębnij dzień z daty\n",
    "    base_data['Day'] = base_data['Date'].dt.day\n",
    "    # usuń kolumnę 'Date'\n",
    "    base_data.drop('Date', axis=1, inplace=True)\n",
    "    # Usuń kolumnę: 'Sunshine'\n",
    "    base_data = base_data.drop(columns=['Sunshine'])\n",
    "    # Usuń kolumnę: 'Evaporation'\n",
    "    base_data = base_data.drop(columns=['Evaporation'])\n",
    "    # Usuń kolumnę: 'Cloud9am'\n",
    "    base_data = base_data.drop(columns=['Cloud9am'])\n",
    "    # Usuń kolumnę: 'Cloud3pm'\n",
    "    base_data = base_data.drop(columns=['Cloud3pm'])\n",
    "\n",
    "    # Zastąp brakujące wartości medianą każdej kolumny w: 'MinTemp', 'MaxTemp' i 10 innych kolumnach\n",
    "    base_data = base_data.fillna({'MinTemp': base_data['MinTemp'].median(), 'MaxTemp': base_data['MaxTemp'].median(), 'Rainfall': base_data['Rainfall'].ffill(), 'WindGustSpeed': base_data['WindGustSpeed'].median(), 'WindSpeed9am': base_data['WindSpeed9am'].median(), 'WindSpeed3pm': base_data['WindSpeed3pm'].median(\n",
    "    ), 'Humidity9am': base_data['Humidity9am'].median(), 'Humidity3pm': base_data['Humidity3pm'].median(), 'Pressure9am': base_data['Pressure9am'].median(), 'Pressure3pm': base_data['Pressure3pm'].median(), 'Temp9am': base_data['Temp9am'].median(), 'Temp3pm': base_data['Temp3pm'].median()})\n",
    "\n",
    "    # Zastąp braki wartościami z poprzedniego ważnego wpisu w: 'RainToday', 'RainTomorrow'\n",
    "    base_data = base_data.fillna({'RainToday': base_data['RainToday'].ffill(\n",
    "    ), 'RainTomorrow': base_data['RainTomorrow'].ffill()})\n",
    "\n",
    "    # Zastąp braki wartościami z poprzedniego ważnego wpisu w: 'WindGustDir', 'WindDir9am', 'WindDir3pm'\n",
    "    base_data = base_data.fillna({'WindGustDir': base_data['WindGustDir'].ffill(\n",
    "    ), 'WindDir9am': base_data['WindDir9am'].ffill(), 'WindDir3pm': base_data['WindDir3pm'].ffill()})\n",
    "    return base_data\n",
    "\n",
    "\n",
    "base_data_clean = clean_data(base_data.copy())\n",
    "base_data_clean.head()"
   ]
  },
  {
   "cell_type": "code",
   "execution_count": null,
   "metadata": {},
   "outputs": [
    {
     "ename": "",
     "evalue": "",
     "output_type": "error",
     "traceback": [
      "\u001b[1;31mNie można uruchomić jądra, ponieważ środowisko języka Python „~/Downloads/SUML_GR1_TMWT-main/.conda/bin/python” nie jest już dostępne. Rozważ wybranie innego jądra lub odświeżenie listy środowisk języka Python."
     ]
    }
   ],
   "source": [
    "sns.heatmap(base_data_clean.isnull(), yticklabels=False,\n",
    "            cbar=False, cmap='viridis')"
   ]
  },
  {
   "cell_type": "code",
   "execution_count": null,
   "metadata": {},
   "outputs": [
    {
     "ename": "",
     "evalue": "",
     "output_type": "error",
     "traceback": [
      "\u001b[1;31mNie można uruchomić jądra, ponieważ środowisko języka Python „~/Downloads/SUML_GR1_TMWT-main/.conda/bin/python” nie jest już dostępne. Rozważ wybranie innego jądra lub odświeżenie listy środowisk języka Python."
     ]
    }
   ],
   "source": [
    "# Przekształć kolumnę 'date' na typ datetime\n",
    "\n",
    "# Tworzymy dataframe dla każdego roku i zapisujemy go do pliku .csv\n",
    "for year, base_data in base_data_clean.groupby(base_data_clean['Year']):\n",
    "    base_data.to_csv(os.path.join('data', f'data{year}.csv'), index=False)"
   ]
  },
  {
   "cell_type": "code",
   "execution_count": null,
   "metadata": {},
   "outputs": [
    {
     "ename": "",
     "evalue": "",
     "output_type": "error",
     "traceback": [
      "\u001b[1;31mNie można uruchomić jądra, ponieważ środowisko języka Python „~/Downloads/SUML_GR1_TMWT-main/.conda/bin/python” nie jest już dostępne. Rozważ wybranie innego jądra lub odświeżenie listy środowisk języka Python."
     ]
    }
   ],
   "source": [
    "base_data.to_csv(os.path.join('data', 'cleandata.csv'), index=False)"
   ]
  },
  {
   "cell_type": "markdown",
   "metadata": {},
   "source": [
    "# Pobranie i przetestowanie próbki z danych"
   ]
  },
  {
   "cell_type": "code",
   "execution_count": null,
   "metadata": {},
   "outputs": [
    {
     "ename": "",
     "evalue": "",
     "output_type": "error",
     "traceback": [
      "\u001b[1;31mNie można uruchomić jądra, ponieważ środowisko języka Python „~/Downloads/SUML_GR1_TMWT-main/.conda/bin/python” nie jest już dostępne. Rozważ wybranie innego jądra lub odświeżenie listy środowisk języka Python."
     ]
    }
   ],
   "source": [
    "test_data = pd.read_csv('data/data2013.csv')\n",
    "sns.heatmap(test_data.isnull(), yticklabels=False, cbar=False, cmap='viridis')"
   ]
  }
 ],
 "metadata": {
  "kernelspec": {
   "display_name": ".venv",
   "language": "python",
   "name": "python3"
  },
  "language_info": {
   "codemirror_mode": {
    "name": "ipython",
    "version": 3
   },
   "file_extension": ".py",
   "mimetype": "text/x-python",
   "name": "python",
   "nbconvert_exporter": "python",
   "pygments_lexer": "ipython3",
   "version": "3.11.1"
  }
 },
 "nbformat": 4,
 "nbformat_minor": 2
}
