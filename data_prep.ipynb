{
 "cells": [
  {
   "cell_type": "markdown",
   "metadata": {},
   "source": [
    "# Przygotowanie środowiska"
   ]
  },
  {
   "cell_type": "code",
   "execution_count": 1,
   "metadata": {},
   "outputs": [],
   "source": [
    "import os\n",
    "import pandas as pd\n",
    "import pickle\n",
    "\n",
    "import matplotlib.pyplot as plt\n",
    "import seaborn as sns\n",
    "import numpy as np\n",
    "\n",
    "import cufflinks as cf"
   ]
  },
  {
   "cell_type": "code",
   "execution_count": 2,
   "metadata": {},
   "outputs": [
    {
     "data": {
      "text/plain": [
       "'3.10.11'"
      ]
     },
     "execution_count": 2,
     "metadata": {},
     "output_type": "execute_result"
    }
   ],
   "source": [
    "from platform import python_version\n",
    "python_version()"
   ]
  },
  {
   "cell_type": "markdown",
   "metadata": {},
   "source": [
    "# Przygotowanie danych do analizy"
   ]
  },
  {
   "cell_type": "code",
   "execution_count": 3,
   "metadata": {},
   "outputs": [
    {
     "data": {
      "text/plain": [
       "'c:\\\\Users\\\\Filip\\\\Desktop\\\\test_dominika\\\\SUML_GR1_TMWT'"
      ]
     },
     "execution_count": 3,
     "metadata": {},
     "output_type": "execute_result"
    }
   ],
   "source": [
    "from pandas.core.indexes import base\n",
    "os.getcwd()"
   ]
  },
  {
   "cell_type": "code",
   "execution_count": 4,
   "metadata": {},
   "outputs": [],
   "source": [
    "base_data = pd.read_csv(\"data/weatherAUS.csv\")"
   ]
  },
  {
   "cell_type": "code",
   "execution_count": 5,
   "metadata": {},
   "outputs": [
    {
     "data": {
      "text/html": [
       "<div>\n",
       "<style scoped>\n",
       "    .dataframe tbody tr th:only-of-type {\n",
       "        vertical-align: middle;\n",
       "    }\n",
       "\n",
       "    .dataframe tbody tr th {\n",
       "        vertical-align: top;\n",
       "    }\n",
       "\n",
       "    .dataframe thead th {\n",
       "        text-align: right;\n",
       "    }\n",
       "</style>\n",
       "<table border=\"1\" class=\"dataframe\">\n",
       "  <thead>\n",
       "    <tr style=\"text-align: right;\">\n",
       "      <th></th>\n",
       "      <th>Date</th>\n",
       "      <th>Location</th>\n",
       "      <th>MinTemp</th>\n",
       "      <th>MaxTemp</th>\n",
       "      <th>Rainfall</th>\n",
       "      <th>Evaporation</th>\n",
       "      <th>Sunshine</th>\n",
       "      <th>WindGustDir</th>\n",
       "      <th>WindGustSpeed</th>\n",
       "      <th>WindDir9am</th>\n",
       "      <th>...</th>\n",
       "      <th>Humidity9am</th>\n",
       "      <th>Humidity3pm</th>\n",
       "      <th>Pressure9am</th>\n",
       "      <th>Pressure3pm</th>\n",
       "      <th>Cloud9am</th>\n",
       "      <th>Cloud3pm</th>\n",
       "      <th>Temp9am</th>\n",
       "      <th>Temp3pm</th>\n",
       "      <th>RainToday</th>\n",
       "      <th>RainTomorrow</th>\n",
       "    </tr>\n",
       "  </thead>\n",
       "  <tbody>\n",
       "    <tr>\n",
       "      <th>0</th>\n",
       "      <td>2008-12-01</td>\n",
       "      <td>Albury</td>\n",
       "      <td>13.4</td>\n",
       "      <td>22.9</td>\n",
       "      <td>0.6</td>\n",
       "      <td>NaN</td>\n",
       "      <td>NaN</td>\n",
       "      <td>W</td>\n",
       "      <td>44.0</td>\n",
       "      <td>W</td>\n",
       "      <td>...</td>\n",
       "      <td>71.0</td>\n",
       "      <td>22.0</td>\n",
       "      <td>1007.7</td>\n",
       "      <td>1007.1</td>\n",
       "      <td>8.0</td>\n",
       "      <td>NaN</td>\n",
       "      <td>16.9</td>\n",
       "      <td>21.8</td>\n",
       "      <td>No</td>\n",
       "      <td>No</td>\n",
       "    </tr>\n",
       "    <tr>\n",
       "      <th>1</th>\n",
       "      <td>2008-12-02</td>\n",
       "      <td>Albury</td>\n",
       "      <td>7.4</td>\n",
       "      <td>25.1</td>\n",
       "      <td>0.0</td>\n",
       "      <td>NaN</td>\n",
       "      <td>NaN</td>\n",
       "      <td>WNW</td>\n",
       "      <td>44.0</td>\n",
       "      <td>NNW</td>\n",
       "      <td>...</td>\n",
       "      <td>44.0</td>\n",
       "      <td>25.0</td>\n",
       "      <td>1010.6</td>\n",
       "      <td>1007.8</td>\n",
       "      <td>NaN</td>\n",
       "      <td>NaN</td>\n",
       "      <td>17.2</td>\n",
       "      <td>24.3</td>\n",
       "      <td>No</td>\n",
       "      <td>No</td>\n",
       "    </tr>\n",
       "    <tr>\n",
       "      <th>2</th>\n",
       "      <td>2008-12-03</td>\n",
       "      <td>Albury</td>\n",
       "      <td>12.9</td>\n",
       "      <td>25.7</td>\n",
       "      <td>0.0</td>\n",
       "      <td>NaN</td>\n",
       "      <td>NaN</td>\n",
       "      <td>WSW</td>\n",
       "      <td>46.0</td>\n",
       "      <td>W</td>\n",
       "      <td>...</td>\n",
       "      <td>38.0</td>\n",
       "      <td>30.0</td>\n",
       "      <td>1007.6</td>\n",
       "      <td>1008.7</td>\n",
       "      <td>NaN</td>\n",
       "      <td>2.0</td>\n",
       "      <td>21.0</td>\n",
       "      <td>23.2</td>\n",
       "      <td>No</td>\n",
       "      <td>No</td>\n",
       "    </tr>\n",
       "    <tr>\n",
       "      <th>3</th>\n",
       "      <td>2008-12-04</td>\n",
       "      <td>Albury</td>\n",
       "      <td>9.2</td>\n",
       "      <td>28.0</td>\n",
       "      <td>0.0</td>\n",
       "      <td>NaN</td>\n",
       "      <td>NaN</td>\n",
       "      <td>NE</td>\n",
       "      <td>24.0</td>\n",
       "      <td>SE</td>\n",
       "      <td>...</td>\n",
       "      <td>45.0</td>\n",
       "      <td>16.0</td>\n",
       "      <td>1017.6</td>\n",
       "      <td>1012.8</td>\n",
       "      <td>NaN</td>\n",
       "      <td>NaN</td>\n",
       "      <td>18.1</td>\n",
       "      <td>26.5</td>\n",
       "      <td>No</td>\n",
       "      <td>No</td>\n",
       "    </tr>\n",
       "    <tr>\n",
       "      <th>4</th>\n",
       "      <td>2008-12-05</td>\n",
       "      <td>Albury</td>\n",
       "      <td>17.5</td>\n",
       "      <td>32.3</td>\n",
       "      <td>1.0</td>\n",
       "      <td>NaN</td>\n",
       "      <td>NaN</td>\n",
       "      <td>W</td>\n",
       "      <td>41.0</td>\n",
       "      <td>ENE</td>\n",
       "      <td>...</td>\n",
       "      <td>82.0</td>\n",
       "      <td>33.0</td>\n",
       "      <td>1010.8</td>\n",
       "      <td>1006.0</td>\n",
       "      <td>7.0</td>\n",
       "      <td>8.0</td>\n",
       "      <td>17.8</td>\n",
       "      <td>29.7</td>\n",
       "      <td>No</td>\n",
       "      <td>No</td>\n",
       "    </tr>\n",
       "    <tr>\n",
       "      <th>...</th>\n",
       "      <td>...</td>\n",
       "      <td>...</td>\n",
       "      <td>...</td>\n",
       "      <td>...</td>\n",
       "      <td>...</td>\n",
       "      <td>...</td>\n",
       "      <td>...</td>\n",
       "      <td>...</td>\n",
       "      <td>...</td>\n",
       "      <td>...</td>\n",
       "      <td>...</td>\n",
       "      <td>...</td>\n",
       "      <td>...</td>\n",
       "      <td>...</td>\n",
       "      <td>...</td>\n",
       "      <td>...</td>\n",
       "      <td>...</td>\n",
       "      <td>...</td>\n",
       "      <td>...</td>\n",
       "      <td>...</td>\n",
       "      <td>...</td>\n",
       "    </tr>\n",
       "    <tr>\n",
       "      <th>145455</th>\n",
       "      <td>2017-06-21</td>\n",
       "      <td>Uluru</td>\n",
       "      <td>2.8</td>\n",
       "      <td>23.4</td>\n",
       "      <td>0.0</td>\n",
       "      <td>NaN</td>\n",
       "      <td>NaN</td>\n",
       "      <td>E</td>\n",
       "      <td>31.0</td>\n",
       "      <td>SE</td>\n",
       "      <td>...</td>\n",
       "      <td>51.0</td>\n",
       "      <td>24.0</td>\n",
       "      <td>1024.6</td>\n",
       "      <td>1020.3</td>\n",
       "      <td>NaN</td>\n",
       "      <td>NaN</td>\n",
       "      <td>10.1</td>\n",
       "      <td>22.4</td>\n",
       "      <td>No</td>\n",
       "      <td>No</td>\n",
       "    </tr>\n",
       "    <tr>\n",
       "      <th>145456</th>\n",
       "      <td>2017-06-22</td>\n",
       "      <td>Uluru</td>\n",
       "      <td>3.6</td>\n",
       "      <td>25.3</td>\n",
       "      <td>0.0</td>\n",
       "      <td>NaN</td>\n",
       "      <td>NaN</td>\n",
       "      <td>NNW</td>\n",
       "      <td>22.0</td>\n",
       "      <td>SE</td>\n",
       "      <td>...</td>\n",
       "      <td>56.0</td>\n",
       "      <td>21.0</td>\n",
       "      <td>1023.5</td>\n",
       "      <td>1019.1</td>\n",
       "      <td>NaN</td>\n",
       "      <td>NaN</td>\n",
       "      <td>10.9</td>\n",
       "      <td>24.5</td>\n",
       "      <td>No</td>\n",
       "      <td>No</td>\n",
       "    </tr>\n",
       "    <tr>\n",
       "      <th>145457</th>\n",
       "      <td>2017-06-23</td>\n",
       "      <td>Uluru</td>\n",
       "      <td>5.4</td>\n",
       "      <td>26.9</td>\n",
       "      <td>0.0</td>\n",
       "      <td>NaN</td>\n",
       "      <td>NaN</td>\n",
       "      <td>N</td>\n",
       "      <td>37.0</td>\n",
       "      <td>SE</td>\n",
       "      <td>...</td>\n",
       "      <td>53.0</td>\n",
       "      <td>24.0</td>\n",
       "      <td>1021.0</td>\n",
       "      <td>1016.8</td>\n",
       "      <td>NaN</td>\n",
       "      <td>NaN</td>\n",
       "      <td>12.5</td>\n",
       "      <td>26.1</td>\n",
       "      <td>No</td>\n",
       "      <td>No</td>\n",
       "    </tr>\n",
       "    <tr>\n",
       "      <th>145458</th>\n",
       "      <td>2017-06-24</td>\n",
       "      <td>Uluru</td>\n",
       "      <td>7.8</td>\n",
       "      <td>27.0</td>\n",
       "      <td>0.0</td>\n",
       "      <td>NaN</td>\n",
       "      <td>NaN</td>\n",
       "      <td>SE</td>\n",
       "      <td>28.0</td>\n",
       "      <td>SSE</td>\n",
       "      <td>...</td>\n",
       "      <td>51.0</td>\n",
       "      <td>24.0</td>\n",
       "      <td>1019.4</td>\n",
       "      <td>1016.5</td>\n",
       "      <td>3.0</td>\n",
       "      <td>2.0</td>\n",
       "      <td>15.1</td>\n",
       "      <td>26.0</td>\n",
       "      <td>No</td>\n",
       "      <td>No</td>\n",
       "    </tr>\n",
       "    <tr>\n",
       "      <th>145459</th>\n",
       "      <td>2017-06-25</td>\n",
       "      <td>Uluru</td>\n",
       "      <td>14.9</td>\n",
       "      <td>NaN</td>\n",
       "      <td>0.0</td>\n",
       "      <td>NaN</td>\n",
       "      <td>NaN</td>\n",
       "      <td>NaN</td>\n",
       "      <td>NaN</td>\n",
       "      <td>ESE</td>\n",
       "      <td>...</td>\n",
       "      <td>62.0</td>\n",
       "      <td>36.0</td>\n",
       "      <td>1020.2</td>\n",
       "      <td>1017.9</td>\n",
       "      <td>8.0</td>\n",
       "      <td>8.0</td>\n",
       "      <td>15.0</td>\n",
       "      <td>20.9</td>\n",
       "      <td>No</td>\n",
       "      <td>NaN</td>\n",
       "    </tr>\n",
       "  </tbody>\n",
       "</table>\n",
       "<p>145460 rows × 23 columns</p>\n",
       "</div>"
      ],
      "text/plain": [
       "              Date Location  MinTemp  MaxTemp  Rainfall  Evaporation  \\\n",
       "0       2008-12-01   Albury     13.4     22.9       0.6          NaN   \n",
       "1       2008-12-02   Albury      7.4     25.1       0.0          NaN   \n",
       "2       2008-12-03   Albury     12.9     25.7       0.0          NaN   \n",
       "3       2008-12-04   Albury      9.2     28.0       0.0          NaN   \n",
       "4       2008-12-05   Albury     17.5     32.3       1.0          NaN   \n",
       "...            ...      ...      ...      ...       ...          ...   \n",
       "145455  2017-06-21    Uluru      2.8     23.4       0.0          NaN   \n",
       "145456  2017-06-22    Uluru      3.6     25.3       0.0          NaN   \n",
       "145457  2017-06-23    Uluru      5.4     26.9       0.0          NaN   \n",
       "145458  2017-06-24    Uluru      7.8     27.0       0.0          NaN   \n",
       "145459  2017-06-25    Uluru     14.9      NaN       0.0          NaN   \n",
       "\n",
       "        Sunshine WindGustDir  WindGustSpeed WindDir9am  ... Humidity9am  \\\n",
       "0            NaN           W           44.0          W  ...        71.0   \n",
       "1            NaN         WNW           44.0        NNW  ...        44.0   \n",
       "2            NaN         WSW           46.0          W  ...        38.0   \n",
       "3            NaN          NE           24.0         SE  ...        45.0   \n",
       "4            NaN           W           41.0        ENE  ...        82.0   \n",
       "...          ...         ...            ...        ...  ...         ...   \n",
       "145455       NaN           E           31.0         SE  ...        51.0   \n",
       "145456       NaN         NNW           22.0         SE  ...        56.0   \n",
       "145457       NaN           N           37.0         SE  ...        53.0   \n",
       "145458       NaN          SE           28.0        SSE  ...        51.0   \n",
       "145459       NaN         NaN            NaN        ESE  ...        62.0   \n",
       "\n",
       "        Humidity3pm  Pressure9am  Pressure3pm  Cloud9am  Cloud3pm  Temp9am  \\\n",
       "0              22.0       1007.7       1007.1       8.0       NaN     16.9   \n",
       "1              25.0       1010.6       1007.8       NaN       NaN     17.2   \n",
       "2              30.0       1007.6       1008.7       NaN       2.0     21.0   \n",
       "3              16.0       1017.6       1012.8       NaN       NaN     18.1   \n",
       "4              33.0       1010.8       1006.0       7.0       8.0     17.8   \n",
       "...             ...          ...          ...       ...       ...      ...   \n",
       "145455         24.0       1024.6       1020.3       NaN       NaN     10.1   \n",
       "145456         21.0       1023.5       1019.1       NaN       NaN     10.9   \n",
       "145457         24.0       1021.0       1016.8       NaN       NaN     12.5   \n",
       "145458         24.0       1019.4       1016.5       3.0       2.0     15.1   \n",
       "145459         36.0       1020.2       1017.9       8.0       8.0     15.0   \n",
       "\n",
       "        Temp3pm  RainToday  RainTomorrow  \n",
       "0          21.8         No            No  \n",
       "1          24.3         No            No  \n",
       "2          23.2         No            No  \n",
       "3          26.5         No            No  \n",
       "4          29.7         No            No  \n",
       "...         ...        ...           ...  \n",
       "145455     22.4         No            No  \n",
       "145456     24.5         No            No  \n",
       "145457     26.1         No            No  \n",
       "145458     26.0         No            No  \n",
       "145459     20.9         No           NaN  \n",
       "\n",
       "[145460 rows x 23 columns]"
      ]
     },
     "execution_count": 5,
     "metadata": {},
     "output_type": "execute_result"
    }
   ],
   "source": [
    "base_data"
   ]
  },
  {
   "cell_type": "code",
   "execution_count": 6,
   "metadata": {},
   "outputs": [
    {
     "name": "stdout",
     "output_type": "stream",
     "text": [
      "              Date Location  MinTemp  MaxTemp  Rainfall  Evaporation  \\\n",
      "0       2008-12-01   Albury     13.4     22.9       0.6          NaN   \n",
      "1       2008-12-02   Albury      7.4     25.1       0.0          NaN   \n",
      "2       2008-12-03   Albury     12.9     25.7       0.0          NaN   \n",
      "3       2008-12-04   Albury      9.2     28.0       0.0          NaN   \n",
      "4       2008-12-05   Albury     17.5     32.3       1.0          NaN   \n",
      "...            ...      ...      ...      ...       ...          ...   \n",
      "145455  2017-06-21    Uluru      2.8     23.4       0.0          NaN   \n",
      "145456  2017-06-22    Uluru      3.6     25.3       0.0          NaN   \n",
      "145457  2017-06-23    Uluru      5.4     26.9       0.0          NaN   \n",
      "145458  2017-06-24    Uluru      7.8     27.0       0.0          NaN   \n",
      "145459  2017-06-25    Uluru     14.9      NaN       0.0          NaN   \n",
      "\n",
      "        Sunshine WindGustDir  WindGustSpeed WindDir9am  ... Humidity9am  \\\n",
      "0            NaN           W           44.0          W  ...        71.0   \n",
      "1            NaN         WNW           44.0        NNW  ...        44.0   \n",
      "2            NaN         WSW           46.0          W  ...        38.0   \n",
      "3            NaN          NE           24.0         SE  ...        45.0   \n",
      "4            NaN           W           41.0        ENE  ...        82.0   \n",
      "...          ...         ...            ...        ...  ...         ...   \n",
      "145455       NaN           E           31.0         SE  ...        51.0   \n",
      "145456       NaN         NNW           22.0         SE  ...        56.0   \n",
      "145457       NaN           N           37.0         SE  ...        53.0   \n",
      "145458       NaN          SE           28.0        SSE  ...        51.0   \n",
      "145459       NaN         NaN            NaN        ESE  ...        62.0   \n",
      "\n",
      "        Humidity3pm  Pressure9am  Pressure3pm  Cloud9am  Cloud3pm  Temp9am  \\\n",
      "0              22.0       1007.7       1007.1       8.0       NaN     16.9   \n",
      "1              25.0       1010.6       1007.8       NaN       NaN     17.2   \n",
      "2              30.0       1007.6       1008.7       NaN       2.0     21.0   \n",
      "3              16.0       1017.6       1012.8       NaN       NaN     18.1   \n",
      "4              33.0       1010.8       1006.0       7.0       8.0     17.8   \n",
      "...             ...          ...          ...       ...       ...      ...   \n",
      "145455         24.0       1024.6       1020.3       NaN       NaN     10.1   \n",
      "145456         21.0       1023.5       1019.1       NaN       NaN     10.9   \n",
      "145457         24.0       1021.0       1016.8       NaN       NaN     12.5   \n",
      "145458         24.0       1019.4       1016.5       3.0       2.0     15.1   \n",
      "145459         36.0       1020.2       1017.9       8.0       8.0     15.0   \n",
      "\n",
      "        Temp3pm  RainToday  RainTomorrow  \n",
      "0          21.8         No            No  \n",
      "1          24.3         No            No  \n",
      "2          23.2         No            No  \n",
      "3          26.5         No            No  \n",
      "4          29.7         No            No  \n",
      "...         ...        ...           ...  \n",
      "145455     22.4         No            No  \n",
      "145456     24.5         No            No  \n",
      "145457     26.1         No            No  \n",
      "145458     26.0         No            No  \n",
      "145459     20.9         No           NaN  \n",
      "\n",
      "[145460 rows x 23 columns]\n"
     ]
    }
   ],
   "source": [
    "print(base_data)"
   ]
  },
  {
   "cell_type": "code",
   "execution_count": 7,
   "metadata": {},
   "outputs": [
    {
     "data": {
      "text/plain": [
       "Index(['Date', 'Location', 'MinTemp', 'MaxTemp', 'Rainfall', 'Evaporation',\n",
       "       'Sunshine', 'WindGustDir', 'WindGustSpeed', 'WindDir9am', 'WindDir3pm',\n",
       "       'WindSpeed9am', 'WindSpeed3pm', 'Humidity9am', 'Humidity3pm',\n",
       "       'Pressure9am', 'Pressure3pm', 'Cloud9am', 'Cloud3pm', 'Temp9am',\n",
       "       'Temp3pm', 'RainToday', 'RainTomorrow'],\n",
       "      dtype='object')"
      ]
     },
     "execution_count": 7,
     "metadata": {},
     "output_type": "execute_result"
    }
   ],
   "source": [
    "base_data.columns"
   ]
  },
  {
   "cell_type": "code",
   "execution_count": 8,
   "metadata": {},
   "outputs": [
    {
     "name": "stdout",
     "output_type": "stream",
     "text": [
      "There are 7 categorical variables\n",
      "\n",
      "The categorical variables are : ['Date', 'Location', 'WindGustDir', 'WindDir9am', 'WindDir3pm', 'RainToday', 'RainTomorrow']\n"
     ]
    }
   ],
   "source": [
    "categorical = [var for var in base_data.columns if base_data[var].dtype == 'O']\n",
    "\n",
    "print('There are {} categorical variables\\n'.format(len(categorical)))\n",
    "\n",
    "print('The categorical variables are :', categorical)"
   ]
  },
  {
   "cell_type": "code",
   "execution_count": 9,
   "metadata": {},
   "outputs": [
    {
     "data": {
      "text/plain": [
       "Date                 0\n",
       "Location             0\n",
       "MinTemp           1485\n",
       "MaxTemp           1261\n",
       "Rainfall          3261\n",
       "Evaporation      62790\n",
       "Sunshine         69835\n",
       "WindGustDir      10326\n",
       "WindGustSpeed    10263\n",
       "WindDir9am       10566\n",
       "WindDir3pm        4228\n",
       "WindSpeed9am      1767\n",
       "WindSpeed3pm      3062\n",
       "Humidity9am       2654\n",
       "Humidity3pm       4507\n",
       "Pressure9am      15065\n",
       "Pressure3pm      15028\n",
       "Cloud9am         55888\n",
       "Cloud3pm         59358\n",
       "Temp9am           1767\n",
       "Temp3pm           3609\n",
       "RainToday         3261\n",
       "RainTomorrow      3267\n",
       "dtype: int64"
      ]
     },
     "execution_count": 9,
     "metadata": {},
     "output_type": "execute_result"
    }
   ],
   "source": [
    "base_data.isnull().sum()"
   ]
  },
  {
   "cell_type": "markdown",
   "metadata": {},
   "source": [
    "Kolumny z największymi ilościami brakujących danych to Cloud9am (38%), Cloud3pm (41%), Evaporation (43%) oraz Sunshine (48%)."
   ]
  },
  {
   "cell_type": "code",
   "execution_count": 10,
   "metadata": {},
   "outputs": [
    {
     "name": "stdout",
     "output_type": "stream",
     "text": [
      "145460\n"
     ]
    }
   ],
   "source": [
    "print(base_data.shape[0])"
   ]
  },
  {
   "cell_type": "code",
   "execution_count": 11,
   "metadata": {},
   "outputs": [
    {
     "name": "stdout",
     "output_type": "stream",
     "text": [
      "Average Cloud9am: 4.4474612602152455\n",
      "Average Cloud3pm: 4.509930082924903\n"
     ]
    }
   ],
   "source": [
    "cloud9am_mean = base_data['Cloud9am'].mean()\n",
    "cloud3pm_mean = base_data['Cloud3pm'].mean()\n",
    "\n",
    "print(\"Average Cloud9am:\", cloud9am_mean)\n",
    "print(\"Average Cloud3pm:\", cloud3pm_mean)"
   ]
  },
  {
   "cell_type": "code",
   "execution_count": 12,
   "metadata": {},
   "outputs": [
    {
     "data": {
      "text/plain": [
       "<Axes: >"
      ]
     },
     "execution_count": 12,
     "metadata": {},
     "output_type": "execute_result"
    },
    {
     "data": {
      "image/png": "[encoded data removed]",
      "text/plain": [
       "<Figure size 640x480 with 1 Axes>"
      ]
     },
     "metadata": {},
     "output_type": "display_data"
    }
   ],
   "source": [
    "sns.heatmap(base_data.isnull(), yticklabels=False, cbar=False, cmap='viridis')"
   ]
  },
  {
   "cell_type": "code",
   "execution_count": 13,
   "metadata": {},
   "outputs": [
    {
     "data": {
      "text/plain": [
       "array(['Albury', 'BadgerysCreek', 'Cobar', 'CoffsHarbour', 'Moree',\n",
       "       'Newcastle', 'NorahHead', 'NorfolkIsland', 'Penrith', 'Richmond',\n",
       "       'Sydney', 'SydneyAirport', 'WaggaWagga', 'Williamtown',\n",
       "       'Wollongong', 'Canberra', 'Tuggeranong', 'MountGinini', 'Ballarat',\n",
       "       'Bendigo', 'Sale', 'MelbourneAirport', 'Melbourne', 'Mildura',\n",
       "       'Nhil', 'Portland', 'Watsonia', 'Dartmoor', 'Brisbane', 'Cairns',\n",
       "       'GoldCoast', 'Townsville', 'Adelaide', 'MountGambier', 'Nuriootpa',\n",
       "       'Woomera', 'Albany', 'Witchcliffe', 'PearceRAAF', 'PerthAirport',\n",
       "       'Perth', 'SalmonGums', 'Walpole', 'Hobart', 'Launceston',\n",
       "       'AliceSprings', 'Darwin', 'Katherine', 'Uluru'], dtype=object)"
      ]
     },
     "execution_count": 13,
     "metadata": {},
     "output_type": "execute_result"
    }
   ],
   "source": [
    "base_data['Location'].unique()"
   ]
  },
  {
   "cell_type": "code",
   "execution_count": 14,
   "metadata": {},
   "outputs": [],
   "source": [
    "import pandas as pd\n",
    "\n",
    "# Słownik zawierający australijskie miasta i ich współrzędne\n",
    "australian_cities = {\n",
    "    \"Albury\": (-36.0736, 146.9135),\n",
    "    \"BadgerysCreek\": (-33.8500, 150.7500),\n",
    "    \"Cobar\": (-31.5500, 145.8333),\n",
    "    \"CoffsHarbour\": (-30.3000, 153.1333),\n",
    "    \"Moree\": (-29.4667, 149.8500),\n",
    "    \"Newcastle\": (-32.9333, 151.7500),\n",
    "    \"NorahHead\": (-33.2833, 151.5667),\n",
    "    \"NorfolkIsland\": (-29.0333, 167.9500),\n",
    "    \"Penrith\": (-33.7500, 150.7000),\n",
    "    \"Richmond\": (-33.6167, 150.7500),\n",
    "    \"Sydney\": (-33.8688, 151.2093),\n",
    "    \"SydneyAirport\": (-33.9461, 151.1772),\n",
    "    \"WaggaWagga\": (-35.1167, 147.4667),\n",
    "    \"Williamtown\": (-32.8500, 151.8167),\n",
    "    \"Wollongong\": (-34.4250, 150.8833),\n",
    "    \"Canberra\": (-35.3075, 149.1244),\n",
    "    \"Tuggeranong\": (-35.4235, 149.0754),\n",
    "    \"MountGinini\": (-35.5500, 148.7500),\n",
    "    \"Ballarat\": (-37.5500, 143.8500),\n",
    "    \"Bendigo\": (-36.7667, 144.2667),\n",
    "    \"Sale\": (-38.1167, 147.0667),\n",
    "    \"MelbourneAirport\": (-37.6667, 144.8333),\n",
    "    \"Melbourne\": (-37.8136, 144.9631),\n",
    "    \"Mildura\": (-34.2000, 142.1500),\n",
    "    \"Nhil\": (-38.2500, 141.6667),\n",
    "    \"Portland\": (-38.3500, 141.6167),\n",
    "    \"Watsonia\": (-37.7167, 145.0500),\n",
    "    \"Dartmoor\": (-37.9167, 141.2500),\n",
    "    \"Brisbane\": (-27.4698, 153.0251),\n",
    "    \"Cairns\": (-16.9167, 145.7667),\n",
    "    \"GoldCoast\": (-28.0167, 153.4000),\n",
    "    \"Townsville\": (-19.2500, 146.8000),\n",
    "    \"Adelaide\": (-34.9333, 138.5833),\n",
    "    \"MountGambier\": (-37.8333, 140.7667),\n",
    "    \"Nuriootpa\": (-34.4667, 139.0000),\n",
    "    \"Woomera\": (-31.1500, 136.8167),\n",
    "    \"Albany\": (-35.0167, 117.850),\n",
    "    \"Witchcliffe\": (-33.9500, 115.1833),\n",
    "    \"PearceRAAF\": (-31.9167, 115.9500),\n",
    "    \"PerthAirport\": (-31.9417, 115.9625),\n",
    "    \"Perth\": (-31.9522, 115.8589),\n",
    "    \"SalmonGums\": (-33.5667, 123.0833),\n",
    "    \"Walpole\": (-34.3667, 116.4167),\n",
    "    \"Hobart\": (-42.8806, 147.3256),\n",
    "    \"Launceston\": (-41.4593, 147.1472),\n",
    "    \"AliceSprings\": (-23.6972, 134.9959),\n",
    "    \"Darwin\": (-12.4631, 130.8411),\n",
    "    \"Katherine\": (-14.4667, 132.4500),\n",
    "    \"Uluru\": (-25.3458, 132.8639)\n",
    "}\n",
    "\n",
    "# Stwórz lub wczytaj DataFrame z kolumną \"Location\" zawierającą tylko podane miasta\n",
    "\n",
    "# Utwórz kolumny 'Latitude' i 'Longitude' mapując miasta na współrzędne z słownika\n",
    "base_data['Latitude'] = base_data['Location'].apply(lambda x: australian_cities[x][0] if x in australian_cities else None)\n",
    "base_data['Longitude'] = base_data['Location'].apply(lambda x: australian_cities[x][1] if x in australian_cities else None)"
   ]
  },
  {
   "cell_type": "code",
   "execution_count": 15,
   "metadata": {},
   "outputs": [],
   "source": [
    "# Dodanie prefiksów do kolumn\n",
    "base_data['WindGustDir'] = 'WGD_' + base_data['WindGustDir'].astype(str)\n",
    "base_data['WindDir9am'] = 'WD9_' + base_data['WindDir9am'].astype(str)\n",
    "base_data['WindDir3pm'] = 'WD15_' + base_data['WindDir3pm'].astype(str)"
   ]
  },
  {
   "cell_type": "code",
   "execution_count": 16,
   "metadata": {},
   "outputs": [
    {
     "name": "stdout",
     "output_type": "stream",
     "text": [
      "0        -36.0736\n",
      "1        -36.0736\n",
      "2        -36.0736\n",
      "3        -36.0736\n",
      "4        -36.0736\n",
      "           ...   \n",
      "145455   -25.3458\n",
      "145456   -25.3458\n",
      "145457   -25.3458\n",
      "145458   -25.3458\n",
      "145459   -25.3458\n",
      "Name: Latitude, Length: 145460, dtype: float64 ['Longitude']\n"
     ]
    }
   ],
   "source": [
    "print(base_data['Latitude'], ['Longitude'])"
   ]
  },
  {
   "cell_type": "code",
   "execution_count": 17,
   "metadata": {},
   "outputs": [
    {
     "data": {
      "text/plain": [
       "<Axes: >"
      ]
     },
     "execution_count": 17,
     "metadata": {},
     "output_type": "execute_result"
    },
    {
     "data": {
      "image/png": "[encoded data removed]",
      "text/plain": [
       "<Figure size 640x480 with 1 Axes>"
      ]
     },
     "metadata": {},
     "output_type": "display_data"
    }
   ],
   "source": [
    "sns.heatmap(base_data.isnull(), yticklabels=False, cbar=False, cmap='viridis')"
   ]
  },
  {
   "cell_type": "code",
   "execution_count": 18,
   "metadata": {},
   "outputs": [
    {
     "data": {
      "text/html": [
       "<div>\n",
       "<style scoped>\n",
       "    .dataframe tbody tr th:only-of-type {\n",
       "        vertical-align: middle;\n",
       "    }\n",
       "\n",
       "    .dataframe tbody tr th {\n",
       "        vertical-align: top;\n",
       "    }\n",
       "\n",
       "    .dataframe thead th {\n",
       "        text-align: right;\n",
       "    }\n",
       "</style>\n",
       "<table border=\"1\" class=\"dataframe\">\n",
       "  <thead>\n",
       "    <tr style=\"text-align: right;\">\n",
       "      <th></th>\n",
       "      <th>Location</th>\n",
       "      <th>MinTemp</th>\n",
       "      <th>MaxTemp</th>\n",
       "      <th>Rainfall</th>\n",
       "      <th>WindGustDir</th>\n",
       "      <th>WindGustSpeed</th>\n",
       "      <th>WindDir9am</th>\n",
       "      <th>WindDir3pm</th>\n",
       "      <th>WindSpeed9am</th>\n",
       "      <th>WindSpeed3pm</th>\n",
       "      <th>...</th>\n",
       "      <th>Pressure3pm</th>\n",
       "      <th>Temp9am</th>\n",
       "      <th>Temp3pm</th>\n",
       "      <th>RainToday</th>\n",
       "      <th>RainTomorrow</th>\n",
       "      <th>Latitude</th>\n",
       "      <th>Longitude</th>\n",
       "      <th>Year</th>\n",
       "      <th>Month</th>\n",
       "      <th>Day</th>\n",
       "    </tr>\n",
       "  </thead>\n",
       "  <tbody>\n",
       "    <tr>\n",
       "      <th>0</th>\n",
       "      <td>Albury</td>\n",
       "      <td>13.4</td>\n",
       "      <td>22.9</td>\n",
       "      <td>0.6</td>\n",
       "      <td>WGD_W</td>\n",
       "      <td>44.0</td>\n",
       "      <td>WD9_W</td>\n",
       "      <td>WD15_WNW</td>\n",
       "      <td>20.0</td>\n",
       "      <td>24.0</td>\n",
       "      <td>...</td>\n",
       "      <td>1007.1</td>\n",
       "      <td>16.9</td>\n",
       "      <td>21.8</td>\n",
       "      <td>No</td>\n",
       "      <td>No</td>\n",
       "      <td>-36.0736</td>\n",
       "      <td>146.9135</td>\n",
       "      <td>2008</td>\n",
       "      <td>12</td>\n",
       "      <td>1</td>\n",
       "    </tr>\n",
       "    <tr>\n",
       "      <th>1</th>\n",
       "      <td>Albury</td>\n",
       "      <td>7.4</td>\n",
       "      <td>25.1</td>\n",
       "      <td>0.0</td>\n",
       "      <td>WGD_WNW</td>\n",
       "      <td>44.0</td>\n",
       "      <td>WD9_NNW</td>\n",
       "      <td>WD15_WSW</td>\n",
       "      <td>4.0</td>\n",
       "      <td>22.0</td>\n",
       "      <td>...</td>\n",
       "      <td>1007.8</td>\n",
       "      <td>17.2</td>\n",
       "      <td>24.3</td>\n",
       "      <td>No</td>\n",
       "      <td>No</td>\n",
       "      <td>-36.0736</td>\n",
       "      <td>146.9135</td>\n",
       "      <td>2008</td>\n",
       "      <td>12</td>\n",
       "      <td>2</td>\n",
       "    </tr>\n",
       "    <tr>\n",
       "      <th>2</th>\n",
       "      <td>Albury</td>\n",
       "      <td>12.9</td>\n",
       "      <td>25.7</td>\n",
       "      <td>0.0</td>\n",
       "      <td>WGD_WSW</td>\n",
       "      <td>46.0</td>\n",
       "      <td>WD9_W</td>\n",
       "      <td>WD15_WSW</td>\n",
       "      <td>19.0</td>\n",
       "      <td>26.0</td>\n",
       "      <td>...</td>\n",
       "      <td>1008.7</td>\n",
       "      <td>21.0</td>\n",
       "      <td>23.2</td>\n",
       "      <td>No</td>\n",
       "      <td>No</td>\n",
       "      <td>-36.0736</td>\n",
       "      <td>146.9135</td>\n",
       "      <td>2008</td>\n",
       "      <td>12</td>\n",
       "      <td>3</td>\n",
       "    </tr>\n",
       "    <tr>\n",
       "      <th>3</th>\n",
       "      <td>Albury</td>\n",
       "      <td>9.2</td>\n",
       "      <td>28.0</td>\n",
       "      <td>0.0</td>\n",
       "      <td>WGD_NE</td>\n",
       "      <td>24.0</td>\n",
       "      <td>WD9_SE</td>\n",
       "      <td>WD15_E</td>\n",
       "      <td>11.0</td>\n",
       "      <td>9.0</td>\n",
       "      <td>...</td>\n",
       "      <td>1012.8</td>\n",
       "      <td>18.1</td>\n",
       "      <td>26.5</td>\n",
       "      <td>No</td>\n",
       "      <td>No</td>\n",
       "      <td>-36.0736</td>\n",
       "      <td>146.9135</td>\n",
       "      <td>2008</td>\n",
       "      <td>12</td>\n",
       "      <td>4</td>\n",
       "    </tr>\n",
       "    <tr>\n",
       "      <th>4</th>\n",
       "      <td>Albury</td>\n",
       "      <td>17.5</td>\n",
       "      <td>32.3</td>\n",
       "      <td>1.0</td>\n",
       "      <td>WGD_W</td>\n",
       "      <td>41.0</td>\n",
       "      <td>WD9_ENE</td>\n",
       "      <td>WD15_NW</td>\n",
       "      <td>7.0</td>\n",
       "      <td>20.0</td>\n",
       "      <td>...</td>\n",
       "      <td>1006.0</td>\n",
       "      <td>17.8</td>\n",
       "      <td>29.7</td>\n",
       "      <td>No</td>\n",
       "      <td>No</td>\n",
       "      <td>-36.0736</td>\n",
       "      <td>146.9135</td>\n",
       "      <td>2008</td>\n",
       "      <td>12</td>\n",
       "      <td>5</td>\n",
       "    </tr>\n",
       "  </tbody>\n",
       "</table>\n",
       "<p>5 rows × 23 columns</p>\n",
       "</div>"
      ],
      "text/plain": [
       "  Location  MinTemp  MaxTemp  Rainfall WindGustDir  WindGustSpeed WindDir9am  \\\n",
       "0   Albury     13.4     22.9       0.6       WGD_W           44.0      WD9_W   \n",
       "1   Albury      7.4     25.1       0.0     WGD_WNW           44.0    WD9_NNW   \n",
       "2   Albury     12.9     25.7       0.0     WGD_WSW           46.0      WD9_W   \n",
       "3   Albury      9.2     28.0       0.0      WGD_NE           24.0     WD9_SE   \n",
       "4   Albury     17.5     32.3       1.0       WGD_W           41.0    WD9_ENE   \n",
       "\n",
       "  WindDir3pm  WindSpeed9am  WindSpeed3pm  ...  Pressure3pm  Temp9am  Temp3pm  \\\n",
       "0   WD15_WNW          20.0          24.0  ...       1007.1     16.9     21.8   \n",
       "1   WD15_WSW           4.0          22.0  ...       1007.8     17.2     24.3   \n",
       "2   WD15_WSW          19.0          26.0  ...       1008.7     21.0     23.2   \n",
       "3     WD15_E          11.0           9.0  ...       1012.8     18.1     26.5   \n",
       "4    WD15_NW           7.0          20.0  ...       1006.0     17.8     29.7   \n",
       "\n",
       "   RainToday  RainTomorrow  Latitude Longitude  Year  Month  Day  \n",
       "0         No            No  -36.0736  146.9135  2008     12    1  \n",
       "1         No            No  -36.0736  146.9135  2008     12    2  \n",
       "2         No            No  -36.0736  146.9135  2008     12    3  \n",
       "3         No            No  -36.0736  146.9135  2008     12    4  \n",
       "4         No            No  -36.0736  146.9135  2008     12    5  \n",
       "\n",
       "[5 rows x 23 columns]"
      ]
     },
     "execution_count": 18,
     "metadata": {},
     "output_type": "execute_result"
    }
   ],
   "source": [
    "def clean_data(base_data):\n",
    "    # przekształć datę na typ datetime\n",
    "    base_data['Date'] = pd.to_datetime(base_data['Date'])\n",
    "\n",
    "    # wyodrębnij rok z daty\n",
    "    base_data['Year'] = base_data['Date'].dt.year\n",
    "\n",
    "    # wyodrębnij miesiąc z daty\n",
    "    base_data['Month'] = base_data['Date'].dt.month\n",
    "\n",
    "    # wyodrębnij dzień z daty\n",
    "    base_data['Day'] = base_data['Date'].dt.day\n",
    "    # usuń kolumnę 'Date'\n",
    "    base_data.drop('Date', axis=1, inplace=True)\n",
    "    # Usuń kolumnę: 'Sunshine'\n",
    "    base_data = base_data.drop(columns=['Sunshine'])\n",
    "    # Usuń kolumnę: 'Evaporation'\n",
    "    base_data = base_data.drop(columns=['Evaporation'])\n",
    "    # Usuń kolumnę: 'Cloud9am'\n",
    "    base_data = base_data.drop(columns=['Cloud9am'])\n",
    "    # Usuń kolumnę: 'Cloud3pm'\n",
    "    base_data = base_data.drop(columns=['Cloud3pm'])\n",
    "\n",
    "    # Zastąp brakujące wartości medianą każdej kolumny w: 'MinTemp', 'MaxTemp' i 10 innych kolumnach\n",
    "    base_data = base_data.fillna({'MinTemp': base_data['MinTemp'].median(), 'MaxTemp': base_data['MaxTemp'].median(), 'Rainfall': base_data['Rainfall'].ffill(), 'WindGustSpeed': base_data['WindGustSpeed'].median(), 'WindSpeed9am': base_data['WindSpeed9am'].median(), 'WindSpeed3pm': base_data['WindSpeed3pm'].median(\n",
    "    ), 'Humidity9am': base_data['Humidity9am'].median(), 'Humidity3pm': base_data['Humidity3pm'].median(), 'Pressure9am': base_data['Pressure9am'].median(), 'Pressure3pm': base_data['Pressure3pm'].median(), 'Temp9am': base_data['Temp9am'].median(), 'Temp3pm': base_data['Temp3pm'].median()})\n",
    "\n",
    "    # Zastąp braki wartościami z poprzedniego ważnego wpisu w: 'RainToday', 'RainTomorrow'\n",
    "    base_data = base_data.fillna({'RainToday': base_data['RainToday'].ffill(\n",
    "    ), 'RainTomorrow': base_data['RainTomorrow'].ffill()})\n",
    "\n",
    "    # Zastąp braki wartościami z poprzedniego ważnego wpisu w: 'WindGustDir', 'WindDir9am', 'WindDir3pm'\n",
    "    base_data = base_data.fillna({'WindGustDir': base_data['WindGustDir'].ffill(\n",
    "    ), 'WindDir9am': base_data['WindDir9am'].ffill(), 'WindDir3pm': base_data['WindDir3pm'].ffill()})\n",
    "    return base_data\n",
    "\n",
    "\n",
    "base_data_clean = clean_data(base_data.copy())\n",
    "base_data_clean.head()"
   ]
  },
  {
   "cell_type": "code",
   "execution_count": 19,
   "metadata": {},
   "outputs": [
    {
     "data": {
      "text/plain": [
       "<Axes: >"
      ]
     },
     "execution_count": 19,
     "metadata": {},
     "output_type": "execute_result"
    },
    {
     "data": {
      "image/png": "[encoded data removed]",
      "text/plain": [
       "<Figure size 640x480 with 1 Axes>"
      ]
     },
     "metadata": {},
     "output_type": "display_data"
    }
   ],
   "source": [
    "sns.heatmap(base_data_clean.isnull(), yticklabels=False,\n",
    "            cbar=False, cmap='viridis')"
   ]
  },
  {
   "cell_type": "code",
   "execution_count": 20,
   "metadata": {},
   "outputs": [],
   "source": [
    "# Przekształć kolumnę 'date' na typ datetime\n",
    "\n",
    "# Tworzymy dataframe dla każdego roku i zapisujemy go do pliku .csv\n",
    "for year, base_data in base_data_clean.groupby(base_data_clean['Year']):\n",
    "    base_data.to_csv(os.path.join('data', f'data{year}.csv'), index=False)"
   ]
  },
  {
   "cell_type": "code",
   "execution_count": 21,
   "metadata": {},
   "outputs": [],
   "source": [
    "base_data.to_csv(os.path.join('data', 'cleandata.csv'), index=False)"
   ]
  },
  {
   "cell_type": "markdown",
   "metadata": {},
   "source": [
    "# Pobranie i przetestowanie próbki z danych"
   ]
  },
  {
   "cell_type": "code",
   "execution_count": 22,
   "metadata": {},
   "outputs": [
    {
     "data": {
      "text/plain": [
       "<Axes: >"
      ]
     },
     "execution_count": 22,
     "metadata": {},
     "output_type": "execute_result"
    },
    {
     "data": {
      "image/png": "[encoded data removed]",
      "text/plain": [
       "<Figure size 640x480 with 1 Axes>"
      ]
     },
     "metadata": {},
     "output_type": "display_data"
    }
   ],
   "source": [
    "test_data = pd.read_csv('data/data2013.csv')\n",
    "sns.heatmap(test_data.isnull(), yticklabels=False, cbar=False, cmap='viridis')"
   ]
  }
 ],
 "metadata": {
  "kernelspec": {
   "display_name": ".venv",
   "language": "python",
   "name": "python3"
  },
  "language_info": {
   "codemirror_mode": {
    "name": "ipython",
    "version": 3
   },
   "file_extension": ".py",
   "mimetype": "text/x-python",
   "name": "python",
   "nbconvert_exporter": "python",
   "pygments_lexer": "ipython3",
   "version": "3.10.11"
  }
 },
 "nbformat": 4,
 "nbformat_minor": 2
}
