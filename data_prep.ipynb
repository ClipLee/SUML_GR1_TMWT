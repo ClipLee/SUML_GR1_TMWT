{
 "cells": [
  {
   "cell_type": "markdown",
   "metadata": {},
   "source": [
    "# Przygotowanie środowiska"
   ]
  },
  {
   "cell_type": "code",
   "execution_count": 1,
   "metadata": {},
   "outputs": [
    {
<<<<<<< HEAD
     "ename": "ModuleNotFoundError",
     "evalue": "No module named 'pandas'",
     "output_type": "error",
     "traceback": [
      "\u001b[0;31m---------------------------------------------------------------------------\u001b[0m",
      "\u001b[0;31mModuleNotFoundError\u001b[0m                       Traceback (most recent call last)",
      "\u001b[1;32m/Users/dominikabalcerowska/Library/Mobile Documents/com~apple~CloudDocs/suml/SUML_GR1_TMWT/data_prep.ipynb Komórka 2\u001b[0m line \u001b[0;36m2\n\u001b[1;32m      <a href='vscode-notebook-cell:/Users/dominikabalcerowska/Library/Mobile%20Documents/com~apple~CloudDocs/suml/SUML_GR1_TMWT/data_prep.ipynb#W1sZmlsZQ%3D%3D?line=0'>1</a>\u001b[0m \u001b[39mimport\u001b[39;00m \u001b[39mos\u001b[39;00m\n\u001b[0;32m----> <a href='vscode-notebook-cell:/Users/dominikabalcerowska/Library/Mobile%20Documents/com~apple~CloudDocs/suml/SUML_GR1_TMWT/data_prep.ipynb#W1sZmlsZQ%3D%3D?line=1'>2</a>\u001b[0m \u001b[39mimport\u001b[39;00m \u001b[39mpandas\u001b[39;00m \u001b[39mas\u001b[39;00m \u001b[39mpd\u001b[39;00m\n\u001b[1;32m      <a href='vscode-notebook-cell:/Users/dominikabalcerowska/Library/Mobile%20Documents/com~apple~CloudDocs/suml/SUML_GR1_TMWT/data_prep.ipynb#W1sZmlsZQ%3D%3D?line=2'>3</a>\u001b[0m \u001b[39mimport\u001b[39;00m \u001b[39mpickle\u001b[39;00m\n\u001b[1;32m      <a href='vscode-notebook-cell:/Users/dominikabalcerowska/Library/Mobile%20Documents/com~apple~CloudDocs/suml/SUML_GR1_TMWT/data_prep.ipynb#W1sZmlsZQ%3D%3D?line=4'>5</a>\u001b[0m \u001b[39mimport\u001b[39;00m \u001b[39mmatplotlib\u001b[39;00m\u001b[39m.\u001b[39;00m\u001b[39mpyplot\u001b[39;00m \u001b[39mas\u001b[39;00m \u001b[39mplt\u001b[39;00m\n",
      "\u001b[0;31mModuleNotFoundError\u001b[0m: No module named 'pandas'"
=======
     "name": "stderr",
     "output_type": "stream",
     "text": [
      "C:\\Users\\klips\\AppData\\Local\\Temp\\ipykernel_32632\\1514946321.py:2: DeprecationWarning: \n",
      "Pyarrow will become a required dependency of pandas in the next major release of pandas (pandas 3.0),\n",
      "(to allow more performant data types, such as the Arrow string type, and better interoperability with other libraries)\n",
      "but was not found to be installed on your system.\n",
      "If this would cause problems for you,\n",
      "please provide us feedback at https://github.com/pandas-dev/pandas/issues/54466\n",
      "        \n",
      "  import pandas as pd\n"
>>>>>>> Coordinates-split
     ]
    }
   ],
   "source": [
    "import os\n",
    "import pandas as pd\n",
    "import pickle\n",
    "\n",
    "import matplotlib.pyplot as plt\n",
    "import seaborn as sns\n",
    "import numpy as np\n",
    "\n",
    "import cufflinks as cf"
   ]
  },
  {
   "cell_type": "code",
   "execution_count": null,
   "metadata": {},
   "outputs": [
    {
     "ename": "",
     "evalue": "",
     "output_type": "error",
     "traceback": [
      "\u001b[1;31mNie można uruchomić jądra, ponieważ środowisko języka Python „~/Downloads/SUML_GR1_TMWT-main/.conda/bin/python” nie jest już dostępne. Rozważ wybranie innego jądra lub odświeżenie listy środowisk języka Python."
     ]
    }
   ],
   "source": [
    "from platform import python_version\n",
    "python_version()"
   ]
  },
  {
   "cell_type": "markdown",
   "metadata": {},
   "source": [
    "# Przygotowanie danych do analizy"
   ]
  },
  {
   "cell_type": "code",
   "execution_count": null,
   "metadata": {},
   "outputs": [
    {
     "ename": "",
     "evalue": "",
     "output_type": "error",
     "traceback": [
      "\u001b[1;31mNie można uruchomić jądra, ponieważ środowisko języka Python „~/Downloads/SUML_GR1_TMWT-main/.conda/bin/python” nie jest już dostępne. Rozważ wybranie innego jądra lub odświeżenie listy środowisk języka Python."
     ]
    }
   ],
   "source": [
    "from pandas.core.indexes import base\n",
    "os.getcwd()"
   ]
  },
  {
   "cell_type": "code",
   "execution_count": null,
   "metadata": {},
   "outputs": [
    {
     "ename": "",
     "evalue": "",
     "output_type": "error",
     "traceback": [
      "\u001b[1;31mNie można uruchomić jądra, ponieważ środowisko języka Python „~/Downloads/SUML_GR1_TMWT-main/.conda/bin/python” nie jest już dostępne. Rozważ wybranie innego jądra lub odświeżenie listy środowisk języka Python."
     ]
    }
   ],
   "source": [
    "base_data = pd.read_csv(\"data/weatherAUS.csv\")"
   ]
  },
  {
   "cell_type": "code",
   "execution_count": null,
   "metadata": {},
   "outputs": [
    {
     "ename": "",
     "evalue": "",
     "output_type": "error",
     "traceback": [
      "\u001b[1;31mNie można uruchomić jądra, ponieważ środowisko języka Python „~/Downloads/SUML_GR1_TMWT-main/.conda/bin/python” nie jest już dostępne. Rozważ wybranie innego jądra lub odświeżenie listy środowisk języka Python."
     ]
    }
   ],
   "source": [
    "base_data"
   ]
  },
  {
   "cell_type": "code",
   "execution_count": null,
   "metadata": {},
   "outputs": [
    {
     "ename": "",
     "evalue": "",
     "output_type": "error",
     "traceback": [
      "\u001b[1;31mNie można uruchomić jądra, ponieważ środowisko języka Python „~/Downloads/SUML_GR1_TMWT-main/.conda/bin/python” nie jest już dostępne. Rozważ wybranie innego jądra lub odświeżenie listy środowisk języka Python."
     ]
    }
   ],
   "source": [
    "print(base_data)"
   ]
  },
  {
   "cell_type": "code",
   "execution_count": null,
   "metadata": {},
   "outputs": [
    {
     "ename": "",
     "evalue": "",
     "output_type": "error",
     "traceback": [
      "\u001b[1;31mNie można uruchomić jądra, ponieważ środowisko języka Python „~/Downloads/SUML_GR1_TMWT-main/.conda/bin/python” nie jest już dostępne. Rozważ wybranie innego jądra lub odświeżenie listy środowisk języka Python."
     ]
    }
   ],
   "source": [
    "base_data.columns"
   ]
  },
  {
   "cell_type": "code",
   "execution_count": null,
   "metadata": {},
   "outputs": [
    {
     "ename": "",
     "evalue": "",
     "output_type": "error",
     "traceback": [
      "\u001b[1;31mNie można uruchomić jądra, ponieważ środowisko języka Python „~/Downloads/SUML_GR1_TMWT-main/.conda/bin/python” nie jest już dostępne. Rozważ wybranie innego jądra lub odświeżenie listy środowisk języka Python."
     ]
    }
   ],
   "source": [
    "categorical = [var for var in base_data.columns if base_data[var].dtype == 'O']\n",
    "\n",
    "print('There are {} categorical variables\\n'.format(len(categorical)))\n",
    "\n",
    "print('The categorical variables are :', categorical)"
   ]
  },
  {
   "cell_type": "code",
   "execution_count": null,
   "metadata": {},
   "outputs": [
    {
     "ename": "",
     "evalue": "",
     "output_type": "error",
     "traceback": [
      "\u001b[1;31mNie można uruchomić jądra, ponieważ środowisko języka Python „~/Downloads/SUML_GR1_TMWT-main/.conda/bin/python” nie jest już dostępne. Rozważ wybranie innego jądra lub odświeżenie listy środowisk języka Python."
     ]
    }
   ],
   "source": [
    "base_data.isnull().sum()"
   ]
  },
  {
   "cell_type": "markdown",
   "metadata": {},
   "source": [
    "Kolumny z największymi ilościami brakujących danych to Cloud9am (38%), Cloud3pm (41%), Evaporation (43%) oraz Sunshine (48%)."
   ]
  },
  {
   "cell_type": "code",
   "execution_count": null,
   "metadata": {},
   "outputs": [
    {
     "ename": "",
     "evalue": "",
     "output_type": "error",
     "traceback": [
      "\u001b[1;31mNie można uruchomić jądra, ponieważ środowisko języka Python „~/Downloads/SUML_GR1_TMWT-main/.conda/bin/python” nie jest już dostępne. Rozważ wybranie innego jądra lub odświeżenie listy środowisk języka Python."
     ]
    }
   ],
   "source": [
    "print(base_data.shape[0])"
   ]
  },
  {
   "cell_type": "code",
   "execution_count": null,
   "metadata": {},
   "outputs": [
    {
     "ename": "",
     "evalue": "",
     "output_type": "error",
     "traceback": [
      "\u001b[1;31mNie można uruchomić jądra, ponieważ środowisko języka Python „~/Downloads/SUML_GR1_TMWT-main/.conda/bin/python” nie jest już dostępne. Rozważ wybranie innego jądra lub odświeżenie listy środowisk języka Python."
     ]
    }
   ],
   "source": [
    "cloud9am_mean = base_data['Cloud9am'].mean()\n",
    "cloud3pm_mean = base_data['Cloud3pm'].mean()\n",
    "\n",
    "print(\"Average Cloud9am:\", cloud9am_mean)\n",
    "print(\"Average Cloud3pm:\", cloud3pm_mean)"
   ]
  },
  {
   "cell_type": "code",
   "execution_count": null,
   "metadata": {},
   "outputs": [
    {
     "ename": "",
     "evalue": "",
     "output_type": "error",
     "traceback": [
      "\u001b[1;31mNie można uruchomić jądra, ponieważ środowisko języka Python „~/Downloads/SUML_GR1_TMWT-main/.conda/bin/python” nie jest już dostępne. Rozważ wybranie innego jądra lub odświeżenie listy środowisk języka Python."
     ]
    }
   ],
   "source": [
    "sns.heatmap(base_data.isnull(), yticklabels=False, cbar=False, cmap='viridis')"
   ]
  },
  {
   "cell_type": "code",
   "execution_count": null,
   "metadata": {},
   "outputs": [
    {
     "ename": "",
     "evalue": "",
     "output_type": "error",
     "traceback": [
      "\u001b[1;31mNie można uruchomić jądra, ponieważ środowisko języka Python „~/Downloads/SUML_GR1_TMWT-main/.conda/bin/python” nie jest już dostępne. Rozważ wybranie innego jądra lub odświeżenie listy środowisk języka Python."
     ]
    }
   ],
   "source": [
    "base_data['Location'].unique()"
   ]
  },
  {
   "cell_type": "code",
   "execution_count": null,
   "metadata": {},
   "outputs": [
    {
     "ename": "",
     "evalue": "",
     "output_type": "error",
     "traceback": [
      "\u001b[1;31mNie można uruchomić jądra, ponieważ środowisko języka Python „~/Downloads/SUML_GR1_TMWT-main/.conda/bin/python” nie jest już dostępne. Rozważ wybranie innego jądra lub odświeżenie listy środowisk języka Python."
     ]
    }
   ],
   "source": [
    "import pandas as pd\n",
    "\n",
    "# Słownik zawierający australijskie miasta i ich współrzędne\n",
    "australian_cities = {\n",
    "    \"Albury\": (-36.0736, 146.9135),\n",
    "    \"BadgerysCreek\": (-33.8500, 150.7500),\n",
    "    \"Cobar\": (-31.5500, 145.8333),\n",
    "    \"CoffsHarbour\": (-30.3000, 153.1333),\n",
    "    \"Moree\": (-29.4667, 149.8500),\n",
    "    \"Newcastle\": (-32.9333, 151.7500),\n",
    "    \"NorahHead\": (-33.2833, 151.5667),\n",
    "    \"NorfolkIsland\": (-29.0333, 167.9500),\n",
    "    \"Penrith\": (-33.7500, 150.7000),\n",
    "    \"Richmond\": (-33.6167, 150.7500),\n",
    "    \"Sydney\": (-33.8688, 151.2093),\n",
    "    \"SydneyAirport\": (-33.9461, 151.1772),\n",
    "    \"WaggaWagga\": (-35.1167, 147.4667),\n",
    "    \"Williamtown\": (-32.8500, 151.8167),\n",
    "    \"Wollongong\": (-34.4250, 150.8833),\n",
    "    \"Canberra\": (-35.3075, 149.1244),\n",
    "    \"Tuggeranong\": (-35.4235, 149.0754),\n",
    "    \"MountGinini\": (-35.5500, 148.7500),\n",
    "    \"Ballarat\": (-37.5500, 143.8500),\n",
    "    \"Bendigo\": (-36.7667, 144.2667),\n",
    "    \"Sale\": (-38.1167, 147.0667),\n",
    "    \"MelbourneAirport\": (-37.6667, 144.8333),\n",
    "    \"Melbourne\": (-37.8136, 144.9631),\n",
    "    \"Mildura\": (-34.2000, 142.1500),\n",
    "    \"Nhil\": (-38.2500, 141.6667),\n",
    "    \"Portland\": (-38.3500, 141.6167),\n",
    "    \"Watsonia\": (-37.7167, 145.0500),\n",
    "    \"Dartmoor\": (-37.9167, 141.2500),\n",
    "    \"Brisbane\": (-27.4698, 153.0251),\n",
    "    \"Cairns\": (-16.9167, 145.7667),\n",
    "    \"GoldCoast\": (-28.0167, 153.4000),\n",
    "    \"Townsville\": (-19.2500, 146.8000),\n",
    "    \"Adelaide\": (-34.9333, 138.5833),\n",
    "    \"MountGambier\": (-37.8333, 140.7667),\n",
    "    \"Nuriootpa\": (-34.4667, 139.0000),\n",
    "    \"Woomera\": (-31.1500, 136.8167),\n",
    "    \"Albany\": (-35.0167, 117.850),\n",
    "    \"Witchcliffe\": (-33.9500, 115.1833),\n",
    "    \"PearceRAAF\": (-31.9167, 115.9500),\n",
    "    \"PerthAirport\": (-31.9417, 115.9625),\n",
    "    \"Perth\": (-31.9522, 115.8589),\n",
    "    \"SalmonGums\": (-33.5667, 123.0833),\n",
    "    \"Walpole\": (-34.3667, 116.4167),\n",
    "    \"Hobart\": (-42.8806, 147.3256),\n",
    "    \"Launceston\": (-41.4593, 147.1472),\n",
    "    \"AliceSprings\": (-23.6972, 134.9959),\n",
    "    \"Darwin\": (-12.4631, 130.8411),\n",
    "    \"Katherine\": (-14.4667, 132.4500),\n",
    "    \"Uluru\": (-25.3458, 132.8639)\n",
    "}\n",
    "\n",
    "# Utwórz kolumny 'Latitude' i 'Longitude' mapując miasta na współrzędne z słownika\n",
    "base_data['Latitude'] = base_data['Location'].apply(\n",
    "    lambda x: australian_cities[x][0] if x in australian_cities else None)\n",
    "base_data['Longitude'] = base_data['Location'].apply(\n",
    "    lambda x: australian_cities[x][1] if x in australian_cities else None)\n",
    "\n",
    "# Pozbycie się kolumny Location\n",
    "base_data.drop('Location', axis=1, inplace=True)"
   ]
  },
  {
   "cell_type": "code",
   "execution_count": null,
   "metadata": {},
   "outputs": [
    {
     "ename": "",
     "evalue": "",
     "output_type": "error",
     "traceback": [
      "\u001b[1;31mNie można uruchomić jądra, ponieważ środowisko języka Python „~/Downloads/SUML_GR1_TMWT-main/.conda/bin/python” nie jest już dostępne. Rozważ wybranie innego jądra lub odświeżenie listy środowisk języka Python."
     ]
    }
   ],
   "source": [
    "'''\n",
    "# Dodanie prefiksów do kolumn\n",
    "base_data['WindGustDir'] = 'WGD_' + base_data['WindGustDir'].astype(str)\n",
    "base_data['WindDir9am'] = 'WD9_' + base_data['WindDir9am'].astype(str)\n",
    "base_data['WindDir3pm'] = 'WD15_' + base_data['WindDir3pm'].astype(str)\n",
    "'''"
   ]
  },
  {
   "cell_type": "code",
   "execution_count": null,
   "metadata": {},
   "outputs": [
    {
     "ename": "",
     "evalue": "",
     "output_type": "error",
     "traceback": [
      "\u001b[1;31mNie można uruchomić jądra, ponieważ środowisko języka Python „~/Downloads/SUML_GR1_TMWT-main/.conda/bin/python” nie jest już dostępne. Rozważ wybranie innego jądra lub odświeżenie listy środowisk języka Python."
     ]
    }
   ],
   "source": [
    "print(base_data['Latitude'], ['Longitude'])"
   ]
  },
  {
   "cell_type": "code",
   "execution_count": null,
   "metadata": {},
   "outputs": [
    {
<<<<<<< HEAD
     "ename": "",
     "evalue": "",
     "output_type": "error",
     "traceback": [
      "\u001b[1;31mNie można uruchomić jądra, ponieważ środowisko języka Python „~/Downloads/SUML_GR1_TMWT-main/.conda/bin/python” nie jest już dostępne. Rozważ wybranie innego jądra lub odświeżenie listy środowisk języka Python."
     ]
=======
     "data": {
      "text/plain": [
       "<Axes: >"
      ]
     },
     "execution_count": 16,
     "metadata": {},
     "output_type": "execute_result"
    },
    {
     "data": {
      "image/png": "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",
      "text/plain": [
       "<Figure size 640x480 with 1 Axes>"
      ]
     },
     "metadata": {},
     "output_type": "display_data"
>>>>>>> Coordinates-split
    }
   ],
   "source": [
    "sns.heatmap(base_data.isnull(), yticklabels=False, cbar=False, cmap='viridis')"
   ]
  },
  {
   "cell_type": "code",
   "execution_count": null,
   "metadata": {},
   "outputs": [
    {
<<<<<<< HEAD
     "ename": "",
     "evalue": "",
     "output_type": "error",
     "traceback": [
      "\u001b[1;31mNie można uruchomić jądra, ponieważ środowisko języka Python „~/Downloads/SUML_GR1_TMWT-main/.conda/bin/python” nie jest już dostępne. Rozważ wybranie innego jądra lub odświeżenie listy środowisk języka Python."
     ]
=======
     "data": {
      "text/html": [
       "<div>\n",
       "<style scoped>\n",
       "    .dataframe tbody tr th:only-of-type {\n",
       "        vertical-align: middle;\n",
       "    }\n",
       "\n",
       "    .dataframe tbody tr th {\n",
       "        vertical-align: top;\n",
       "    }\n",
       "\n",
       "    .dataframe thead th {\n",
       "        text-align: right;\n",
       "    }\n",
       "</style>\n",
       "<table border=\"1\" class=\"dataframe\">\n",
       "  <thead>\n",
       "    <tr style=\"text-align: right;\">\n",
       "      <th></th>\n",
       "      <th>MinTemp</th>\n",
       "      <th>MaxTemp</th>\n",
       "      <th>Rainfall</th>\n",
       "      <th>WindGustDir</th>\n",
       "      <th>WindGustSpeed</th>\n",
       "      <th>WindDir9am</th>\n",
       "      <th>WindDir3pm</th>\n",
       "      <th>WindSpeed9am</th>\n",
       "      <th>WindSpeed3pm</th>\n",
       "      <th>Humidity9am</th>\n",
       "      <th>...</th>\n",
       "      <th>Pressure3pm</th>\n",
       "      <th>Temp9am</th>\n",
       "      <th>Temp3pm</th>\n",
       "      <th>RainToday</th>\n",
       "      <th>RainTomorrow</th>\n",
       "      <th>Latitude</th>\n",
       "      <th>Longitude</th>\n",
       "      <th>Year</th>\n",
       "      <th>Month</th>\n",
       "      <th>Day</th>\n",
       "    </tr>\n",
       "  </thead>\n",
       "  <tbody>\n",
       "    <tr>\n",
       "      <th>0</th>\n",
       "      <td>13.4</td>\n",
       "      <td>22.9</td>\n",
       "      <td>0.6</td>\n",
       "      <td>W</td>\n",
       "      <td>44.0</td>\n",
       "      <td>W</td>\n",
       "      <td>WNW</td>\n",
       "      <td>20.0</td>\n",
       "      <td>24.0</td>\n",
       "      <td>71.0</td>\n",
       "      <td>...</td>\n",
       "      <td>1007.1</td>\n",
       "      <td>16.9</td>\n",
       "      <td>21.8</td>\n",
       "      <td>No</td>\n",
       "      <td>No</td>\n",
       "      <td>-36.0736</td>\n",
       "      <td>146.9135</td>\n",
       "      <td>2008</td>\n",
       "      <td>12</td>\n",
       "      <td>1</td>\n",
       "    </tr>\n",
       "    <tr>\n",
       "      <th>1</th>\n",
       "      <td>7.4</td>\n",
       "      <td>25.1</td>\n",
       "      <td>0.0</td>\n",
       "      <td>WNW</td>\n",
       "      <td>44.0</td>\n",
       "      <td>NNW</td>\n",
       "      <td>WSW</td>\n",
       "      <td>4.0</td>\n",
       "      <td>22.0</td>\n",
       "      <td>44.0</td>\n",
       "      <td>...</td>\n",
       "      <td>1007.8</td>\n",
       "      <td>17.2</td>\n",
       "      <td>24.3</td>\n",
       "      <td>No</td>\n",
       "      <td>No</td>\n",
       "      <td>-36.0736</td>\n",
       "      <td>146.9135</td>\n",
       "      <td>2008</td>\n",
       "      <td>12</td>\n",
       "      <td>2</td>\n",
       "    </tr>\n",
       "    <tr>\n",
       "      <th>2</th>\n",
       "      <td>12.9</td>\n",
       "      <td>25.7</td>\n",
       "      <td>0.0</td>\n",
       "      <td>WSW</td>\n",
       "      <td>46.0</td>\n",
       "      <td>W</td>\n",
       "      <td>WSW</td>\n",
       "      <td>19.0</td>\n",
       "      <td>26.0</td>\n",
       "      <td>38.0</td>\n",
       "      <td>...</td>\n",
       "      <td>1008.7</td>\n",
       "      <td>21.0</td>\n",
       "      <td>23.2</td>\n",
       "      <td>No</td>\n",
       "      <td>No</td>\n",
       "      <td>-36.0736</td>\n",
       "      <td>146.9135</td>\n",
       "      <td>2008</td>\n",
       "      <td>12</td>\n",
       "      <td>3</td>\n",
       "    </tr>\n",
       "    <tr>\n",
       "      <th>3</th>\n",
       "      <td>9.2</td>\n",
       "      <td>28.0</td>\n",
       "      <td>0.0</td>\n",
       "      <td>NE</td>\n",
       "      <td>24.0</td>\n",
       "      <td>SE</td>\n",
       "      <td>E</td>\n",
       "      <td>11.0</td>\n",
       "      <td>9.0</td>\n",
       "      <td>45.0</td>\n",
       "      <td>...</td>\n",
       "      <td>1012.8</td>\n",
       "      <td>18.1</td>\n",
       "      <td>26.5</td>\n",
       "      <td>No</td>\n",
       "      <td>No</td>\n",
       "      <td>-36.0736</td>\n",
       "      <td>146.9135</td>\n",
       "      <td>2008</td>\n",
       "      <td>12</td>\n",
       "      <td>4</td>\n",
       "    </tr>\n",
       "    <tr>\n",
       "      <th>4</th>\n",
       "      <td>17.5</td>\n",
       "      <td>32.3</td>\n",
       "      <td>1.0</td>\n",
       "      <td>W</td>\n",
       "      <td>41.0</td>\n",
       "      <td>ENE</td>\n",
       "      <td>NW</td>\n",
       "      <td>7.0</td>\n",
       "      <td>20.0</td>\n",
       "      <td>82.0</td>\n",
       "      <td>...</td>\n",
       "      <td>1006.0</td>\n",
       "      <td>17.8</td>\n",
       "      <td>29.7</td>\n",
       "      <td>No</td>\n",
       "      <td>No</td>\n",
       "      <td>-36.0736</td>\n",
       "      <td>146.9135</td>\n",
       "      <td>2008</td>\n",
       "      <td>12</td>\n",
       "      <td>5</td>\n",
       "    </tr>\n",
       "  </tbody>\n",
       "</table>\n",
       "<p>5 rows × 22 columns</p>\n",
       "</div>"
      ],
      "text/plain": [
       "   MinTemp  MaxTemp  Rainfall WindGustDir  WindGustSpeed WindDir9am  \\\n",
       "0     13.4     22.9       0.6           W           44.0          W   \n",
       "1      7.4     25.1       0.0         WNW           44.0        NNW   \n",
       "2     12.9     25.7       0.0         WSW           46.0          W   \n",
       "3      9.2     28.0       0.0          NE           24.0         SE   \n",
       "4     17.5     32.3       1.0           W           41.0        ENE   \n",
       "\n",
       "  WindDir3pm  WindSpeed9am  WindSpeed3pm  Humidity9am  ...  Pressure3pm  \\\n",
       "0        WNW          20.0          24.0         71.0  ...       1007.1   \n",
       "1        WSW           4.0          22.0         44.0  ...       1007.8   \n",
       "2        WSW          19.0          26.0         38.0  ...       1008.7   \n",
       "3          E          11.0           9.0         45.0  ...       1012.8   \n",
       "4         NW           7.0          20.0         82.0  ...       1006.0   \n",
       "\n",
       "   Temp9am  Temp3pm  RainToday  RainTomorrow Latitude Longitude  Year  Month  \\\n",
       "0     16.9     21.8         No            No -36.0736  146.9135  2008     12   \n",
       "1     17.2     24.3         No            No -36.0736  146.9135  2008     12   \n",
       "2     21.0     23.2         No            No -36.0736  146.9135  2008     12   \n",
       "3     18.1     26.5         No            No -36.0736  146.9135  2008     12   \n",
       "4     17.8     29.7         No            No -36.0736  146.9135  2008     12   \n",
       "\n",
       "   Day  \n",
       "0    1  \n",
       "1    2  \n",
       "2    3  \n",
       "3    4  \n",
       "4    5  \n",
       "\n",
       "[5 rows x 22 columns]"
      ]
     },
     "execution_count": 17,
     "metadata": {},
     "output_type": "execute_result"
>>>>>>> Coordinates-split
    }
   ],
   "source": [
    "def clean_data(base_data):\n",
    "    # przekształć datę na typ datetime\n",
    "    base_data['Date'] = pd.to_datetime(base_data['Date'])\n",
    "\n",
    "    # wyodrębnij rok z daty\n",
    "    base_data['Year'] = base_data['Date'].dt.year\n",
    "\n",
    "    # wyodrębnij miesiąc z daty\n",
    "    base_data['Month'] = base_data['Date'].dt.month\n",
    "\n",
    "    # wyodrębnij dzień z daty\n",
    "    base_data['Day'] = base_data['Date'].dt.day\n",
    "    # usuń kolumnę 'Date'\n",
    "    base_data.drop('Date', axis=1, inplace=True)\n",
    "    # Usuń kolumnę: 'Sunshine'\n",
    "    base_data = base_data.drop(columns=['Sunshine'])\n",
    "    # Usuń kolumnę: 'Evaporation'\n",
    "    base_data = base_data.drop(columns=['Evaporation'])\n",
    "    # Usuń kolumnę: 'Cloud9am'\n",
    "    base_data = base_data.drop(columns=['Cloud9am'])\n",
    "    # Usuń kolumnę: 'Cloud3pm'\n",
    "    base_data = base_data.drop(columns=['Cloud3pm'])\n",
    "\n",
    "    # Zastąp brakujące wartości medianą każdej kolumny w: 'MinTemp', 'MaxTemp' i 10 innych kolumnach\n",
    "    base_data = base_data.fillna({'MinTemp': base_data['MinTemp'].median(), 'MaxTemp': base_data['MaxTemp'].median(), 'Rainfall': base_data['Rainfall'].ffill(), 'WindGustSpeed': base_data['WindGustSpeed'].median(), 'WindSpeed9am': base_data['WindSpeed9am'].median(), 'WindSpeed3pm': base_data['WindSpeed3pm'].median(\n",
    "    ), 'Humidity9am': base_data['Humidity9am'].median(), 'Humidity3pm': base_data['Humidity3pm'].median(), 'Pressure9am': base_data['Pressure9am'].median(), 'Pressure3pm': base_data['Pressure3pm'].median(), 'Temp9am': base_data['Temp9am'].median(), 'Temp3pm': base_data['Temp3pm'].median()})\n",
    "\n",
    "    # Zastąp braki wartościami z poprzedniego ważnego wpisu w: 'RainToday', 'RainTomorrow'\n",
    "    base_data = base_data.fillna({'RainToday': base_data['RainToday'].ffill(\n",
    "    ), 'RainTomorrow': base_data['RainTomorrow'].ffill()})\n",
    "\n",
    "    # Zastąp braki wartościami z poprzedniego ważnego wpisu w: 'WindGustDir', 'WindDir9am', 'WindDir3pm'\n",
    "    base_data = base_data.fillna({'WindGustDir': base_data['WindGustDir'].ffill(\n",
    "    ), 'WindDir9am': base_data['WindDir9am'].ffill(), 'WindDir3pm': base_data['WindDir3pm'].ffill()})\n",
    "    return base_data\n",
    "\n",
    "\n",
    "base_data_clean = clean_data(base_data.copy())\n",
    "base_data_clean.head()"
   ]
  },
  {
   "cell_type": "code",
<<<<<<< HEAD
   "execution_count": null,
   "metadata": {},
   "outputs": [
    {
     "ename": "",
     "evalue": "",
     "output_type": "error",
     "traceback": [
      "\u001b[1;31mNie można uruchomić jądra, ponieważ środowisko języka Python „~/Downloads/SUML_GR1_TMWT-main/.conda/bin/python” nie jest już dostępne. Rozważ wybranie innego jądra lub odświeżenie listy środowisk języka Python."
     ]
=======
   "execution_count": 18,
   "metadata": {},
   "outputs": [
    {
     "data": {
      "text/plain": [
       "<Axes: >"
      ]
     },
     "execution_count": 18,
     "metadata": {},
     "output_type": "execute_result"
    },
    {
     "data": {
      "image/png": "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",
      "text/plain": [
       "<Figure size 640x480 with 1 Axes>"
      ]
     },
     "metadata": {},
     "output_type": "display_data"
>>>>>>> Coordinates-split
    }
   ],
   "source": [
    "sns.heatmap(base_data_clean.isnull(), yticklabels=False,\n",
    "            cbar=False, cmap='viridis')"
   ]
  },
  {
   "cell_type": "code",
<<<<<<< HEAD
   "execution_count": null,
=======
   "execution_count": 19,
>>>>>>> Coordinates-split
   "metadata": {},
   "outputs": [
    {
     "ename": "",
     "evalue": "",
     "output_type": "error",
     "traceback": [
      "\u001b[1;31mNie można uruchomić jądra, ponieważ środowisko języka Python „~/Downloads/SUML_GR1_TMWT-main/.conda/bin/python” nie jest już dostępne. Rozważ wybranie innego jądra lub odświeżenie listy środowisk języka Python."
     ]
    }
   ],
   "source": [
    "# Tworzymy dataframe dla każdego roku i zapisujemy go do pliku .csv\n",
    "for year, base_data in base_data_clean.groupby(base_data_clean['Year']):\n",
    "    base_data.to_csv(os.path.join('data', f'data{year}.csv'), index=False)"
   ]
  },
  {
   "cell_type": "code",
<<<<<<< HEAD
   "execution_count": null,
=======
   "execution_count": 20,
>>>>>>> Coordinates-split
   "metadata": {},
   "outputs": [
    {
     "ename": "",
     "evalue": "",
     "output_type": "error",
     "traceback": [
      "\u001b[1;31mNie można uruchomić jądra, ponieważ środowisko języka Python „~/Downloads/SUML_GR1_TMWT-main/.conda/bin/python” nie jest już dostępne. Rozważ wybranie innego jądra lub odświeżenie listy środowisk języka Python."
     ]
    }
   ],
   "source": [
    "base_data.to_csv(os.path.join('data', 'cleandata.csv'), index=False)"
   ]
  },
  {
   "cell_type": "markdown",
   "metadata": {},
   "source": [
    "# Pobranie i przetestowanie próbki z danych"
   ]
  },
  {
   "cell_type": "code",
<<<<<<< HEAD
   "execution_count": null,
   "metadata": {},
   "outputs": [
    {
     "ename": "",
     "evalue": "",
     "output_type": "error",
     "traceback": [
      "\u001b[1;31mNie można uruchomić jądra, ponieważ środowisko języka Python „~/Downloads/SUML_GR1_TMWT-main/.conda/bin/python” nie jest już dostępne. Rozważ wybranie innego jądra lub odświeżenie listy środowisk języka Python."
     ]
=======
   "execution_count": 21,
   "metadata": {},
   "outputs": [
    {
     "data": {
      "text/plain": [
       "<Axes: >"
      ]
     },
     "execution_count": 21,
     "metadata": {},
     "output_type": "execute_result"
    },
    {
     "data": {
      "image/png": "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",
      "text/plain": [
       "<Figure size 640x480 with 1 Axes>"
      ]
     },
     "metadata": {},
     "output_type": "display_data"
>>>>>>> Coordinates-split
    }
   ],
   "source": [
    "test_data = pd.read_csv('data/data2013.csv')\n",
    "sns.heatmap(test_data.isnull(), yticklabels=False, cbar=False, cmap='viridis')"
   ]
  }
 ],
 "metadata": {
  "kernelspec": {
   "display_name": ".venv",
   "language": "python",
   "name": "python3"
  },
  "language_info": {
   "codemirror_mode": {
    "name": "ipython",
    "version": 3
   },
   "file_extension": ".py",
   "mimetype": "text/x-python",
   "name": "python",
   "nbconvert_exporter": "python",
   "pygments_lexer": "ipython3",
   "version": "3.11.1"
  }
 },
 "nbformat": 4,
 "nbformat_minor": 2
}
