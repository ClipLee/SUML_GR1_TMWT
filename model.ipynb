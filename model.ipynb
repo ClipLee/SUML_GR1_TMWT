{
 "cells": [
  {
   "cell_type": "markdown",
   "metadata": {},
   "source": [
    "# Import bibliotek"
   ]
  },
  {
   "cell_type": "code",
   "execution_count": 112,
   "metadata": {},
   "outputs": [],
   "source": [
    "import pandas as pd\n",
    "from sklearn.model_selection import train_test_split\n",
    "import category_encoders as ce\n",
    "from sklearn.linear_model import LogisticRegression\n",
    "from sklearn.metrics import accuracy_score, confusion_matrix, roc_curve\n",
    "from sklearn import metrics\n",
    "import matplotlib.pyplot as plt\n",
    "import seaborn as sns\n",
    "import pickle\n",
    "from sklearn.preprocessing import MinMaxScaler"
   ]
  },
  {
   "cell_type": "markdown",
   "metadata": {},
   "source": [
    "# Wybranie datasetu"
   ]
  },
  {
   "cell_type": "code",
   "execution_count": 113,
   "metadata": {},
   "outputs": [],
   "source": [
    "def choose_dataset(train_data, test_data):\n",
    "    train_data = train_data\n",
    "    test_data = test_data\n",
    "    return train_data, test_data"
   ]
  },
  {
   "cell_type": "code",
   "execution_count": 114,
   "metadata": {},
   "outputs": [],
   "source": [
    "x = pd.read_csv(\"data/data2008.csv\")\n",
    "y = pd.read_csv('data/data2009.csv')"
   ]
  },
  {
   "cell_type": "code",
   "execution_count": 115,
   "metadata": {},
   "outputs": [],
   "source": [
    "if (len(x)) > len(y):\n",
    "    x = x[:len(y)]\n",
    "else:\n",
    "    y = y[:len(x)]"
   ]
  },
  {
   "cell_type": "markdown",
   "metadata": {},
   "source": [
    "# Sprawdzenie istnienia brakujących wartości"
   ]
  },
  {
   "cell_type": "code",
   "execution_count": 116,
   "metadata": {},
   "outputs": [],
   "source": [
    "x = x[x[\"RainTomorrow\"].notna()]\n",
    "y = y[y[\"RainTomorrow\"].notna()]"
   ]
  },
  {
   "cell_type": "markdown",
   "metadata": {},
   "source": [
    "# Odrzucanie wartości wysoce skorelowanych i niewaznych"
   ]
  },
  {
   "cell_type": "code",
   "execution_count": 117,
   "metadata": {},
   "outputs": [],
   "source": [
    "x = x.drop(['Temp3pm', 'Temp9am', 'Humidity9am','WindGustDir', 'WindDir9am', 'WindDir3pm'], axis=1)\n",
    "y = y.drop(['Temp3pm', 'Temp9am', 'Humidity9am', 'WindGustDir', 'WindDir9am', 'WindDir3pm'], axis=1)"
   ]
  },
  {
   "cell_type": "markdown",
   "metadata": {},
   "source": [
    "# Wyświetl wartości kategoryczne i liczbowe"
   ]
  },
  {
   "cell_type": "code",
   "execution_count": 118,
   "metadata": {},
   "outputs": [
    {
     "data": {
      "text/plain": [
       "['Location', 'RainToday', 'RainTomorrow']"
      ]
     },
     "execution_count": 118,
     "metadata": {},
     "output_type": "execute_result"
    }
   ],
   "source": [
    "categorical = [col for col in x.columns if x[col].dtypes == 'O']\n",
    "\n",
    "categorical"
   ]
  },
  {
   "cell_type": "code",
   "execution_count": 119,
   "metadata": {},
   "outputs": [
    {
     "data": {
      "text/plain": [
       "['MinTemp',\n",
       " 'MaxTemp',\n",
       " 'Rainfall',\n",
       " 'WindGustSpeed',\n",
       " 'WindSpeed9am',\n",
       " 'WindSpeed3pm',\n",
       " 'Humidity3pm',\n",
       " 'Pressure9am',\n",
       " 'Pressure3pm',\n",
       " 'Latitude',\n",
       " 'Longitude',\n",
       " 'Year',\n",
       " 'Month',\n",
       " 'Day']"
      ]
     },
     "execution_count": 119,
     "metadata": {},
     "output_type": "execute_result"
    }
   ],
   "source": [
    "numerical = [col for col in x.columns if x[col].dtypes != 'O']\n",
    "\n",
    "numerical"
   ]
  },
  {
   "cell_type": "code",
   "execution_count": 120,
   "metadata": {},
   "outputs": [
    {
     "data": {
      "text/plain": [
       "Index(['Location', 'MinTemp', 'MaxTemp', 'Rainfall', 'WindGustSpeed',\n",
       "       'WindSpeed9am', 'WindSpeed3pm', 'Humidity3pm', 'Pressure9am',\n",
       "       'Pressure3pm', 'RainToday', 'RainTomorrow', 'Latitude', 'Longitude',\n",
       "       'Year', 'Month', 'Day'],\n",
       "      dtype='object')"
      ]
     },
     "execution_count": 120,
     "metadata": {},
     "output_type": "execute_result"
    }
   ],
   "source": [
    "x.columns"
   ]
  },
  {
   "cell_type": "markdown",
   "metadata": {},
   "source": [
    "# Podział danych"
   ]
  },
  {
   "cell_type": "code",
   "execution_count": 121,
   "metadata": {},
   "outputs": [],
   "source": [
    "X = x.drop(['RainTomorrow'], axis=1)\n",
    "\n",
    "y = y['RainTomorrow']"
   ]
  },
  {
   "cell_type": "code",
   "execution_count": 122,
   "metadata": {},
   "outputs": [
    {
     "data": {
      "text/plain": [
       "((1816, 16), (454, 16))"
      ]
     },
     "execution_count": 122,
     "metadata": {},
     "output_type": "execute_result"
    }
   ],
   "source": [
    "X_train, X_test, y_train, y_test = train_test_split(\n",
    "    X, y, test_size=0.2, random_state=0)\n",
    "X_train.shape, X_test.shape"
   ]
  },
  {
   "cell_type": "markdown",
   "metadata": {},
   "source": [
    "# Zakodowanie zmiennej RainToday"
   ]
  },
  {
   "cell_type": "code",
   "execution_count": 123,
   "metadata": {},
   "outputs": [],
   "source": [
    "encoder = ce.BinaryEncoder(cols=['RainToday'])\n",
    "\n",
    "X_train = encoder.fit_transform(X_train)\n",
    "\n",
    "X_test = encoder.transform(X_test)"
   ]
  },
  {
   "cell_type": "markdown",
   "metadata": {},
   "source": [
    "# Utworzenie zbioru treningowego."
   ]
  },
  {
   "cell_type": "code",
   "execution_count": 124,
   "metadata": {},
   "outputs": [
    {
     "name": "stdout",
     "output_type": "stream",
     "text": [
      "Index(['Location', 'MinTemp', 'MaxTemp', 'Rainfall', 'WindGustSpeed',\n",
      "       'WindSpeed9am', 'WindSpeed3pm', 'Humidity3pm', 'Pressure9am',\n",
      "       'Pressure3pm', 'RainToday_0', 'RainToday_1', 'Latitude', 'Longitude',\n",
      "       'Year', 'Month', 'Day'],\n",
      "      dtype='object')\n"
     ]
    }
   ],
   "source": [
    "print(X_train.columns)"
   ]
  },
  {
   "cell_type": "code",
   "execution_count": 125,
   "metadata": {},
   "outputs": [],
   "source": [
    "numerical = [col for col in numerical if col not in ['Humidity9am', 'Temp9am', 'Temp3pm']]\n",
    "\n",
    "X_train = pd.concat([X_train[numerical], X_train[['RainToday_0', 'RainToday_1']],\n",
    "                     pd.get_dummies(X_train.Location)], axis=1)"
   ]
  },
  {
   "cell_type": "markdown",
   "metadata": {},
   "source": [
    "# Utworzenie zbioru testowego."
   ]
  },
  {
   "cell_type": "code",
   "execution_count": 126,
   "metadata": {},
   "outputs": [],
   "source": [
    "X_test = pd.concat([X_test[numerical], X_test[['RainToday_0', 'RainToday_1']],\n",
    "                    pd.get_dummies(X_test.Location)], axis=1)"
   ]
  },
  {
   "cell_type": "code",
   "execution_count": 127,
   "metadata": {},
   "outputs": [],
   "source": [
    "cols = X_train.columns"
   ]
  },
  {
   "cell_type": "code",
   "execution_count": 128,
   "metadata": {},
   "outputs": [],
   "source": [
    "scaler = MinMaxScaler()\n",
    "\n",
    "X_train = scaler.fit_transform(X_train)\n",
    "\n",
    "X_test = scaler.transform(X_test)"
   ]
  },
  {
   "cell_type": "code",
   "execution_count": 129,
   "metadata": {},
   "outputs": [],
   "source": [
    "X_train = pd.DataFrame(X_train, columns=[cols])"
   ]
  },
  {
   "cell_type": "code",
   "execution_count": 130,
   "metadata": {},
   "outputs": [],
   "source": [
    "X_test = pd.DataFrame(X_test, columns=[cols])"
   ]
  },
  {
   "cell_type": "markdown",
   "metadata": {},
   "source": [
    "# Trenowanie modelu"
   ]
  },
  {
   "cell_type": "code",
   "execution_count": 131,
   "metadata": {},
   "outputs": [
    {
     "data": {
      "text/html": [
       "<style>#sk-container-id-3 {\n",
       "  /* Definition of color scheme common for light and dark mode */\n",
       "  --sklearn-color-text: black;\n",
       "  --sklearn-color-line: gray;\n",
       "  /* Definition of color scheme for unfitted estimators */\n",
       "  --sklearn-color-unfitted-level-0: #fff5e6;\n",
       "  --sklearn-color-unfitted-level-1: #f6e4d2;\n",
       "  --sklearn-color-unfitted-level-2: #ffe0b3;\n",
       "  --sklearn-color-unfitted-level-3: chocolate;\n",
       "  /* Definition of color scheme for fitted estimators */\n",
       "  --sklearn-color-fitted-level-0: #f0f8ff;\n",
       "  --sklearn-color-fitted-level-1: #d4ebff;\n",
       "  --sklearn-color-fitted-level-2: #b3dbfd;\n",
       "  --sklearn-color-fitted-level-3: cornflowerblue;\n",
       "\n",
       "  /* Specific color for light theme */\n",
       "  --sklearn-color-text-on-default-background: var(--sg-text-color, var(--theme-code-foreground, var(--jp-content-font-color1, black)));\n",
       "  --sklearn-color-background: var(--sg-background-color, var(--theme-background, var(--jp-layout-color0, white)));\n",
       "  --sklearn-color-border-box: var(--sg-text-color, var(--theme-code-foreground, var(--jp-content-font-color1, black)));\n",
       "  --sklearn-color-icon: #696969;\n",
       "\n",
       "  @media (prefers-color-scheme: dark) {\n",
       "    /* Redefinition of color scheme for dark theme */\n",
       "    --sklearn-color-text-on-default-background: var(--sg-text-color, var(--theme-code-foreground, var(--jp-content-font-color1, white)));\n",
       "    --sklearn-color-background: var(--sg-background-color, var(--theme-background, var(--jp-layout-color0, #111)));\n",
       "    --sklearn-color-border-box: var(--sg-text-color, var(--theme-code-foreground, var(--jp-content-font-color1, white)));\n",
       "    --sklearn-color-icon: #878787;\n",
       "  }\n",
       "}\n",
       "\n",
       "#sk-container-id-3 {\n",
       "  color: var(--sklearn-color-text);\n",
       "}\n",
       "\n",
       "#sk-container-id-3 pre {\n",
       "  padding: 0;\n",
       "}\n",
       "\n",
       "#sk-container-id-3 input.sk-hidden--visually {\n",
       "  border: 0;\n",
       "  clip: rect(1px 1px 1px 1px);\n",
       "  clip: rect(1px, 1px, 1px, 1px);\n",
       "  height: 1px;\n",
       "  margin: -1px;\n",
       "  overflow: hidden;\n",
       "  padding: 0;\n",
       "  position: absolute;\n",
       "  width: 1px;\n",
       "}\n",
       "\n",
       "#sk-container-id-3 div.sk-dashed-wrapped {\n",
       "  border: 1px dashed var(--sklearn-color-line);\n",
       "  margin: 0 0.4em 0.5em 0.4em;\n",
       "  box-sizing: border-box;\n",
       "  padding-bottom: 0.4em;\n",
       "  background-color: var(--sklearn-color-background);\n",
       "}\n",
       "\n",
       "#sk-container-id-3 div.sk-container {\n",
       "  /* jupyter's `normalize.less` sets `[hidden] { display: none; }`\n",
       "     but bootstrap.min.css set `[hidden] { display: none !important; }`\n",
       "     so we also need the `!important` here to be able to override the\n",
       "     default hidden behavior on the sphinx rendered scikit-learn.org.\n",
       "     See: https://github.com/scikit-learn/scikit-learn/issues/21755 */\n",
       "  display: inline-block !important;\n",
       "  position: relative;\n",
       "}\n",
       "\n",
       "#sk-container-id-3 div.sk-text-repr-fallback {\n",
       "  display: none;\n",
       "}\n",
       "\n",
       "div.sk-parallel-item,\n",
       "div.sk-serial,\n",
       "div.sk-item {\n",
       "  /* draw centered vertical line to link estimators */\n",
       "  background-image: linear-gradient(var(--sklearn-color-text-on-default-background), var(--sklearn-color-text-on-default-background));\n",
       "  background-size: 2px 100%;\n",
       "  background-repeat: no-repeat;\n",
       "  background-position: center center;\n",
       "}\n",
       "\n",
       "/* Parallel-specific style estimator block */\n",
       "\n",
       "#sk-container-id-3 div.sk-parallel-item::after {\n",
       "  content: \"\";\n",
       "  width: 100%;\n",
       "  border-bottom: 2px solid var(--sklearn-color-text-on-default-background);\n",
       "  flex-grow: 1;\n",
       "}\n",
       "\n",
       "#sk-container-id-3 div.sk-parallel {\n",
       "  display: flex;\n",
       "  align-items: stretch;\n",
       "  justify-content: center;\n",
       "  background-color: var(--sklearn-color-background);\n",
       "  position: relative;\n",
       "}\n",
       "\n",
       "#sk-container-id-3 div.sk-parallel-item {\n",
       "  display: flex;\n",
       "  flex-direction: column;\n",
       "}\n",
       "\n",
       "#sk-container-id-3 div.sk-parallel-item:first-child::after {\n",
       "  align-self: flex-end;\n",
       "  width: 50%;\n",
       "}\n",
       "\n",
       "#sk-container-id-3 div.sk-parallel-item:last-child::after {\n",
       "  align-self: flex-start;\n",
       "  width: 50%;\n",
       "}\n",
       "\n",
       "#sk-container-id-3 div.sk-parallel-item:only-child::after {\n",
       "  width: 0;\n",
       "}\n",
       "\n",
       "/* Serial-specific style estimator block */\n",
       "\n",
       "#sk-container-id-3 div.sk-serial {\n",
       "  display: flex;\n",
       "  flex-direction: column;\n",
       "  align-items: center;\n",
       "  background-color: var(--sklearn-color-background);\n",
       "  padding-right: 1em;\n",
       "  padding-left: 1em;\n",
       "}\n",
       "\n",
       "\n",
       "/* Toggleable style: style used for estimator/Pipeline/ColumnTransformer box that is\n",
       "clickable and can be expanded/collapsed.\n",
       "- Pipeline and ColumnTransformer use this feature and define the default style\n",
       "- Estimators will overwrite some part of the style using the `sk-estimator` class\n",
       "*/\n",
       "\n",
       "/* Pipeline and ColumnTransformer style (default) */\n",
       "\n",
       "#sk-container-id-3 div.sk-toggleable {\n",
       "  /* Default theme specific background. It is overwritten whether we have a\n",
       "  specific estimator or a Pipeline/ColumnTransformer */\n",
       "  background-color: var(--sklearn-color-background);\n",
       "}\n",
       "\n",
       "/* Toggleable label */\n",
       "#sk-container-id-3 label.sk-toggleable__label {\n",
       "  cursor: pointer;\n",
       "  display: block;\n",
       "  width: 100%;\n",
       "  margin-bottom: 0;\n",
       "  padding: 0.5em;\n",
       "  box-sizing: border-box;\n",
       "  text-align: center;\n",
       "}\n",
       "\n",
       "#sk-container-id-3 label.sk-toggleable__label-arrow:before {\n",
       "  /* Arrow on the left of the label */\n",
       "  content: \"▸\";\n",
       "  float: left;\n",
       "  margin-right: 0.25em;\n",
       "  color: var(--sklearn-color-icon);\n",
       "}\n",
       "\n",
       "#sk-container-id-3 label.sk-toggleable__label-arrow:hover:before {\n",
       "  color: var(--sklearn-color-text);\n",
       "}\n",
       "\n",
       "/* Toggleable content - dropdown */\n",
       "\n",
       "#sk-container-id-3 div.sk-toggleable__content {\n",
       "  max-height: 0;\n",
       "  max-width: 0;\n",
       "  overflow: hidden;\n",
       "  text-align: left;\n",
       "  /* unfitted */\n",
       "  background-color: var(--sklearn-color-unfitted-level-0);\n",
       "}\n",
       "\n",
       "#sk-container-id-3 div.sk-toggleable__content.fitted {\n",
       "  /* fitted */\n",
       "  background-color: var(--sklearn-color-fitted-level-0);\n",
       "}\n",
       "\n",
       "#sk-container-id-3 div.sk-toggleable__content pre {\n",
       "  margin: 0.2em;\n",
       "  border-radius: 0.25em;\n",
       "  color: var(--sklearn-color-text);\n",
       "  /* unfitted */\n",
       "  background-color: var(--sklearn-color-unfitted-level-0);\n",
       "}\n",
       "\n",
       "#sk-container-id-3 div.sk-toggleable__content.fitted pre {\n",
       "  /* unfitted */\n",
       "  background-color: var(--sklearn-color-fitted-level-0);\n",
       "}\n",
       "\n",
       "#sk-container-id-3 input.sk-toggleable__control:checked~div.sk-toggleable__content {\n",
       "  /* Expand drop-down */\n",
       "  max-height: 200px;\n",
       "  max-width: 100%;\n",
       "  overflow: auto;\n",
       "}\n",
       "\n",
       "#sk-container-id-3 input.sk-toggleable__control:checked~label.sk-toggleable__label-arrow:before {\n",
       "  content: \"▾\";\n",
       "}\n",
       "\n",
       "/* Pipeline/ColumnTransformer-specific style */\n",
       "\n",
       "#sk-container-id-3 div.sk-label input.sk-toggleable__control:checked~label.sk-toggleable__label {\n",
       "  color: var(--sklearn-color-text);\n",
       "  background-color: var(--sklearn-color-unfitted-level-2);\n",
       "}\n",
       "\n",
       "#sk-container-id-3 div.sk-label.fitted input.sk-toggleable__control:checked~label.sk-toggleable__label {\n",
       "  background-color: var(--sklearn-color-fitted-level-2);\n",
       "}\n",
       "\n",
       "/* Estimator-specific style */\n",
       "\n",
       "/* Colorize estimator box */\n",
       "#sk-container-id-3 div.sk-estimator input.sk-toggleable__control:checked~label.sk-toggleable__label {\n",
       "  /* unfitted */\n",
       "  background-color: var(--sklearn-color-unfitted-level-2);\n",
       "}\n",
       "\n",
       "#sk-container-id-3 div.sk-estimator.fitted input.sk-toggleable__control:checked~label.sk-toggleable__label {\n",
       "  /* fitted */\n",
       "  background-color: var(--sklearn-color-fitted-level-2);\n",
       "}\n",
       "\n",
       "#sk-container-id-3 div.sk-label label.sk-toggleable__label,\n",
       "#sk-container-id-3 div.sk-label label {\n",
       "  /* The background is the default theme color */\n",
       "  color: var(--sklearn-color-text-on-default-background);\n",
       "}\n",
       "\n",
       "/* On hover, darken the color of the background */\n",
       "#sk-container-id-3 div.sk-label:hover label.sk-toggleable__label {\n",
       "  color: var(--sklearn-color-text);\n",
       "  background-color: var(--sklearn-color-unfitted-level-2);\n",
       "}\n",
       "\n",
       "/* Label box, darken color on hover, fitted */\n",
       "#sk-container-id-3 div.sk-label.fitted:hover label.sk-toggleable__label.fitted {\n",
       "  color: var(--sklearn-color-text);\n",
       "  background-color: var(--sklearn-color-fitted-level-2);\n",
       "}\n",
       "\n",
       "/* Estimator label */\n",
       "\n",
       "#sk-container-id-3 div.sk-label label {\n",
       "  font-family: monospace;\n",
       "  font-weight: bold;\n",
       "  display: inline-block;\n",
       "  line-height: 1.2em;\n",
       "}\n",
       "\n",
       "#sk-container-id-3 div.sk-label-container {\n",
       "  text-align: center;\n",
       "}\n",
       "\n",
       "/* Estimator-specific */\n",
       "#sk-container-id-3 div.sk-estimator {\n",
       "  font-family: monospace;\n",
       "  border: 1px dotted var(--sklearn-color-border-box);\n",
       "  border-radius: 0.25em;\n",
       "  box-sizing: border-box;\n",
       "  margin-bottom: 0.5em;\n",
       "  /* unfitted */\n",
       "  background-color: var(--sklearn-color-unfitted-level-0);\n",
       "}\n",
       "\n",
       "#sk-container-id-3 div.sk-estimator.fitted {\n",
       "  /* fitted */\n",
       "  background-color: var(--sklearn-color-fitted-level-0);\n",
       "}\n",
       "\n",
       "/* on hover */\n",
       "#sk-container-id-3 div.sk-estimator:hover {\n",
       "  /* unfitted */\n",
       "  background-color: var(--sklearn-color-unfitted-level-2);\n",
       "}\n",
       "\n",
       "#sk-container-id-3 div.sk-estimator.fitted:hover {\n",
       "  /* fitted */\n",
       "  background-color: var(--sklearn-color-fitted-level-2);\n",
       "}\n",
       "\n",
       "/* Specification for estimator info (e.g. \"i\" and \"?\") */\n",
       "\n",
       "/* Common style for \"i\" and \"?\" */\n",
       "\n",
       ".sk-estimator-doc-link,\n",
       "a:link.sk-estimator-doc-link,\n",
       "a:visited.sk-estimator-doc-link {\n",
       "  float: right;\n",
       "  font-size: smaller;\n",
       "  line-height: 1em;\n",
       "  font-family: monospace;\n",
       "  background-color: var(--sklearn-color-background);\n",
       "  border-radius: 1em;\n",
       "  height: 1em;\n",
       "  width: 1em;\n",
       "  text-decoration: none !important;\n",
       "  margin-left: 1ex;\n",
       "  /* unfitted */\n",
       "  border: var(--sklearn-color-unfitted-level-1) 1pt solid;\n",
       "  color: var(--sklearn-color-unfitted-level-1);\n",
       "}\n",
       "\n",
       ".sk-estimator-doc-link.fitted,\n",
       "a:link.sk-estimator-doc-link.fitted,\n",
       "a:visited.sk-estimator-doc-link.fitted {\n",
       "  /* fitted */\n",
       "  border: var(--sklearn-color-fitted-level-1) 1pt solid;\n",
       "  color: var(--sklearn-color-fitted-level-1);\n",
       "}\n",
       "\n",
       "/* On hover */\n",
       "div.sk-estimator:hover .sk-estimator-doc-link:hover,\n",
       ".sk-estimator-doc-link:hover,\n",
       "div.sk-label-container:hover .sk-estimator-doc-link:hover,\n",
       ".sk-estimator-doc-link:hover {\n",
       "  /* unfitted */\n",
       "  background-color: var(--sklearn-color-unfitted-level-3);\n",
       "  color: var(--sklearn-color-background);\n",
       "  text-decoration: none;\n",
       "}\n",
       "\n",
       "div.sk-estimator.fitted:hover .sk-estimator-doc-link.fitted:hover,\n",
       ".sk-estimator-doc-link.fitted:hover,\n",
       "div.sk-label-container:hover .sk-estimator-doc-link.fitted:hover,\n",
       ".sk-estimator-doc-link.fitted:hover {\n",
       "  /* fitted */\n",
       "  background-color: var(--sklearn-color-fitted-level-3);\n",
       "  color: var(--sklearn-color-background);\n",
       "  text-decoration: none;\n",
       "}\n",
       "\n",
       "/* Span, style for the box shown on hovering the info icon */\n",
       ".sk-estimator-doc-link span {\n",
       "  display: none;\n",
       "  z-index: 9999;\n",
       "  position: relative;\n",
       "  font-weight: normal;\n",
       "  right: .2ex;\n",
       "  padding: .5ex;\n",
       "  margin: .5ex;\n",
       "  width: min-content;\n",
       "  min-width: 20ex;\n",
       "  max-width: 50ex;\n",
       "  color: var(--sklearn-color-text);\n",
       "  box-shadow: 2pt 2pt 4pt #999;\n",
       "  /* unfitted */\n",
       "  background: var(--sklearn-color-unfitted-level-0);\n",
       "  border: .5pt solid var(--sklearn-color-unfitted-level-3);\n",
       "}\n",
       "\n",
       ".sk-estimator-doc-link.fitted span {\n",
       "  /* fitted */\n",
       "  background: var(--sklearn-color-fitted-level-0);\n",
       "  border: var(--sklearn-color-fitted-level-3);\n",
       "}\n",
       "\n",
       ".sk-estimator-doc-link:hover span {\n",
       "  display: block;\n",
       "}\n",
       "\n",
       "/* \"?\"-specific style due to the `<a>` HTML tag */\n",
       "\n",
       "#sk-container-id-3 a.estimator_doc_link {\n",
       "  float: right;\n",
       "  font-size: 1rem;\n",
       "  line-height: 1em;\n",
       "  font-family: monospace;\n",
       "  background-color: var(--sklearn-color-background);\n",
       "  border-radius: 1rem;\n",
       "  height: 1rem;\n",
       "  width: 1rem;\n",
       "  text-decoration: none;\n",
       "  /* unfitted */\n",
       "  color: var(--sklearn-color-unfitted-level-1);\n",
       "  border: var(--sklearn-color-unfitted-level-1) 1pt solid;\n",
       "}\n",
       "\n",
       "#sk-container-id-3 a.estimator_doc_link.fitted {\n",
       "  /* fitted */\n",
       "  border: var(--sklearn-color-fitted-level-1) 1pt solid;\n",
       "  color: var(--sklearn-color-fitted-level-1);\n",
       "}\n",
       "\n",
       "/* On hover */\n",
       "#sk-container-id-3 a.estimator_doc_link:hover {\n",
       "  /* unfitted */\n",
       "  background-color: var(--sklearn-color-unfitted-level-3);\n",
       "  color: var(--sklearn-color-background);\n",
       "  text-decoration: none;\n",
       "}\n",
       "\n",
       "#sk-container-id-3 a.estimator_doc_link.fitted:hover {\n",
       "  /* fitted */\n",
       "  background-color: var(--sklearn-color-fitted-level-3);\n",
       "}\n",
       "</style><div id=\"sk-container-id-3\" class=\"sk-top-container\"><div class=\"sk-text-repr-fallback\"><pre>LogisticRegression(random_state=0, solver=&#x27;liblinear&#x27;)</pre><b>In a Jupyter environment, please rerun this cell to show the HTML representation or trust the notebook. <br />On GitHub, the HTML representation is unable to render, please try loading this page with nbviewer.org.</b></div><div class=\"sk-container\" hidden><div class=\"sk-item\"><div class=\"sk-estimator fitted sk-toggleable\"><input class=\"sk-toggleable__control sk-hidden--visually\" id=\"sk-estimator-id-3\" type=\"checkbox\" checked><label for=\"sk-estimator-id-3\" class=\"sk-toggleable__label fitted sk-toggleable__label-arrow fitted\">&nbsp;&nbsp;LogisticRegression<a class=\"sk-estimator-doc-link fitted\" rel=\"noreferrer\" target=\"_blank\" href=\"https://scikit-learn.org/1.4/modules/generated/sklearn.linear_model.LogisticRegression.html\">?<span>Documentation for LogisticRegression</span></a><span class=\"sk-estimator-doc-link fitted\">i<span>Fitted</span></span></label><div class=\"sk-toggleable__content fitted\"><pre>LogisticRegression(random_state=0, solver=&#x27;liblinear&#x27;)</pre></div> </div></div></div></div>"
      ],
      "text/plain": [
       "LogisticRegression(random_state=0, solver='liblinear')"
      ]
     },
     "execution_count": 131,
     "metadata": {},
     "output_type": "execute_result"
    }
   ],
   "source": [
    "# instantiate the model\n",
    "logreg = LogisticRegression(solver='liblinear', random_state=0)\n",
    "\n",
    "\n",
    "# fit the model\n",
    "logreg.fit(X_train, y_train)"
   ]
  },
  {
   "cell_type": "markdown",
   "metadata": {},
   "source": [
    "# Kodowanie zmiennych kategorycznych"
   ]
  },
  {
   "cell_type": "code",
   "execution_count": 132,
   "metadata": {},
   "outputs": [
    {
     "data": {
      "text/plain": [
       "\"from sklearn import preprocessing\\nle = preprocessing.LabelEncoder()\\ncleaned_data['Location'] = le.fit_transform(cleaned_data['Location'])\\ncleaned_data['WindDir9am'] = le.fit_transform(cleaned_data['WindDir9am'])\\ncleaned_data['WindDir3pm'] = le.fit_transform(cleaned_data['WindDir3pm'])\\ncleaned_data['WindGustDir'] = le.fit_transform(cleaned_data['WindGustDir'])\\n\""
      ]
     },
     "execution_count": 132,
     "metadata": {},
     "output_type": "execute_result"
    }
   ],
   "source": [
    "'''from sklearn import preprocessing\n",
    "le = preprocessing.LabelEncoder()\n",
    "cleaned_data['Location'] = le.fit_transform(cleaned_data['Location'])\n",
    "cleaned_data['WindDir9am'] = le.fit_transform(cleaned_data['WindDir9am'])\n",
    "cleaned_data['WindDir3pm'] = le.fit_transform(cleaned_data['WindDir3pm'])\n",
    "cleaned_data['WindGustDir'] = le.fit_transform(cleaned_data['WindGustDir'])\n",
    "'''"
   ]
  },
  {
   "cell_type": "code",
   "execution_count": 133,
   "metadata": {},
   "outputs": [
    {
     "data": {
      "text/plain": [
       "MultiIndex([(      'MinTemp',),\n",
       "            (      'MaxTemp',),\n",
       "            (     'Rainfall',),\n",
       "            ('WindGustSpeed',),\n",
       "            ( 'WindSpeed9am',),\n",
       "            ( 'WindSpeed3pm',),\n",
       "            (  'Humidity3pm',),\n",
       "            (  'Pressure9am',),\n",
       "            (  'Pressure3pm',),\n",
       "            (     'Latitude',),\n",
       "            (    'Longitude',),\n",
       "            (         'Year',),\n",
       "            (        'Month',),\n",
       "            (          'Day',),\n",
       "            (  'RainToday_0',),\n",
       "            (  'RainToday_1',),\n",
       "            (     'Adelaide',),\n",
       "            (       'Albany',),\n",
       "            (       'Albury',),\n",
       "            ( 'AliceSprings',),\n",
       "            (     'Ballarat',),\n",
       "            (      'Bendigo',),\n",
       "            (     'Brisbane',),\n",
       "            (       'Cairns',),\n",
       "            (     'Canberra',),\n",
       "            (       'Darwin',),\n",
       "            (    'GoldCoast',),\n",
       "            (       'Hobart',),\n",
       "            (   'Launceston',),\n",
       "            (    'Melbourne',),\n",
       "            ( 'MountGambier',),\n",
       "            (  'MountGinini',),\n",
       "            (    'Newcastle',),\n",
       "            (      'Penrith',),\n",
       "            (        'Perth',),\n",
       "            (       'Sydney',),\n",
       "            (   'Townsville',),\n",
       "            (  'Tuggeranong',),\n",
       "            (   'Wollongong',)],\n",
       "           )"
      ]
     },
     "execution_count": 133,
     "metadata": {},
     "output_type": "execute_result"
    }
   ],
   "source": [
    "X_train.columns"
   ]
  },
  {
   "cell_type": "markdown",
   "metadata": {},
   "source": [
    "# Predykcja wyników"
   ]
  },
  {
   "cell_type": "code",
   "execution_count": 134,
   "metadata": {},
   "outputs": [
    {
     "data": {
      "text/plain": [
       "array(['No', 'No', 'No', 'No', 'No', 'No', 'Yes', 'No', 'No', 'No', 'No',\n",
       "       'No', 'No', 'No', 'No', 'No', 'No', 'No', 'No', 'No', 'No', 'No',\n",
       "       'No', 'No', 'No', 'No', 'No', 'No', 'No', 'No', 'No', 'No', 'No',\n",
       "       'No', 'No', 'No', 'No', 'No', 'No', 'No', 'No', 'No', 'No', 'No',\n",
       "       'No', 'No', 'No', 'No', 'No', 'No', 'No', 'No', 'No', 'No', 'No',\n",
       "       'No', 'No', 'No', 'No', 'No', 'No', 'No', 'No', 'No', 'No', 'No',\n",
       "       'No', 'No', 'No', 'No', 'No', 'No', 'No', 'No', 'No', 'No', 'No',\n",
       "       'No', 'No', 'No', 'No', 'No', 'No', 'No', 'No', 'No', 'No', 'No',\n",
       "       'No', 'No', 'No', 'No', 'No', 'No', 'No', 'No', 'No', 'No', 'No',\n",
       "       'No', 'No', 'No', 'No', 'No', 'No', 'No', 'No', 'No', 'No', 'No',\n",
       "       'No', 'No', 'No', 'No', 'No', 'No', 'No', 'No', 'No', 'No', 'No',\n",
       "       'No', 'No', 'No', 'No', 'No', 'No', 'No', 'No', 'No', 'No', 'No',\n",
       "       'No', 'No', 'No', 'No', 'No', 'No', 'No', 'No', 'No', 'No', 'No',\n",
       "       'No', 'No', 'No', 'No', 'No', 'No', 'No', 'No', 'No', 'No', 'No',\n",
       "       'No', 'No', 'No', 'No', 'No', 'No', 'No', 'No', 'No', 'No', 'No',\n",
       "       'No', 'No', 'No', 'No', 'No', 'No', 'No', 'No', 'No', 'No', 'No',\n",
       "       'No', 'No', 'No', 'No', 'No', 'No', 'No', 'No', 'No', 'No', 'No',\n",
       "       'No', 'No', 'No', 'No', 'No', 'No', 'No', 'No', 'No', 'No', 'No',\n",
       "       'No', 'No', 'No', 'No', 'No', 'No', 'No', 'No', 'No', 'No', 'No',\n",
       "       'No', 'No', 'No', 'No', 'No', 'No', 'No', 'No', 'No', 'No', 'No',\n",
       "       'No', 'No', 'No', 'No', 'No', 'No', 'No', 'No', 'No', 'No', 'No',\n",
       "       'No', 'No', 'No', 'No', 'No', 'No', 'No', 'No', 'No', 'No', 'No',\n",
       "       'No', 'No', 'No', 'No', 'No', 'No', 'No', 'No', 'No', 'No', 'No',\n",
       "       'No', 'No', 'No', 'No', 'No', 'No', 'No', 'No', 'No', 'No', 'No',\n",
       "       'No', 'No', 'No', 'No', 'No', 'No', 'No', 'No', 'No', 'No', 'No',\n",
       "       'No', 'No', 'No', 'No', 'Yes', 'No', 'No', 'No', 'No', 'No', 'No',\n",
       "       'No', 'No', 'No', 'No', 'No', 'No', 'No', 'No', 'No', 'No', 'No',\n",
       "       'No', 'No', 'No', 'No', 'No', 'No', 'No', 'No', 'No', 'No', 'No',\n",
       "       'No', 'No', 'No', 'No', 'No', 'No', 'No', 'No', 'No', 'No', 'No',\n",
       "       'No', 'No', 'No', 'No', 'No', 'No', 'No', 'No', 'No', 'No', 'No',\n",
       "       'No', 'No', 'No', 'No', 'No', 'No', 'No', 'No', 'No', 'No', 'No',\n",
       "       'No', 'No', 'No', 'No', 'No', 'No', 'No', 'No', 'No', 'No', 'No',\n",
       "       'No', 'No', 'No', 'No', 'No', 'No', 'No', 'No', 'No', 'No', 'No',\n",
       "       'No', 'No', 'No', 'No', 'No', 'No', 'No', 'No', 'No', 'No', 'No',\n",
       "       'No', 'No', 'No', 'No', 'No', 'No', 'No', 'No', 'No', 'No', 'No',\n",
       "       'No', 'No', 'No', 'No', 'No', 'No', 'No', 'No', 'No', 'No', 'No',\n",
       "       'No', 'No', 'No', 'No', 'No', 'No', 'No', 'No', 'No', 'No', 'No',\n",
       "       'No', 'No', 'No', 'No', 'No', 'No', 'No', 'No', 'No', 'No', 'No',\n",
       "       'No', 'No', 'No', 'No', 'No', 'No', 'No', 'No', 'No', 'No', 'No',\n",
       "       'No', 'No', 'No', 'No', 'No', 'No', 'No', 'No', 'No', 'No', 'No',\n",
       "       'No', 'No', 'No', 'No', 'No', 'No', 'No', 'No', 'No', 'No', 'No',\n",
       "       'No', 'No', 'No'], dtype=object)"
      ]
     },
     "execution_count": 134,
     "metadata": {},
     "output_type": "execute_result"
    }
   ],
   "source": [
    "y_pred_test = logreg.predict(X_test)\n",
    "\n",
    "y_pred_test"
   ]
  },
  {
   "cell_type": "code",
   "execution_count": 135,
   "metadata": {},
   "outputs": [
    {
     "data": {
      "text/plain": [
       "array([0.80337882, 0.81586378, 0.82884331, 0.87037057, 0.76645729,\n",
       "       0.70061734, 0.49568859, 0.8825858 , 0.75976212, 0.87329845,\n",
       "       0.73538314, 0.77257475, 0.8161262 , 0.71612717, 0.86428839,\n",
       "       0.80125631, 0.79876224, 0.82025498, 0.81934556, 0.75949835,\n",
       "       0.84588699, 0.72055968, 0.85593511, 0.85913   , 0.91638987,\n",
       "       0.80061047, 0.82453326, 0.69574427, 0.90650802, 0.72950277,\n",
       "       0.76204285, 0.66745353, 0.85284025, 0.83604193, 0.91830115,\n",
       "       0.78295838, 0.81516631, 0.78203115, 0.74804932, 0.76693587,\n",
       "       0.84940377, 0.77214268, 0.82783353, 0.54211486, 0.91803192,\n",
       "       0.89410129, 0.69764903, 0.86497266, 0.90667106, 0.8614064 ,\n",
       "       0.80266351, 0.65631083, 0.88932172, 0.89350242, 0.71505341,\n",
       "       0.73209236, 0.83269317, 0.7750913 , 0.76450836, 0.67235165,\n",
       "       0.93377892, 0.88641733, 0.92433016, 0.63124353, 0.90951737,\n",
       "       0.8971265 , 0.76659928, 0.85370394, 0.9342366 , 0.8184032 ,\n",
       "       0.53938152, 0.74473969, 0.78336363, 0.88333204, 0.90233619,\n",
       "       0.8156099 , 0.84273213, 0.8486695 , 0.72504157, 0.86963858,\n",
       "       0.85262131, 0.79912384, 0.86806265, 0.83595408, 0.85023174,\n",
       "       0.77209504, 0.79199985, 0.91305059, 0.82754876, 0.65375199,\n",
       "       0.55876812, 0.65536644, 0.65919391, 0.69972474, 0.90947394,\n",
       "       0.79963928, 0.87202207, 0.84919346, 0.91620813, 0.76336605,\n",
       "       0.85632157, 0.89579394, 0.81858018, 0.72925026, 0.82581085,\n",
       "       0.78403831, 0.76102708, 0.88959396, 0.88885794, 0.78006624,\n",
       "       0.88330157, 0.76656141, 0.74484422, 0.89627358, 0.69173212,\n",
       "       0.87753037, 0.77293712, 0.87983008, 0.82829409, 0.60704318,\n",
       "       0.79015775, 0.82690462, 0.77130909, 0.85610853, 0.91300078,\n",
       "       0.95084555, 0.8101831 , 0.65961243, 0.88992587, 0.56729139,\n",
       "       0.7419833 , 0.53611134, 0.74624602, 0.83540812, 0.70277507,\n",
       "       0.86646772, 0.70679835, 0.93651666, 0.89997146, 0.90633544,\n",
       "       0.76242208, 0.83259841, 0.63497559, 0.83567943, 0.7467328 ,\n",
       "       0.88007632, 0.89082043, 0.77733024, 0.84963628, 0.81553584,\n",
       "       0.8053821 , 0.76564029, 0.83864037, 0.8917174 , 0.79928125,\n",
       "       0.83211817, 0.85956572, 0.85064478, 0.84687844, 0.83629213,\n",
       "       0.77858643, 0.9262333 , 0.64029013, 0.66834599, 0.82539945,\n",
       "       0.79766673, 0.7991988 , 0.90721743, 0.91712271, 0.89965525,\n",
       "       0.75303521, 0.5929341 , 0.82420133, 0.71296845, 0.81099717,\n",
       "       0.67582693, 0.86891071, 0.78439497, 0.82441052, 0.91960831,\n",
       "       0.91304044, 0.68797376, 0.72859431, 0.91117792, 0.83932742,\n",
       "       0.8939751 , 0.76843023, 0.92606084, 0.72080445, 0.92188673,\n",
       "       0.85954384, 0.87867168, 0.80838584, 0.81593059, 0.76480536,\n",
       "       0.78636473, 0.90135224, 0.76289344, 0.89562623, 0.85724382,\n",
       "       0.80607727, 0.72500194, 0.74613968, 0.81057396, 0.84401716,\n",
       "       0.71310833, 0.80657444, 0.84539825, 0.85671147, 0.82224169,\n",
       "       0.8921589 , 0.90438786, 0.61360943, 0.85933796, 0.90920475,\n",
       "       0.78023636, 0.85938593, 0.67755244, 0.83856695, 0.80245303,\n",
       "       0.87742038, 0.92063495, 0.70336838, 0.90143196, 0.90560286,\n",
       "       0.69660053, 0.85807753, 0.89435339, 0.77348691, 0.67515249,\n",
       "       0.87960935, 0.53278134, 0.74899393, 0.79205081, 0.8025235 ,\n",
       "       0.84238525, 0.76172659, 0.91914267, 0.87057222, 0.80704762,\n",
       "       0.87719951, 0.81764206, 0.87941226, 0.80117269, 0.5793078 ,\n",
       "       0.72569561, 0.82194903, 0.83197415, 0.82901232, 0.59991147,\n",
       "       0.84459679, 0.84309854, 0.84565877, 0.86521493, 0.88065329,\n",
       "       0.85297352, 0.85811725, 0.94242659, 0.91769501, 0.82693111,\n",
       "       0.71755051, 0.86582797, 0.7472912 , 0.86885666, 0.88679997,\n",
       "       0.84199774, 0.87002539, 0.88579253, 0.8901382 , 0.73820209,\n",
       "       0.73805498, 0.7526527 , 0.77695616, 0.85643604, 0.92631433,\n",
       "       0.58030851, 0.76200496, 0.74717957, 0.73011083, 0.47102278,\n",
       "       0.93748066, 0.78902313, 0.67393798, 0.78875043, 0.67612564,\n",
       "       0.78540371, 0.74269152, 0.83664122, 0.88699521, 0.89401826,\n",
       "       0.77228668, 0.59531792, 0.84534562, 0.91346404, 0.84280828,\n",
       "       0.80272825, 0.88279777, 0.8748723 , 0.8180679 , 0.71049818,\n",
       "       0.71762407, 0.85294867, 0.75188596, 0.89599013, 0.81607344,\n",
       "       0.81704938, 0.75597621, 0.81383651, 0.80738124, 0.76832872,\n",
       "       0.75542583, 0.78535237, 0.90999739, 0.94097448, 0.87273407,\n",
       "       0.88405427, 0.82114971, 0.74882436, 0.76270896, 0.81391505,\n",
       "       0.83091771, 0.88631287, 0.69068151, 0.84205174, 0.9153859 ,\n",
       "       0.88905726, 0.86360411, 0.89652887, 0.80779779, 0.90781912,\n",
       "       0.61569439, 0.92406438, 0.86922633, 0.91041053, 0.82625469,\n",
       "       0.8823732 , 0.80412815, 0.84477238, 0.81643374, 0.93269036,\n",
       "       0.86031127, 0.72201048, 0.70519845, 0.82404013, 0.86313885,\n",
       "       0.82980897, 0.82876425, 0.74949306, 0.93332094, 0.76577748,\n",
       "       0.66579152, 0.7925337 , 0.92308029, 0.92697428, 0.8222203 ,\n",
       "       0.87034111, 0.76196126, 0.80294065, 0.80619286, 0.71001975,\n",
       "       0.71082791, 0.80086608, 0.82999241, 0.70247144, 0.77395586,\n",
       "       0.55931908, 0.50912074, 0.86443665, 0.75907103, 0.87450072,\n",
       "       0.85838911, 0.83319164, 0.80581133, 0.83238491, 0.79132025,\n",
       "       0.8394273 , 0.8648449 , 0.91225921, 0.87875482, 0.86223927,\n",
       "       0.81383439, 0.64199661, 0.87612992, 0.91438712, 0.81964611,\n",
       "       0.62114331, 0.88840259, 0.84602082, 0.92720772, 0.77735207,\n",
       "       0.76757075, 0.83313741, 0.89860111, 0.93123162, 0.79791962,\n",
       "       0.72738687, 0.68873019, 0.78818139, 0.86728048, 0.85277048,\n",
       "       0.85008568, 0.71464524, 0.91191436, 0.80176631, 0.75246615,\n",
       "       0.77898264, 0.80227001, 0.82999635, 0.86565874, 0.79805428,\n",
       "       0.80667095, 0.71443142, 0.86534946, 0.76663564, 0.7662957 ,\n",
       "       0.91488197, 0.70547207, 0.87963945, 0.84968331, 0.93906414,\n",
       "       0.80547051, 0.84657011, 0.78255084, 0.8589837 , 0.76912146,\n",
       "       0.75821568, 0.88558828, 0.81253278, 0.85833417, 0.79662875,\n",
       "       0.63015413, 0.87922246, 0.77334865, 0.8030034 , 0.85028244,\n",
       "       0.85459573, 0.63142131, 0.86062459, 0.86261089, 0.84698816,\n",
       "       0.80364804, 0.92184088, 0.89219987, 0.67754578, 0.8838814 ,\n",
       "       0.84745558, 0.81051698, 0.64797629, 0.83011753, 0.73063161,\n",
       "       0.87377014, 0.84470412, 0.84593775, 0.8287096 ])"
      ]
     },
     "execution_count": 135,
     "metadata": {},
     "output_type": "execute_result"
    }
   ],
   "source": [
    "logreg.predict_proba(X_test)[:, 0]"
   ]
  },
  {
   "cell_type": "code",
   "execution_count": 136,
   "metadata": {},
   "outputs": [
    {
     "data": {
      "text/plain": [
       "array([0.19662118, 0.18413622, 0.17115669, 0.12962943, 0.23354271,\n",
       "       0.29938266, 0.50431141, 0.1174142 , 0.24023788, 0.12670155,\n",
       "       0.26461686, 0.22742525, 0.1838738 , 0.28387283, 0.13571161,\n",
       "       0.19874369, 0.20123776, 0.17974502, 0.18065444, 0.24050165,\n",
       "       0.15411301, 0.27944032, 0.14406489, 0.14087   , 0.08361013,\n",
       "       0.19938953, 0.17546674, 0.30425573, 0.09349198, 0.27049723,\n",
       "       0.23795715, 0.33254647, 0.14715975, 0.16395807, 0.08169885,\n",
       "       0.21704162, 0.18483369, 0.21796885, 0.25195068, 0.23306413,\n",
       "       0.15059623, 0.22785732, 0.17216647, 0.45788514, 0.08196808,\n",
       "       0.10589871, 0.30235097, 0.13502734, 0.09332894, 0.1385936 ,\n",
       "       0.19733649, 0.34368917, 0.11067828, 0.10649758, 0.28494659,\n",
       "       0.26790764, 0.16730683, 0.2249087 , 0.23549164, 0.32764835,\n",
       "       0.06622108, 0.11358267, 0.07566984, 0.36875647, 0.09048263,\n",
       "       0.1028735 , 0.23340072, 0.14629606, 0.0657634 , 0.1815968 ,\n",
       "       0.46061848, 0.25526031, 0.21663637, 0.11666796, 0.09766381,\n",
       "       0.1843901 , 0.15726787, 0.1513305 , 0.27495843, 0.13036142,\n",
       "       0.14737869, 0.20087616, 0.13193735, 0.16404592, 0.14976826,\n",
       "       0.22790496, 0.20800015, 0.08694941, 0.17245124, 0.34624801,\n",
       "       0.44123188, 0.34463356, 0.34080609, 0.30027526, 0.09052606,\n",
       "       0.20036072, 0.12797793, 0.15080654, 0.08379187, 0.23663395,\n",
       "       0.14367843, 0.10420606, 0.18141982, 0.27074974, 0.17418915,\n",
       "       0.21596169, 0.23897292, 0.11040604, 0.11114206, 0.21993376,\n",
       "       0.11669843, 0.23343859, 0.25515578, 0.10372642, 0.30826788,\n",
       "       0.12246963, 0.22706288, 0.12016992, 0.17170591, 0.39295682,\n",
       "       0.20984225, 0.17309538, 0.22869091, 0.14389147, 0.08699922,\n",
       "       0.04915445, 0.1898169 , 0.34038757, 0.11007413, 0.43270861,\n",
       "       0.2580167 , 0.46388866, 0.25375398, 0.16459188, 0.29722493,\n",
       "       0.13353228, 0.29320165, 0.06348334, 0.10002854, 0.09366456,\n",
       "       0.23757792, 0.16740159, 0.36502441, 0.16432057, 0.2532672 ,\n",
       "       0.11992368, 0.10917957, 0.22266976, 0.15036372, 0.18446416,\n",
       "       0.1946179 , 0.23435971, 0.16135963, 0.1082826 , 0.20071875,\n",
       "       0.16788183, 0.14043428, 0.14935522, 0.15312156, 0.16370787,\n",
       "       0.22141357, 0.0737667 , 0.35970987, 0.33165401, 0.17460055,\n",
       "       0.20233327, 0.2008012 , 0.09278257, 0.08287729, 0.10034475,\n",
       "       0.24696479, 0.4070659 , 0.17579867, 0.28703155, 0.18900283,\n",
       "       0.32417307, 0.13108929, 0.21560503, 0.17558948, 0.08039169,\n",
       "       0.08695956, 0.31202624, 0.27140569, 0.08882208, 0.16067258,\n",
       "       0.1060249 , 0.23156977, 0.07393916, 0.27919555, 0.07811327,\n",
       "       0.14045616, 0.12132832, 0.19161416, 0.18406941, 0.23519464,\n",
       "       0.21363527, 0.09864776, 0.23710656, 0.10437377, 0.14275618,\n",
       "       0.19392273, 0.27499806, 0.25386032, 0.18942604, 0.15598284,\n",
       "       0.28689167, 0.19342556, 0.15460175, 0.14328853, 0.17775831,\n",
       "       0.1078411 , 0.09561214, 0.38639057, 0.14066204, 0.09079525,\n",
       "       0.21976364, 0.14061407, 0.32244756, 0.16143305, 0.19754697,\n",
       "       0.12257962, 0.07936505, 0.29663162, 0.09856804, 0.09439714,\n",
       "       0.30339947, 0.14192247, 0.10564661, 0.22651309, 0.32484751,\n",
       "       0.12039065, 0.46721866, 0.25100607, 0.20794919, 0.1974765 ,\n",
       "       0.15761475, 0.23827341, 0.08085733, 0.12942778, 0.19295238,\n",
       "       0.12280049, 0.18235794, 0.12058774, 0.19882731, 0.4206922 ,\n",
       "       0.27430439, 0.17805097, 0.16802585, 0.17098768, 0.40008853,\n",
       "       0.15540321, 0.15690146, 0.15434123, 0.13478507, 0.11934671,\n",
       "       0.14702648, 0.14188275, 0.05757341, 0.08230499, 0.17306889,\n",
       "       0.28244949, 0.13417203, 0.2527088 , 0.13114334, 0.11320003,\n",
       "       0.15800226, 0.12997461, 0.11420747, 0.1098618 , 0.26179791,\n",
       "       0.26194502, 0.2473473 , 0.22304384, 0.14356396, 0.07368567,\n",
       "       0.41969149, 0.23799504, 0.25282043, 0.26988917, 0.52897722,\n",
       "       0.06251934, 0.21097687, 0.32606202, 0.21124957, 0.32387436,\n",
       "       0.21459629, 0.25730848, 0.16335878, 0.11300479, 0.10598174,\n",
       "       0.22771332, 0.40468208, 0.15465438, 0.08653596, 0.15719172,\n",
       "       0.19727175, 0.11720223, 0.1251277 , 0.1819321 , 0.28950182,\n",
       "       0.28237593, 0.14705133, 0.24811404, 0.10400987, 0.18392656,\n",
       "       0.18295062, 0.24402379, 0.18616349, 0.19261876, 0.23167128,\n",
       "       0.24457417, 0.21464763, 0.09000261, 0.05902552, 0.12726593,\n",
       "       0.11594573, 0.17885029, 0.25117564, 0.23729104, 0.18608495,\n",
       "       0.16908229, 0.11368713, 0.30931849, 0.15794826, 0.0846141 ,\n",
       "       0.11094274, 0.13639589, 0.10347113, 0.19220221, 0.09218088,\n",
       "       0.38430561, 0.07593562, 0.13077367, 0.08958947, 0.17374531,\n",
       "       0.1176268 , 0.19587185, 0.15522762, 0.18356626, 0.06730964,\n",
       "       0.13968873, 0.27798952, 0.29480155, 0.17595987, 0.13686115,\n",
       "       0.17019103, 0.17123575, 0.25050694, 0.06667906, 0.23422252,\n",
       "       0.33420848, 0.2074663 , 0.07691971, 0.07302572, 0.1777797 ,\n",
       "       0.12965889, 0.23803874, 0.19705935, 0.19380714, 0.28998025,\n",
       "       0.28917209, 0.19913392, 0.17000759, 0.29752856, 0.22604414,\n",
       "       0.44068092, 0.49087926, 0.13556335, 0.24092897, 0.12549928,\n",
       "       0.14161089, 0.16680836, 0.19418867, 0.16761509, 0.20867975,\n",
       "       0.1605727 , 0.1351551 , 0.08774079, 0.12124518, 0.13776073,\n",
       "       0.18616561, 0.35800339, 0.12387008, 0.08561288, 0.18035389,\n",
       "       0.37885669, 0.11159741, 0.15397918, 0.07279228, 0.22264793,\n",
       "       0.23242925, 0.16686259, 0.10139889, 0.06876838, 0.20208038,\n",
       "       0.27261313, 0.31126981, 0.21181861, 0.13271952, 0.14722952,\n",
       "       0.14991432, 0.28535476, 0.08808564, 0.19823369, 0.24753385,\n",
       "       0.22101736, 0.19772999, 0.17000365, 0.13434126, 0.20194572,\n",
       "       0.19332905, 0.28556858, 0.13465054, 0.23336436, 0.2337043 ,\n",
       "       0.08511803, 0.29452793, 0.12036055, 0.15031669, 0.06093586,\n",
       "       0.19452949, 0.15342989, 0.21744916, 0.1410163 , 0.23087854,\n",
       "       0.24178432, 0.11441172, 0.18746722, 0.14166583, 0.20337125,\n",
       "       0.36984587, 0.12077754, 0.22665135, 0.1969966 , 0.14971756,\n",
       "       0.14540427, 0.36857869, 0.13937541, 0.13738911, 0.15301184,\n",
       "       0.19635196, 0.07815912, 0.10780013, 0.32245422, 0.1161186 ,\n",
       "       0.15254442, 0.18948302, 0.35202371, 0.16988247, 0.26936839,\n",
       "       0.12622986, 0.15529588, 0.15406225, 0.1712904 ])"
      ]
     },
     "execution_count": 136,
     "metadata": {},
     "output_type": "execute_result"
    }
   ],
   "source": [
    "logreg.predict_proba(X_test)[:, 1]"
   ]
  },
  {
   "cell_type": "markdown",
   "metadata": {},
   "source": [
    "# Dokładność"
   ]
  },
  {
   "cell_type": "code",
   "execution_count": 137,
   "metadata": {},
   "outputs": [
    {
     "name": "stdout",
     "output_type": "stream",
     "text": [
      "Model accuracy score: 0.8282\n"
     ]
    }
   ],
   "source": [
    "print('Model accuracy score: {0:0.4f}'. format(\n",
    "    accuracy_score(y_test, y_pred_test)))"
   ]
  },
  {
   "cell_type": "markdown",
   "metadata": {},
   "source": [
    "# Macierz pomyłek"
   ]
  },
  {
   "cell_type": "code",
   "execution_count": 138,
   "metadata": {},
   "outputs": [
    {
     "name": "stdout",
     "output_type": "stream",
     "text": [
      "Confusion matrix\n",
      "\n",
      " [[374   0]\n",
      " [ 78   2]]\n",
      "\n",
      "True Positives(TP) =  374\n",
      "\n",
      "True Negatives(TN) =  2\n",
      "\n",
      "False Positives(FP) =  0\n",
      "\n",
      "False Negatives(FN) =  78\n"
     ]
    }
   ],
   "source": [
    "cm = confusion_matrix(y_test, y_pred_test)\n",
    "\n",
    "print('Confusion matrix\\n\\n', cm)\n",
    "\n",
    "print('\\nTrue Positives(TP) = ', cm[0, 0])\n",
    "\n",
    "print('\\nTrue Negatives(TN) = ', cm[1, 1])\n",
    "\n",
    "print('\\nFalse Positives(FP) = ', cm[0, 1])\n",
    "\n",
    "print('\\nFalse Negatives(FN) = ', cm[1, 0])"
   ]
  },
  {
   "cell_type": "markdown",
   "metadata": {},
   "source": [
    "# Wizualizacja macierzy pomyłek z heatmapą seaborn\n"
   ]
  },
  {
   "cell_type": "code",
   "execution_count": 139,
   "metadata": {},
   "outputs": [
    {
     "data": {
      "text/plain": [
       "<Axes: >"
      ]
     },
     "execution_count": 139,
     "metadata": {},
     "output_type": "execute_result"
    },
    {
     "data": {
      "image/png": "[encoded data removed]",
      "text/plain": [
       "<Figure size 640x480 with 2 Axes>"
      ]
     },
     "metadata": {},
     "output_type": "display_data"
    }
   ],
   "source": [
    "cm_matrix = pd.DataFrame(data=cm, columns=['Actual Positive:1', 'Actual Negative:0'],\n",
    "                         index=['Predict Positive:1', 'Predict Negative:0'])\n",
    "\n",
    "sns.heatmap(cm_matrix, annot=True, fmt='d', cmap='YlGnBu')"
   ]
  },
  {
   "cell_type": "markdown",
   "metadata": {},
   "source": [
    "# Dokładność klasyfikatora\n"
   ]
  },
  {
   "cell_type": "code",
   "execution_count": 140,
   "metadata": {},
   "outputs": [
    {
     "name": "stdout",
     "output_type": "stream",
     "text": [
      "Classification accuracy : 0.8282\n"
     ]
    }
   ],
   "source": [
    "TP = cm[0, 0]\n",
    "TN = cm[1, 1]\n",
    "FP = cm[0, 1]\n",
    "FN = cm[1, 0]\n",
    "classification_accuracy = (TP + TN) / float(TP + TN + FP + FN)\n",
    "\n",
    "print('Classification accuracy : {0:0.4f}'.format(classification_accuracy))"
   ]
  },
  {
   "cell_type": "markdown",
   "metadata": {},
   "source": [
    "# Precyzja klasyfikatora"
   ]
  },
  {
   "cell_type": "code",
   "execution_count": 141,
   "metadata": {},
   "outputs": [
    {
     "name": "stdout",
     "output_type": "stream",
     "text": [
      "Precision : 1.0000\n"
     ]
    }
   ],
   "source": [
    "precision = TP / float(TP + FP)\n",
    "\n",
    "print('Precision : {0:0.4f}'.format(precision))"
   ]
  },
  {
   "cell_type": "code",
   "execution_count": 142,
   "metadata": {},
   "outputs": [],
   "source": [
    "y_pred1 = logreg.predict_proba(X_test)[:, 1]"
   ]
  },
  {
   "cell_type": "markdown",
   "metadata": {},
   "source": [
    "# Krzywa ROC"
   ]
  },
  {
   "cell_type": "code",
   "execution_count": 143,
   "metadata": {},
   "outputs": [
    {
     "data": {
      "image/png": "[encoded data removed]",
      "text/plain": [
       "<Figure size 600x400 with 1 Axes>"
      ]
     },
     "metadata": {},
     "output_type": "display_data"
    }
   ],
   "source": [
    "fpr, tpr, thresholds = roc_curve(y_test, y_pred1, pos_label='Yes')\n",
    "\n",
    "plt.figure(figsize=(6, 4))\n",
    "\n",
    "plt.plot(fpr, tpr, linewidth=2)\n",
    "\n",
    "plt.plot([0, 1], [0, 1], 'k--')\n",
    "\n",
    "plt.rcParams['font.size'] = 12\n",
    "\n",
    "plt.title('ROC curve for RainTomorrow classifier')\n",
    "\n",
    "plt.xlabel('False Positive Rate (1 - Specificity)')\n",
    "\n",
    "plt.ylabel('True Positive Rate (Sensitivity)')\n",
    "\n",
    "plt.show()"
   ]
  },
  {
   "cell_type": "markdown",
   "metadata": {},
   "source": [
    "# Eskport modelu"
   ]
  },
  {
   "cell_type": "code",
   "execution_count": 144,
   "metadata": {},
   "outputs": [],
   "source": [
    "filename = \"model.h5\"\n",
    "pickle.dump(logreg, open(filename, 'wb'))\n",
    "with open('encoder.pkl', 'wb') as file:\n",
    "    pickle.dump(encoder, file)\n",
    "\n"
   ]
  },
  {
   "cell_type": "code",
   "execution_count": 145,
   "metadata": {},
   "outputs": [
    {
     "name": "stdout",
     "output_type": "stream",
     "text": [
      "40\n"
     ]
    }
   ],
   "source": [
    "total_features = len(numerical) - len(['Temp3pm', 'Temp9am', 'Humidity9am'])\n",
    "total_features += 2\n",
    "total_features += sum([len(x[column].unique()) for column in categorical])\n",
    "print(total_features)"
   ]
  }
 ],
 "metadata": {
  "kernelspec": {
   "display_name": "Python 3",
   "language": "python",
   "name": "python3"
  },
  "language_info": {
   "codemirror_mode": {
    "name": "ipython",
    "version": 3
   },
   "file_extension": ".py",
   "mimetype": "text/x-python",
   "name": "python",
   "nbconvert_exporter": "python",
   "pygments_lexer": "ipython3",
   "version": "3.11.1"
  }
 },
 "nbformat": 4,
 "nbformat_minor": 2
}
