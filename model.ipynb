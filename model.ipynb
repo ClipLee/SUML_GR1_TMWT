{
 "cells": [
  {
   "cell_type": "markdown",
   "metadata": {},
   "source": [
    "# Import bibliotek"
   ]
  },
  {
   "cell_type": "code",
<<<<<<< HEAD
   "execution_count": 112,
=======
   "execution_count": 1,
>>>>>>> Coordinates-split
   "metadata": {},
   "outputs": [
    {
     "name": "stderr",
     "output_type": "stream",
     "text": [
      "C:\\Users\\klips\\AppData\\Local\\Temp\\ipykernel_39112\\4164267714.py:1: DeprecationWarning: \n",
      "Pyarrow will become a required dependency of pandas in the next major release of pandas (pandas 3.0),\n",
      "(to allow more performant data types, such as the Arrow string type, and better interoperability with other libraries)\n",
      "but was not found to be installed on your system.\n",
      "If this would cause problems for you,\n",
      "please provide us feedback at https://github.com/pandas-dev/pandas/issues/54466\n",
      "        \n",
      "  import pandas as pd\n"
     ]
    }
   ],
   "source": [
    "import pandas as pd\n",
    "from sklearn.model_selection import train_test_split\n",
    "import category_encoders as ce\n",
    "from sklearn.linear_model import LogisticRegression\n",
    "from sklearn.metrics import accuracy_score, confusion_matrix, roc_curve\n",
    "from sklearn import metrics\n",
    "import matplotlib.pyplot as plt\n",
    "import seaborn as sns\n",
    "import pickle\n",
    "from sklearn.preprocessing import MinMaxScaler"
   ]
  },
  {
   "cell_type": "markdown",
   "metadata": {},
   "source": [
    "# Wybranie datasetu"
   ]
  },
  {
   "cell_type": "code",
<<<<<<< HEAD
   "execution_count": 113,
=======
   "execution_count": 2,
>>>>>>> Coordinates-split
   "metadata": {},
   "outputs": [],
   "source": [
    "def choose_dataset(train_data, test_data):\n",
    "    train_data = train_data\n",
    "    test_data = test_data\n",
    "    return train_data, test_data"
   ]
  },
  {
   "cell_type": "code",
<<<<<<< HEAD
   "execution_count": 114,
=======
   "execution_count": 3,
>>>>>>> Coordinates-split
   "metadata": {},
   "outputs": [],
   "source": [
    "x = pd.read_csv(\"data/data2008.csv\")\n",
    "y = pd.read_csv('data/data2009.csv')"
   ]
  },
  {
   "cell_type": "code",
<<<<<<< HEAD
   "execution_count": 115,
=======
   "execution_count": 4,
>>>>>>> Coordinates-split
   "metadata": {},
   "outputs": [],
   "source": [
    "if (len(x)) > len(y):\n",
    "    x = x[:len(y)]\n",
    "else:\n",
    "    y = y[:len(x)]"
   ]
  },
  {
   "cell_type": "markdown",
   "metadata": {},
   "source": [
    "# Sprawdzenie istnienia brakujących wartości"
   ]
  },
  {
   "cell_type": "code",
<<<<<<< HEAD
   "execution_count": 116,
=======
   "execution_count": 5,
>>>>>>> Coordinates-split
   "metadata": {},
   "outputs": [],
   "source": [
    "x = x[x[\"RainTomorrow\"].notna()]\n",
    "y = y[y[\"RainTomorrow\"].notna()]"
   ]
  },
  {
   "cell_type": "markdown",
   "metadata": {},
   "source": [
    "# Odrzucanie wartości wysoce skorelowanych i niewaznych"
   ]
  },
  {
   "cell_type": "code",
   "execution_count": 117,
   "metadata": {},
   "outputs": [],
   "source": [
    "x = x.drop(['Temp3pm', 'Temp9am', 'Humidity9am','WindGustDir', 'WindDir9am', 'WindDir3pm'], axis=1)\n",
    "y = y.drop(['Temp3pm', 'Temp9am', 'Humidity9am', 'WindGustDir', 'WindDir9am', 'WindDir3pm'], axis=1)"
   ]
  },
  {
   "cell_type": "markdown",
   "metadata": {},
   "source": [
    "# Wyświetl wartości kategoryczne i liczbowe"
   ]
  },
  {
   "cell_type": "code",
<<<<<<< HEAD
   "execution_count": 118,
=======
   "execution_count": 6,
>>>>>>> Coordinates-split
   "metadata": {},
   "outputs": [
    {
     "data": {
      "text/plain": [
<<<<<<< HEAD
       "['Location', 'RainToday', 'RainTomorrow']"
      ]
     },
     "execution_count": 118,
=======
       "['WindGustDir', 'WindDir9am', 'WindDir3pm', 'RainToday', 'RainTomorrow']"
      ]
     },
     "execution_count": 6,
>>>>>>> Coordinates-split
     "metadata": {},
     "output_type": "execute_result"
    }
   ],
   "source": [
    "categorical = [col for col in x.columns if x[col].dtypes == 'O']\n",
    "\n",
    "categorical"
   ]
  },
  {
   "cell_type": "code",
<<<<<<< HEAD
   "execution_count": 119,
=======
   "execution_count": 7,
>>>>>>> Coordinates-split
   "metadata": {},
   "outputs": [
    {
     "data": {
      "text/plain": [
       "['MinTemp',\n",
       " 'MaxTemp',\n",
       " 'Rainfall',\n",
       " 'WindGustSpeed',\n",
       " 'WindSpeed9am',\n",
       " 'WindSpeed3pm',\n",
       " 'Humidity3pm',\n",
       " 'Pressure9am',\n",
       " 'Pressure3pm',\n",
       " 'Latitude',\n",
       " 'Longitude',\n",
       " 'Year',\n",
       " 'Month',\n",
       " 'Day']"
      ]
     },
<<<<<<< HEAD
     "execution_count": 119,
=======
     "execution_count": 7,
>>>>>>> Coordinates-split
     "metadata": {},
     "output_type": "execute_result"
    }
   ],
   "source": [
    "numerical = [col for col in x.columns if x[col].dtypes != 'O']\n",
    "\n",
    "numerical"
   ]
  },
  {
   "cell_type": "code",
<<<<<<< HEAD
   "execution_count": 120,
=======
   "execution_count": 8,
   "metadata": {},
   "outputs": [],
   "source": [
    "x = x.drop(['Temp3pm', 'Temp9am', 'Humidity9am'], axis=1)\n",
    "y = y.drop(['Temp3pm', 'Temp9am', 'Humidity9am'], axis=1)"
   ]
  },
  {
   "cell_type": "code",
   "execution_count": 9,
>>>>>>> Coordinates-split
   "metadata": {},
   "outputs": [
    {
     "data": {
      "text/plain": [
<<<<<<< HEAD
       "Index(['Location', 'MinTemp', 'MaxTemp', 'Rainfall', 'WindGustSpeed',\n",
       "       'WindSpeed9am', 'WindSpeed3pm', 'Humidity3pm', 'Pressure9am',\n",
       "       'Pressure3pm', 'RainToday', 'RainTomorrow', 'Latitude', 'Longitude',\n",
       "       'Year', 'Month', 'Day'],\n",
       "      dtype='object')"
      ]
     },
     "execution_count": 120,
=======
       "Index(['MinTemp', 'MaxTemp', 'Rainfall', 'WindGustDir', 'WindGustSpeed',\n",
       "       'WindDir9am', 'WindDir3pm', 'WindSpeed9am', 'WindSpeed3pm',\n",
       "       'Humidity3pm', 'Pressure9am', 'Pressure3pm', 'RainToday',\n",
       "       'RainTomorrow', 'Latitude', 'Longitude', 'Year', 'Month', 'Day'],\n",
       "      dtype='object')"
      ]
     },
     "execution_count": 9,
>>>>>>> Coordinates-split
     "metadata": {},
     "output_type": "execute_result"
    }
   ],
   "source": [
    "x.columns"
   ]
  },
  {
   "cell_type": "markdown",
   "metadata": {},
   "source": [
    "# Podział danych"
   ]
  },
  {
   "cell_type": "code",
<<<<<<< HEAD
   "execution_count": 121,
=======
   "execution_count": 10,
>>>>>>> Coordinates-split
   "metadata": {},
   "outputs": [],
   "source": [
    "X = x.drop(['RainTomorrow'], axis=1)\n",
    "\n",
    "y = y['RainTomorrow']"
   ]
  },
  {
   "cell_type": "code",
<<<<<<< HEAD
   "execution_count": 122,
=======
   "execution_count": 11,
>>>>>>> Coordinates-split
   "metadata": {},
   "outputs": [
    {
     "data": {
      "text/plain": [
<<<<<<< HEAD
       "((1816, 16), (454, 16))"
      ]
     },
     "execution_count": 122,
=======
       "((1816, 18), (454, 18))"
      ]
     },
     "execution_count": 11,
>>>>>>> Coordinates-split
     "metadata": {},
     "output_type": "execute_result"
    }
   ],
   "source": [
    "X_train, X_test, y_train, y_test = train_test_split(\n",
    "    X, y, test_size=0.2, random_state=0)\n",
    "X_train.shape, X_test.shape"
   ]
  },
  {
   "cell_type": "markdown",
   "metadata": {},
   "source": [
    "# Zakodowanie zmiennej RainToday"
   ]
  },
  {
   "cell_type": "code",
<<<<<<< HEAD
   "execution_count": 123,
=======
   "execution_count": 12,
>>>>>>> Coordinates-split
   "metadata": {},
   "outputs": [],
   "source": [
    "encoder = ce.BinaryEncoder(cols=['RainToday'])\n",
    "\n",
    "X_train = encoder.fit_transform(X_train)\n",
    "\n",
    "X_test = encoder.transform(X_test)"
   ]
  },
  {
   "cell_type": "markdown",
   "metadata": {},
   "source": [
    "# Utworzenie zbioru treningowego."
   ]
  },
  {
   "cell_type": "code",
<<<<<<< HEAD
   "execution_count": 124,
=======
   "execution_count": 13,
>>>>>>> Coordinates-split
   "metadata": {},
   "outputs": [
    {
     "name": "stdout",
     "output_type": "stream",
     "text": [
<<<<<<< HEAD
      "Index(['Location', 'MinTemp', 'MaxTemp', 'Rainfall', 'WindGustSpeed',\n",
      "       'WindSpeed9am', 'WindSpeed3pm', 'Humidity3pm', 'Pressure9am',\n",
      "       'Pressure3pm', 'RainToday_0', 'RainToday_1', 'Latitude', 'Longitude',\n",
      "       'Year', 'Month', 'Day'],\n",
=======
      "Index(['MinTemp', 'MaxTemp', 'Rainfall', 'WindGustDir', 'WindGustSpeed',\n",
      "       'WindDir9am', 'WindDir3pm', 'WindSpeed9am', 'WindSpeed3pm',\n",
      "       'Humidity3pm', 'Pressure9am', 'Pressure3pm', 'RainToday_0',\n",
      "       'RainToday_1', 'Latitude', 'Longitude', 'Year', 'Month', 'Day'],\n",
>>>>>>> Coordinates-split
      "      dtype='object')\n"
     ]
    }
   ],
   "source": [
    "print(X_train.columns)"
   ]
  },
  {
   "cell_type": "code",
<<<<<<< HEAD
   "execution_count": 125,
=======
   "execution_count": 15,
>>>>>>> Coordinates-split
   "metadata": {},
   "outputs": [],
   "source": [
    "numerical = [col for col in numerical if col not in ['Humidity9am', 'Temp9am', 'Temp3pm']]\n",
    "\n",
    "X_train = pd.concat([X_train[numerical], X_train[['RainToday_0', 'RainToday_1']],\n",
<<<<<<< HEAD
    "                     pd.get_dummies(X_train.Location)], axis=1)"
=======
    "                     pd.get_dummies(X_train.WindGustDir),\n",
    "                     pd.get_dummies(X_train.WindDir9am),\n",
    "                     pd.get_dummies(X_train.WindDir3pm)], axis=1)"
>>>>>>> Coordinates-split
   ]
  },
  {
   "cell_type": "markdown",
   "metadata": {},
   "source": [
    "# Utworzenie zbioru testowego."
   ]
  },
  {
   "cell_type": "code",
<<<<<<< HEAD
   "execution_count": 126,
=======
   "execution_count": 17,
>>>>>>> Coordinates-split
   "metadata": {},
   "outputs": [],
   "source": [
    "X_test = pd.concat([X_test[numerical], X_test[['RainToday_0', 'RainToday_1']],\n",
<<<<<<< HEAD
    "                    pd.get_dummies(X_test.Location)], axis=1)"
=======
    "                    pd.get_dummies(X_test.WindGustDir),\n",
    "                    pd.get_dummies(X_test.WindDir9am),\n",
    "                    pd.get_dummies(X_test.WindDir3pm),], axis=1)"
>>>>>>> Coordinates-split
   ]
  },
  {
   "cell_type": "code",
<<<<<<< HEAD
   "execution_count": 127,
=======
   "execution_count": 18,
>>>>>>> Coordinates-split
   "metadata": {},
   "outputs": [],
   "source": [
    "cols = X_train.columns"
   ]
  },
  {
   "cell_type": "code",
<<<<<<< HEAD
   "execution_count": 128,
=======
   "execution_count": 19,
>>>>>>> Coordinates-split
   "metadata": {},
   "outputs": [],
   "source": [
    "scaler = MinMaxScaler()\n",
    "\n",
    "X_train = scaler.fit_transform(X_train)\n",
    "\n",
    "X_test = scaler.transform(X_test)"
   ]
  },
  {
   "cell_type": "code",
<<<<<<< HEAD
   "execution_count": 129,
=======
   "execution_count": 20,
>>>>>>> Coordinates-split
   "metadata": {},
   "outputs": [],
   "source": [
    "X_train = pd.DataFrame(X_train, columns=[cols])"
   ]
  },
  {
   "cell_type": "code",
<<<<<<< HEAD
   "execution_count": 130,
=======
   "execution_count": 21,
>>>>>>> Coordinates-split
   "metadata": {},
   "outputs": [],
   "source": [
    "X_test = pd.DataFrame(X_test, columns=[cols])"
   ]
  },
  {
   "cell_type": "markdown",
   "metadata": {},
   "source": [
    "# Trenowanie modelu"
   ]
  },
  {
   "cell_type": "code",
<<<<<<< HEAD
   "execution_count": 131,
=======
   "execution_count": 22,
>>>>>>> Coordinates-split
   "metadata": {},
   "outputs": [
    {
     "data": {
      "text/html": [
       "<style>#sk-container-id-1 {\n",
       "  /* Definition of color scheme common for light and dark mode */\n",
       "  --sklearn-color-text: black;\n",
       "  --sklearn-color-line: gray;\n",
       "  /* Definition of color scheme for unfitted estimators */\n",
       "  --sklearn-color-unfitted-level-0: #fff5e6;\n",
       "  --sklearn-color-unfitted-level-1: #f6e4d2;\n",
       "  --sklearn-color-unfitted-level-2: #ffe0b3;\n",
       "  --sklearn-color-unfitted-level-3: chocolate;\n",
       "  /* Definition of color scheme for fitted estimators */\n",
       "  --sklearn-color-fitted-level-0: #f0f8ff;\n",
       "  --sklearn-color-fitted-level-1: #d4ebff;\n",
       "  --sklearn-color-fitted-level-2: #b3dbfd;\n",
       "  --sklearn-color-fitted-level-3: cornflowerblue;\n",
       "\n",
       "  /* Specific color for light theme */\n",
       "  --sklearn-color-text-on-default-background: var(--sg-text-color, var(--theme-code-foreground, var(--jp-content-font-color1, black)));\n",
       "  --sklearn-color-background: var(--sg-background-color, var(--theme-background, var(--jp-layout-color0, white)));\n",
       "  --sklearn-color-border-box: var(--sg-text-color, var(--theme-code-foreground, var(--jp-content-font-color1, black)));\n",
       "  --sklearn-color-icon: #696969;\n",
       "\n",
       "  @media (prefers-color-scheme: dark) {\n",
       "    /* Redefinition of color scheme for dark theme */\n",
       "    --sklearn-color-text-on-default-background: var(--sg-text-color, var(--theme-code-foreground, var(--jp-content-font-color1, white)));\n",
       "    --sklearn-color-background: var(--sg-background-color, var(--theme-background, var(--jp-layout-color0, #111)));\n",
       "    --sklearn-color-border-box: var(--sg-text-color, var(--theme-code-foreground, var(--jp-content-font-color1, white)));\n",
       "    --sklearn-color-icon: #878787;\n",
       "  }\n",
       "}\n",
       "\n",
       "#sk-container-id-1 {\n",
       "  color: var(--sklearn-color-text);\n",
       "}\n",
       "\n",
       "#sk-container-id-1 pre {\n",
       "  padding: 0;\n",
       "}\n",
       "\n",
       "#sk-container-id-1 input.sk-hidden--visually {\n",
       "  border: 0;\n",
       "  clip: rect(1px 1px 1px 1px);\n",
       "  clip: rect(1px, 1px, 1px, 1px);\n",
       "  height: 1px;\n",
       "  margin: -1px;\n",
       "  overflow: hidden;\n",
       "  padding: 0;\n",
       "  position: absolute;\n",
       "  width: 1px;\n",
       "}\n",
       "\n",
       "#sk-container-id-1 div.sk-dashed-wrapped {\n",
       "  border: 1px dashed var(--sklearn-color-line);\n",
       "  margin: 0 0.4em 0.5em 0.4em;\n",
       "  box-sizing: border-box;\n",
       "  padding-bottom: 0.4em;\n",
       "  background-color: var(--sklearn-color-background);\n",
       "}\n",
       "\n",
       "#sk-container-id-1 div.sk-container {\n",
       "  /* jupyter's `normalize.less` sets `[hidden] { display: none; }`\n",
       "     but bootstrap.min.css set `[hidden] { display: none !important; }`\n",
       "     so we also need the `!important` here to be able to override the\n",
       "     default hidden behavior on the sphinx rendered scikit-learn.org.\n",
       "     See: https://github.com/scikit-learn/scikit-learn/issues/21755 */\n",
       "  display: inline-block !important;\n",
       "  position: relative;\n",
       "}\n",
       "\n",
       "#sk-container-id-1 div.sk-text-repr-fallback {\n",
       "  display: none;\n",
       "}\n",
       "\n",
       "div.sk-parallel-item,\n",
       "div.sk-serial,\n",
       "div.sk-item {\n",
       "  /* draw centered vertical line to link estimators */\n",
       "  background-image: linear-gradient(var(--sklearn-color-text-on-default-background), var(--sklearn-color-text-on-default-background));\n",
       "  background-size: 2px 100%;\n",
       "  background-repeat: no-repeat;\n",
       "  background-position: center center;\n",
       "}\n",
       "\n",
       "/* Parallel-specific style estimator block */\n",
       "\n",
       "#sk-container-id-1 div.sk-parallel-item::after {\n",
       "  content: \"\";\n",
       "  width: 100%;\n",
       "  border-bottom: 2px solid var(--sklearn-color-text-on-default-background);\n",
       "  flex-grow: 1;\n",
       "}\n",
       "\n",
       "#sk-container-id-1 div.sk-parallel {\n",
       "  display: flex;\n",
       "  align-items: stretch;\n",
       "  justify-content: center;\n",
       "  background-color: var(--sklearn-color-background);\n",
       "  position: relative;\n",
       "}\n",
       "\n",
       "#sk-container-id-1 div.sk-parallel-item {\n",
       "  display: flex;\n",
       "  flex-direction: column;\n",
       "}\n",
       "\n",
       "#sk-container-id-1 div.sk-parallel-item:first-child::after {\n",
       "  align-self: flex-end;\n",
       "  width: 50%;\n",
       "}\n",
       "\n",
       "#sk-container-id-1 div.sk-parallel-item:last-child::after {\n",
       "  align-self: flex-start;\n",
       "  width: 50%;\n",
       "}\n",
       "\n",
       "#sk-container-id-1 div.sk-parallel-item:only-child::after {\n",
       "  width: 0;\n",
       "}\n",
       "\n",
       "/* Serial-specific style estimator block */\n",
       "\n",
       "#sk-container-id-1 div.sk-serial {\n",
       "  display: flex;\n",
       "  flex-direction: column;\n",
       "  align-items: center;\n",
       "  background-color: var(--sklearn-color-background);\n",
       "  padding-right: 1em;\n",
       "  padding-left: 1em;\n",
       "}\n",
       "\n",
       "\n",
       "/* Toggleable style: style used for estimator/Pipeline/ColumnTransformer box that is\n",
       "clickable and can be expanded/collapsed.\n",
       "- Pipeline and ColumnTransformer use this feature and define the default style\n",
       "- Estimators will overwrite some part of the style using the `sk-estimator` class\n",
       "*/\n",
       "\n",
       "/* Pipeline and ColumnTransformer style (default) */\n",
       "\n",
       "#sk-container-id-1 div.sk-toggleable {\n",
       "  /* Default theme specific background. It is overwritten whether we have a\n",
       "  specific estimator or a Pipeline/ColumnTransformer */\n",
       "  background-color: var(--sklearn-color-background);\n",
       "}\n",
       "\n",
       "/* Toggleable label */\n",
       "#sk-container-id-1 label.sk-toggleable__label {\n",
       "  cursor: pointer;\n",
       "  display: block;\n",
       "  width: 100%;\n",
       "  margin-bottom: 0;\n",
       "  padding: 0.5em;\n",
       "  box-sizing: border-box;\n",
       "  text-align: center;\n",
       "}\n",
       "\n",
       "#sk-container-id-1 label.sk-toggleable__label-arrow:before {\n",
       "  /* Arrow on the left of the label */\n",
       "  content: \"▸\";\n",
       "  float: left;\n",
       "  margin-right: 0.25em;\n",
       "  color: var(--sklearn-color-icon);\n",
       "}\n",
       "\n",
       "#sk-container-id-1 label.sk-toggleable__label-arrow:hover:before {\n",
       "  color: var(--sklearn-color-text);\n",
       "}\n",
       "\n",
       "/* Toggleable content - dropdown */\n",
       "\n",
       "#sk-container-id-1 div.sk-toggleable__content {\n",
       "  max-height: 0;\n",
       "  max-width: 0;\n",
       "  overflow: hidden;\n",
       "  text-align: left;\n",
       "  /* unfitted */\n",
       "  background-color: var(--sklearn-color-unfitted-level-0);\n",
       "}\n",
       "\n",
       "#sk-container-id-1 div.sk-toggleable__content.fitted {\n",
       "  /* fitted */\n",
       "  background-color: var(--sklearn-color-fitted-level-0);\n",
       "}\n",
       "\n",
       "#sk-container-id-1 div.sk-toggleable__content pre {\n",
       "  margin: 0.2em;\n",
       "  border-radius: 0.25em;\n",
       "  color: var(--sklearn-color-text);\n",
       "  /* unfitted */\n",
       "  background-color: var(--sklearn-color-unfitted-level-0);\n",
       "}\n",
       "\n",
       "#sk-container-id-1 div.sk-toggleable__content.fitted pre {\n",
       "  /* unfitted */\n",
       "  background-color: var(--sklearn-color-fitted-level-0);\n",
       "}\n",
       "\n",
       "#sk-container-id-1 input.sk-toggleable__control:checked~div.sk-toggleable__content {\n",
       "  /* Expand drop-down */\n",
       "  max-height: 200px;\n",
       "  max-width: 100%;\n",
       "  overflow: auto;\n",
       "}\n",
       "\n",
       "#sk-container-id-1 input.sk-toggleable__control:checked~label.sk-toggleable__label-arrow:before {\n",
       "  content: \"▾\";\n",
       "}\n",
       "\n",
       "/* Pipeline/ColumnTransformer-specific style */\n",
       "\n",
       "#sk-container-id-1 div.sk-label input.sk-toggleable__control:checked~label.sk-toggleable__label {\n",
       "  color: var(--sklearn-color-text);\n",
       "  background-color: var(--sklearn-color-unfitted-level-2);\n",
       "}\n",
       "\n",
       "#sk-container-id-1 div.sk-label.fitted input.sk-toggleable__control:checked~label.sk-toggleable__label {\n",
       "  background-color: var(--sklearn-color-fitted-level-2);\n",
       "}\n",
       "\n",
       "/* Estimator-specific style */\n",
       "\n",
       "/* Colorize estimator box */\n",
       "#sk-container-id-1 div.sk-estimator input.sk-toggleable__control:checked~label.sk-toggleable__label {\n",
       "  /* unfitted */\n",
       "  background-color: var(--sklearn-color-unfitted-level-2);\n",
       "}\n",
       "\n",
       "#sk-container-id-1 div.sk-estimator.fitted input.sk-toggleable__control:checked~label.sk-toggleable__label {\n",
       "  /* fitted */\n",
       "  background-color: var(--sklearn-color-fitted-level-2);\n",
       "}\n",
       "\n",
       "#sk-container-id-1 div.sk-label label.sk-toggleable__label,\n",
       "#sk-container-id-1 div.sk-label label {\n",
       "  /* The background is the default theme color */\n",
       "  color: var(--sklearn-color-text-on-default-background);\n",
       "}\n",
       "\n",
       "/* On hover, darken the color of the background */\n",
       "#sk-container-id-1 div.sk-label:hover label.sk-toggleable__label {\n",
       "  color: var(--sklearn-color-text);\n",
       "  background-color: var(--sklearn-color-unfitted-level-2);\n",
       "}\n",
       "\n",
       "/* Label box, darken color on hover, fitted */\n",
       "#sk-container-id-1 div.sk-label.fitted:hover label.sk-toggleable__label.fitted {\n",
       "  color: var(--sklearn-color-text);\n",
       "  background-color: var(--sklearn-color-fitted-level-2);\n",
       "}\n",
       "\n",
       "/* Estimator label */\n",
       "\n",
       "#sk-container-id-1 div.sk-label label {\n",
       "  font-family: monospace;\n",
       "  font-weight: bold;\n",
       "  display: inline-block;\n",
       "  line-height: 1.2em;\n",
       "}\n",
       "\n",
       "#sk-container-id-1 div.sk-label-container {\n",
       "  text-align: center;\n",
       "}\n",
       "\n",
       "/* Estimator-specific */\n",
       "#sk-container-id-1 div.sk-estimator {\n",
       "  font-family: monospace;\n",
       "  border: 1px dotted var(--sklearn-color-border-box);\n",
       "  border-radius: 0.25em;\n",
       "  box-sizing: border-box;\n",
       "  margin-bottom: 0.5em;\n",
       "  /* unfitted */\n",
       "  background-color: var(--sklearn-color-unfitted-level-0);\n",
       "}\n",
       "\n",
       "#sk-container-id-1 div.sk-estimator.fitted {\n",
       "  /* fitted */\n",
       "  background-color: var(--sklearn-color-fitted-level-0);\n",
       "}\n",
       "\n",
       "/* on hover */\n",
       "#sk-container-id-1 div.sk-estimator:hover {\n",
       "  /* unfitted */\n",
       "  background-color: var(--sklearn-color-unfitted-level-2);\n",
       "}\n",
       "\n",
       "#sk-container-id-1 div.sk-estimator.fitted:hover {\n",
       "  /* fitted */\n",
       "  background-color: var(--sklearn-color-fitted-level-2);\n",
       "}\n",
       "\n",
       "/* Specification for estimator info (e.g. \"i\" and \"?\") */\n",
       "\n",
       "/* Common style for \"i\" and \"?\" */\n",
       "\n",
       ".sk-estimator-doc-link,\n",
       "a:link.sk-estimator-doc-link,\n",
       "a:visited.sk-estimator-doc-link {\n",
       "  float: right;\n",
       "  font-size: smaller;\n",
       "  line-height: 1em;\n",
       "  font-family: monospace;\n",
       "  background-color: var(--sklearn-color-background);\n",
       "  border-radius: 1em;\n",
       "  height: 1em;\n",
       "  width: 1em;\n",
       "  text-decoration: none !important;\n",
       "  margin-left: 1ex;\n",
       "  /* unfitted */\n",
       "  border: var(--sklearn-color-unfitted-level-1) 1pt solid;\n",
       "  color: var(--sklearn-color-unfitted-level-1);\n",
       "}\n",
       "\n",
       ".sk-estimator-doc-link.fitted,\n",
       "a:link.sk-estimator-doc-link.fitted,\n",
       "a:visited.sk-estimator-doc-link.fitted {\n",
       "  /* fitted */\n",
       "  border: var(--sklearn-color-fitted-level-1) 1pt solid;\n",
       "  color: var(--sklearn-color-fitted-level-1);\n",
       "}\n",
       "\n",
       "/* On hover */\n",
       "div.sk-estimator:hover .sk-estimator-doc-link:hover,\n",
       ".sk-estimator-doc-link:hover,\n",
       "div.sk-label-container:hover .sk-estimator-doc-link:hover,\n",
       ".sk-estimator-doc-link:hover {\n",
       "  /* unfitted */\n",
       "  background-color: var(--sklearn-color-unfitted-level-3);\n",
       "  color: var(--sklearn-color-background);\n",
       "  text-decoration: none;\n",
       "}\n",
       "\n",
       "div.sk-estimator.fitted:hover .sk-estimator-doc-link.fitted:hover,\n",
       ".sk-estimator-doc-link.fitted:hover,\n",
       "div.sk-label-container:hover .sk-estimator-doc-link.fitted:hover,\n",
       ".sk-estimator-doc-link.fitted:hover {\n",
       "  /* fitted */\n",
       "  background-color: var(--sklearn-color-fitted-level-3);\n",
       "  color: var(--sklearn-color-background);\n",
       "  text-decoration: none;\n",
       "}\n",
       "\n",
       "/* Span, style for the box shown on hovering the info icon */\n",
       ".sk-estimator-doc-link span {\n",
       "  display: none;\n",
       "  z-index: 9999;\n",
       "  position: relative;\n",
       "  font-weight: normal;\n",
       "  right: .2ex;\n",
       "  padding: .5ex;\n",
       "  margin: .5ex;\n",
       "  width: min-content;\n",
       "  min-width: 20ex;\n",
       "  max-width: 50ex;\n",
       "  color: var(--sklearn-color-text);\n",
       "  box-shadow: 2pt 2pt 4pt #999;\n",
       "  /* unfitted */\n",
       "  background: var(--sklearn-color-unfitted-level-0);\n",
       "  border: .5pt solid var(--sklearn-color-unfitted-level-3);\n",
       "}\n",
       "\n",
       ".sk-estimator-doc-link.fitted span {\n",
       "  /* fitted */\n",
       "  background: var(--sklearn-color-fitted-level-0);\n",
       "  border: var(--sklearn-color-fitted-level-3);\n",
       "}\n",
       "\n",
       ".sk-estimator-doc-link:hover span {\n",
       "  display: block;\n",
       "}\n",
       "\n",
       "/* \"?\"-specific style due to the `<a>` HTML tag */\n",
       "\n",
       "#sk-container-id-1 a.estimator_doc_link {\n",
       "  float: right;\n",
       "  font-size: 1rem;\n",
       "  line-height: 1em;\n",
       "  font-family: monospace;\n",
       "  background-color: var(--sklearn-color-background);\n",
       "  border-radius: 1rem;\n",
       "  height: 1rem;\n",
       "  width: 1rem;\n",
       "  text-decoration: none;\n",
       "  /* unfitted */\n",
       "  color: var(--sklearn-color-unfitted-level-1);\n",
       "  border: var(--sklearn-color-unfitted-level-1) 1pt solid;\n",
       "}\n",
       "\n",
       "#sk-container-id-1 a.estimator_doc_link.fitted {\n",
       "  /* fitted */\n",
       "  border: var(--sklearn-color-fitted-level-1) 1pt solid;\n",
       "  color: var(--sklearn-color-fitted-level-1);\n",
       "}\n",
       "\n",
       "/* On hover */\n",
       "#sk-container-id-1 a.estimator_doc_link:hover {\n",
       "  /* unfitted */\n",
       "  background-color: var(--sklearn-color-unfitted-level-3);\n",
       "  color: var(--sklearn-color-background);\n",
       "  text-decoration: none;\n",
       "}\n",
       "\n",
       "#sk-container-id-1 a.estimator_doc_link.fitted:hover {\n",
       "  /* fitted */\n",
       "  background-color: var(--sklearn-color-fitted-level-3);\n",
       "}\n",
       "</style><div id=\"sk-container-id-1\" class=\"sk-top-container\"><div class=\"sk-text-repr-fallback\"><pre>LogisticRegression(random_state=0, solver=&#x27;liblinear&#x27;)</pre><b>In a Jupyter environment, please rerun this cell to show the HTML representation or trust the notebook. <br />On GitHub, the HTML representation is unable to render, please try loading this page with nbviewer.org.</b></div><div class=\"sk-container\" hidden><div class=\"sk-item\"><div class=\"sk-estimator fitted sk-toggleable\"><input class=\"sk-toggleable__control sk-hidden--visually\" id=\"sk-estimator-id-1\" type=\"checkbox\" checked><label for=\"sk-estimator-id-1\" class=\"sk-toggleable__label fitted sk-toggleable__label-arrow fitted\">&nbsp;&nbsp;LogisticRegression<a class=\"sk-estimator-doc-link fitted\" rel=\"noreferrer\" target=\"_blank\" href=\"https://scikit-learn.org/1.4/modules/generated/sklearn.linear_model.LogisticRegression.html\">?<span>Documentation for LogisticRegression</span></a><span class=\"sk-estimator-doc-link fitted\">i<span>Fitted</span></span></label><div class=\"sk-toggleable__content fitted\"><pre>LogisticRegression(random_state=0, solver=&#x27;liblinear&#x27;)</pre></div> </div></div></div></div>"
      ],
      "text/plain": [
       "LogisticRegression(random_state=0, solver='liblinear')"
      ]
     },
<<<<<<< HEAD
     "execution_count": 131,
=======
     "execution_count": 22,
>>>>>>> Coordinates-split
     "metadata": {},
     "output_type": "execute_result"
    }
   ],
   "source": [
    "# instantiate the model\n",
    "logreg = LogisticRegression(solver='liblinear', random_state=0)\n",
    "\n",
    "\n",
    "# fit the model\n",
    "logreg.fit(X_train, y_train)"
   ]
  },
  {
   "cell_type": "markdown",
   "metadata": {},
   "source": [
    "# Kodowanie zmiennych kategorycznych"
   ]
  },
  {
   "cell_type": "code",
<<<<<<< HEAD
   "execution_count": 132,
=======
   "execution_count": 23,
>>>>>>> Coordinates-split
   "metadata": {},
   "outputs": [
    {
     "data": {
      "text/plain": [
       "\"from sklearn import preprocessing\\nle = preprocessing.LabelEncoder()\\ncleaned_data['Location'] = le.fit_transform(cleaned_data['Location'])\\ncleaned_data['WindDir9am'] = le.fit_transform(cleaned_data['WindDir9am'])\\ncleaned_data['WindDir3pm'] = le.fit_transform(cleaned_data['WindDir3pm'])\\ncleaned_data['WindGustDir'] = le.fit_transform(cleaned_data['WindGustDir'])\\n\""
      ]
     },
<<<<<<< HEAD
     "execution_count": 132,
=======
     "execution_count": 23,
>>>>>>> Coordinates-split
     "metadata": {},
     "output_type": "execute_result"
    }
   ],
   "source": [
    "'''from sklearn import preprocessing\n",
    "le = preprocessing.LabelEncoder()\n",
    "cleaned_data['Location'] = le.fit_transform(cleaned_data['Location'])\n",
    "cleaned_data['WindDir9am'] = le.fit_transform(cleaned_data['WindDir9am'])\n",
    "cleaned_data['WindDir3pm'] = le.fit_transform(cleaned_data['WindDir3pm'])\n",
    "cleaned_data['WindGustDir'] = le.fit_transform(cleaned_data['WindGustDir'])\n",
    "'''"
   ]
  },
  {
   "cell_type": "code",
<<<<<<< HEAD
   "execution_count": 133,
=======
   "execution_count": 24,
>>>>>>> Coordinates-split
   "metadata": {},
   "outputs": [
    {
     "data": {
      "text/plain": [
       "MultiIndex([(      'MinTemp',),\n",
       "            (      'MaxTemp',),\n",
       "            (     'Rainfall',),\n",
       "            ('WindGustSpeed',),\n",
       "            ( 'WindSpeed9am',),\n",
       "            ( 'WindSpeed3pm',),\n",
       "            (  'Humidity3pm',),\n",
       "            (  'Pressure9am',),\n",
       "            (  'Pressure3pm',),\n",
       "            (     'Latitude',),\n",
       "            (    'Longitude',),\n",
       "            (         'Year',),\n",
       "            (        'Month',),\n",
       "            (          'Day',),\n",
       "            (  'RainToday_0',),\n",
       "            (  'RainToday_1',),\n",
<<<<<<< HEAD
       "            (     'Adelaide',),\n",
       "            (       'Albany',),\n",
       "            (       'Albury',),\n",
       "            ( 'AliceSprings',),\n",
       "            (     'Ballarat',),\n",
       "            (      'Bendigo',),\n",
       "            (     'Brisbane',),\n",
       "            (       'Cairns',),\n",
       "            (     'Canberra',),\n",
       "            (       'Darwin',),\n",
       "            (    'GoldCoast',),\n",
       "            (       'Hobart',),\n",
       "            (   'Launceston',),\n",
       "            (    'Melbourne',),\n",
       "            ( 'MountGambier',),\n",
       "            (  'MountGinini',),\n",
       "            (    'Newcastle',),\n",
       "            (      'Penrith',),\n",
       "            (        'Perth',),\n",
       "            (       'Sydney',),\n",
       "            (   'Townsville',),\n",
       "            (  'Tuggeranong',),\n",
       "            (   'Wollongong',)],\n",
       "           )"
      ]
     },
     "execution_count": 133,
=======
       "            (            'E',),\n",
       "            (          'ENE',),\n",
       "            (          'ESE',),\n",
       "            (            'N',),\n",
       "            (           'NE',),\n",
       "            (          'NNE',),\n",
       "            (          'NNW',),\n",
       "            (           'NW',),\n",
       "            (            'S',),\n",
       "            (           'SE',),\n",
       "            (          'SSE',),\n",
       "            (          'SSW',),\n",
       "            (           'SW',),\n",
       "            (            'W',),\n",
       "            (          'WNW',),\n",
       "            (          'WSW',),\n",
       "            (            'E',),\n",
       "            (          'ENE',),\n",
       "            (          'ESE',),\n",
       "            (            'N',),\n",
       "            (           'NE',),\n",
       "            (          'NNE',),\n",
       "            (          'NNW',),\n",
       "            (           'NW',),\n",
       "            (            'S',),\n",
       "            (           'SE',),\n",
       "            (          'SSE',),\n",
       "            (          'SSW',),\n",
       "            (           'SW',),\n",
       "            (            'W',),\n",
       "            (          'WNW',),\n",
       "            (          'WSW',),\n",
       "            (            'E',),\n",
       "            (          'ENE',),\n",
       "            (          'ESE',),\n",
       "            (            'N',),\n",
       "            (           'NE',),\n",
       "            (          'NNE',),\n",
       "            (          'NNW',),\n",
       "            (           'NW',),\n",
       "            (            'S',),\n",
       "            (           'SE',),\n",
       "            (          'SSE',),\n",
       "            (          'SSW',),\n",
       "            (           'SW',),\n",
       "            (            'W',),\n",
       "            (          'WNW',),\n",
       "            (          'WSW',)],\n",
       "           )"
      ]
     },
     "execution_count": 24,
>>>>>>> Coordinates-split
     "metadata": {},
     "output_type": "execute_result"
    }
   ],
   "source": [
    "X_train.columns"
   ]
  },
  {
   "cell_type": "markdown",
   "metadata": {},
   "source": [
    "# Predykcja wyników"
   ]
  },
  {
   "cell_type": "code",
<<<<<<< HEAD
   "execution_count": 134,
=======
   "execution_count": 25,
>>>>>>> Coordinates-split
   "metadata": {},
   "outputs": [
    {
     "data": {
      "text/plain": [
       "array(['No', 'No', 'No', 'No', 'No', 'No', 'Yes', 'No', 'No', 'No', 'No',\n",
       "       'No', 'No', 'No', 'No', 'No', 'No', 'No', 'No', 'No', 'No', 'No',\n",
       "       'No', 'No', 'No', 'No', 'No', 'No', 'No', 'No', 'No', 'No', 'No',\n",
       "       'No', 'No', 'No', 'No', 'No', 'No', 'No', 'No', 'No', 'No', 'No',\n",
       "       'No', 'No', 'No', 'No', 'No', 'No', 'No', 'No', 'No', 'No', 'No',\n",
       "       'No', 'No', 'No', 'No', 'No', 'No', 'No', 'No', 'No', 'No', 'No',\n",
       "       'No', 'No', 'No', 'No', 'No', 'No', 'No', 'No', 'No', 'No', 'No',\n",
       "       'No', 'No', 'No', 'No', 'No', 'No', 'No', 'No', 'No', 'No', 'No',\n",
       "       'No', 'No', 'No', 'No', 'No', 'No', 'No', 'No', 'No', 'No', 'No',\n",
       "       'No', 'No', 'No', 'No', 'No', 'No', 'No', 'No', 'No', 'No', 'No',\n",
       "       'No', 'No', 'No', 'No', 'No', 'No', 'No', 'No', 'No', 'No', 'No',\n",
       "       'No', 'No', 'No', 'No', 'No', 'No', 'No', 'No', 'No', 'No', 'No',\n",
       "       'No', 'No', 'No', 'No', 'No', 'No', 'No', 'No', 'No', 'No', 'No',\n",
       "       'No', 'No', 'No', 'No', 'No', 'No', 'No', 'No', 'No', 'No', 'No',\n",
       "       'No', 'No', 'No', 'No', 'No', 'No', 'No', 'No', 'No', 'No', 'No',\n",
       "       'No', 'No', 'No', 'No', 'No', 'No', 'No', 'No', 'No', 'No', 'No',\n",
       "       'No', 'No', 'No', 'No', 'No', 'No', 'No', 'No', 'No', 'No', 'No',\n",
       "       'No', 'No', 'No', 'No', 'No', 'No', 'No', 'No', 'No', 'No', 'No',\n",
       "       'No', 'No', 'No', 'No', 'No', 'No', 'No', 'No', 'No', 'No', 'No',\n",
       "       'No', 'No', 'No', 'No', 'No', 'No', 'No', 'No', 'No', 'No', 'No',\n",
       "       'No', 'No', 'No', 'No', 'No', 'No', 'No', 'No', 'No', 'No', 'No',\n",
       "       'No', 'No', 'No', 'No', 'No', 'No', 'No', 'No', 'No', 'No', 'No',\n",
       "       'No', 'No', 'No', 'No', 'No', 'No', 'No', 'No', 'No', 'No', 'No',\n",
       "       'No', 'No', 'No', 'No', 'No', 'No', 'No', 'No', 'No', 'No', 'No',\n",
       "       'No', 'No', 'No', 'No', 'No', 'No', 'No', 'No', 'No', 'No', 'No',\n",
<<<<<<< HEAD
       "       'No', 'No', 'No', 'No', 'Yes', 'No', 'No', 'No', 'No', 'No', 'No',\n",
       "       'No', 'No', 'No', 'No', 'No', 'No', 'No', 'No', 'No', 'No', 'No',\n",
=======
>>>>>>> Coordinates-split
       "       'No', 'No', 'No', 'No', 'No', 'No', 'No', 'No', 'No', 'No', 'No',\n",
       "       'No', 'No', 'No', 'No', 'No', 'No', 'No', 'No', 'No', 'No', 'No',\n",
       "       'No', 'No', 'No', 'No', 'No', 'No', 'No', 'No', 'No', 'No', 'No',\n",
       "       'No', 'No', 'No', 'No', 'No', 'No', 'No', 'No', 'No', 'No', 'No',\n",
       "       'No', 'No', 'No', 'No', 'No', 'No', 'No', 'No', 'No', 'No', 'No',\n",
       "       'No', 'No', 'No', 'No', 'No', 'No', 'No', 'No', 'No', 'No', 'No',\n",
       "       'No', 'No', 'No', 'No', 'No', 'No', 'No', 'No', 'No', 'No', 'No',\n",
       "       'No', 'No', 'No', 'No', 'No', 'No', 'No', 'No', 'No', 'No', 'No',\n",
       "       'No', 'No', 'No', 'No', 'No', 'No', 'No', 'No', 'No', 'No', 'No',\n",
       "       'No', 'No', 'No', 'No', 'No', 'No', 'No', 'No', 'No', 'No', 'No',\n",
       "       'No', 'No', 'No', 'No', 'No', 'No', 'No', 'No', 'No', 'No', 'No',\n",
       "       'No', 'No', 'No', 'No', 'No', 'No', 'No', 'No', 'No', 'No', 'No',\n",
       "       'No', 'No', 'No', 'No', 'No', 'No', 'No', 'No', 'No', 'No', 'No',\n",
       "       'No', 'No', 'No', 'No', 'No', 'No', 'No', 'No', 'No', 'No', 'No',\n",
<<<<<<< HEAD
       "       'No', 'No', 'No'], dtype=object)"
      ]
     },
     "execution_count": 134,
=======
       "       'No', 'No', 'No', 'No', 'No', 'No', 'No', 'No', 'No', 'No', 'No',\n",
       "       'No', 'No', 'No', 'No', 'No', 'No', 'No', 'No', 'No', 'No', 'No',\n",
       "       'No', 'No', 'No', 'No', 'No', 'No', 'No', 'No', 'No', 'No', 'No',\n",
       "       'No', 'No', 'No', 'No', 'No', 'No', 'No', 'No', 'No', 'No', 'No',\n",
       "       'No', 'No', 'No', 'No', 'No', 'No', 'No', 'No', 'No', 'No', 'No',\n",
       "       'No', 'No', 'No', 'No', 'No', 'No', 'No', 'No', 'No', 'No', 'No',\n",
       "       'No', 'No', 'No', 'No', 'No', 'No', 'No', 'No', 'No', 'No', 'No',\n",
       "       'No', 'No', 'No', 'No', 'No', 'No', 'No', 'No', 'No', 'No', 'No',\n",
       "       'No', 'No', 'No', 'No', 'No', 'No', 'No', 'No', 'No', 'No', 'No',\n",
       "       'No', 'No', 'No', 'No', 'No', 'No', 'No', 'No', 'No', 'No', 'No',\n",
       "       'No', 'No', 'No', 'No', 'No', 'No', 'No', 'No', 'No', 'No', 'No',\n",
       "       'No', 'No', 'No', 'No', 'No', 'No', 'No', 'No', 'No', 'No', 'No',\n",
       "       'No', 'No', 'No', 'No', 'No', 'No', 'No', 'No', 'No', 'No', 'No',\n",
       "       'No', 'No', 'No', 'No', 'No', 'No', 'No', 'No', 'No', 'No', 'No',\n",
       "       'No', 'No', 'No', 'No', 'No', 'No', 'No', 'No', 'No', 'No', 'No',\n",
       "       'No', 'No', 'No', 'No', 'No', 'No', 'No', 'No', 'No', 'No', 'No',\n",
       "       'No', 'No', 'No', 'No', 'No', 'No', 'No', 'No', 'No', 'No', 'No',\n",
       "       'No', 'No', 'No', 'No', 'No', 'No', 'No', 'No', 'No', 'No', 'No',\n",
       "       'No', 'No', 'No', 'No', 'No', 'No', 'No', 'No', 'No', 'No', 'No',\n",
       "       'No', 'No', 'No', 'No', 'No', 'No', 'No', 'No', 'No', 'No', 'No',\n",
       "       'No', 'No', 'No', 'No', 'No', 'No', 'No', 'No', 'No', 'No', 'No',\n",
       "       'No', 'No', 'No'], dtype=object)"
      ]
     },
     "execution_count": 25,
>>>>>>> Coordinates-split
     "metadata": {},
     "output_type": "execute_result"
    }
   ],
   "source": [
    "y_pred_test = logreg.predict(X_test)\n",
    "\n",
    "y_pred_test"
   ]
  },
  {
   "cell_type": "code",
<<<<<<< HEAD
   "execution_count": 135,
=======
   "execution_count": 26,
>>>>>>> Coordinates-split
   "metadata": {},
   "outputs": [
    {
     "data": {
      "text/plain": [
<<<<<<< HEAD
       "array([0.80337882, 0.81586378, 0.82884331, 0.87037057, 0.76645729,\n",
       "       0.70061734, 0.49568859, 0.8825858 , 0.75976212, 0.87329845,\n",
       "       0.73538314, 0.77257475, 0.8161262 , 0.71612717, 0.86428839,\n",
       "       0.80125631, 0.79876224, 0.82025498, 0.81934556, 0.75949835,\n",
       "       0.84588699, 0.72055968, 0.85593511, 0.85913   , 0.91638987,\n",
       "       0.80061047, 0.82453326, 0.69574427, 0.90650802, 0.72950277,\n",
       "       0.76204285, 0.66745353, 0.85284025, 0.83604193, 0.91830115,\n",
       "       0.78295838, 0.81516631, 0.78203115, 0.74804932, 0.76693587,\n",
       "       0.84940377, 0.77214268, 0.82783353, 0.54211486, 0.91803192,\n",
       "       0.89410129, 0.69764903, 0.86497266, 0.90667106, 0.8614064 ,\n",
       "       0.80266351, 0.65631083, 0.88932172, 0.89350242, 0.71505341,\n",
       "       0.73209236, 0.83269317, 0.7750913 , 0.76450836, 0.67235165,\n",
       "       0.93377892, 0.88641733, 0.92433016, 0.63124353, 0.90951737,\n",
       "       0.8971265 , 0.76659928, 0.85370394, 0.9342366 , 0.8184032 ,\n",
       "       0.53938152, 0.74473969, 0.78336363, 0.88333204, 0.90233619,\n",
       "       0.8156099 , 0.84273213, 0.8486695 , 0.72504157, 0.86963858,\n",
       "       0.85262131, 0.79912384, 0.86806265, 0.83595408, 0.85023174,\n",
       "       0.77209504, 0.79199985, 0.91305059, 0.82754876, 0.65375199,\n",
       "       0.55876812, 0.65536644, 0.65919391, 0.69972474, 0.90947394,\n",
       "       0.79963928, 0.87202207, 0.84919346, 0.91620813, 0.76336605,\n",
       "       0.85632157, 0.89579394, 0.81858018, 0.72925026, 0.82581085,\n",
       "       0.78403831, 0.76102708, 0.88959396, 0.88885794, 0.78006624,\n",
       "       0.88330157, 0.76656141, 0.74484422, 0.89627358, 0.69173212,\n",
       "       0.87753037, 0.77293712, 0.87983008, 0.82829409, 0.60704318,\n",
       "       0.79015775, 0.82690462, 0.77130909, 0.85610853, 0.91300078,\n",
       "       0.95084555, 0.8101831 , 0.65961243, 0.88992587, 0.56729139,\n",
       "       0.7419833 , 0.53611134, 0.74624602, 0.83540812, 0.70277507,\n",
       "       0.86646772, 0.70679835, 0.93651666, 0.89997146, 0.90633544,\n",
       "       0.76242208, 0.83259841, 0.63497559, 0.83567943, 0.7467328 ,\n",
       "       0.88007632, 0.89082043, 0.77733024, 0.84963628, 0.81553584,\n",
       "       0.8053821 , 0.76564029, 0.83864037, 0.8917174 , 0.79928125,\n",
       "       0.83211817, 0.85956572, 0.85064478, 0.84687844, 0.83629213,\n",
       "       0.77858643, 0.9262333 , 0.64029013, 0.66834599, 0.82539945,\n",
       "       0.79766673, 0.7991988 , 0.90721743, 0.91712271, 0.89965525,\n",
       "       0.75303521, 0.5929341 , 0.82420133, 0.71296845, 0.81099717,\n",
       "       0.67582693, 0.86891071, 0.78439497, 0.82441052, 0.91960831,\n",
       "       0.91304044, 0.68797376, 0.72859431, 0.91117792, 0.83932742,\n",
       "       0.8939751 , 0.76843023, 0.92606084, 0.72080445, 0.92188673,\n",
       "       0.85954384, 0.87867168, 0.80838584, 0.81593059, 0.76480536,\n",
       "       0.78636473, 0.90135224, 0.76289344, 0.89562623, 0.85724382,\n",
       "       0.80607727, 0.72500194, 0.74613968, 0.81057396, 0.84401716,\n",
       "       0.71310833, 0.80657444, 0.84539825, 0.85671147, 0.82224169,\n",
       "       0.8921589 , 0.90438786, 0.61360943, 0.85933796, 0.90920475,\n",
       "       0.78023636, 0.85938593, 0.67755244, 0.83856695, 0.80245303,\n",
       "       0.87742038, 0.92063495, 0.70336838, 0.90143196, 0.90560286,\n",
       "       0.69660053, 0.85807753, 0.89435339, 0.77348691, 0.67515249,\n",
       "       0.87960935, 0.53278134, 0.74899393, 0.79205081, 0.8025235 ,\n",
       "       0.84238525, 0.76172659, 0.91914267, 0.87057222, 0.80704762,\n",
       "       0.87719951, 0.81764206, 0.87941226, 0.80117269, 0.5793078 ,\n",
       "       0.72569561, 0.82194903, 0.83197415, 0.82901232, 0.59991147,\n",
       "       0.84459679, 0.84309854, 0.84565877, 0.86521493, 0.88065329,\n",
       "       0.85297352, 0.85811725, 0.94242659, 0.91769501, 0.82693111,\n",
       "       0.71755051, 0.86582797, 0.7472912 , 0.86885666, 0.88679997,\n",
       "       0.84199774, 0.87002539, 0.88579253, 0.8901382 , 0.73820209,\n",
       "       0.73805498, 0.7526527 , 0.77695616, 0.85643604, 0.92631433,\n",
       "       0.58030851, 0.76200496, 0.74717957, 0.73011083, 0.47102278,\n",
       "       0.93748066, 0.78902313, 0.67393798, 0.78875043, 0.67612564,\n",
       "       0.78540371, 0.74269152, 0.83664122, 0.88699521, 0.89401826,\n",
       "       0.77228668, 0.59531792, 0.84534562, 0.91346404, 0.84280828,\n",
       "       0.80272825, 0.88279777, 0.8748723 , 0.8180679 , 0.71049818,\n",
       "       0.71762407, 0.85294867, 0.75188596, 0.89599013, 0.81607344,\n",
       "       0.81704938, 0.75597621, 0.81383651, 0.80738124, 0.76832872,\n",
       "       0.75542583, 0.78535237, 0.90999739, 0.94097448, 0.87273407,\n",
       "       0.88405427, 0.82114971, 0.74882436, 0.76270896, 0.81391505,\n",
       "       0.83091771, 0.88631287, 0.69068151, 0.84205174, 0.9153859 ,\n",
       "       0.88905726, 0.86360411, 0.89652887, 0.80779779, 0.90781912,\n",
       "       0.61569439, 0.92406438, 0.86922633, 0.91041053, 0.82625469,\n",
       "       0.8823732 , 0.80412815, 0.84477238, 0.81643374, 0.93269036,\n",
       "       0.86031127, 0.72201048, 0.70519845, 0.82404013, 0.86313885,\n",
       "       0.82980897, 0.82876425, 0.74949306, 0.93332094, 0.76577748,\n",
       "       0.66579152, 0.7925337 , 0.92308029, 0.92697428, 0.8222203 ,\n",
       "       0.87034111, 0.76196126, 0.80294065, 0.80619286, 0.71001975,\n",
       "       0.71082791, 0.80086608, 0.82999241, 0.70247144, 0.77395586,\n",
       "       0.55931908, 0.50912074, 0.86443665, 0.75907103, 0.87450072,\n",
       "       0.85838911, 0.83319164, 0.80581133, 0.83238491, 0.79132025,\n",
       "       0.8394273 , 0.8648449 , 0.91225921, 0.87875482, 0.86223927,\n",
       "       0.81383439, 0.64199661, 0.87612992, 0.91438712, 0.81964611,\n",
       "       0.62114331, 0.88840259, 0.84602082, 0.92720772, 0.77735207,\n",
       "       0.76757075, 0.83313741, 0.89860111, 0.93123162, 0.79791962,\n",
       "       0.72738687, 0.68873019, 0.78818139, 0.86728048, 0.85277048,\n",
       "       0.85008568, 0.71464524, 0.91191436, 0.80176631, 0.75246615,\n",
       "       0.77898264, 0.80227001, 0.82999635, 0.86565874, 0.79805428,\n",
       "       0.80667095, 0.71443142, 0.86534946, 0.76663564, 0.7662957 ,\n",
       "       0.91488197, 0.70547207, 0.87963945, 0.84968331, 0.93906414,\n",
       "       0.80547051, 0.84657011, 0.78255084, 0.8589837 , 0.76912146,\n",
       "       0.75821568, 0.88558828, 0.81253278, 0.85833417, 0.79662875,\n",
       "       0.63015413, 0.87922246, 0.77334865, 0.8030034 , 0.85028244,\n",
       "       0.85459573, 0.63142131, 0.86062459, 0.86261089, 0.84698816,\n",
       "       0.80364804, 0.92184088, 0.89219987, 0.67754578, 0.8838814 ,\n",
       "       0.84745558, 0.81051698, 0.64797629, 0.83011753, 0.73063161,\n",
       "       0.87377014, 0.84470412, 0.84593775, 0.8287096 ])"
      ]
     },
     "execution_count": 135,
=======
       "array([0.76415543, 0.69162882, 0.73969003, 0.90607424, 0.71887181,\n",
       "       0.92389735, 0.64108283, 0.82811702, 0.85219489, 0.84758857,\n",
       "       0.82852919, 0.81814671, 0.7463349 , 0.75875376, 0.82718575,\n",
       "       0.80097859, 0.85562289, 0.8461447 , 0.91791631, 0.82354306,\n",
       "       0.90143444, 0.80184217, 0.8580596 , 0.89029318, 0.84580475,\n",
       "       0.83241073, 0.83980137, 0.73061277, 0.85475345, 0.7740381 ,\n",
       "       0.7542985 , 0.76400063, 0.89353528, 0.87352451, 0.80992999,\n",
       "       0.89013735, 0.89172718, 0.77138211, 0.69589067, 0.76440283,\n",
       "       0.70342194, 0.80504984, 0.8517799 , 0.7294333 , 0.94440521,\n",
       "       0.86361188, 0.73321876, 0.63011126, 0.78885807, 0.75016951,\n",
       "       0.85181938, 0.80251902, 0.79487731, 0.77701859, 0.67453455,\n",
       "       0.7513362 , 0.82573743, 0.82833535, 0.82738419, 0.62909854,\n",
       "       0.76894385, 0.88528978, 0.83426852, 0.76600156, 0.90439108,\n",
       "       0.88448313, 0.88582377, 0.71980733, 0.81481788, 0.94163799,\n",
       "       0.54972781, 0.69180517, 0.89190193, 0.92012964, 0.91515838,\n",
       "       0.85092811, 0.69637521, 0.76950482, 0.81233168, 0.90214305,\n",
       "       0.88149305, 0.87750224, 0.82718507, 0.70285903, 0.82043417,\n",
       "       0.51586899, 0.83551054, 0.67359495, 0.87252647, 0.83397576,\n",
       "       0.63476937, 0.70612202, 0.80375382, 0.83975176, 0.95455858,\n",
       "       0.7517953 , 0.88569644, 0.84656959, 0.76939213, 0.76585763,\n",
       "       0.89258066, 0.76737482, 0.7381208 , 0.76607238, 0.749167  ,\n",
       "       0.72629208, 0.82038524, 0.88625849, 0.8654314 , 0.86757554,\n",
       "       0.81542911, 0.71018092, 0.88192171, 0.87076939, 0.79318304,\n",
       "       0.79872707, 0.7735532 , 0.86373245, 0.70053845, 0.72141262,\n",
       "       0.82592542, 0.84816951, 0.77340951, 0.79779126, 0.87284563,\n",
       "       0.87544618, 0.7099544 , 0.76933752, 0.91063763, 0.78664047,\n",
       "       0.87208903, 0.7708984 , 0.84139062, 0.76671321, 0.67562961,\n",
       "       0.79521999, 0.82442612, 0.88780133, 0.77507056, 0.87319377,\n",
       "       0.66027797, 0.75435197, 0.67710195, 0.73589211, 0.81799616,\n",
       "       0.77202268, 0.86969958, 0.78296723, 0.85350728, 0.7891239 ,\n",
       "       0.84102818, 0.78374455, 0.76671293, 0.83108653, 0.63203246,\n",
       "       0.72487528, 0.87067434, 0.76161935, 0.70510337, 0.80856472,\n",
       "       0.81426352, 0.86503866, 0.82565544, 0.76983135, 0.8739166 ,\n",
       "       0.79380982, 0.81430846, 0.86272565, 0.80852504, 0.64276064,\n",
       "       0.66319969, 0.70547253, 0.79929196, 0.77621247, 0.83201051,\n",
       "       0.7309718 , 0.80428119, 0.86727266, 0.77562362, 0.9071381 ,\n",
       "       0.86121005, 0.82964816, 0.86537109, 0.78005919, 0.85993822,\n",
       "       0.83234745, 0.83380809, 0.91974102, 0.7096265 , 0.8728228 ,\n",
       "       0.78131961, 0.85774734, 0.72326253, 0.81921644, 0.76335248,\n",
       "       0.64763428, 0.87865789, 0.72552635, 0.92136002, 0.75069022,\n",
       "       0.85007616, 0.76793554, 0.75559857, 0.78979417, 0.72975232,\n",
       "       0.7519128 , 0.91288858, 0.81789708, 0.79448487, 0.77454841,\n",
       "       0.91244278, 0.88174787, 0.65968384, 0.74576481, 0.80331321,\n",
       "       0.86853269, 0.80843184, 0.70832074, 0.85872538, 0.77457758,\n",
       "       0.90475809, 0.90866557, 0.82372263, 0.8709023 , 0.83576416,\n",
       "       0.77593761, 0.82600175, 0.85403427, 0.86966046, 0.76712278,\n",
       "       0.86002951, 0.72286182, 0.83552274, 0.62241665, 0.74709031,\n",
       "       0.74113276, 0.70603225, 0.8420936 , 0.84735895, 0.83618414,\n",
       "       0.81777055, 0.83764266, 0.77053101, 0.59692475, 0.72818386,\n",
       "       0.80932926, 0.7569824 , 0.87681977, 0.84529326, 0.77242885,\n",
       "       0.78425094, 0.76005983, 0.80625455, 0.79688794, 0.84458788,\n",
       "       0.87174881, 0.85853407, 0.84485741, 0.84858287, 0.71370263,\n",
       "       0.74080045, 0.88915363, 0.84299552, 0.83755355, 0.81699268,\n",
       "       0.89094963, 0.82225955, 0.78742784, 0.76715609, 0.75162058,\n",
       "       0.74294511, 0.81205637, 0.77349684, 0.75986773, 0.81293363,\n",
       "       0.69513004, 0.78441832, 0.71359544, 0.68344775, 0.72425873,\n",
       "       0.90240167, 0.80939783, 0.78962486, 0.68765297, 0.75668378,\n",
       "       0.74861631, 0.70813751, 0.87131379, 0.84162699, 0.80464131,\n",
       "       0.85932353, 0.84426105, 0.77051099, 0.77917035, 0.58792157,\n",
       "       0.84712987, 0.91874792, 0.82192835, 0.86240706, 0.69703777,\n",
       "       0.81414221, 0.89252254, 0.78690479, 0.85780399, 0.88890388,\n",
       "       0.88161685, 0.81859083, 0.75773869, 0.81533261, 0.68056105,\n",
       "       0.79724167, 0.75455472, 0.73549761, 0.75847545, 0.73025898,\n",
       "       0.88733126, 0.75085486, 0.75906432, 0.72893456, 0.75113285,\n",
       "       0.79865499, 0.86177362, 0.63168749, 0.7943976 , 0.95077798,\n",
       "       0.90832902, 0.79813044, 0.90254887, 0.77239021, 0.84615015,\n",
       "       0.62351048, 0.90320236, 0.85349008, 0.82335236, 0.70244372,\n",
       "       0.87017223, 0.8235631 , 0.86989908, 0.86248851, 0.86197619,\n",
       "       0.89771448, 0.74479186, 0.74507129, 0.74143298, 0.86858474,\n",
       "       0.83286584, 0.74459523, 0.79533224, 0.82225659, 0.74012114,\n",
       "       0.7697084 , 0.78452105, 0.837066  , 0.89933017, 0.77562721,\n",
       "       0.89498693, 0.68085057, 0.78548892, 0.72497708, 0.79361122,\n",
       "       0.74126471, 0.74566186, 0.72885993, 0.64586071, 0.90563907,\n",
       "       0.74078814, 0.65833321, 0.85402253, 0.86931561, 0.79330053,\n",
       "       0.67222831, 0.8404727 , 0.86422672, 0.74655761, 0.81095007,\n",
       "       0.86153001, 0.90252104, 0.78877288, 0.87839592, 0.89699222,\n",
       "       0.79960644, 0.72912273, 0.86722745, 0.84921649, 0.8222878 ,\n",
       "       0.80744975, 0.9162968 , 0.87258796, 0.84856856, 0.80639334,\n",
       "       0.64466747, 0.88004864, 0.83232067, 0.84974151, 0.7390778 ,\n",
       "       0.76620818, 0.62136252, 0.74800325, 0.82054026, 0.70558485,\n",
       "       0.69932806, 0.72833511, 0.73957477, 0.74942712, 0.8274985 ,\n",
       "       0.82752477, 0.89055337, 0.90315784, 0.9250384 , 0.74763966,\n",
       "       0.80111299, 0.72045587, 0.84337186, 0.71455344, 0.73477504,\n",
       "       0.89002427, 0.758367  , 0.86552184, 0.74801011, 0.73670445,\n",
       "       0.73461103, 0.74528111, 0.74575813, 0.79414804, 0.77960926,\n",
       "       0.83498505, 0.92734844, 0.72144957, 0.85507238, 0.81578393,\n",
       "       0.68807221, 0.92206378, 0.81571135, 0.74022614, 0.84150032,\n",
       "       0.85965649, 0.80696206, 0.8113468 , 0.83678969, 0.85731789,\n",
       "       0.81383577, 0.85196732, 0.90595689, 0.69142125, 0.88794142,\n",
       "       0.74329022, 0.7733474 , 0.77369964, 0.80401129, 0.76766387,\n",
       "       0.88752315, 0.87863024, 0.66774876, 0.82067507])"
      ]
     },
     "execution_count": 26,
>>>>>>> Coordinates-split
     "metadata": {},
     "output_type": "execute_result"
    }
   ],
   "source": [
    "logreg.predict_proba(X_test)[:, 0]"
   ]
  },
  {
   "cell_type": "code",
<<<<<<< HEAD
   "execution_count": 136,
=======
   "execution_count": 27,
>>>>>>> Coordinates-split
   "metadata": {},
   "outputs": [
    {
     "data": {
      "text/plain": [
<<<<<<< HEAD
       "array([0.19662118, 0.18413622, 0.17115669, 0.12962943, 0.23354271,\n",
       "       0.29938266, 0.50431141, 0.1174142 , 0.24023788, 0.12670155,\n",
       "       0.26461686, 0.22742525, 0.1838738 , 0.28387283, 0.13571161,\n",
       "       0.19874369, 0.20123776, 0.17974502, 0.18065444, 0.24050165,\n",
       "       0.15411301, 0.27944032, 0.14406489, 0.14087   , 0.08361013,\n",
       "       0.19938953, 0.17546674, 0.30425573, 0.09349198, 0.27049723,\n",
       "       0.23795715, 0.33254647, 0.14715975, 0.16395807, 0.08169885,\n",
       "       0.21704162, 0.18483369, 0.21796885, 0.25195068, 0.23306413,\n",
       "       0.15059623, 0.22785732, 0.17216647, 0.45788514, 0.08196808,\n",
       "       0.10589871, 0.30235097, 0.13502734, 0.09332894, 0.1385936 ,\n",
       "       0.19733649, 0.34368917, 0.11067828, 0.10649758, 0.28494659,\n",
       "       0.26790764, 0.16730683, 0.2249087 , 0.23549164, 0.32764835,\n",
       "       0.06622108, 0.11358267, 0.07566984, 0.36875647, 0.09048263,\n",
       "       0.1028735 , 0.23340072, 0.14629606, 0.0657634 , 0.1815968 ,\n",
       "       0.46061848, 0.25526031, 0.21663637, 0.11666796, 0.09766381,\n",
       "       0.1843901 , 0.15726787, 0.1513305 , 0.27495843, 0.13036142,\n",
       "       0.14737869, 0.20087616, 0.13193735, 0.16404592, 0.14976826,\n",
       "       0.22790496, 0.20800015, 0.08694941, 0.17245124, 0.34624801,\n",
       "       0.44123188, 0.34463356, 0.34080609, 0.30027526, 0.09052606,\n",
       "       0.20036072, 0.12797793, 0.15080654, 0.08379187, 0.23663395,\n",
       "       0.14367843, 0.10420606, 0.18141982, 0.27074974, 0.17418915,\n",
       "       0.21596169, 0.23897292, 0.11040604, 0.11114206, 0.21993376,\n",
       "       0.11669843, 0.23343859, 0.25515578, 0.10372642, 0.30826788,\n",
       "       0.12246963, 0.22706288, 0.12016992, 0.17170591, 0.39295682,\n",
       "       0.20984225, 0.17309538, 0.22869091, 0.14389147, 0.08699922,\n",
       "       0.04915445, 0.1898169 , 0.34038757, 0.11007413, 0.43270861,\n",
       "       0.2580167 , 0.46388866, 0.25375398, 0.16459188, 0.29722493,\n",
       "       0.13353228, 0.29320165, 0.06348334, 0.10002854, 0.09366456,\n",
       "       0.23757792, 0.16740159, 0.36502441, 0.16432057, 0.2532672 ,\n",
       "       0.11992368, 0.10917957, 0.22266976, 0.15036372, 0.18446416,\n",
       "       0.1946179 , 0.23435971, 0.16135963, 0.1082826 , 0.20071875,\n",
       "       0.16788183, 0.14043428, 0.14935522, 0.15312156, 0.16370787,\n",
       "       0.22141357, 0.0737667 , 0.35970987, 0.33165401, 0.17460055,\n",
       "       0.20233327, 0.2008012 , 0.09278257, 0.08287729, 0.10034475,\n",
       "       0.24696479, 0.4070659 , 0.17579867, 0.28703155, 0.18900283,\n",
       "       0.32417307, 0.13108929, 0.21560503, 0.17558948, 0.08039169,\n",
       "       0.08695956, 0.31202624, 0.27140569, 0.08882208, 0.16067258,\n",
       "       0.1060249 , 0.23156977, 0.07393916, 0.27919555, 0.07811327,\n",
       "       0.14045616, 0.12132832, 0.19161416, 0.18406941, 0.23519464,\n",
       "       0.21363527, 0.09864776, 0.23710656, 0.10437377, 0.14275618,\n",
       "       0.19392273, 0.27499806, 0.25386032, 0.18942604, 0.15598284,\n",
       "       0.28689167, 0.19342556, 0.15460175, 0.14328853, 0.17775831,\n",
       "       0.1078411 , 0.09561214, 0.38639057, 0.14066204, 0.09079525,\n",
       "       0.21976364, 0.14061407, 0.32244756, 0.16143305, 0.19754697,\n",
       "       0.12257962, 0.07936505, 0.29663162, 0.09856804, 0.09439714,\n",
       "       0.30339947, 0.14192247, 0.10564661, 0.22651309, 0.32484751,\n",
       "       0.12039065, 0.46721866, 0.25100607, 0.20794919, 0.1974765 ,\n",
       "       0.15761475, 0.23827341, 0.08085733, 0.12942778, 0.19295238,\n",
       "       0.12280049, 0.18235794, 0.12058774, 0.19882731, 0.4206922 ,\n",
       "       0.27430439, 0.17805097, 0.16802585, 0.17098768, 0.40008853,\n",
       "       0.15540321, 0.15690146, 0.15434123, 0.13478507, 0.11934671,\n",
       "       0.14702648, 0.14188275, 0.05757341, 0.08230499, 0.17306889,\n",
       "       0.28244949, 0.13417203, 0.2527088 , 0.13114334, 0.11320003,\n",
       "       0.15800226, 0.12997461, 0.11420747, 0.1098618 , 0.26179791,\n",
       "       0.26194502, 0.2473473 , 0.22304384, 0.14356396, 0.07368567,\n",
       "       0.41969149, 0.23799504, 0.25282043, 0.26988917, 0.52897722,\n",
       "       0.06251934, 0.21097687, 0.32606202, 0.21124957, 0.32387436,\n",
       "       0.21459629, 0.25730848, 0.16335878, 0.11300479, 0.10598174,\n",
       "       0.22771332, 0.40468208, 0.15465438, 0.08653596, 0.15719172,\n",
       "       0.19727175, 0.11720223, 0.1251277 , 0.1819321 , 0.28950182,\n",
       "       0.28237593, 0.14705133, 0.24811404, 0.10400987, 0.18392656,\n",
       "       0.18295062, 0.24402379, 0.18616349, 0.19261876, 0.23167128,\n",
       "       0.24457417, 0.21464763, 0.09000261, 0.05902552, 0.12726593,\n",
       "       0.11594573, 0.17885029, 0.25117564, 0.23729104, 0.18608495,\n",
       "       0.16908229, 0.11368713, 0.30931849, 0.15794826, 0.0846141 ,\n",
       "       0.11094274, 0.13639589, 0.10347113, 0.19220221, 0.09218088,\n",
       "       0.38430561, 0.07593562, 0.13077367, 0.08958947, 0.17374531,\n",
       "       0.1176268 , 0.19587185, 0.15522762, 0.18356626, 0.06730964,\n",
       "       0.13968873, 0.27798952, 0.29480155, 0.17595987, 0.13686115,\n",
       "       0.17019103, 0.17123575, 0.25050694, 0.06667906, 0.23422252,\n",
       "       0.33420848, 0.2074663 , 0.07691971, 0.07302572, 0.1777797 ,\n",
       "       0.12965889, 0.23803874, 0.19705935, 0.19380714, 0.28998025,\n",
       "       0.28917209, 0.19913392, 0.17000759, 0.29752856, 0.22604414,\n",
       "       0.44068092, 0.49087926, 0.13556335, 0.24092897, 0.12549928,\n",
       "       0.14161089, 0.16680836, 0.19418867, 0.16761509, 0.20867975,\n",
       "       0.1605727 , 0.1351551 , 0.08774079, 0.12124518, 0.13776073,\n",
       "       0.18616561, 0.35800339, 0.12387008, 0.08561288, 0.18035389,\n",
       "       0.37885669, 0.11159741, 0.15397918, 0.07279228, 0.22264793,\n",
       "       0.23242925, 0.16686259, 0.10139889, 0.06876838, 0.20208038,\n",
       "       0.27261313, 0.31126981, 0.21181861, 0.13271952, 0.14722952,\n",
       "       0.14991432, 0.28535476, 0.08808564, 0.19823369, 0.24753385,\n",
       "       0.22101736, 0.19772999, 0.17000365, 0.13434126, 0.20194572,\n",
       "       0.19332905, 0.28556858, 0.13465054, 0.23336436, 0.2337043 ,\n",
       "       0.08511803, 0.29452793, 0.12036055, 0.15031669, 0.06093586,\n",
       "       0.19452949, 0.15342989, 0.21744916, 0.1410163 , 0.23087854,\n",
       "       0.24178432, 0.11441172, 0.18746722, 0.14166583, 0.20337125,\n",
       "       0.36984587, 0.12077754, 0.22665135, 0.1969966 , 0.14971756,\n",
       "       0.14540427, 0.36857869, 0.13937541, 0.13738911, 0.15301184,\n",
       "       0.19635196, 0.07815912, 0.10780013, 0.32245422, 0.1161186 ,\n",
       "       0.15254442, 0.18948302, 0.35202371, 0.16988247, 0.26936839,\n",
       "       0.12622986, 0.15529588, 0.15406225, 0.1712904 ])"
      ]
     },
     "execution_count": 136,
=======
       "array([0.23584457, 0.30837118, 0.26030997, 0.09392576, 0.28112819,\n",
       "       0.07610265, 0.35891717, 0.17188298, 0.14780511, 0.15241143,\n",
       "       0.17147081, 0.18185329, 0.2536651 , 0.24124624, 0.17281425,\n",
       "       0.19902141, 0.14437711, 0.1538553 , 0.08208369, 0.17645694,\n",
       "       0.09856556, 0.19815783, 0.1419404 , 0.10970682, 0.15419525,\n",
       "       0.16758927, 0.16019863, 0.26938723, 0.14524655, 0.2259619 ,\n",
       "       0.2457015 , 0.23599937, 0.10646472, 0.12647549, 0.19007001,\n",
       "       0.10986265, 0.10827282, 0.22861789, 0.30410933, 0.23559717,\n",
       "       0.29657806, 0.19495016, 0.1482201 , 0.2705667 , 0.05559479,\n",
       "       0.13638812, 0.26678124, 0.36988874, 0.21114193, 0.24983049,\n",
       "       0.14818062, 0.19748098, 0.20512269, 0.22298141, 0.32546545,\n",
       "       0.2486638 , 0.17426257, 0.17166465, 0.17261581, 0.37090146,\n",
       "       0.23105615, 0.11471022, 0.16573148, 0.23399844, 0.09560892,\n",
       "       0.11551687, 0.11417623, 0.28019267, 0.18518212, 0.05836201,\n",
       "       0.45027219, 0.30819483, 0.10809807, 0.07987036, 0.08484162,\n",
       "       0.14907189, 0.30362479, 0.23049518, 0.18766832, 0.09785695,\n",
       "       0.11850695, 0.12249776, 0.17281493, 0.29714097, 0.17956583,\n",
       "       0.48413101, 0.16448946, 0.32640505, 0.12747353, 0.16602424,\n",
       "       0.36523063, 0.29387798, 0.19624618, 0.16024824, 0.04544142,\n",
       "       0.2482047 , 0.11430356, 0.15343041, 0.23060787, 0.23414237,\n",
       "       0.10741934, 0.23262518, 0.2618792 , 0.23392762, 0.250833  ,\n",
       "       0.27370792, 0.17961476, 0.11374151, 0.1345686 , 0.13242446,\n",
       "       0.18457089, 0.28981908, 0.11807829, 0.12923061, 0.20681696,\n",
       "       0.20127293, 0.2264468 , 0.13626755, 0.29946155, 0.27858738,\n",
       "       0.17407458, 0.15183049, 0.22659049, 0.20220874, 0.12715437,\n",
       "       0.12455382, 0.2900456 , 0.23066248, 0.08936237, 0.21335953,\n",
       "       0.12791097, 0.2291016 , 0.15860938, 0.23328679, 0.32437039,\n",
       "       0.20478001, 0.17557388, 0.11219867, 0.22492944, 0.12680623,\n",
       "       0.33972203, 0.24564803, 0.32289805, 0.26410789, 0.18200384,\n",
       "       0.22797732, 0.13030042, 0.21703277, 0.14649272, 0.2108761 ,\n",
       "       0.15897182, 0.21625545, 0.23328707, 0.16891347, 0.36796754,\n",
       "       0.27512472, 0.12932566, 0.23838065, 0.29489663, 0.19143528,\n",
       "       0.18573648, 0.13496134, 0.17434456, 0.23016865, 0.1260834 ,\n",
       "       0.20619018, 0.18569154, 0.13727435, 0.19147496, 0.35723936,\n",
       "       0.33680031, 0.29452747, 0.20070804, 0.22378753, 0.16798949,\n",
       "       0.2690282 , 0.19571881, 0.13272734, 0.22437638, 0.0928619 ,\n",
       "       0.13878995, 0.17035184, 0.13462891, 0.21994081, 0.14006178,\n",
       "       0.16765255, 0.16619191, 0.08025898, 0.2903735 , 0.1271772 ,\n",
       "       0.21868039, 0.14225266, 0.27673747, 0.18078356, 0.23664752,\n",
       "       0.35236572, 0.12134211, 0.27447365, 0.07863998, 0.24930978,\n",
       "       0.14992384, 0.23206446, 0.24440143, 0.21020583, 0.27024768,\n",
       "       0.2480872 , 0.08711142, 0.18210292, 0.20551513, 0.22545159,\n",
       "       0.08755722, 0.11825213, 0.34031616, 0.25423519, 0.19668679,\n",
       "       0.13146731, 0.19156816, 0.29167926, 0.14127462, 0.22542242,\n",
       "       0.09524191, 0.09133443, 0.17627737, 0.1290977 , 0.16423584,\n",
       "       0.22406239, 0.17399825, 0.14596573, 0.13033954, 0.23287722,\n",
       "       0.13997049, 0.27713818, 0.16447726, 0.37758335, 0.25290969,\n",
       "       0.25886724, 0.29396775, 0.1579064 , 0.15264105, 0.16381586,\n",
       "       0.18222945, 0.16235734, 0.22946899, 0.40307525, 0.27181614,\n",
       "       0.19067074, 0.2430176 , 0.12318023, 0.15470674, 0.22757115,\n",
       "       0.21574906, 0.23994017, 0.19374545, 0.20311206, 0.15541212,\n",
       "       0.12825119, 0.14146593, 0.15514259, 0.15141713, 0.28629737,\n",
       "       0.25919955, 0.11084637, 0.15700448, 0.16244645, 0.18300732,\n",
       "       0.10905037, 0.17774045, 0.21257216, 0.23284391, 0.24837942,\n",
       "       0.25705489, 0.18794363, 0.22650316, 0.24013227, 0.18706637,\n",
       "       0.30486996, 0.21558168, 0.28640456, 0.31655225, 0.27574127,\n",
       "       0.09759833, 0.19060217, 0.21037514, 0.31234703, 0.24331622,\n",
       "       0.25138369, 0.29186249, 0.12868621, 0.15837301, 0.19535869,\n",
       "       0.14067647, 0.15573895, 0.22948901, 0.22082965, 0.41207843,\n",
       "       0.15287013, 0.08125208, 0.17807165, 0.13759294, 0.30296223,\n",
       "       0.18585779, 0.10747746, 0.21309521, 0.14219601, 0.11109612,\n",
       "       0.11838315, 0.18140917, 0.24226131, 0.18466739, 0.31943895,\n",
       "       0.20275833, 0.24544528, 0.26450239, 0.24152455, 0.26974102,\n",
       "       0.11266874, 0.24914514, 0.24093568, 0.27106544, 0.24886715,\n",
       "       0.20134501, 0.13822638, 0.36831251, 0.2056024 , 0.04922202,\n",
       "       0.09167098, 0.20186956, 0.09745113, 0.22760979, 0.15384985,\n",
       "       0.37648952, 0.09679764, 0.14650992, 0.17664764, 0.29755628,\n",
       "       0.12982777, 0.1764369 , 0.13010092, 0.13751149, 0.13802381,\n",
       "       0.10228552, 0.25520814, 0.25492871, 0.25856702, 0.13141526,\n",
       "       0.16713416, 0.25540477, 0.20466776, 0.17774341, 0.25987886,\n",
       "       0.2302916 , 0.21547895, 0.162934  , 0.10066983, 0.22437279,\n",
       "       0.10501307, 0.31914943, 0.21451108, 0.27502292, 0.20638878,\n",
       "       0.25873529, 0.25433814, 0.27114007, 0.35413929, 0.09436093,\n",
       "       0.25921186, 0.34166679, 0.14597747, 0.13068439, 0.20669947,\n",
       "       0.32777169, 0.1595273 , 0.13577328, 0.25344239, 0.18904993,\n",
       "       0.13846999, 0.09747896, 0.21122712, 0.12160408, 0.10300778,\n",
       "       0.20039356, 0.27087727, 0.13277255, 0.15078351, 0.1777122 ,\n",
       "       0.19255025, 0.0837032 , 0.12741204, 0.15143144, 0.19360666,\n",
       "       0.35533253, 0.11995136, 0.16767933, 0.15025849, 0.2609222 ,\n",
       "       0.23379182, 0.37863748, 0.25199675, 0.17945974, 0.29441515,\n",
       "       0.30067194, 0.27166489, 0.26042523, 0.25057288, 0.1725015 ,\n",
       "       0.17247523, 0.10944663, 0.09684216, 0.0749616 , 0.25236034,\n",
       "       0.19888701, 0.27954413, 0.15662814, 0.28544656, 0.26522496,\n",
       "       0.10997573, 0.241633  , 0.13447816, 0.25198989, 0.26329555,\n",
       "       0.26538897, 0.25471889, 0.25424187, 0.20585196, 0.22039074,\n",
       "       0.16501495, 0.07265156, 0.27855043, 0.14492762, 0.18421607,\n",
       "       0.31192779, 0.07793622, 0.18428865, 0.25977386, 0.15849968,\n",
       "       0.14034351, 0.19303794, 0.1886532 , 0.16321031, 0.14268211,\n",
       "       0.18616423, 0.14803268, 0.09404311, 0.30857875, 0.11205858,\n",
       "       0.25670978, 0.2266526 , 0.22630036, 0.19598871, 0.23233613,\n",
       "       0.11247685, 0.12136976, 0.33225124, 0.17932493])"
      ]
     },
     "execution_count": 27,
>>>>>>> Coordinates-split
     "metadata": {},
     "output_type": "execute_result"
    }
   ],
   "source": [
    "logreg.predict_proba(X_test)[:, 1]"
   ]
  },
  {
   "cell_type": "markdown",
   "metadata": {},
   "source": [
    "# Dokładność"
   ]
  },
  {
   "cell_type": "code",
<<<<<<< HEAD
   "execution_count": 137,
=======
   "execution_count": 28,
>>>>>>> Coordinates-split
   "metadata": {},
   "outputs": [
    {
     "name": "stdout",
     "output_type": "stream",
     "text": [
<<<<<<< HEAD
      "Model accuracy score: 0.8282\n"
=======
      "Model accuracy score: 0.8238\n"
>>>>>>> Coordinates-split
     ]
    }
   ],
   "source": [
    "print('Model accuracy score: {0:0.4f}'. format(\n",
    "    accuracy_score(y_test, y_pred_test)))"
   ]
  },
  {
   "cell_type": "markdown",
   "metadata": {},
   "source": [
    "# Macierz pomyłek"
   ]
  },
  {
   "cell_type": "code",
<<<<<<< HEAD
   "execution_count": 138,
=======
   "execution_count": 29,
>>>>>>> Coordinates-split
   "metadata": {},
   "outputs": [
    {
     "name": "stdout",
     "output_type": "stream",
     "text": [
      "Confusion matrix\n",
      "\n",
      " [[374   0]\n",
<<<<<<< HEAD
      " [ 78   2]]\n",
      "\n",
      "True Positives(TP) =  374\n",
      "\n",
      "True Negatives(TN) =  2\n",
      "\n",
      "False Positives(FP) =  0\n",
      "\n",
      "False Negatives(FN) =  78\n"
=======
      " [ 80   0]]\n",
      "\n",
      "True Positives(TP) =  374\n",
      "\n",
      "True Negatives(TN) =  0\n",
      "\n",
      "False Positives(FP) =  0\n",
      "\n",
      "False Negatives(FN) =  80\n"
>>>>>>> Coordinates-split
     ]
    }
   ],
   "source": [
    "cm = confusion_matrix(y_test, y_pred_test)\n",
    "\n",
    "print('Confusion matrix\\n\\n', cm)\n",
    "\n",
    "print('\\nTrue Positives(TP) = ', cm[0, 0])\n",
    "\n",
    "print('\\nTrue Negatives(TN) = ', cm[1, 1])\n",
    "\n",
    "print('\\nFalse Positives(FP) = ', cm[0, 1])\n",
    "\n",
    "print('\\nFalse Negatives(FN) = ', cm[1, 0])"
   ]
  },
  {
   "cell_type": "markdown",
   "metadata": {},
   "source": [
    "# Wizualizacja macierzy pomyłek z heatmapą seaborn\n"
   ]
  },
  {
   "cell_type": "code",
<<<<<<< HEAD
   "execution_count": 139,
=======
   "execution_count": 30,
>>>>>>> Coordinates-split
   "metadata": {},
   "outputs": [
    {
     "data": {
      "text/plain": [
       "<Axes: >"
      ]
     },
<<<<<<< HEAD
     "execution_count": 139,
=======
     "execution_count": 30,
>>>>>>> Coordinates-split
     "metadata": {},
     "output_type": "execute_result"
    },
    {
     "data": {
<<<<<<< HEAD
      "image/png": "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",
=======
      "image/png": "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",
>>>>>>> Coordinates-split
      "text/plain": [
       "<Figure size 640x480 with 2 Axes>"
      ]
     },
     "metadata": {},
     "output_type": "display_data"
    }
   ],
   "source": [
    "cm_matrix = pd.DataFrame(data=cm, columns=['Actual Positive:1', 'Actual Negative:0'],\n",
    "                         index=['Predict Positive:1', 'Predict Negative:0'])\n",
    "\n",
    "sns.heatmap(cm_matrix, annot=True, fmt='d', cmap='YlGnBu')"
   ]
  },
  {
   "cell_type": "markdown",
   "metadata": {},
   "source": [
    "# Dokładność klasyfikatora\n"
   ]
  },
  {
   "cell_type": "code",
<<<<<<< HEAD
   "execution_count": 140,
=======
   "execution_count": 31,
>>>>>>> Coordinates-split
   "metadata": {},
   "outputs": [
    {
     "name": "stdout",
     "output_type": "stream",
     "text": [
<<<<<<< HEAD
      "Classification accuracy : 0.8282\n"
=======
      "Classification accuracy : 0.8238\n"
>>>>>>> Coordinates-split
     ]
    }
   ],
   "source": [
    "TP = cm[0, 0]\n",
    "TN = cm[1, 1]\n",
    "FP = cm[0, 1]\n",
    "FN = cm[1, 0]\n",
    "classification_accuracy = (TP + TN) / float(TP + TN + FP + FN)\n",
    "\n",
    "print('Classification accuracy : {0:0.4f}'.format(classification_accuracy))"
   ]
  },
  {
   "cell_type": "markdown",
   "metadata": {},
   "source": [
    "# Precyzja klasyfikatora"
   ]
  },
  {
   "cell_type": "code",
<<<<<<< HEAD
   "execution_count": 141,
=======
   "execution_count": 32,
>>>>>>> Coordinates-split
   "metadata": {},
   "outputs": [
    {
     "name": "stdout",
     "output_type": "stream",
     "text": [
      "Precision : 1.0000\n"
     ]
    }
   ],
   "source": [
    "precision = TP / float(TP + FP)\n",
    "\n",
    "print('Precision : {0:0.4f}'.format(precision))"
   ]
  },
  {
   "cell_type": "code",
<<<<<<< HEAD
   "execution_count": 142,
=======
   "execution_count": 33,
>>>>>>> Coordinates-split
   "metadata": {},
   "outputs": [],
   "source": [
    "y_pred1 = logreg.predict_proba(X_test)[:, 1]"
   ]
  },
  {
   "cell_type": "markdown",
   "metadata": {},
   "source": [
    "# Krzywa ROC"
   ]
  },
  {
   "cell_type": "code",
<<<<<<< HEAD
   "execution_count": 143,
=======
   "execution_count": 34,
>>>>>>> Coordinates-split
   "metadata": {},
   "outputs": [
    {
     "data": {
<<<<<<< HEAD
      "image/png": "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",
=======
      "image/png": "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",
>>>>>>> Coordinates-split
      "text/plain": [
       "<Figure size 600x400 with 1 Axes>"
      ]
     },
     "metadata": {},
     "output_type": "display_data"
    }
   ],
   "source": [
    "fpr, tpr, thresholds = roc_curve(y_test, y_pred1, pos_label='Yes')\n",
    "\n",
    "plt.figure(figsize=(6, 4))\n",
    "\n",
    "plt.plot(fpr, tpr, linewidth=2)\n",
    "\n",
    "plt.plot([0, 1], [0, 1], 'k--')\n",
    "\n",
    "plt.rcParams['font.size'] = 12\n",
    "\n",
    "plt.title('ROC curve for RainTomorrow classifier')\n",
    "\n",
    "plt.xlabel('False Positive Rate (1 - Specificity)')\n",
    "\n",
    "plt.ylabel('True Positive Rate (Sensitivity)')\n",
    "\n",
    "plt.show()"
   ]
  },
  {
   "cell_type": "markdown",
   "metadata": {},
   "source": [
    "# Eskport modelu"
   ]
  },
  {
   "cell_type": "code",
<<<<<<< HEAD
   "execution_count": 144,
=======
   "execution_count": 35,
>>>>>>> Coordinates-split
   "metadata": {},
   "outputs": [],
   "source": [
    "filename = \"model.h5\"\n",
    "pickle.dump(logreg, open(filename, 'wb'))\n",
    "with open('encoder.pkl', 'wb') as file:\n",
    "    pickle.dump(encoder, file)\n",
    "\n"
   ]
  },
  {
   "cell_type": "code",
<<<<<<< HEAD
   "execution_count": 145,
=======
   "execution_count": 36,
>>>>>>> Coordinates-split
   "metadata": {},
   "outputs": [
    {
     "name": "stdout",
     "output_type": "stream",
     "text": [
<<<<<<< HEAD
      "40\n"
=======
      "65\n"
>>>>>>> Coordinates-split
     ]
    }
   ],
   "source": [
    "total_features = len(numerical) - len(['Temp3pm', 'Temp9am', 'Humidity9am'])\n",
    "total_features += 2\n",
    "total_features += sum([len(x[column].unique()) for column in categorical])\n",
    "print(total_features)"
   ]
  }
 ],
 "metadata": {
  "kernelspec": {
   "display_name": "Python 3",
   "language": "python",
   "name": "python3"
  },
  "language_info": {
   "codemirror_mode": {
    "name": "ipython",
    "version": 3
   },
   "file_extension": ".py",
   "mimetype": "text/x-python",
   "name": "python",
   "nbconvert_exporter": "python",
   "pygments_lexer": "ipython3",
   "version": "3.11.1"
  }
 },
 "nbformat": 4,
 "nbformat_minor": 2
}
