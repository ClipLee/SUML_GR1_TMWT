{
 "cells": [
  {
   "cell_type": "markdown",
   "metadata": {},
   "source": [
    "# Import bibliotek"
   ]
  },
  {
   "cell_type": "code",
   "execution_count": 140,
   "metadata": {},
   "outputs": [],
   "source": [
    "import pandas as pd\n",
    "from sklearn.model_selection import train_test_split\n",
    "import category_encoders as ce\n",
    "from sklearn.linear_model import LogisticRegression\n",
    "from sklearn.metrics import accuracy_score, confusion_matrix, roc_curve\n",
    "from sklearn import metrics\n",
    "import matplotlib.pyplot as plt\n",
    "import seaborn as sns\n",
    "import pickle\n",
    "from sklearn.preprocessing import MinMaxScaler"
   ]
  },
  {
   "cell_type": "markdown",
   "metadata": {},
   "source": [
    "# Wybranie datasetu i podział na zbiory"
   ]
  },
  {
   "cell_type": "code",
   "execution_count": 141,
   "metadata": {},
   "outputs": [],
   "source": [
    "def choose_dataset(train_data, test_data):\n",
    "    train_data = train_data\n",
    "    test_data = test_data\n",
    "    return train_data, test_data"
   ]
  },
  {
   "cell_type": "code",
   "execution_count": 142,
   "metadata": {},
   "outputs": [],
   "source": [
    "x = pd.read_csv(\"data/data2008.csv\")\n",
    "y = pd.read_csv('data/data2009.csv')"
   ]
  },
  {
   "cell_type": "code",
   "execution_count": 143,
   "metadata": {},
   "outputs": [],
   "source": [
    "if (len(x)) > len(y):\n",
    "    x = x[:len(y)]\n",
    "else:\n",
    "    y = y[:len(x)]"
   ]
  },
  {
   "cell_type": "markdown",
   "metadata": {},
   "source": [
    "# Sprawdzenie istnienia brakujących wartości"
   ]
  },
  {
   "cell_type": "code",
   "execution_count": 144,
   "metadata": {},
   "outputs": [],
   "source": [
    "x = x[x[\"RainTomorrow\"].notna()]\n",
    "y = y[y[\"RainTomorrow\"].notna()]"
   ]
  },
  {
   "cell_type": "markdown",
   "metadata": {},
   "source": [
    "# Wyświetl wartości kategoryczne i liczbowe"
   ]
  },
  {
   "cell_type": "code",
   "execution_count": 145,
   "metadata": {},
   "outputs": [
    {
     "data": {
      "text/plain": [
       "['Location',\n",
       " 'WindGustDir',\n",
       " 'WindDir9am',\n",
       " 'WindDir3pm',\n",
       " 'RainToday',\n",
       " 'RainTomorrow']"
      ]
     },
     "execution_count": 145,
     "metadata": {},
     "output_type": "execute_result"
    }
   ],
   "source": [
    "categorical = [col for col in x.columns if x[col].dtypes == 'O']\n",
    "\n",
    "categorical"
   ]
  },
  {
   "cell_type": "code",
   "execution_count": 146,
   "metadata": {},
   "outputs": [
    {
     "data": {
      "text/plain": [
       "['MinTemp',\n",
       " 'MaxTemp',\n",
       " 'Rainfall',\n",
       " 'WindGustSpeed',\n",
       " 'WindSpeed9am',\n",
       " 'WindSpeed3pm',\n",
       " 'Humidity9am',\n",
       " 'Humidity3pm',\n",
       " 'Pressure9am',\n",
       " 'Pressure3pm',\n",
       " 'Temp9am',\n",
       " 'Temp3pm',\n",
       " 'Latitude',\n",
       " 'Longitude',\n",
       " 'Year',\n",
       " 'Month',\n",
       " 'Day']"
      ]
     },
     "execution_count": 146,
     "metadata": {},
     "output_type": "execute_result"
    }
   ],
   "source": [
    "numerical = [col for col in x.columns if x[col].dtypes != 'O']\n",
    "\n",
    "numerical"
   ]
  },
  {
   "cell_type": "markdown",
   "metadata": {},
   "source": [
    "# Odrzucanie wartości wysoce skorelowanych"
   ]
  },
  {
   "cell_type": "code",
   "execution_count": 147,
   "metadata": {},
   "outputs": [],
   "source": [
    "x = x.drop(['Temp3pm', 'Temp9am', 'Humidity9am'], axis=1)\n",
    "y = y.drop(['Temp3pm', 'Temp9am', 'Humidity9am'], axis=1)"
   ]
  },
  {
   "cell_type": "code",
   "execution_count": 148,
   "metadata": {},
   "outputs": [
    {
     "data": {
      "text/plain": [
       "Index(['Location', 'MinTemp', 'MaxTemp', 'Rainfall', 'WindGustDir',\n",
       "       'WindGustSpeed', 'WindDir9am', 'WindDir3pm', 'WindSpeed9am',\n",
       "       'WindSpeed3pm', 'Humidity3pm', 'Pressure9am', 'Pressure3pm',\n",
       "       'RainToday', 'RainTomorrow', 'Latitude', 'Longitude', 'Year', 'Month',\n",
       "       'Day'],\n",
       "      dtype='object')"
      ]
     },
     "execution_count": 148,
     "metadata": {},
     "output_type": "execute_result"
    }
   ],
   "source": [
    "x.columns"
   ]
  },
  {
   "cell_type": "markdown",
   "metadata": {},
   "source": [
    "# Podział danych"
   ]
  },
  {
   "cell_type": "code",
   "execution_count": 149,
   "metadata": {},
   "outputs": [],
   "source": [
    "X = x.drop(['RainTomorrow'], axis=1)\n",
    "\n",
    "y = y['RainTomorrow']"
   ]
  },
  {
   "cell_type": "code",
   "execution_count": 150,
   "metadata": {},
   "outputs": [
    {
     "data": {
      "text/plain": [
       "((1816, 19), (454, 19))"
      ]
     },
     "execution_count": 150,
     "metadata": {},
     "output_type": "execute_result"
    }
   ],
   "source": [
    "X_train, X_test, y_train, y_test = train_test_split(\n",
    "    X, y, test_size=0.2, random_state=0)\n",
    "X_train.shape, X_test.shape"
   ]
  },
  {
   "cell_type": "markdown",
   "metadata": {},
   "source": [
    "# Zakodowanie zmiennej RainToday"
   ]
  },
  {
   "cell_type": "code",
   "execution_count": 151,
   "metadata": {},
   "outputs": [],
   "source": [
    "encoder = ce.BinaryEncoder(cols=['RainToday'])\n",
    "\n",
    "X_train = encoder.fit_transform(X_train)\n",
    "\n",
    "X_test = encoder.transform(X_test)"
   ]
  },
  {
   "cell_type": "markdown",
   "metadata": {},
   "source": [
    "# Utworzenie zbioru treningowego."
   ]
  },
  {
   "cell_type": "code",
   "execution_count": 152,
   "metadata": {},
   "outputs": [
    {
     "name": "stdout",
     "output_type": "stream",
     "text": [
      "Index(['Location', 'MinTemp', 'MaxTemp', 'Rainfall', 'WindGustDir',\n",
      "       'WindGustSpeed', 'WindDir9am', 'WindDir3pm', 'WindSpeed9am',\n",
      "       'WindSpeed3pm', 'Humidity3pm', 'Pressure9am', 'Pressure3pm',\n",
      "       'RainToday_0', 'RainToday_1', 'Latitude', 'Longitude', 'Year', 'Month',\n",
      "       'Day'],\n",
      "      dtype='object')\n"
     ]
    }
   ],
   "source": [
    "print(X_train.columns)"
   ]
  },
  {
   "cell_type": "code",
   "execution_count": 153,
   "metadata": {},
   "outputs": [],
   "source": [
    "numerical = [col for col in numerical if col not in ['Humidity9am', 'Temp9am', 'Temp3pm']]\n",
    "\n",
    "X_train = pd.concat([X_train[numerical], X_train[['RainToday_0', 'RainToday_1']],\n",
    "                     pd.get_dummies(X_train.Location),\n",
    "                     pd.get_dummies(X_train.WindGustDir),\n",
    "                     pd.get_dummies(X_train.WindDir9am),\n",
    "                     pd.get_dummies(X_train.WindDir3pm)], axis=1)"
   ]
  },
  {
   "cell_type": "markdown",
   "metadata": {},
   "source": [
    "# Utworzenie zbioru testowego."
   ]
  },
  {
   "cell_type": "code",
   "execution_count": 154,
   "metadata": {},
   "outputs": [],
   "source": [
    "X_test = pd.concat([X_test[numerical], X_test[['RainToday_0', 'RainToday_1']],\n",
    "                    pd.get_dummies(X_test.Location),\n",
    "                    pd.get_dummies(X_test.WindGustDir),\n",
    "                    pd.get_dummies(X_test.WindDir9am),\n",
    "                    pd.get_dummies(X_test.WindDir3pm),], axis=1)"
   ]
  },
  {
   "cell_type": "code",
   "execution_count": 155,
   "metadata": {},
   "outputs": [],
   "source": [
    "cols = X_train.columns"
   ]
  },
  {
   "cell_type": "code",
   "execution_count": 156,
   "metadata": {},
   "outputs": [],
   "source": [
    "scaler = MinMaxScaler()\n",
    "\n",
    "X_train = scaler.fit_transform(X_train)\n",
    "\n",
    "X_test = scaler.transform(X_test)"
   ]
  },
  {
   "cell_type": "code",
   "execution_count": 157,
   "metadata": {},
   "outputs": [],
   "source": [
    "X_train = pd.DataFrame(X_train, columns=[cols])"
   ]
  },
  {
   "cell_type": "code",
   "execution_count": 158,
   "metadata": {},
   "outputs": [],
   "source": [
    "X_test = pd.DataFrame(X_test, columns=[cols])"
   ]
  },
  {
   "cell_type": "markdown",
   "metadata": {},
   "source": [
    "# Trenowanie modelu"
   ]
  },
  {
   "cell_type": "code",
   "execution_count": 159,
   "metadata": {},
   "outputs": [
    {
     "data": {
      "text/html": [
       "<style>#sk-container-id-5 {\n",
       "  /* Definition of color scheme common for light and dark mode */\n",
       "  --sklearn-color-text: black;\n",
       "  --sklearn-color-line: gray;\n",
       "  /* Definition of color scheme for unfitted estimators */\n",
       "  --sklearn-color-unfitted-level-0: #fff5e6;\n",
       "  --sklearn-color-unfitted-level-1: #f6e4d2;\n",
       "  --sklearn-color-unfitted-level-2: #ffe0b3;\n",
       "  --sklearn-color-unfitted-level-3: chocolate;\n",
       "  /* Definition of color scheme for fitted estimators */\n",
       "  --sklearn-color-fitted-level-0: #f0f8ff;\n",
       "  --sklearn-color-fitted-level-1: #d4ebff;\n",
       "  --sklearn-color-fitted-level-2: #b3dbfd;\n",
       "  --sklearn-color-fitted-level-3: cornflowerblue;\n",
       "\n",
       "  /* Specific color for light theme */\n",
       "  --sklearn-color-text-on-default-background: var(--sg-text-color, var(--theme-code-foreground, var(--jp-content-font-color1, black)));\n",
       "  --sklearn-color-background: var(--sg-background-color, var(--theme-background, var(--jp-layout-color0, white)));\n",
       "  --sklearn-color-border-box: var(--sg-text-color, var(--theme-code-foreground, var(--jp-content-font-color1, black)));\n",
       "  --sklearn-color-icon: #696969;\n",
       "\n",
       "  @media (prefers-color-scheme: dark) {\n",
       "    /* Redefinition of color scheme for dark theme */\n",
       "    --sklearn-color-text-on-default-background: var(--sg-text-color, var(--theme-code-foreground, var(--jp-content-font-color1, white)));\n",
       "    --sklearn-color-background: var(--sg-background-color, var(--theme-background, var(--jp-layout-color0, #111)));\n",
       "    --sklearn-color-border-box: var(--sg-text-color, var(--theme-code-foreground, var(--jp-content-font-color1, white)));\n",
       "    --sklearn-color-icon: #878787;\n",
       "  }\n",
       "}\n",
       "\n",
       "#sk-container-id-5 {\n",
       "  color: var(--sklearn-color-text);\n",
       "}\n",
       "\n",
       "#sk-container-id-5 pre {\n",
       "  padding: 0;\n",
       "}\n",
       "\n",
       "#sk-container-id-5 input.sk-hidden--visually {\n",
       "  border: 0;\n",
       "  clip: rect(1px 1px 1px 1px);\n",
       "  clip: rect(1px, 1px, 1px, 1px);\n",
       "  height: 1px;\n",
       "  margin: -1px;\n",
       "  overflow: hidden;\n",
       "  padding: 0;\n",
       "  position: absolute;\n",
       "  width: 1px;\n",
       "}\n",
       "\n",
       "#sk-container-id-5 div.sk-dashed-wrapped {\n",
       "  border: 1px dashed var(--sklearn-color-line);\n",
       "  margin: 0 0.4em 0.5em 0.4em;\n",
       "  box-sizing: border-box;\n",
       "  padding-bottom: 0.4em;\n",
       "  background-color: var(--sklearn-color-background);\n",
       "}\n",
       "\n",
       "#sk-container-id-5 div.sk-container {\n",
       "  /* jupyter's `normalize.less` sets `[hidden] { display: none; }`\n",
       "     but bootstrap.min.css set `[hidden] { display: none !important; }`\n",
       "     so we also need the `!important` here to be able to override the\n",
       "     default hidden behavior on the sphinx rendered scikit-learn.org.\n",
       "     See: https://github.com/scikit-learn/scikit-learn/issues/21755 */\n",
       "  display: inline-block !important;\n",
       "  position: relative;\n",
       "}\n",
       "\n",
       "#sk-container-id-5 div.sk-text-repr-fallback {\n",
       "  display: none;\n",
       "}\n",
       "\n",
       "div.sk-parallel-item,\n",
       "div.sk-serial,\n",
       "div.sk-item {\n",
       "  /* draw centered vertical line to link estimators */\n",
       "  background-image: linear-gradient(var(--sklearn-color-text-on-default-background), var(--sklearn-color-text-on-default-background));\n",
       "  background-size: 2px 100%;\n",
       "  background-repeat: no-repeat;\n",
       "  background-position: center center;\n",
       "}\n",
       "\n",
       "/* Parallel-specific style estimator block */\n",
       "\n",
       "#sk-container-id-5 div.sk-parallel-item::after {\n",
       "  content: \"\";\n",
       "  width: 100%;\n",
       "  border-bottom: 2px solid var(--sklearn-color-text-on-default-background);\n",
       "  flex-grow: 1;\n",
       "}\n",
       "\n",
       "#sk-container-id-5 div.sk-parallel {\n",
       "  display: flex;\n",
       "  align-items: stretch;\n",
       "  justify-content: center;\n",
       "  background-color: var(--sklearn-color-background);\n",
       "  position: relative;\n",
       "}\n",
       "\n",
       "#sk-container-id-5 div.sk-parallel-item {\n",
       "  display: flex;\n",
       "  flex-direction: column;\n",
       "}\n",
       "\n",
       "#sk-container-id-5 div.sk-parallel-item:first-child::after {\n",
       "  align-self: flex-end;\n",
       "  width: 50%;\n",
       "}\n",
       "\n",
       "#sk-container-id-5 div.sk-parallel-item:last-child::after {\n",
       "  align-self: flex-start;\n",
       "  width: 50%;\n",
       "}\n",
       "\n",
       "#sk-container-id-5 div.sk-parallel-item:only-child::after {\n",
       "  width: 0;\n",
       "}\n",
       "\n",
       "/* Serial-specific style estimator block */\n",
       "\n",
       "#sk-container-id-5 div.sk-serial {\n",
       "  display: flex;\n",
       "  flex-direction: column;\n",
       "  align-items: center;\n",
       "  background-color: var(--sklearn-color-background);\n",
       "  padding-right: 1em;\n",
       "  padding-left: 1em;\n",
       "}\n",
       "\n",
       "\n",
       "/* Toggleable style: style used for estimator/Pipeline/ColumnTransformer box that is\n",
       "clickable and can be expanded/collapsed.\n",
       "- Pipeline and ColumnTransformer use this feature and define the default style\n",
       "- Estimators will overwrite some part of the style using the `sk-estimator` class\n",
       "*/\n",
       "\n",
       "/* Pipeline and ColumnTransformer style (default) */\n",
       "\n",
       "#sk-container-id-5 div.sk-toggleable {\n",
       "  /* Default theme specific background. It is overwritten whether we have a\n",
       "  specific estimator or a Pipeline/ColumnTransformer */\n",
       "  background-color: var(--sklearn-color-background);\n",
       "}\n",
       "\n",
       "/* Toggleable label */\n",
       "#sk-container-id-5 label.sk-toggleable__label {\n",
       "  cursor: pointer;\n",
       "  display: block;\n",
       "  width: 100%;\n",
       "  margin-bottom: 0;\n",
       "  padding: 0.5em;\n",
       "  box-sizing: border-box;\n",
       "  text-align: center;\n",
       "}\n",
       "\n",
       "#sk-container-id-5 label.sk-toggleable__label-arrow:before {\n",
       "  /* Arrow on the left of the label */\n",
       "  content: \"▸\";\n",
       "  float: left;\n",
       "  margin-right: 0.25em;\n",
       "  color: var(--sklearn-color-icon);\n",
       "}\n",
       "\n",
       "#sk-container-id-5 label.sk-toggleable__label-arrow:hover:before {\n",
       "  color: var(--sklearn-color-text);\n",
       "}\n",
       "\n",
       "/* Toggleable content - dropdown */\n",
       "\n",
       "#sk-container-id-5 div.sk-toggleable__content {\n",
       "  max-height: 0;\n",
       "  max-width: 0;\n",
       "  overflow: hidden;\n",
       "  text-align: left;\n",
       "  /* unfitted */\n",
       "  background-color: var(--sklearn-color-unfitted-level-0);\n",
       "}\n",
       "\n",
       "#sk-container-id-5 div.sk-toggleable__content.fitted {\n",
       "  /* fitted */\n",
       "  background-color: var(--sklearn-color-fitted-level-0);\n",
       "}\n",
       "\n",
       "#sk-container-id-5 div.sk-toggleable__content pre {\n",
       "  margin: 0.2em;\n",
       "  border-radius: 0.25em;\n",
       "  color: var(--sklearn-color-text);\n",
       "  /* unfitted */\n",
       "  background-color: var(--sklearn-color-unfitted-level-0);\n",
       "}\n",
       "\n",
       "#sk-container-id-5 div.sk-toggleable__content.fitted pre {\n",
       "  /* unfitted */\n",
       "  background-color: var(--sklearn-color-fitted-level-0);\n",
       "}\n",
       "\n",
       "#sk-container-id-5 input.sk-toggleable__control:checked~div.sk-toggleable__content {\n",
       "  /* Expand drop-down */\n",
       "  max-height: 200px;\n",
       "  max-width: 100%;\n",
       "  overflow: auto;\n",
       "}\n",
       "\n",
       "#sk-container-id-5 input.sk-toggleable__control:checked~label.sk-toggleable__label-arrow:before {\n",
       "  content: \"▾\";\n",
       "}\n",
       "\n",
       "/* Pipeline/ColumnTransformer-specific style */\n",
       "\n",
       "#sk-container-id-5 div.sk-label input.sk-toggleable__control:checked~label.sk-toggleable__label {\n",
       "  color: var(--sklearn-color-text);\n",
       "  background-color: var(--sklearn-color-unfitted-level-2);\n",
       "}\n",
       "\n",
       "#sk-container-id-5 div.sk-label.fitted input.sk-toggleable__control:checked~label.sk-toggleable__label {\n",
       "  background-color: var(--sklearn-color-fitted-level-2);\n",
       "}\n",
       "\n",
       "/* Estimator-specific style */\n",
       "\n",
       "/* Colorize estimator box */\n",
       "#sk-container-id-5 div.sk-estimator input.sk-toggleable__control:checked~label.sk-toggleable__label {\n",
       "  /* unfitted */\n",
       "  background-color: var(--sklearn-color-unfitted-level-2);\n",
       "}\n",
       "\n",
       "#sk-container-id-5 div.sk-estimator.fitted input.sk-toggleable__control:checked~label.sk-toggleable__label {\n",
       "  /* fitted */\n",
       "  background-color: var(--sklearn-color-fitted-level-2);\n",
       "}\n",
       "\n",
       "#sk-container-id-5 div.sk-label label.sk-toggleable__label,\n",
       "#sk-container-id-5 div.sk-label label {\n",
       "  /* The background is the default theme color */\n",
       "  color: var(--sklearn-color-text-on-default-background);\n",
       "}\n",
       "\n",
       "/* On hover, darken the color of the background */\n",
       "#sk-container-id-5 div.sk-label:hover label.sk-toggleable__label {\n",
       "  color: var(--sklearn-color-text);\n",
       "  background-color: var(--sklearn-color-unfitted-level-2);\n",
       "}\n",
       "\n",
       "/* Label box, darken color on hover, fitted */\n",
       "#sk-container-id-5 div.sk-label.fitted:hover label.sk-toggleable__label.fitted {\n",
       "  color: var(--sklearn-color-text);\n",
       "  background-color: var(--sklearn-color-fitted-level-2);\n",
       "}\n",
       "\n",
       "/* Estimator label */\n",
       "\n",
       "#sk-container-id-5 div.sk-label label {\n",
       "  font-family: monospace;\n",
       "  font-weight: bold;\n",
       "  display: inline-block;\n",
       "  line-height: 1.2em;\n",
       "}\n",
       "\n",
       "#sk-container-id-5 div.sk-label-container {\n",
       "  text-align: center;\n",
       "}\n",
       "\n",
       "/* Estimator-specific */\n",
       "#sk-container-id-5 div.sk-estimator {\n",
       "  font-family: monospace;\n",
       "  border: 1px dotted var(--sklearn-color-border-box);\n",
       "  border-radius: 0.25em;\n",
       "  box-sizing: border-box;\n",
       "  margin-bottom: 0.5em;\n",
       "  /* unfitted */\n",
       "  background-color: var(--sklearn-color-unfitted-level-0);\n",
       "}\n",
       "\n",
       "#sk-container-id-5 div.sk-estimator.fitted {\n",
       "  /* fitted */\n",
       "  background-color: var(--sklearn-color-fitted-level-0);\n",
       "}\n",
       "\n",
       "/* on hover */\n",
       "#sk-container-id-5 div.sk-estimator:hover {\n",
       "  /* unfitted */\n",
       "  background-color: var(--sklearn-color-unfitted-level-2);\n",
       "}\n",
       "\n",
       "#sk-container-id-5 div.sk-estimator.fitted:hover {\n",
       "  /* fitted */\n",
       "  background-color: var(--sklearn-color-fitted-level-2);\n",
       "}\n",
       "\n",
       "/* Specification for estimator info (e.g. \"i\" and \"?\") */\n",
       "\n",
       "/* Common style for \"i\" and \"?\" */\n",
       "\n",
       ".sk-estimator-doc-link,\n",
       "a:link.sk-estimator-doc-link,\n",
       "a:visited.sk-estimator-doc-link {\n",
       "  float: right;\n",
       "  font-size: smaller;\n",
       "  line-height: 1em;\n",
       "  font-family: monospace;\n",
       "  background-color: var(--sklearn-color-background);\n",
       "  border-radius: 1em;\n",
       "  height: 1em;\n",
       "  width: 1em;\n",
       "  text-decoration: none !important;\n",
       "  margin-left: 1ex;\n",
       "  /* unfitted */\n",
       "  border: var(--sklearn-color-unfitted-level-1) 1pt solid;\n",
       "  color: var(--sklearn-color-unfitted-level-1);\n",
       "}\n",
       "\n",
       ".sk-estimator-doc-link.fitted,\n",
       "a:link.sk-estimator-doc-link.fitted,\n",
       "a:visited.sk-estimator-doc-link.fitted {\n",
       "  /* fitted */\n",
       "  border: var(--sklearn-color-fitted-level-1) 1pt solid;\n",
       "  color: var(--sklearn-color-fitted-level-1);\n",
       "}\n",
       "\n",
       "/* On hover */\n",
       "div.sk-estimator:hover .sk-estimator-doc-link:hover,\n",
       ".sk-estimator-doc-link:hover,\n",
       "div.sk-label-container:hover .sk-estimator-doc-link:hover,\n",
       ".sk-estimator-doc-link:hover {\n",
       "  /* unfitted */\n",
       "  background-color: var(--sklearn-color-unfitted-level-3);\n",
       "  color: var(--sklearn-color-background);\n",
       "  text-decoration: none;\n",
       "}\n",
       "\n",
       "div.sk-estimator.fitted:hover .sk-estimator-doc-link.fitted:hover,\n",
       ".sk-estimator-doc-link.fitted:hover,\n",
       "div.sk-label-container:hover .sk-estimator-doc-link.fitted:hover,\n",
       ".sk-estimator-doc-link.fitted:hover {\n",
       "  /* fitted */\n",
       "  background-color: var(--sklearn-color-fitted-level-3);\n",
       "  color: var(--sklearn-color-background);\n",
       "  text-decoration: none;\n",
       "}\n",
       "\n",
       "/* Span, style for the box shown on hovering the info icon */\n",
       ".sk-estimator-doc-link span {\n",
       "  display: none;\n",
       "  z-index: 9999;\n",
       "  position: relative;\n",
       "  font-weight: normal;\n",
       "  right: .2ex;\n",
       "  padding: .5ex;\n",
       "  margin: .5ex;\n",
       "  width: min-content;\n",
       "  min-width: 20ex;\n",
       "  max-width: 50ex;\n",
       "  color: var(--sklearn-color-text);\n",
       "  box-shadow: 2pt 2pt 4pt #999;\n",
       "  /* unfitted */\n",
       "  background: var(--sklearn-color-unfitted-level-0);\n",
       "  border: .5pt solid var(--sklearn-color-unfitted-level-3);\n",
       "}\n",
       "\n",
       ".sk-estimator-doc-link.fitted span {\n",
       "  /* fitted */\n",
       "  background: var(--sklearn-color-fitted-level-0);\n",
       "  border: var(--sklearn-color-fitted-level-3);\n",
       "}\n",
       "\n",
       ".sk-estimator-doc-link:hover span {\n",
       "  display: block;\n",
       "}\n",
       "\n",
       "/* \"?\"-specific style due to the `<a>` HTML tag */\n",
       "\n",
       "#sk-container-id-5 a.estimator_doc_link {\n",
       "  float: right;\n",
       "  font-size: 1rem;\n",
       "  line-height: 1em;\n",
       "  font-family: monospace;\n",
       "  background-color: var(--sklearn-color-background);\n",
       "  border-radius: 1rem;\n",
       "  height: 1rem;\n",
       "  width: 1rem;\n",
       "  text-decoration: none;\n",
       "  /* unfitted */\n",
       "  color: var(--sklearn-color-unfitted-level-1);\n",
       "  border: var(--sklearn-color-unfitted-level-1) 1pt solid;\n",
       "}\n",
       "\n",
       "#sk-container-id-5 a.estimator_doc_link.fitted {\n",
       "  /* fitted */\n",
       "  border: var(--sklearn-color-fitted-level-1) 1pt solid;\n",
       "  color: var(--sklearn-color-fitted-level-1);\n",
       "}\n",
       "\n",
       "/* On hover */\n",
       "#sk-container-id-5 a.estimator_doc_link:hover {\n",
       "  /* unfitted */\n",
       "  background-color: var(--sklearn-color-unfitted-level-3);\n",
       "  color: var(--sklearn-color-background);\n",
       "  text-decoration: none;\n",
       "}\n",
       "\n",
       "#sk-container-id-5 a.estimator_doc_link.fitted:hover {\n",
       "  /* fitted */\n",
       "  background-color: var(--sklearn-color-fitted-level-3);\n",
       "}\n",
       "</style><div id=\"sk-container-id-5\" class=\"sk-top-container\"><div class=\"sk-text-repr-fallback\"><pre>LogisticRegression(random_state=0, solver=&#x27;liblinear&#x27;)</pre><b>In a Jupyter environment, please rerun this cell to show the HTML representation or trust the notebook. <br />On GitHub, the HTML representation is unable to render, please try loading this page with nbviewer.org.</b></div><div class=\"sk-container\" hidden><div class=\"sk-item\"><div class=\"sk-estimator fitted sk-toggleable\"><input class=\"sk-toggleable__control sk-hidden--visually\" id=\"sk-estimator-id-5\" type=\"checkbox\" checked><label for=\"sk-estimator-id-5\" class=\"sk-toggleable__label fitted sk-toggleable__label-arrow fitted\">&nbsp;&nbsp;LogisticRegression<a class=\"sk-estimator-doc-link fitted\" rel=\"noreferrer\" target=\"_blank\" href=\"https://scikit-learn.org/1.4/modules/generated/sklearn.linear_model.LogisticRegression.html\">?<span>Documentation for LogisticRegression</span></a><span class=\"sk-estimator-doc-link fitted\">i<span>Fitted</span></span></label><div class=\"sk-toggleable__content fitted\"><pre>LogisticRegression(random_state=0, solver=&#x27;liblinear&#x27;)</pre></div> </div></div></div></div>"
      ],
      "text/plain": [
       "LogisticRegression(random_state=0, solver='liblinear')"
      ]
     },
     "execution_count": 159,
     "metadata": {},
     "output_type": "execute_result"
    }
   ],
   "source": [
    "# instantiate the model\n",
    "logreg = LogisticRegression(solver='liblinear', random_state=0)\n",
    "\n",
    "\n",
    "# fit the model\n",
    "logreg.fit(X_train, y_train)"
   ]
  },
  {
   "cell_type": "markdown",
   "metadata": {},
   "source": [
    "# Kodowanie zmiennych kategorycznych"
   ]
  },
  {
   "cell_type": "code",
   "execution_count": 160,
   "metadata": {},
   "outputs": [
    {
     "data": {
      "text/plain": [
       "\"from sklearn import preprocessing\\nle = preprocessing.LabelEncoder()\\ncleaned_data['Location'] = le.fit_transform(cleaned_data['Location'])\\ncleaned_data['WindDir9am'] = le.fit_transform(cleaned_data['WindDir9am'])\\ncleaned_data['WindDir3pm'] = le.fit_transform(cleaned_data['WindDir3pm'])\\ncleaned_data['WindGustDir'] = le.fit_transform(cleaned_data['WindGustDir'])\\n\""
      ]
     },
     "execution_count": 160,
     "metadata": {},
     "output_type": "execute_result"
    }
   ],
   "source": [
    "'''from sklearn import preprocessing\n",
    "le = preprocessing.LabelEncoder()\n",
    "cleaned_data['Location'] = le.fit_transform(cleaned_data['Location'])\n",
    "cleaned_data['WindDir9am'] = le.fit_transform(cleaned_data['WindDir9am'])\n",
    "cleaned_data['WindDir3pm'] = le.fit_transform(cleaned_data['WindDir3pm'])\n",
    "cleaned_data['WindGustDir'] = le.fit_transform(cleaned_data['WindGustDir'])\n",
    "'''"
   ]
  },
  {
   "cell_type": "code",
   "execution_count": 174,
   "metadata": {},
   "outputs": [
    {
     "data": {
      "text/plain": [
       "MultiIndex([(      'MinTemp',),\n",
       "            (      'MaxTemp',),\n",
       "            (     'Rainfall',),\n",
       "            ('WindGustSpeed',),\n",
       "            ( 'WindSpeed9am',),\n",
       "            ( 'WindSpeed3pm',),\n",
       "            (  'Humidity3pm',),\n",
       "            (  'Pressure9am',),\n",
       "            (  'Pressure3pm',),\n",
       "            (     'Latitude',),\n",
       "            (    'Longitude',),\n",
       "            (         'Year',),\n",
       "            (        'Month',),\n",
       "            (          'Day',),\n",
       "            (  'RainToday_0',),\n",
       "            (  'RainToday_1',),\n",
       "            (     'Adelaide',),\n",
       "            (       'Albany',),\n",
       "            (       'Albury',),\n",
       "            ( 'AliceSprings',),\n",
       "            (     'Ballarat',),\n",
       "            (      'Bendigo',),\n",
       "            (     'Brisbane',),\n",
       "            (       'Cairns',),\n",
       "            (     'Canberra',),\n",
       "            (       'Darwin',),\n",
       "            (    'GoldCoast',),\n",
       "            (       'Hobart',),\n",
       "            (   'Launceston',),\n",
       "            (    'Melbourne',),\n",
       "            ( 'MountGambier',),\n",
       "            (  'MountGinini',),\n",
       "            (    'Newcastle',),\n",
       "            (      'Penrith',),\n",
       "            (        'Perth',),\n",
       "            (       'Sydney',),\n",
       "            (   'Townsville',),\n",
       "            (  'Tuggeranong',),\n",
       "            (   'Wollongong',),\n",
       "            (        'WGD_E',),\n",
       "            (      'WGD_ENE',),\n",
       "            (      'WGD_ESE',),\n",
       "            (        'WGD_N',),\n",
       "            (       'WGD_NE',),\n",
       "            (      'WGD_NNE',),\n",
       "            (      'WGD_NNW',),\n",
       "            (       'WGD_NW',),\n",
       "            (        'WGD_S',),\n",
       "            (       'WGD_SE',),\n",
       "            (      'WGD_SSE',),\n",
       "            (      'WGD_SSW',),\n",
       "            (       'WGD_SW',),\n",
       "            (        'WGD_W',),\n",
       "            (      'WGD_WNW',),\n",
       "            (      'WGD_WSW',),\n",
       "            (      'WGD_nan',),\n",
       "            (        'WD9_E',),\n",
       "            (      'WD9_ENE',),\n",
       "            (      'WD9_ESE',),\n",
       "            (        'WD9_N',),\n",
       "            (       'WD9_NE',),\n",
       "            (      'WD9_NNE',),\n",
       "            (      'WD9_NNW',),\n",
       "            (       'WD9_NW',),\n",
       "            (        'WD9_S',),\n",
       "            (       'WD9_SE',),\n",
       "            (      'WD9_SSE',),\n",
       "            (      'WD9_SSW',),\n",
       "            (       'WD9_SW',),\n",
       "            (        'WD9_W',),\n",
       "            (      'WD9_WNW',),\n",
       "            (      'WD9_WSW',),\n",
       "            (      'WD9_nan',),\n",
       "            (       'WD15_E',),\n",
       "            (     'WD15_ENE',),\n",
       "            (     'WD15_ESE',),\n",
       "            (       'WD15_N',),\n",
       "            (      'WD15_NE',),\n",
       "            (     'WD15_NNE',),\n",
       "            (     'WD15_NNW',),\n",
       "            (      'WD15_NW',),\n",
       "            (       'WD15_S',),\n",
       "            (      'WD15_SE',),\n",
       "            (     'WD15_SSE',),\n",
       "            (     'WD15_SSW',),\n",
       "            (      'WD15_SW',),\n",
       "            (       'WD15_W',),\n",
       "            (     'WD15_WNW',),\n",
       "            (     'WD15_WSW',),\n",
       "            (     'WD15_nan',)],\n",
       "           )"
      ]
     },
     "execution_count": 174,
     "metadata": {},
     "output_type": "execute_result"
    }
   ],
   "source": [
    "X_train.columns\n"
   ]
  },
  {
   "cell_type": "markdown",
   "metadata": {},
   "source": [
    "# Predykcja wyników"
   ]
  },
  {
   "cell_type": "code",
   "execution_count": 162,
   "metadata": {},
   "outputs": [
    {
     "data": {
      "text/plain": [
       "array(['No', 'No', 'No', 'No', 'No', 'No', 'No', 'No', 'No', 'No', 'No',\n",
       "       'No', 'No', 'No', 'No', 'No', 'No', 'No', 'No', 'No', 'No', 'No',\n",
       "       'No', 'No', 'No', 'No', 'No', 'No', 'No', 'No', 'No', 'No', 'No',\n",
       "       'No', 'No', 'No', 'No', 'No', 'No', 'No', 'No', 'No', 'No', 'No',\n",
       "       'No', 'No', 'No', 'No', 'No', 'No', 'No', 'No', 'No', 'No', 'No',\n",
       "       'No', 'No', 'No', 'No', 'No', 'No', 'No', 'No', 'No', 'No', 'No',\n",
       "       'No', 'No', 'No', 'No', 'Yes', 'No', 'No', 'No', 'No', 'No', 'No',\n",
       "       'No', 'No', 'No', 'No', 'No', 'No', 'No', 'No', 'No', 'No', 'No',\n",
       "       'No', 'No', 'Yes', 'No', 'No', 'No', 'No', 'No', 'No', 'No', 'No',\n",
       "       'No', 'No', 'No', 'No', 'No', 'No', 'No', 'No', 'No', 'No', 'No',\n",
       "       'No', 'No', 'No', 'No', 'No', 'No', 'No', 'No', 'No', 'No', 'No',\n",
       "       'No', 'No', 'No', 'No', 'No', 'No', 'No', 'No', 'No', 'No', 'No',\n",
       "       'No', 'No', 'No', 'No', 'No', 'No', 'No', 'No', 'No', 'No', 'No',\n",
       "       'No', 'No', 'No', 'No', 'No', 'No', 'No', 'No', 'No', 'No', 'No',\n",
       "       'No', 'No', 'No', 'No', 'No', 'No', 'No', 'No', 'No', 'No', 'No',\n",
       "       'No', 'No', 'No', 'No', 'No', 'No', 'No', 'No', 'No', 'No', 'No',\n",
       "       'No', 'No', 'No', 'No', 'No', 'No', 'No', 'No', 'No', 'No', 'No',\n",
       "       'No', 'No', 'No', 'No', 'No', 'No', 'No', 'No', 'No', 'No', 'No',\n",
       "       'No', 'No', 'No', 'No', 'No', 'No', 'No', 'No', 'No', 'No', 'No',\n",
       "       'No', 'No', 'No', 'No', 'No', 'No', 'No', 'No', 'No', 'No', 'No',\n",
       "       'No', 'No', 'No', 'No', 'No', 'No', 'No', 'No', 'No', 'No', 'No',\n",
       "       'No', 'No', 'No', 'No', 'No', 'No', 'No', 'No', 'No', 'No', 'No',\n",
       "       'No', 'No', 'No', 'No', 'No', 'No', 'No', 'No', 'No', 'No', 'No',\n",
       "       'No', 'No', 'No', 'No', 'No', 'No', 'No', 'No', 'No', 'No', 'No',\n",
       "       'No', 'No', 'No', 'No', 'No', 'No', 'No', 'No', 'No', 'No', 'No',\n",
       "       'No', 'No', 'No', 'No', 'No', 'No', 'No', 'No', 'No', 'No', 'No',\n",
       "       'No', 'No', 'No', 'No', 'No', 'No', 'No', 'No', 'No', 'No', 'No',\n",
       "       'No', 'No', 'No', 'No', 'No', 'No', 'No', 'No', 'No', 'No', 'No',\n",
       "       'No', 'No', 'No', 'No', 'No', 'No', 'No', 'No', 'No', 'No', 'No',\n",
       "       'No', 'No', 'No', 'No', 'No', 'No', 'No', 'No', 'No', 'No', 'No',\n",
       "       'Yes', 'No', 'No', 'No', 'No', 'No', 'No', 'No', 'No', 'No', 'No',\n",
       "       'No', 'No', 'No', 'No', 'No', 'No', 'No', 'No', 'No', 'No', 'No',\n",
       "       'No', 'No', 'No', 'No', 'No', 'No', 'No', 'No', 'No', 'No', 'No',\n",
       "       'No', 'No', 'No', 'Yes', 'No', 'No', 'No', 'No', 'No', 'No', 'No',\n",
       "       'No', 'No', 'No', 'No', 'No', 'No', 'No', 'No', 'No', 'No', 'No',\n",
       "       'No', 'No', 'No', 'No', 'No', 'No', 'No', 'No', 'No', 'No', 'No',\n",
       "       'No', 'No', 'No', 'No', 'No', 'No', 'No', 'No', 'No', 'No', 'No',\n",
       "       'No', 'No', 'No', 'No', 'No', 'No', 'No', 'No', 'No', 'No', 'No',\n",
       "       'No', 'No', 'No', 'No', 'No', 'No', 'No', 'No', 'No', 'No', 'No',\n",
       "       'No', 'No', 'No', 'No', 'No', 'No', 'No', 'No', 'No', 'No', 'No',\n",
       "       'No', 'No', 'No', 'No', 'No', 'No', 'No', 'No', 'No', 'No', 'No',\n",
       "       'No', 'No', 'No'], dtype=object)"
      ]
     },
     "execution_count": 162,
     "metadata": {},
     "output_type": "execute_result"
    }
   ],
   "source": [
    "y_pred_test = logreg.predict(X_test)\n",
    "\n",
    "y_pred_test"
   ]
  },
  {
   "cell_type": "code",
   "execution_count": 163,
   "metadata": {},
   "outputs": [
    {
     "data": {
      "text/plain": [
       "array([0.80017958, 0.77380476, 0.80634579, 0.91917824, 0.76843062,\n",
       "       0.87802217, 0.54978483, 0.8883132 , 0.8090902 , 0.90264311,\n",
       "       0.78077107, 0.8291152 , 0.76570392, 0.77030553, 0.86280241,\n",
       "       0.80273344, 0.84028946, 0.81416666, 0.93535677, 0.75155714,\n",
       "       0.92702963, 0.69433048, 0.86525796, 0.89490271, 0.91148673,\n",
       "       0.90345781, 0.83721746, 0.6283113 , 0.9170668 , 0.7888236 ,\n",
       "       0.75586276, 0.68149181, 0.86019021, 0.9028826 , 0.89322398,\n",
       "       0.84102651, 0.84643304, 0.75824925, 0.70112454, 0.71827476,\n",
       "       0.82652935, 0.78208658, 0.86467668, 0.59236614, 0.94638718,\n",
       "       0.89544862, 0.73364139, 0.753904  , 0.90961396, 0.91451832,\n",
       "       0.80327432, 0.67799581, 0.82517697, 0.87827711, 0.53400698,\n",
       "       0.6956787 , 0.83008735, 0.88214169, 0.77897731, 0.62719832,\n",
       "       0.9289196 , 0.87604549, 0.88344211, 0.65023185, 0.96036081,\n",
       "       0.94151164, 0.84402918, 0.69923605, 0.89773926, 0.95119813,\n",
       "       0.35822382, 0.70227895, 0.87934416, 0.9069285 , 0.93489537,\n",
       "       0.8331057 , 0.79028792, 0.89247334, 0.75563234, 0.8953853 ,\n",
       "       0.8969227 , 0.75626873, 0.90391015, 0.83556447, 0.8586423 ,\n",
       "       0.59767724, 0.82772191, 0.83642349, 0.86081157, 0.69039483,\n",
       "       0.42866067, 0.71262302, 0.63087307, 0.71791093, 0.9458553 ,\n",
       "       0.76291064, 0.905395  , 0.8321992 , 0.96568213, 0.78005585,\n",
       "       0.89931951, 0.88197043, 0.76491477, 0.73313706, 0.84478868,\n",
       "       0.76841858, 0.87833639, 0.92969228, 0.89271495, 0.78569054,\n",
       "       0.90103069, 0.72518797, 0.89120688, 0.85261329, 0.65954435,\n",
       "       0.84796074, 0.75057971, 0.83960857, 0.71687575, 0.5615251 ,\n",
       "       0.7867858 , 0.84428968, 0.75960449, 0.76486389, 0.9554277 ,\n",
       "       0.97568301, 0.85652197, 0.68050498, 0.92646262, 0.65495198,\n",
       "       0.74661281, 0.68922045, 0.84174347, 0.90046978, 0.69002214,\n",
       "       0.8658552 , 0.75438998, 0.94993437, 0.86623912, 0.93594889,\n",
       "       0.62496107, 0.75424347, 0.62179614, 0.75964405, 0.76091352,\n",
       "       0.86935392, 0.94884303, 0.71547597, 0.89131664, 0.85778355,\n",
       "       0.83164224, 0.81555678, 0.80381102, 0.91395161, 0.66429163,\n",
       "       0.8869196 , 0.77386579, 0.77491661, 0.75735111, 0.89295798,\n",
       "       0.78848821, 0.93002608, 0.73241701, 0.6025939 , 0.91929538,\n",
       "       0.8477544 , 0.8490187 , 0.93017454, 0.93846668, 0.79824884,\n",
       "       0.74267754, 0.55453223, 0.84219927, 0.83503067, 0.82062383,\n",
       "       0.58195365, 0.85061808, 0.86175604, 0.85228184, 0.91858055,\n",
       "       0.85742066, 0.80162532, 0.73258613, 0.85538337, 0.85482643,\n",
       "       0.93521774, 0.820265  , 0.9622998 , 0.63937087, 0.92829319,\n",
       "       0.83892728, 0.89383095, 0.83851389, 0.83355275, 0.80457646,\n",
       "       0.6917966 , 0.9175943 , 0.74694748, 0.91865651, 0.86780144,\n",
       "       0.74852969, 0.62756921, 0.75481246, 0.88584536, 0.85251305,\n",
       "       0.52691196, 0.90976572, 0.86695352, 0.83163041, 0.79180452,\n",
       "       0.91193099, 0.9364141 , 0.59326955, 0.80696619, 0.89231147,\n",
       "       0.78671077, 0.86483005, 0.69460395, 0.90367847, 0.78429006,\n",
       "       0.93124948, 0.93074387, 0.71105911, 0.92182716, 0.86940398,\n",
       "       0.60564555, 0.87767389, 0.83223239, 0.84833895, 0.6994571 ,\n",
       "       0.90817987, 0.53648513, 0.84432627, 0.71131971, 0.82895357,\n",
       "       0.86606569, 0.71154611, 0.90997656, 0.87257628, 0.81933736,\n",
       "       0.83390051, 0.91347954, 0.84489927, 0.69229099, 0.63587024,\n",
       "       0.71634972, 0.80347951, 0.88460517, 0.7999875 , 0.73322025,\n",
       "       0.78533206, 0.77146206, 0.87368884, 0.90130831, 0.90122103,\n",
       "       0.86735926, 0.91404592, 0.94215797, 0.90494502, 0.83332487,\n",
       "       0.73145256, 0.87969143, 0.83435983, 0.91566471, 0.90082236,\n",
       "       0.89555748, 0.86089897, 0.79616283, 0.88176107, 0.72082607,\n",
       "       0.73400493, 0.6698986 , 0.78833633, 0.8577762 , 0.94342919,\n",
       "       0.56381626, 0.8088257 , 0.74388738, 0.65872593, 0.54989494,\n",
       "       0.9530258 , 0.84247274, 0.69678483, 0.7575988 , 0.66114098,\n",
       "       0.84295858, 0.7302938 , 0.80815491, 0.89591913, 0.84066125,\n",
       "       0.81049765, 0.74034662, 0.75468383, 0.91200056, 0.67816762,\n",
       "       0.81386129, 0.92685232, 0.85903488, 0.84737803, 0.67630426,\n",
       "       0.81960581, 0.8856038 , 0.78612042, 0.92858229, 0.86958888,\n",
       "       0.89430457, 0.7605978 , 0.81248216, 0.76121065, 0.77867013,\n",
       "       0.8927102 , 0.81211502, 0.90471073, 0.94520015, 0.79905187,\n",
       "       0.9206885 , 0.8289903 , 0.73547091, 0.77514502, 0.84662187,\n",
       "       0.82464406, 0.87840177, 0.61991093, 0.73171727, 0.96000869,\n",
       "       0.90810265, 0.84182059, 0.9136921 , 0.74588526, 0.91970657,\n",
       "       0.49278391, 0.94631644, 0.87951414, 0.93448371, 0.78223466,\n",
       "       0.87835962, 0.87116024, 0.87915149, 0.83489262, 0.94599987,\n",
       "       0.91557659, 0.59099345, 0.72688859, 0.69289127, 0.86250388,\n",
       "       0.85611627, 0.90264031, 0.80542788, 0.95003005, 0.7622292 ,\n",
       "       0.58162417, 0.73705769, 0.92919823, 0.94206139, 0.81335925,\n",
       "       0.89143144, 0.62507912, 0.78401782, 0.71984006, 0.67727972,\n",
       "       0.70564071, 0.76495751, 0.67535244, 0.59635273, 0.88115819,\n",
       "       0.61393335, 0.44925705, 0.8679358 , 0.80230933, 0.81875028,\n",
       "       0.69346771, 0.84002874, 0.84046644, 0.81137169, 0.83655171,\n",
       "       0.88792415, 0.88722371, 0.90834572, 0.93946022, 0.86781267,\n",
       "       0.89432409, 0.6706448 , 0.90568033, 0.90532213, 0.84573659,\n",
       "       0.65533079, 0.92471182, 0.88257106, 0.8779836 , 0.85277595,\n",
       "       0.56295431, 0.9042773 , 0.91862886, 0.91998573, 0.72692978,\n",
       "       0.5638996 , 0.64995547, 0.78494663, 0.87529616, 0.82709597,\n",
       "       0.77572792, 0.74454983, 0.85715551, 0.81256925, 0.85614149,\n",
       "       0.809782  , 0.89983121, 0.90850637, 0.91585608, 0.76105655,\n",
       "       0.80643034, 0.71687222, 0.81839008, 0.71563815, 0.83880284,\n",
       "       0.94348271, 0.75147672, 0.87691301, 0.79693212, 0.89704003,\n",
       "       0.78377066, 0.79791268, 0.7717933 , 0.86207455, 0.78757413,\n",
       "       0.80353817, 0.90863988, 0.67801803, 0.89015315, 0.83548566,\n",
       "       0.68985872, 0.94648107, 0.75570078, 0.75604623, 0.90217266,\n",
       "       0.86656693, 0.7043554 , 0.76368871, 0.87122843, 0.88142232,\n",
       "       0.71906396, 0.93765556, 0.90920863, 0.66462349, 0.90224738,\n",
       "       0.83060158, 0.77487394, 0.59616893, 0.82903795, 0.79065029,\n",
       "       0.87645968, 0.88927119, 0.64008025, 0.8606814 ])"
      ]
     },
     "execution_count": 163,
     "metadata": {},
     "output_type": "execute_result"
    }
   ],
   "source": [
    "logreg.predict_proba(X_test)[:, 0]"
   ]
  },
  {
   "cell_type": "code",
   "execution_count": 164,
   "metadata": {},
   "outputs": [
    {
     "data": {
      "text/plain": [
       "array([0.19982042, 0.22619524, 0.19365421, 0.08082176, 0.23156938,\n",
       "       0.12197783, 0.45021517, 0.1116868 , 0.1909098 , 0.09735689,\n",
       "       0.21922893, 0.1708848 , 0.23429608, 0.22969447, 0.13719759,\n",
       "       0.19726656, 0.15971054, 0.18583334, 0.06464323, 0.24844286,\n",
       "       0.07297037, 0.30566952, 0.13474204, 0.10509729, 0.08851327,\n",
       "       0.09654219, 0.16278254, 0.3716887 , 0.0829332 , 0.2111764 ,\n",
       "       0.24413724, 0.31850819, 0.13980979, 0.0971174 , 0.10677602,\n",
       "       0.15897349, 0.15356696, 0.24175075, 0.29887546, 0.28172524,\n",
       "       0.17347065, 0.21791342, 0.13532332, 0.40763386, 0.05361282,\n",
       "       0.10455138, 0.26635861, 0.246096  , 0.09038604, 0.08548168,\n",
       "       0.19672568, 0.32200419, 0.17482303, 0.12172289, 0.46599302,\n",
       "       0.3043213 , 0.16991265, 0.11785831, 0.22102269, 0.37280168,\n",
       "       0.0710804 , 0.12395451, 0.11655789, 0.34976815, 0.03963919,\n",
       "       0.05848836, 0.15597082, 0.30076395, 0.10226074, 0.04880187,\n",
       "       0.64177618, 0.29772105, 0.12065584, 0.0930715 , 0.06510463,\n",
       "       0.1668943 , 0.20971208, 0.10752666, 0.24436766, 0.1046147 ,\n",
       "       0.1030773 , 0.24373127, 0.09608985, 0.16443553, 0.1413577 ,\n",
       "       0.40232276, 0.17227809, 0.16357651, 0.13918843, 0.30960517,\n",
       "       0.57133933, 0.28737698, 0.36912693, 0.28208907, 0.0541447 ,\n",
       "       0.23708936, 0.094605  , 0.1678008 , 0.03431787, 0.21994415,\n",
       "       0.10068049, 0.11802957, 0.23508523, 0.26686294, 0.15521132,\n",
       "       0.23158142, 0.12166361, 0.07030772, 0.10728505, 0.21430946,\n",
       "       0.09896931, 0.27481203, 0.10879312, 0.14738671, 0.34045565,\n",
       "       0.15203926, 0.24942029, 0.16039143, 0.28312425, 0.4384749 ,\n",
       "       0.2132142 , 0.15571032, 0.24039551, 0.23513611, 0.0445723 ,\n",
       "       0.02431699, 0.14347803, 0.31949502, 0.07353738, 0.34504802,\n",
       "       0.25338719, 0.31077955, 0.15825653, 0.09953022, 0.30997786,\n",
       "       0.1341448 , 0.24561002, 0.05006563, 0.13376088, 0.06405111,\n",
       "       0.37503893, 0.24575653, 0.37820386, 0.24035595, 0.23908648,\n",
       "       0.13064608, 0.05115697, 0.28452403, 0.10868336, 0.14221645,\n",
       "       0.16835776, 0.18444322, 0.19618898, 0.08604839, 0.33570837,\n",
       "       0.1130804 , 0.22613421, 0.22508339, 0.24264889, 0.10704202,\n",
       "       0.21151179, 0.06997392, 0.26758299, 0.3974061 , 0.08070462,\n",
       "       0.1522456 , 0.1509813 , 0.06982546, 0.06153332, 0.20175116,\n",
       "       0.25732246, 0.44546777, 0.15780073, 0.16496933, 0.17937617,\n",
       "       0.41804635, 0.14938192, 0.13824396, 0.14771816, 0.08141945,\n",
       "       0.14257934, 0.19837468, 0.26741387, 0.14461663, 0.14517357,\n",
       "       0.06478226, 0.179735  , 0.0377002 , 0.36062913, 0.07170681,\n",
       "       0.16107272, 0.10616905, 0.16148611, 0.16644725, 0.19542354,\n",
       "       0.3082034 , 0.0824057 , 0.25305252, 0.08134349, 0.13219856,\n",
       "       0.25147031, 0.37243079, 0.24518754, 0.11415464, 0.14748695,\n",
       "       0.47308804, 0.09023428, 0.13304648, 0.16836959, 0.20819548,\n",
       "       0.08806901, 0.0635859 , 0.40673045, 0.19303381, 0.10768853,\n",
       "       0.21328923, 0.13516995, 0.30539605, 0.09632153, 0.21570994,\n",
       "       0.06875052, 0.06925613, 0.28894089, 0.07817284, 0.13059602,\n",
       "       0.39435445, 0.12232611, 0.16776761, 0.15166105, 0.3005429 ,\n",
       "       0.09182013, 0.46351487, 0.15567373, 0.28868029, 0.17104643,\n",
       "       0.13393431, 0.28845389, 0.09002344, 0.12742372, 0.18066264,\n",
       "       0.16609949, 0.08652046, 0.15510073, 0.30770901, 0.36412976,\n",
       "       0.28365028, 0.19652049, 0.11539483, 0.2000125 , 0.26677975,\n",
       "       0.21466794, 0.22853794, 0.12631116, 0.09869169, 0.09877897,\n",
       "       0.13264074, 0.08595408, 0.05784203, 0.09505498, 0.16667513,\n",
       "       0.26854744, 0.12030857, 0.16564017, 0.08433529, 0.09917764,\n",
       "       0.10444252, 0.13910103, 0.20383717, 0.11823893, 0.27917393,\n",
       "       0.26599507, 0.3301014 , 0.21166367, 0.1422238 , 0.05657081,\n",
       "       0.43618374, 0.1911743 , 0.25611262, 0.34127407, 0.45010506,\n",
       "       0.0469742 , 0.15752726, 0.30321517, 0.2424012 , 0.33885902,\n",
       "       0.15704142, 0.2697062 , 0.19184509, 0.10408087, 0.15933875,\n",
       "       0.18950235, 0.25965338, 0.24531617, 0.08799944, 0.32183238,\n",
       "       0.18613871, 0.07314768, 0.14096512, 0.15262197, 0.32369574,\n",
       "       0.18039419, 0.1143962 , 0.21387958, 0.07141771, 0.13041112,\n",
       "       0.10569543, 0.2394022 , 0.18751784, 0.23878935, 0.22132987,\n",
       "       0.1072898 , 0.18788498, 0.09528927, 0.05479985, 0.20094813,\n",
       "       0.0793115 , 0.1710097 , 0.26452909, 0.22485498, 0.15337813,\n",
       "       0.17535594, 0.12159823, 0.38008907, 0.26828273, 0.03999131,\n",
       "       0.09189735, 0.15817941, 0.0863079 , 0.25411474, 0.08029343,\n",
       "       0.50721609, 0.05368356, 0.12048586, 0.06551629, 0.21776534,\n",
       "       0.12164038, 0.12883976, 0.12084851, 0.16510738, 0.05400013,\n",
       "       0.08442341, 0.40900655, 0.27311141, 0.30710873, 0.13749612,\n",
       "       0.14388373, 0.09735969, 0.19457212, 0.04996995, 0.2377708 ,\n",
       "       0.41837583, 0.26294231, 0.07080177, 0.05793861, 0.18664075,\n",
       "       0.10856856, 0.37492088, 0.21598218, 0.28015994, 0.32272028,\n",
       "       0.29435929, 0.23504249, 0.32464756, 0.40364727, 0.11884181,\n",
       "       0.38606665, 0.55074295, 0.1320642 , 0.19769067, 0.18124972,\n",
       "       0.30653229, 0.15997126, 0.15953356, 0.18862831, 0.16344829,\n",
       "       0.11207585, 0.11277629, 0.09165428, 0.06053978, 0.13218733,\n",
       "       0.10567591, 0.3293552 , 0.09431967, 0.09467787, 0.15426341,\n",
       "       0.34466921, 0.07528818, 0.11742894, 0.1220164 , 0.14722405,\n",
       "       0.43704569, 0.0957227 , 0.08137114, 0.08001427, 0.27307022,\n",
       "       0.4361004 , 0.35004453, 0.21505337, 0.12470384, 0.17290403,\n",
       "       0.22427208, 0.25545017, 0.14284449, 0.18743075, 0.14385851,\n",
       "       0.190218  , 0.10016879, 0.09149363, 0.08414392, 0.23894345,\n",
       "       0.19356966, 0.28312778, 0.18160992, 0.28436185, 0.16119716,\n",
       "       0.05651729, 0.24852328, 0.12308699, 0.20306788, 0.10295997,\n",
       "       0.21622934, 0.20208732, 0.2282067 , 0.13792545, 0.21242587,\n",
       "       0.19646183, 0.09136012, 0.32198197, 0.10984685, 0.16451434,\n",
       "       0.31014128, 0.05351893, 0.24429922, 0.24395377, 0.09782734,\n",
       "       0.13343307, 0.2956446 , 0.23631129, 0.12877157, 0.11857768,\n",
       "       0.28093604, 0.06234444, 0.09079137, 0.33537651, 0.09775262,\n",
       "       0.16939842, 0.22512606, 0.40383107, 0.17096205, 0.20934971,\n",
       "       0.12354032, 0.11072881, 0.35991975, 0.1393186 ])"
      ]
     },
     "execution_count": 164,
     "metadata": {},
     "output_type": "execute_result"
    }
   ],
   "source": [
    "logreg.predict_proba(X_test)[:, 1]"
   ]
  },
  {
   "cell_type": "markdown",
   "metadata": {},
   "source": [
    "# Dokładność"
   ]
  },
  {
   "cell_type": "code",
   "execution_count": 165,
   "metadata": {},
   "outputs": [
    {
     "name": "stdout",
     "output_type": "stream",
     "text": [
      "Model accuracy score: 0.8194\n"
     ]
    }
   ],
   "source": [
    "print('Model accuracy score: {0:0.4f}'. format(\n",
    "    accuracy_score(y_test, y_pred_test)))"
   ]
  },
  {
   "cell_type": "markdown",
   "metadata": {},
   "source": [
    "# Macierz pomyłek"
   ]
  },
  {
   "cell_type": "code",
   "execution_count": 166,
   "metadata": {},
   "outputs": [
    {
     "name": "stdout",
     "output_type": "stream",
     "text": [
      "Confusion matrix\n",
      "\n",
      " [[371   3]\n",
      " [ 79   1]]\n",
      "\n",
      "True Positives(TP) =  371\n",
      "\n",
      "True Negatives(TN) =  1\n",
      "\n",
      "False Positives(FP) =  3\n",
      "\n",
      "False Negatives(FN) =  79\n"
     ]
    }
   ],
   "source": [
    "cm = confusion_matrix(y_test, y_pred_test)\n",
    "\n",
    "print('Confusion matrix\\n\\n', cm)\n",
    "\n",
    "print('\\nTrue Positives(TP) = ', cm[0, 0])\n",
    "\n",
    "print('\\nTrue Negatives(TN) = ', cm[1, 1])\n",
    "\n",
    "print('\\nFalse Positives(FP) = ', cm[0, 1])\n",
    "\n",
    "print('\\nFalse Negatives(FN) = ', cm[1, 0])"
   ]
  },
  {
   "cell_type": "markdown",
   "metadata": {},
   "source": [
    "# Wizualizacja macierzy pomyłek z heatmapą seaborn\n"
   ]
  },
  {
   "cell_type": "code",
   "execution_count": 167,
   "metadata": {},
   "outputs": [
    {
     "data": {
      "text/plain": [
       "<Axes: >"
      ]
     },
     "execution_count": 167,
     "metadata": {},
     "output_type": "execute_result"
    },
    {
     "data": {
      "image/png": "[encoded data removed]",
      "text/plain": [
       "<Figure size 640x480 with 2 Axes>"
      ]
     },
     "metadata": {},
     "output_type": "display_data"
    }
   ],
   "source": [
    "cm_matrix = pd.DataFrame(data=cm, columns=['Actual Positive:1', 'Actual Negative:0'],\n",
    "                         index=['Predict Positive:1', 'Predict Negative:0'])\n",
    "\n",
    "sns.heatmap(cm_matrix, annot=True, fmt='d', cmap='YlGnBu')"
   ]
  },
  {
   "cell_type": "markdown",
   "metadata": {},
   "source": [
    "# Dokładność klasyfikatora\n"
   ]
  },
  {
   "cell_type": "code",
   "execution_count": 168,
   "metadata": {},
   "outputs": [
    {
     "name": "stdout",
     "output_type": "stream",
     "text": [
      "Classification accuracy : 0.8194\n"
     ]
    }
   ],
   "source": [
    "TP = cm[0, 0]\n",
    "TN = cm[1, 1]\n",
    "FP = cm[0, 1]\n",
    "FN = cm[1, 0]\n",
    "classification_accuracy = (TP + TN) / float(TP + TN + FP + FN)\n",
    "\n",
    "print('Classification accuracy : {0:0.4f}'.format(classification_accuracy))"
   ]
  },
  {
   "cell_type": "markdown",
   "metadata": {},
   "source": [
    "# Precyzja klasyfikatora"
   ]
  },
  {
   "cell_type": "code",
   "execution_count": 169,
   "metadata": {},
   "outputs": [
    {
     "name": "stdout",
     "output_type": "stream",
     "text": [
      "Precision : 0.9920\n"
     ]
    }
   ],
   "source": [
    "precision = TP / float(TP + FP)\n",
    "\n",
    "print('Precision : {0:0.4f}'.format(precision))"
   ]
  },
  {
   "cell_type": "code",
   "execution_count": 170,
   "metadata": {},
   "outputs": [],
   "source": [
    "y_pred1 = logreg.predict_proba(X_test)[:, 1]"
   ]
  },
  {
   "cell_type": "markdown",
   "metadata": {},
   "source": [
    "# Krzywa ROC"
   ]
  },
  {
   "cell_type": "code",
   "execution_count": 171,
   "metadata": {},
   "outputs": [
    {
     "data": {
      "image/png": "[encoded data removed]",
      "text/plain": [
       "<Figure size 600x400 with 1 Axes>"
      ]
     },
     "metadata": {},
     "output_type": "display_data"
    }
   ],
   "source": [
    "fpr, tpr, thresholds = roc_curve(y_test, y_pred1, pos_label='Yes')\n",
    "\n",
    "plt.figure(figsize=(6, 4))\n",
    "\n",
    "plt.plot(fpr, tpr, linewidth=2)\n",
    "\n",
    "plt.plot([0, 1], [0, 1], 'k--')\n",
    "\n",
    "plt.rcParams['font.size'] = 12\n",
    "\n",
    "plt.title('ROC curve for RainTomorrow classifier')\n",
    "\n",
    "plt.xlabel('False Positive Rate (1 - Specificity)')\n",
    "\n",
    "plt.ylabel('True Positive Rate (Sensitivity)')\n",
    "\n",
    "plt.show()"
   ]
  },
  {
   "cell_type": "markdown",
   "metadata": {},
   "source": [
    "# Eskport modelu"
   ]
  },
  {
   "cell_type": "code",
   "execution_count": 172,
   "metadata": {},
   "outputs": [],
   "source": [
    "filename = \"model.h5\"\n",
    "pickle.dump(logreg, open(filename, 'wb'))\n",
    "pickle.dump(encoder, open('encoder.pkl', 'wb'))\n",
    "model_columns = list(X_train.columns)\n",
    "with open('model_columns.pkl', 'wb') as file:\n",
    "    pickle.dump(model_columns, file)\n"
   ]
  },
  {
   "cell_type": "code",
   "execution_count": 173,
   "metadata": {},
   "outputs": [
    {
     "name": "stdout",
     "output_type": "stream",
     "text": [
      "91\n"
     ]
    }
   ],
   "source": [
    "total_features = len(numerical) - len(['Temp3pm', 'Temp9am', 'Humidity9am'])\n",
    "total_features += 2\n",
    "total_features += sum([len(x[column].unique()) for column in categorical])\n",
    "print(total_features)"
   ]
  }
 ],
 "metadata": {
  "kernelspec": {
   "display_name": "Python 3",
   "language": "python",
   "name": "python3"
  },
  "language_info": {
   "codemirror_mode": {
    "name": "ipython",
    "version": 3
   },
   "file_extension": ".py",
   "mimetype": "text/x-python",
   "name": "python",
   "nbconvert_exporter": "python",
   "pygments_lexer": "ipython3",
   "version": "3.10.11"
  }
 },
 "nbformat": 4,
 "nbformat_minor": 2
}
