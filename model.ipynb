{
 "cells": [
  {
   "cell_type": "markdown",
   "metadata": {},
   "source": [
    "# Import bibliotek"
   ]
  },
  {
   "cell_type": "code",
   "execution_count": 57,
   "metadata": {},
   "outputs": [],
   "source": [
    "import pandas as pd\n",
    "from sklearn.model_selection import train_test_split\n",
    "import category_encoders as ce\n",
    "from sklearn.linear_model import LogisticRegression\n",
    "from sklearn.metrics import accuracy_score, confusion_matrix, roc_curve\n",
    "from sklearn import metrics\n",
    "import matplotlib.pyplot as plt\n",
    "import seaborn as sns\n",
    "import pickle\n",
    "from sklearn.preprocessing import MinMaxScaler"
   ]
  },
  {
   "cell_type": "markdown",
   "metadata": {},
   "source": [
    "# Wybranie datasetu i podział na zbiory"
   ]
  },
  {
   "cell_type": "code",
   "execution_count": 58,
   "metadata": {},
   "outputs": [],
   "source": [
    "def choose_dataset(train_data, test_data):\n",
    "    train_data = train_data\n",
    "    test_data = test_data\n",
    "    return train_data, test_data"
   ]
  },
  {
   "cell_type": "code",
   "execution_count": 59,
   "metadata": {},
   "outputs": [],
   "source": [
    "x = pd.read_csv(\"data/data2008.csv\")\n",
    "y = pd.read_csv('data/data2009.csv')"
   ]
  },
  {
   "cell_type": "code",
   "execution_count": 60,
   "metadata": {},
   "outputs": [],
   "source": [
    "if (len(x)) > len(y):\n",
    "    x = x[:len(y)]\n",
    "else:\n",
    "    y = y[:len(x)]"
   ]
  },
  {
   "cell_type": "markdown",
   "metadata": {},
   "source": [
    "# Sprawdzenie istnienia brakujących wartości"
   ]
  },
  {
   "cell_type": "code",
   "execution_count": 61,
   "metadata": {},
   "outputs": [],
   "source": [
    "x = x[x[\"RainTomorrow\"].notna()]\n",
    "y = y[y[\"RainTomorrow\"].notna()]"
   ]
  },
  {
   "cell_type": "markdown",
   "metadata": {},
   "source": [
    "# Wyświetl wartości kategoryczne i liczbowe"
   ]
  },
  {
   "cell_type": "code",
   "execution_count": 62,
   "metadata": {},
   "outputs": [
    {
     "data": {
      "text/plain": [
       "['Location',\n",
       " 'WindGustDir',\n",
       " 'WindDir9am',\n",
       " 'WindDir3pm',\n",
       " 'RainToday',\n",
       " 'RainTomorrow']"
      ]
     },
     "execution_count": 62,
     "metadata": {},
     "output_type": "execute_result"
    }
   ],
   "source": [
    "categorical = [col for col in x.columns if x[col].dtypes == 'O']\n",
    "\n",
    "categorical"
   ]
  },
  {
   "cell_type": "code",
   "execution_count": 63,
   "metadata": {},
   "outputs": [
    {
     "data": {
      "text/plain": [
       "['MinTemp',\n",
       " 'MaxTemp',\n",
       " 'Rainfall',\n",
       " 'WindGustSpeed',\n",
       " 'WindSpeed9am',\n",
       " 'WindSpeed3pm',\n",
       " 'Humidity9am',\n",
       " 'Humidity3pm',\n",
       " 'Pressure9am',\n",
       " 'Pressure3pm',\n",
       " 'Temp9am',\n",
       " 'Temp3pm',\n",
       " 'Latitude',\n",
       " 'Longitude',\n",
       " 'Year',\n",
       " 'Month',\n",
       " 'Day']"
      ]
     },
     "execution_count": 63,
     "metadata": {},
     "output_type": "execute_result"
    }
   ],
   "source": [
    "numerical = [col for col in x.columns if x[col].dtypes != 'O']\n",
    "\n",
    "numerical"
   ]
  },
  {
   "cell_type": "markdown",
   "metadata": {},
   "source": [
    "# Odrzucanie wartości wysoce skorelowanych"
   ]
  },
  {
   "cell_type": "code",
   "execution_count": 64,
   "metadata": {},
   "outputs": [],
   "source": [
    "x = x.drop(['Temp3pm', 'Temp9am', 'Humidity9am'], axis=1)\n",
    "y = y.drop(['Temp3pm', 'Temp9am', 'Humidity9am'], axis=1)"
   ]
  },
  {
   "cell_type": "code",
   "execution_count": 65,
   "metadata": {},
   "outputs": [
    {
     "data": {
      "text/plain": [
       "Index(['Location', 'MinTemp', 'MaxTemp', 'Rainfall', 'WindGustDir',\n",
       "       'WindGustSpeed', 'WindDir9am', 'WindDir3pm', 'WindSpeed9am',\n",
       "       'WindSpeed3pm', 'Humidity3pm', 'Pressure9am', 'Pressure3pm',\n",
       "       'RainToday', 'RainTomorrow', 'Latitude', 'Longitude', 'Year', 'Month',\n",
       "       'Day'],\n",
       "      dtype='object')"
      ]
     },
     "execution_count": 65,
     "metadata": {},
     "output_type": "execute_result"
    }
   ],
   "source": [
    "x.columns"
   ]
  },
  {
   "cell_type": "markdown",
   "metadata": {},
   "source": [
    "# Podział danych"
   ]
  },
  {
   "cell_type": "code",
   "execution_count": 66,
   "metadata": {},
   "outputs": [],
   "source": [
    "X = x.drop(['RainTomorrow'], axis=1)\n",
    "\n",
    "y = y['RainTomorrow']"
   ]
  },
  {
   "cell_type": "code",
   "execution_count": 67,
   "metadata": {},
   "outputs": [
    {
     "data": {
      "text/plain": [
       "((1816, 19), (454, 19))"
      ]
     },
     "execution_count": 67,
     "metadata": {},
     "output_type": "execute_result"
    }
   ],
   "source": [
    "X_train, X_test, y_train, y_test = train_test_split(\n",
    "    X, y, test_size=0.2, random_state=0)\n",
    "X_train.shape, X_test.shape"
   ]
  },
  {
   "cell_type": "markdown",
   "metadata": {},
   "source": [
    "# Zakodowanie zmiennej RainToday"
   ]
  },
  {
   "cell_type": "code",
   "execution_count": 68,
   "metadata": {},
   "outputs": [],
   "source": [
    "encoder = ce.BinaryEncoder(cols=['RainToday'])\n",
    "\n",
    "X_train = encoder.fit_transform(X_train)\n",
    "\n",
    "X_test = encoder.transform(X_test)"
   ]
  },
  {
   "cell_type": "markdown",
   "metadata": {},
   "source": [
    "# Utworzenie zbioru treningowego."
   ]
  },
  {
   "cell_type": "code",
   "execution_count": 69,
   "metadata": {},
   "outputs": [
    {
     "name": "stdout",
     "output_type": "stream",
     "text": [
      "Index(['Location', 'MinTemp', 'MaxTemp', 'Rainfall', 'WindGustDir',\n",
      "       'WindGustSpeed', 'WindDir9am', 'WindDir3pm', 'WindSpeed9am',\n",
      "       'WindSpeed3pm', 'Humidity3pm', 'Pressure9am', 'Pressure3pm',\n",
      "       'RainToday_0', 'RainToday_1', 'Latitude', 'Longitude', 'Year', 'Month',\n",
      "       'Day'],\n",
      "      dtype='object')\n"
     ]
    }
   ],
   "source": [
    "print(X_train.columns)"
   ]
  },
  {
   "cell_type": "code",
   "execution_count": 70,
   "metadata": {},
   "outputs": [],
   "source": [
    "numerical = [col for col in numerical if col not in ['Humidity9am', 'Temp9am', 'Temp3pm']]\n",
    "\n",
    "X_train = pd.concat([X_train[numerical], X_train[['RainToday_0', 'RainToday_1']],\n",
    "                     pd.get_dummies(X_train.Location),\n",
    "                     pd.get_dummies(X_train.WindGustDir),\n",
    "                     pd.get_dummies(X_train.WindDir9am),\n",
    "                     pd.get_dummies(X_train.WindDir3pm)], axis=1)"
   ]
  },
  {
   "cell_type": "markdown",
   "metadata": {},
   "source": [
    "# Utworzenie zbioru testowego."
   ]
  },
  {
   "cell_type": "code",
   "execution_count": 71,
   "metadata": {},
   "outputs": [],
   "source": [
    "X_test = pd.concat([X_test[numerical], X_test[['RainToday_0', 'RainToday_1']],\n",
    "                    pd.get_dummies(X_test.Location),\n",
    "                    pd.get_dummies(X_test.WindGustDir),\n",
    "                    pd.get_dummies(X_test.WindDir9am),\n",
    "                    pd.get_dummies(X_test.WindDir3pm),], axis=1)"
   ]
  },
  {
   "cell_type": "code",
   "execution_count": 72,
   "metadata": {},
   "outputs": [],
   "source": [
    "cols = X_train.columns"
   ]
  },
  {
   "cell_type": "code",
   "execution_count": 73,
   "metadata": {},
   "outputs": [],
   "source": [
    "scaler = MinMaxScaler()\n",
    "\n",
    "X_train = scaler.fit_transform(X_train)\n",
    "\n",
    "X_test = scaler.transform(X_test)"
   ]
  },
  {
   "cell_type": "code",
   "execution_count": 74,
   "metadata": {},
   "outputs": [],
   "source": [
    "X_train = pd.DataFrame(X_train, columns=[cols])"
   ]
  },
  {
   "cell_type": "code",
   "execution_count": 75,
   "metadata": {},
   "outputs": [],
   "source": [
    "X_test = pd.DataFrame(X_test, columns=[cols])"
   ]
  },
  {
   "cell_type": "markdown",
   "metadata": {},
   "source": [
    "# Trenowanie modelu"
   ]
  },
  {
   "cell_type": "code",
   "execution_count": 76,
   "metadata": {},
   "outputs": [
    {
     "data": {
      "text/html": [
       "<style>#sk-container-id-3 {\n",
       "  /* Definition of color scheme common for light and dark mode */\n",
       "  --sklearn-color-text: black;\n",
       "  --sklearn-color-line: gray;\n",
       "  /* Definition of color scheme for unfitted estimators */\n",
       "  --sklearn-color-unfitted-level-0: #fff5e6;\n",
       "  --sklearn-color-unfitted-level-1: #f6e4d2;\n",
       "  --sklearn-color-unfitted-level-2: #ffe0b3;\n",
       "  --sklearn-color-unfitted-level-3: chocolate;\n",
       "  /* Definition of color scheme for fitted estimators */\n",
       "  --sklearn-color-fitted-level-0: #f0f8ff;\n",
       "  --sklearn-color-fitted-level-1: #d4ebff;\n",
       "  --sklearn-color-fitted-level-2: #b3dbfd;\n",
       "  --sklearn-color-fitted-level-3: cornflowerblue;\n",
       "\n",
       "  /* Specific color for light theme */\n",
       "  --sklearn-color-text-on-default-background: var(--sg-text-color, var(--theme-code-foreground, var(--jp-content-font-color1, black)));\n",
       "  --sklearn-color-background: var(--sg-background-color, var(--theme-background, var(--jp-layout-color0, white)));\n",
       "  --sklearn-color-border-box: var(--sg-text-color, var(--theme-code-foreground, var(--jp-content-font-color1, black)));\n",
       "  --sklearn-color-icon: #696969;\n",
       "\n",
       "  @media (prefers-color-scheme: dark) {\n",
       "    /* Redefinition of color scheme for dark theme */\n",
       "    --sklearn-color-text-on-default-background: var(--sg-text-color, var(--theme-code-foreground, var(--jp-content-font-color1, white)));\n",
       "    --sklearn-color-background: var(--sg-background-color, var(--theme-background, var(--jp-layout-color0, #111)));\n",
       "    --sklearn-color-border-box: var(--sg-text-color, var(--theme-code-foreground, var(--jp-content-font-color1, white)));\n",
       "    --sklearn-color-icon: #878787;\n",
       "  }\n",
       "}\n",
       "\n",
       "#sk-container-id-3 {\n",
       "  color: var(--sklearn-color-text);\n",
       "}\n",
       "\n",
       "#sk-container-id-3 pre {\n",
       "  padding: 0;\n",
       "}\n",
       "\n",
       "#sk-container-id-3 input.sk-hidden--visually {\n",
       "  border: 0;\n",
       "  clip: rect(1px 1px 1px 1px);\n",
       "  clip: rect(1px, 1px, 1px, 1px);\n",
       "  height: 1px;\n",
       "  margin: -1px;\n",
       "  overflow: hidden;\n",
       "  padding: 0;\n",
       "  position: absolute;\n",
       "  width: 1px;\n",
       "}\n",
       "\n",
       "#sk-container-id-3 div.sk-dashed-wrapped {\n",
       "  border: 1px dashed var(--sklearn-color-line);\n",
       "  margin: 0 0.4em 0.5em 0.4em;\n",
       "  box-sizing: border-box;\n",
       "  padding-bottom: 0.4em;\n",
       "  background-color: var(--sklearn-color-background);\n",
       "}\n",
       "\n",
       "#sk-container-id-3 div.sk-container {\n",
       "  /* jupyter's `normalize.less` sets `[hidden] { display: none; }`\n",
       "     but bootstrap.min.css set `[hidden] { display: none !important; }`\n",
       "     so we also need the `!important` here to be able to override the\n",
       "     default hidden behavior on the sphinx rendered scikit-learn.org.\n",
       "     See: https://github.com/scikit-learn/scikit-learn/issues/21755 */\n",
       "  display: inline-block !important;\n",
       "  position: relative;\n",
       "}\n",
       "\n",
       "#sk-container-id-3 div.sk-text-repr-fallback {\n",
       "  display: none;\n",
       "}\n",
       "\n",
       "div.sk-parallel-item,\n",
       "div.sk-serial,\n",
       "div.sk-item {\n",
       "  /* draw centered vertical line to link estimators */\n",
       "  background-image: linear-gradient(var(--sklearn-color-text-on-default-background), var(--sklearn-color-text-on-default-background));\n",
       "  background-size: 2px 100%;\n",
       "  background-repeat: no-repeat;\n",
       "  background-position: center center;\n",
       "}\n",
       "\n",
       "/* Parallel-specific style estimator block */\n",
       "\n",
       "#sk-container-id-3 div.sk-parallel-item::after {\n",
       "  content: \"\";\n",
       "  width: 100%;\n",
       "  border-bottom: 2px solid var(--sklearn-color-text-on-default-background);\n",
       "  flex-grow: 1;\n",
       "}\n",
       "\n",
       "#sk-container-id-3 div.sk-parallel {\n",
       "  display: flex;\n",
       "  align-items: stretch;\n",
       "  justify-content: center;\n",
       "  background-color: var(--sklearn-color-background);\n",
       "  position: relative;\n",
       "}\n",
       "\n",
       "#sk-container-id-3 div.sk-parallel-item {\n",
       "  display: flex;\n",
       "  flex-direction: column;\n",
       "}\n",
       "\n",
       "#sk-container-id-3 div.sk-parallel-item:first-child::after {\n",
       "  align-self: flex-end;\n",
       "  width: 50%;\n",
       "}\n",
       "\n",
       "#sk-container-id-3 div.sk-parallel-item:last-child::after {\n",
       "  align-self: flex-start;\n",
       "  width: 50%;\n",
       "}\n",
       "\n",
       "#sk-container-id-3 div.sk-parallel-item:only-child::after {\n",
       "  width: 0;\n",
       "}\n",
       "\n",
       "/* Serial-specific style estimator block */\n",
       "\n",
       "#sk-container-id-3 div.sk-serial {\n",
       "  display: flex;\n",
       "  flex-direction: column;\n",
       "  align-items: center;\n",
       "  background-color: var(--sklearn-color-background);\n",
       "  padding-right: 1em;\n",
       "  padding-left: 1em;\n",
       "}\n",
       "\n",
       "\n",
       "/* Toggleable style: style used for estimator/Pipeline/ColumnTransformer box that is\n",
       "clickable and can be expanded/collapsed.\n",
       "- Pipeline and ColumnTransformer use this feature and define the default style\n",
       "- Estimators will overwrite some part of the style using the `sk-estimator` class\n",
       "*/\n",
       "\n",
       "/* Pipeline and ColumnTransformer style (default) */\n",
       "\n",
       "#sk-container-id-3 div.sk-toggleable {\n",
       "  /* Default theme specific background. It is overwritten whether we have a\n",
       "  specific estimator or a Pipeline/ColumnTransformer */\n",
       "  background-color: var(--sklearn-color-background);\n",
       "}\n",
       "\n",
       "/* Toggleable label */\n",
       "#sk-container-id-3 label.sk-toggleable__label {\n",
       "  cursor: pointer;\n",
       "  display: block;\n",
       "  width: 100%;\n",
       "  margin-bottom: 0;\n",
       "  padding: 0.5em;\n",
       "  box-sizing: border-box;\n",
       "  text-align: center;\n",
       "}\n",
       "\n",
       "#sk-container-id-3 label.sk-toggleable__label-arrow:before {\n",
       "  /* Arrow on the left of the label */\n",
       "  content: \"▸\";\n",
       "  float: left;\n",
       "  margin-right: 0.25em;\n",
       "  color: var(--sklearn-color-icon);\n",
       "}\n",
       "\n",
       "#sk-container-id-3 label.sk-toggleable__label-arrow:hover:before {\n",
       "  color: var(--sklearn-color-text);\n",
       "}\n",
       "\n",
       "/* Toggleable content - dropdown */\n",
       "\n",
       "#sk-container-id-3 div.sk-toggleable__content {\n",
       "  max-height: 0;\n",
       "  max-width: 0;\n",
       "  overflow: hidden;\n",
       "  text-align: left;\n",
       "  /* unfitted */\n",
       "  background-color: var(--sklearn-color-unfitted-level-0);\n",
       "}\n",
       "\n",
       "#sk-container-id-3 div.sk-toggleable__content.fitted {\n",
       "  /* fitted */\n",
       "  background-color: var(--sklearn-color-fitted-level-0);\n",
       "}\n",
       "\n",
       "#sk-container-id-3 div.sk-toggleable__content pre {\n",
       "  margin: 0.2em;\n",
       "  border-radius: 0.25em;\n",
       "  color: var(--sklearn-color-text);\n",
       "  /* unfitted */\n",
       "  background-color: var(--sklearn-color-unfitted-level-0);\n",
       "}\n",
       "\n",
       "#sk-container-id-3 div.sk-toggleable__content.fitted pre {\n",
       "  /* unfitted */\n",
       "  background-color: var(--sklearn-color-fitted-level-0);\n",
       "}\n",
       "\n",
       "#sk-container-id-3 input.sk-toggleable__control:checked~div.sk-toggleable__content {\n",
       "  /* Expand drop-down */\n",
       "  max-height: 200px;\n",
       "  max-width: 100%;\n",
       "  overflow: auto;\n",
       "}\n",
       "\n",
       "#sk-container-id-3 input.sk-toggleable__control:checked~label.sk-toggleable__label-arrow:before {\n",
       "  content: \"▾\";\n",
       "}\n",
       "\n",
       "/* Pipeline/ColumnTransformer-specific style */\n",
       "\n",
       "#sk-container-id-3 div.sk-label input.sk-toggleable__control:checked~label.sk-toggleable__label {\n",
       "  color: var(--sklearn-color-text);\n",
       "  background-color: var(--sklearn-color-unfitted-level-2);\n",
       "}\n",
       "\n",
       "#sk-container-id-3 div.sk-label.fitted input.sk-toggleable__control:checked~label.sk-toggleable__label {\n",
       "  background-color: var(--sklearn-color-fitted-level-2);\n",
       "}\n",
       "\n",
       "/* Estimator-specific style */\n",
       "\n",
       "/* Colorize estimator box */\n",
       "#sk-container-id-3 div.sk-estimator input.sk-toggleable__control:checked~label.sk-toggleable__label {\n",
       "  /* unfitted */\n",
       "  background-color: var(--sklearn-color-unfitted-level-2);\n",
       "}\n",
       "\n",
       "#sk-container-id-3 div.sk-estimator.fitted input.sk-toggleable__control:checked~label.sk-toggleable__label {\n",
       "  /* fitted */\n",
       "  background-color: var(--sklearn-color-fitted-level-2);\n",
       "}\n",
       "\n",
       "#sk-container-id-3 div.sk-label label.sk-toggleable__label,\n",
       "#sk-container-id-3 div.sk-label label {\n",
       "  /* The background is the default theme color */\n",
       "  color: var(--sklearn-color-text-on-default-background);\n",
       "}\n",
       "\n",
       "/* On hover, darken the color of the background */\n",
       "#sk-container-id-3 div.sk-label:hover label.sk-toggleable__label {\n",
       "  color: var(--sklearn-color-text);\n",
       "  background-color: var(--sklearn-color-unfitted-level-2);\n",
       "}\n",
       "\n",
       "/* Label box, darken color on hover, fitted */\n",
       "#sk-container-id-3 div.sk-label.fitted:hover label.sk-toggleable__label.fitted {\n",
       "  color: var(--sklearn-color-text);\n",
       "  background-color: var(--sklearn-color-fitted-level-2);\n",
       "}\n",
       "\n",
       "/* Estimator label */\n",
       "\n",
       "#sk-container-id-3 div.sk-label label {\n",
       "  font-family: monospace;\n",
       "  font-weight: bold;\n",
       "  display: inline-block;\n",
       "  line-height: 1.2em;\n",
       "}\n",
       "\n",
       "#sk-container-id-3 div.sk-label-container {\n",
       "  text-align: center;\n",
       "}\n",
       "\n",
       "/* Estimator-specific */\n",
       "#sk-container-id-3 div.sk-estimator {\n",
       "  font-family: monospace;\n",
       "  border: 1px dotted var(--sklearn-color-border-box);\n",
       "  border-radius: 0.25em;\n",
       "  box-sizing: border-box;\n",
       "  margin-bottom: 0.5em;\n",
       "  /* unfitted */\n",
       "  background-color: var(--sklearn-color-unfitted-level-0);\n",
       "}\n",
       "\n",
       "#sk-container-id-3 div.sk-estimator.fitted {\n",
       "  /* fitted */\n",
       "  background-color: var(--sklearn-color-fitted-level-0);\n",
       "}\n",
       "\n",
       "/* on hover */\n",
       "#sk-container-id-3 div.sk-estimator:hover {\n",
       "  /* unfitted */\n",
       "  background-color: var(--sklearn-color-unfitted-level-2);\n",
       "}\n",
       "\n",
       "#sk-container-id-3 div.sk-estimator.fitted:hover {\n",
       "  /* fitted */\n",
       "  background-color: var(--sklearn-color-fitted-level-2);\n",
       "}\n",
       "\n",
       "/* Specification for estimator info (e.g. \"i\" and \"?\") */\n",
       "\n",
       "/* Common style for \"i\" and \"?\" */\n",
       "\n",
       ".sk-estimator-doc-link,\n",
       "a:link.sk-estimator-doc-link,\n",
       "a:visited.sk-estimator-doc-link {\n",
       "  float: right;\n",
       "  font-size: smaller;\n",
       "  line-height: 1em;\n",
       "  font-family: monospace;\n",
       "  background-color: var(--sklearn-color-background);\n",
       "  border-radius: 1em;\n",
       "  height: 1em;\n",
       "  width: 1em;\n",
       "  text-decoration: none !important;\n",
       "  margin-left: 1ex;\n",
       "  /* unfitted */\n",
       "  border: var(--sklearn-color-unfitted-level-1) 1pt solid;\n",
       "  color: var(--sklearn-color-unfitted-level-1);\n",
       "}\n",
       "\n",
       ".sk-estimator-doc-link.fitted,\n",
       "a:link.sk-estimator-doc-link.fitted,\n",
       "a:visited.sk-estimator-doc-link.fitted {\n",
       "  /* fitted */\n",
       "  border: var(--sklearn-color-fitted-level-1) 1pt solid;\n",
       "  color: var(--sklearn-color-fitted-level-1);\n",
       "}\n",
       "\n",
       "/* On hover */\n",
       "div.sk-estimator:hover .sk-estimator-doc-link:hover,\n",
       ".sk-estimator-doc-link:hover,\n",
       "div.sk-label-container:hover .sk-estimator-doc-link:hover,\n",
       ".sk-estimator-doc-link:hover {\n",
       "  /* unfitted */\n",
       "  background-color: var(--sklearn-color-unfitted-level-3);\n",
       "  color: var(--sklearn-color-background);\n",
       "  text-decoration: none;\n",
       "}\n",
       "\n",
       "div.sk-estimator.fitted:hover .sk-estimator-doc-link.fitted:hover,\n",
       ".sk-estimator-doc-link.fitted:hover,\n",
       "div.sk-label-container:hover .sk-estimator-doc-link.fitted:hover,\n",
       ".sk-estimator-doc-link.fitted:hover {\n",
       "  /* fitted */\n",
       "  background-color: var(--sklearn-color-fitted-level-3);\n",
       "  color: var(--sklearn-color-background);\n",
       "  text-decoration: none;\n",
       "}\n",
       "\n",
       "/* Span, style for the box shown on hovering the info icon */\n",
       ".sk-estimator-doc-link span {\n",
       "  display: none;\n",
       "  z-index: 9999;\n",
       "  position: relative;\n",
       "  font-weight: normal;\n",
       "  right: .2ex;\n",
       "  padding: .5ex;\n",
       "  margin: .5ex;\n",
       "  width: min-content;\n",
       "  min-width: 20ex;\n",
       "  max-width: 50ex;\n",
       "  color: var(--sklearn-color-text);\n",
       "  box-shadow: 2pt 2pt 4pt #999;\n",
       "  /* unfitted */\n",
       "  background: var(--sklearn-color-unfitted-level-0);\n",
       "  border: .5pt solid var(--sklearn-color-unfitted-level-3);\n",
       "}\n",
       "\n",
       ".sk-estimator-doc-link.fitted span {\n",
       "  /* fitted */\n",
       "  background: var(--sklearn-color-fitted-level-0);\n",
       "  border: var(--sklearn-color-fitted-level-3);\n",
       "}\n",
       "\n",
       ".sk-estimator-doc-link:hover span {\n",
       "  display: block;\n",
       "}\n",
       "\n",
       "/* \"?\"-specific style due to the `<a>` HTML tag */\n",
       "\n",
       "#sk-container-id-3 a.estimator_doc_link {\n",
       "  float: right;\n",
       "  font-size: 1rem;\n",
       "  line-height: 1em;\n",
       "  font-family: monospace;\n",
       "  background-color: var(--sklearn-color-background);\n",
       "  border-radius: 1rem;\n",
       "  height: 1rem;\n",
       "  width: 1rem;\n",
       "  text-decoration: none;\n",
       "  /* unfitted */\n",
       "  color: var(--sklearn-color-unfitted-level-1);\n",
       "  border: var(--sklearn-color-unfitted-level-1) 1pt solid;\n",
       "}\n",
       "\n",
       "#sk-container-id-3 a.estimator_doc_link.fitted {\n",
       "  /* fitted */\n",
       "  border: var(--sklearn-color-fitted-level-1) 1pt solid;\n",
       "  color: var(--sklearn-color-fitted-level-1);\n",
       "}\n",
       "\n",
       "/* On hover */\n",
       "#sk-container-id-3 a.estimator_doc_link:hover {\n",
       "  /* unfitted */\n",
       "  background-color: var(--sklearn-color-unfitted-level-3);\n",
       "  color: var(--sklearn-color-background);\n",
       "  text-decoration: none;\n",
       "}\n",
       "\n",
       "#sk-container-id-3 a.estimator_doc_link.fitted:hover {\n",
       "  /* fitted */\n",
       "  background-color: var(--sklearn-color-fitted-level-3);\n",
       "}\n",
       "</style><div id=\"sk-container-id-3\" class=\"sk-top-container\"><div class=\"sk-text-repr-fallback\"><pre>LogisticRegression(random_state=0, solver=&#x27;liblinear&#x27;)</pre><b>In a Jupyter environment, please rerun this cell to show the HTML representation or trust the notebook. <br />On GitHub, the HTML representation is unable to render, please try loading this page with nbviewer.org.</b></div><div class=\"sk-container\" hidden><div class=\"sk-item\"><div class=\"sk-estimator fitted sk-toggleable\"><input class=\"sk-toggleable__control sk-hidden--visually\" id=\"sk-estimator-id-3\" type=\"checkbox\" checked><label for=\"sk-estimator-id-3\" class=\"sk-toggleable__label fitted sk-toggleable__label-arrow fitted\">&nbsp;&nbsp;LogisticRegression<a class=\"sk-estimator-doc-link fitted\" rel=\"noreferrer\" target=\"_blank\" href=\"https://scikit-learn.org/1.4/modules/generated/sklearn.linear_model.LogisticRegression.html\">?<span>Documentation for LogisticRegression</span></a><span class=\"sk-estimator-doc-link fitted\">i<span>Fitted</span></span></label><div class=\"sk-toggleable__content fitted\"><pre>LogisticRegression(random_state=0, solver=&#x27;liblinear&#x27;)</pre></div> </div></div></div></div>"
      ],
      "text/plain": [
       "LogisticRegression(random_state=0, solver='liblinear')"
      ]
     },
     "execution_count": 76,
     "metadata": {},
     "output_type": "execute_result"
    }
   ],
   "source": [
    "# instantiate the model\n",
    "logreg = LogisticRegression(solver='liblinear', random_state=0)\n",
    "\n",
    "\n",
    "# fit the model\n",
    "logreg.fit(X_train, y_train)"
   ]
  },
  {
   "cell_type": "markdown",
   "metadata": {},
   "source": [
    "# Kodowanie zmiennych kategorycznych"
   ]
  },
  {
   "cell_type": "code",
   "execution_count": 77,
   "metadata": {},
   "outputs": [
    {
     "data": {
      "text/plain": [
       "\"from sklearn import preprocessing\\nle = preprocessing.LabelEncoder()\\ncleaned_data['Location'] = le.fit_transform(cleaned_data['Location'])\\ncleaned_data['WindDir9am'] = le.fit_transform(cleaned_data['WindDir9am'])\\ncleaned_data['WindDir3pm'] = le.fit_transform(cleaned_data['WindDir3pm'])\\ncleaned_data['WindGustDir'] = le.fit_transform(cleaned_data['WindGustDir'])\\n\""
      ]
     },
     "execution_count": 77,
     "metadata": {},
     "output_type": "execute_result"
    }
   ],
   "source": [
    "'''from sklearn import preprocessing\n",
    "le = preprocessing.LabelEncoder()\n",
    "cleaned_data['Location'] = le.fit_transform(cleaned_data['Location'])\n",
    "cleaned_data['WindDir9am'] = le.fit_transform(cleaned_data['WindDir9am'])\n",
    "cleaned_data['WindDir3pm'] = le.fit_transform(cleaned_data['WindDir3pm'])\n",
    "cleaned_data['WindGustDir'] = le.fit_transform(cleaned_data['WindGustDir'])\n",
    "'''"
   ]
  },
  {
   "cell_type": "code",
   "execution_count": 78,
   "metadata": {},
   "outputs": [
    {
     "data": {
      "text/plain": [
       "MultiIndex([(      'MinTemp',),\n",
       "            (      'MaxTemp',),\n",
       "            (     'Rainfall',),\n",
       "            ('WindGustSpeed',),\n",
       "            ( 'WindSpeed9am',),\n",
       "            ( 'WindSpeed3pm',),\n",
       "            (  'Humidity3pm',),\n",
       "            (  'Pressure9am',),\n",
       "            (  'Pressure3pm',),\n",
       "            (     'Latitude',),\n",
       "            (    'Longitude',),\n",
       "            (         'Year',),\n",
       "            (        'Month',),\n",
       "            (          'Day',),\n",
       "            (  'RainToday_0',),\n",
       "            (  'RainToday_1',),\n",
       "            (     'Adelaide',),\n",
       "            (       'Albany',),\n",
       "            (       'Albury',),\n",
       "            ( 'AliceSprings',),\n",
       "            (     'Ballarat',),\n",
       "            (      'Bendigo',),\n",
       "            (     'Brisbane',),\n",
       "            (       'Cairns',),\n",
       "            (     'Canberra',),\n",
       "            (       'Darwin',),\n",
       "            (    'GoldCoast',),\n",
       "            (       'Hobart',),\n",
       "            (   'Launceston',),\n",
       "            (    'Melbourne',),\n",
       "            ( 'MountGambier',),\n",
       "            (  'MountGinini',),\n",
       "            (    'Newcastle',),\n",
       "            (      'Penrith',),\n",
       "            (        'Perth',),\n",
       "            (       'Sydney',),\n",
       "            (   'Townsville',),\n",
       "            (  'Tuggeranong',),\n",
       "            (   'Wollongong',),\n",
       "            (            'E',),\n",
       "            (          'ENE',),\n",
       "            (          'ESE',),\n",
       "            (            'N',),\n",
       "            (           'NE',),\n",
       "            (          'NNE',),\n",
       "            (          'NNW',),\n",
       "            (           'NW',),\n",
       "            (            'S',),\n",
       "            (           'SE',),\n",
       "            (          'SSE',),\n",
       "            (          'SSW',),\n",
       "            (           'SW',),\n",
       "            (            'W',),\n",
       "            (          'WNW',),\n",
       "            (          'WSW',),\n",
       "            (            'E',),\n",
       "            (          'ENE',),\n",
       "            (          'ESE',),\n",
       "            (            'N',),\n",
       "            (           'NE',),\n",
       "            (          'NNE',),\n",
       "            (          'NNW',),\n",
       "            (           'NW',),\n",
       "            (            'S',),\n",
       "            (           'SE',),\n",
       "            (          'SSE',),\n",
       "            (          'SSW',),\n",
       "            (           'SW',),\n",
       "            (            'W',),\n",
       "            (          'WNW',),\n",
       "            (          'WSW',),\n",
       "            (            'E',),\n",
       "            (          'ENE',),\n",
       "            (          'ESE',),\n",
       "            (            'N',),\n",
       "            (           'NE',),\n",
       "            (          'NNE',),\n",
       "            (          'NNW',),\n",
       "            (           'NW',),\n",
       "            (            'S',),\n",
       "            (           'SE',),\n",
       "            (          'SSE',),\n",
       "            (          'SSW',),\n",
       "            (           'SW',),\n",
       "            (            'W',),\n",
       "            (          'WNW',),\n",
       "            (          'WSW',)],\n",
       "           )"
      ]
     },
     "execution_count": 78,
     "metadata": {},
     "output_type": "execute_result"
    }
   ],
   "source": [
    "X_train.columns"
   ]
  },
  {
   "cell_type": "markdown",
   "metadata": {},
   "source": [
    "# Predykcja wyników"
   ]
  },
  {
   "cell_type": "code",
   "execution_count": 79,
   "metadata": {},
   "outputs": [
    {
     "data": {
      "text/plain": [
       "array(['No', 'No', 'No', 'No', 'No', 'No', 'No', 'No', 'No', 'No', 'No',\n",
       "       'No', 'No', 'No', 'No', 'No', 'No', 'No', 'No', 'No', 'No', 'No',\n",
       "       'No', 'No', 'No', 'No', 'No', 'No', 'No', 'No', 'No', 'No', 'No',\n",
       "       'No', 'No', 'No', 'No', 'No', 'No', 'No', 'No', 'No', 'No', 'No',\n",
       "       'No', 'No', 'No', 'No', 'No', 'No', 'No', 'No', 'No', 'No', 'No',\n",
       "       'No', 'No', 'No', 'No', 'No', 'No', 'No', 'No', 'No', 'No', 'No',\n",
       "       'No', 'No', 'No', 'No', 'Yes', 'No', 'No', 'No', 'No', 'No', 'No',\n",
       "       'No', 'No', 'No', 'No', 'No', 'No', 'No', 'No', 'No', 'No', 'No',\n",
       "       'No', 'No', 'Yes', 'No', 'No', 'No', 'No', 'No', 'No', 'No', 'No',\n",
       "       'No', 'No', 'No', 'No', 'No', 'No', 'No', 'No', 'No', 'No', 'No',\n",
       "       'No', 'No', 'No', 'No', 'No', 'No', 'No', 'No', 'No', 'No', 'No',\n",
       "       'No', 'No', 'No', 'No', 'No', 'No', 'No', 'No', 'No', 'No', 'No',\n",
       "       'No', 'No', 'No', 'No', 'No', 'No', 'No', 'No', 'No', 'No', 'No',\n",
       "       'No', 'No', 'No', 'No', 'No', 'No', 'No', 'No', 'No', 'No', 'No',\n",
       "       'No', 'No', 'No', 'No', 'No', 'No', 'No', 'No', 'No', 'No', 'No',\n",
       "       'No', 'No', 'No', 'No', 'No', 'No', 'No', 'No', 'No', 'No', 'No',\n",
       "       'No', 'No', 'No', 'No', 'No', 'No', 'No', 'No', 'No', 'No', 'No',\n",
       "       'No', 'No', 'No', 'No', 'No', 'No', 'No', 'No', 'No', 'No', 'No',\n",
       "       'No', 'No', 'No', 'No', 'No', 'No', 'No', 'No', 'No', 'No', 'No',\n",
       "       'No', 'No', 'No', 'No', 'No', 'No', 'No', 'No', 'No', 'No', 'No',\n",
       "       'No', 'No', 'No', 'No', 'No', 'No', 'No', 'No', 'No', 'No', 'No',\n",
       "       'No', 'No', 'No', 'No', 'No', 'No', 'No', 'No', 'No', 'No', 'No',\n",
       "       'No', 'No', 'No', 'No', 'No', 'No', 'No', 'No', 'No', 'No', 'No',\n",
       "       'No', 'No', 'No', 'No', 'No', 'No', 'No', 'No', 'No', 'No', 'No',\n",
       "       'No', 'No', 'No', 'No', 'No', 'No', 'No', 'No', 'No', 'No', 'No',\n",
       "       'No', 'No', 'No', 'No', 'No', 'No', 'No', 'No', 'No', 'No', 'No',\n",
       "       'No', 'No', 'No', 'No', 'No', 'No', 'No', 'No', 'No', 'No', 'No',\n",
       "       'No', 'No', 'No', 'No', 'No', 'No', 'No', 'No', 'No', 'No', 'No',\n",
       "       'No', 'No', 'No', 'No', 'No', 'No', 'No', 'No', 'No', 'No', 'No',\n",
       "       'No', 'No', 'No', 'No', 'No', 'No', 'No', 'No', 'No', 'No', 'No',\n",
       "       'Yes', 'No', 'No', 'No', 'No', 'No', 'No', 'No', 'No', 'No', 'No',\n",
       "       'No', 'No', 'No', 'No', 'No', 'No', 'No', 'No', 'No', 'No', 'No',\n",
       "       'No', 'No', 'No', 'No', 'No', 'No', 'No', 'No', 'No', 'No', 'No',\n",
       "       'No', 'No', 'No', 'Yes', 'No', 'No', 'No', 'No', 'No', 'No', 'No',\n",
       "       'No', 'No', 'No', 'No', 'No', 'No', 'No', 'No', 'No', 'No', 'No',\n",
       "       'No', 'No', 'No', 'No', 'No', 'No', 'No', 'No', 'No', 'No', 'No',\n",
       "       'No', 'No', 'No', 'No', 'No', 'No', 'No', 'No', 'No', 'No', 'No',\n",
       "       'No', 'No', 'No', 'No', 'No', 'No', 'No', 'No', 'No', 'No', 'No',\n",
       "       'No', 'No', 'No', 'No', 'No', 'No', 'No', 'No', 'No', 'No', 'No',\n",
       "       'No', 'No', 'No', 'No', 'No', 'No', 'No', 'No', 'No', 'No', 'No',\n",
       "       'No', 'No', 'No', 'No', 'No', 'No', 'No', 'No', 'No', 'No', 'No',\n",
       "       'No', 'No', 'No'], dtype=object)"
      ]
     },
     "execution_count": 79,
     "metadata": {},
     "output_type": "execute_result"
    }
   ],
   "source": [
    "y_pred_test = logreg.predict(X_test)\n",
    "\n",
    "y_pred_test"
   ]
  },
  {
   "cell_type": "code",
   "execution_count": 80,
   "metadata": {},
   "outputs": [
    {
     "data": {
      "text/plain": [
       "array([0.79888261, 0.77497464, 0.8106916 , 0.91531836, 0.78262481,\n",
       "       0.88960586, 0.55165883, 0.88636162, 0.8059202 , 0.90431558,\n",
       "       0.78692057, 0.82332025, 0.76292443, 0.7651362 , 0.85506088,\n",
       "       0.80992515, 0.83682687, 0.80525092, 0.93772798, 0.74595081,\n",
       "       0.93154896, 0.69488307, 0.86094912, 0.888312  , 0.90920585,\n",
       "       0.81145955, 0.83584714, 0.63223322, 0.91658033, 0.78614543,\n",
       "       0.75619977, 0.69207667, 0.85683717, 0.90084936, 0.89484601,\n",
       "       0.83843104, 0.85282974, 0.75970743, 0.69326891, 0.730666  ,\n",
       "       0.82236462, 0.78283853, 0.87078029, 0.50286825, 0.94621442,\n",
       "       0.89602381, 0.7322623 , 0.75603109, 0.90283827, 0.83968757,\n",
       "       0.80471329, 0.67851102, 0.82926217, 0.80777781, 0.55404872,\n",
       "       0.69778184, 0.82597569, 0.88268173, 0.77743955, 0.61773306,\n",
       "       0.92736597, 0.87967903, 0.89185789, 0.64810909, 0.96022346,\n",
       "       0.94233393, 0.84452421, 0.70872155, 0.91563402, 0.91051198,\n",
       "       0.36723343, 0.69377965, 0.88271309, 0.91330013, 0.93399748,\n",
       "       0.82652413, 0.8035312 , 0.89062626, 0.76161115, 0.89372833,\n",
       "       0.89526563, 0.76172412, 0.89876534, 0.83878009, 0.86694171,\n",
       "       0.61061533, 0.8352051 , 0.8617663 , 0.86260274, 0.69291796,\n",
       "       0.44034756, 0.70907983, 0.63963932, 0.7073512 , 0.9457794 ,\n",
       "       0.76464176, 0.91162095, 0.83408853, 0.92559913, 0.77487462,\n",
       "       0.89871593, 0.88880631, 0.7645307 , 0.73453458, 0.84630052,\n",
       "       0.76165401, 0.88229048, 0.92859024, 0.88351674, 0.79174139,\n",
       "       0.90239803, 0.72507705, 0.89424255, 0.85558391, 0.66750274,\n",
       "       0.8553072 , 0.74880389, 0.84557237, 0.73143163, 0.55991274,\n",
       "       0.78019967, 0.84709621, 0.77335245, 0.76521784, 0.94317386,\n",
       "       0.97458278, 0.77981475, 0.678493  , 0.92692079, 0.65658341,\n",
       "       0.74580732, 0.69748992, 0.83498475, 0.87318797, 0.69849107,\n",
       "       0.86434181, 0.75695258, 0.95271789, 0.86453396, 0.93180523,\n",
       "       0.61671535, 0.75958103, 0.63562635, 0.7722889 , 0.7761751 ,\n",
       "       0.87099014, 0.90627002, 0.72045372, 0.887125  , 0.86216183,\n",
       "       0.83327142, 0.81239636, 0.80594224, 0.91129672, 0.67816257,\n",
       "       0.76900163, 0.76766614, 0.77432321, 0.76064722, 0.88213261,\n",
       "       0.77243035, 0.92793457, 0.73648663, 0.59658674, 0.92224434,\n",
       "       0.80500358, 0.85314285, 0.92570329, 0.94165861, 0.79945077,\n",
       "       0.73778752, 0.55316196, 0.84609871, 0.72420651, 0.8196886 ,\n",
       "       0.56110163, 0.85049932, 0.85529927, 0.85230269, 0.90903511,\n",
       "       0.85525708, 0.81126699, 0.75619074, 0.8761044 , 0.84857649,\n",
       "       0.93377096, 0.82254354, 0.96288065, 0.64564103, 0.92816406,\n",
       "       0.84365824, 0.90013063, 0.84858447, 0.83852881, 0.81236297,\n",
       "       0.68181179, 0.90865813, 0.73694501, 0.91598958, 0.87261719,\n",
       "       0.7516959 , 0.62468755, 0.7506329 , 0.88285095, 0.86138199,\n",
       "       0.55262985, 0.90778174, 0.86416851, 0.82274342, 0.79575662,\n",
       "       0.91121318, 0.93738985, 0.60937365, 0.81395423, 0.8967138 ,\n",
       "       0.78270569, 0.86934659, 0.69056358, 0.84893388, 0.79103705,\n",
       "       0.93218612, 0.92907015, 0.70786368, 0.92397041, 0.87644249,\n",
       "       0.62444051, 0.8834752 , 0.83805008, 0.84410153, 0.71175843,\n",
       "       0.91468874, 0.55113878, 0.84070842, 0.71537852, 0.83266737,\n",
       "       0.86698771, 0.70547673, 0.90822646, 0.87846907, 0.82615046,\n",
       "       0.83143736, 0.91320753, 0.83948454, 0.67697627, 0.64302739,\n",
       "       0.71085861, 0.80112191, 0.8845917 , 0.79448544, 0.72899247,\n",
       "       0.78823264, 0.78437521, 0.881102  , 0.90211269, 0.90960957,\n",
       "       0.86313085, 0.91011388, 0.94600054, 0.9102587 , 0.831373  ,\n",
       "       0.72772432, 0.88147401, 0.83741635, 0.91638058, 0.80090689,\n",
       "       0.89802528, 0.86191284, 0.7890388 , 0.88481349, 0.72214723,\n",
       "       0.73185598, 0.67226307, 0.78657098, 0.86633266, 0.93617294,\n",
       "       0.54528956, 0.80610113, 0.75624372, 0.67106895, 0.55255589,\n",
       "       0.95680239, 0.8464864 , 0.6542168 , 0.77060045, 0.67517635,\n",
       "       0.83308731, 0.74126141, 0.80024746, 0.891738  , 0.83948364,\n",
       "       0.80851806, 0.73887363, 0.76288383, 0.82829212, 0.68793328,\n",
       "       0.81802914, 0.93199913, 0.84752009, 0.84895567, 0.66512765,\n",
       "       0.82169396, 0.88325636, 0.79211141, 0.93192265, 0.86723132,\n",
       "       0.89669739, 0.76081893, 0.79515856, 0.74395188, 0.78433005,\n",
       "       0.79523943, 0.82380967, 0.9201043 , 0.9418779 , 0.79251864,\n",
       "       0.91749255, 0.82710979, 0.7345934 , 0.78365166, 0.84893844,\n",
       "       0.82599048, 0.87497741, 0.61738105, 0.73592645, 0.96046219,\n",
       "       0.90938395, 0.83870954, 0.91379294, 0.75015068, 0.9196077 ,\n",
       "       0.49312288, 0.94414774, 0.88020073, 0.93708603, 0.76424092,\n",
       "       0.88328247, 0.86859876, 0.87886488, 0.83242184, 0.95270109,\n",
       "       0.91812732, 0.62221043, 0.72975012, 0.70991518, 0.86495417,\n",
       "       0.85185415, 0.87937025, 0.80377328, 0.94643043, 0.75900316,\n",
       "       0.58936193, 0.75190607, 0.93448504, 0.94199098, 0.82072516,\n",
       "       0.88968803, 0.64586178, 0.79269569, 0.7189683 , 0.7017451 ,\n",
       "       0.64434187, 0.77337423, 0.6801837 , 0.59057187, 0.88661489,\n",
       "       0.62105509, 0.46195283, 0.86943635, 0.86265174, 0.81823884,\n",
       "       0.71899322, 0.83840779, 0.84757991, 0.82565284, 0.83276095,\n",
       "       0.88936396, 0.88431057, 0.89824731, 0.94126144, 0.87095512,\n",
       "       0.89037962, 0.66691395, 0.90605209, 0.9058851 , 0.84341473,\n",
       "       0.7293995 , 0.92334684, 0.88468712, 0.8828382 , 0.84846352,\n",
       "       0.5779348 , 0.90685513, 0.88650407, 0.91857687, 0.72767847,\n",
       "       0.5770754 , 0.64323777, 0.79491479, 0.87852748, 0.83148799,\n",
       "       0.77624771, 0.74077653, 0.86029102, 0.81857884, 0.85700169,\n",
       "       0.80831272, 0.89441762, 0.88688125, 0.91159001, 0.76522043,\n",
       "       0.81081666, 0.7143188 , 0.82242012, 0.71351668, 0.79685384,\n",
       "       0.94149943, 0.7559325 , 0.88279146, 0.79759516, 0.91346358,\n",
       "       0.78947189, 0.80916636, 0.76927042, 0.86170882, 0.78827966,\n",
       "       0.81205153, 0.9129702 , 0.6940493 , 0.88960719, 0.83187748,\n",
       "       0.52982789, 0.94583489, 0.75410513, 0.75158024, 0.89690938,\n",
       "       0.85945531, 0.69890237, 0.77883261, 0.87863066, 0.88040006,\n",
       "       0.73110404, 0.94459891, 0.90923822, 0.67075669, 0.90513475,\n",
       "       0.84562784, 0.7693975 , 0.59733183, 0.83010751, 0.78785547,\n",
       "       0.88421653, 0.88720706, 0.64987354, 0.86407988])"
      ]
     },
     "execution_count": 80,
     "metadata": {},
     "output_type": "execute_result"
    }
   ],
   "source": [
    "logreg.predict_proba(X_test)[:, 0]"
   ]
  },
  {
   "cell_type": "code",
   "execution_count": 81,
   "metadata": {},
   "outputs": [
    {
     "data": {
      "text/plain": [
       "array([0.20111739, 0.22502536, 0.1893084 , 0.08468164, 0.21737519,\n",
       "       0.11039414, 0.44834117, 0.11363838, 0.1940798 , 0.09568442,\n",
       "       0.21307943, 0.17667975, 0.23707557, 0.2348638 , 0.14493912,\n",
       "       0.19007485, 0.16317313, 0.19474908, 0.06227202, 0.25404919,\n",
       "       0.06845104, 0.30511693, 0.13905088, 0.111688  , 0.09079415,\n",
       "       0.18854045, 0.16415286, 0.36776678, 0.08341967, 0.21385457,\n",
       "       0.24380023, 0.30792333, 0.14316283, 0.09915064, 0.10515399,\n",
       "       0.16156896, 0.14717026, 0.24029257, 0.30673109, 0.269334  ,\n",
       "       0.17763538, 0.21716147, 0.12921971, 0.49713175, 0.05378558,\n",
       "       0.10397619, 0.2677377 , 0.24396891, 0.09716173, 0.16031243,\n",
       "       0.19528671, 0.32148898, 0.17073783, 0.19222219, 0.44595128,\n",
       "       0.30221816, 0.17402431, 0.11731827, 0.22256045, 0.38226694,\n",
       "       0.07263403, 0.12032097, 0.10814211, 0.35189091, 0.03977654,\n",
       "       0.05766607, 0.15547579, 0.29127845, 0.08436598, 0.08948802,\n",
       "       0.63276657, 0.30622035, 0.11728691, 0.08669987, 0.06600252,\n",
       "       0.17347587, 0.1964688 , 0.10937374, 0.23838885, 0.10627167,\n",
       "       0.10473437, 0.23827588, 0.10123466, 0.16121991, 0.13305829,\n",
       "       0.38938467, 0.1647949 , 0.1382337 , 0.13739726, 0.30708204,\n",
       "       0.55965244, 0.29092017, 0.36036068, 0.2926488 , 0.0542206 ,\n",
       "       0.23535824, 0.08837905, 0.16591147, 0.07440087, 0.22512538,\n",
       "       0.10128407, 0.11119369, 0.2354693 , 0.26546542, 0.15369948,\n",
       "       0.23834599, 0.11770952, 0.07140976, 0.11648326, 0.20825861,\n",
       "       0.09760197, 0.27492295, 0.10575745, 0.14441609, 0.33249726,\n",
       "       0.1446928 , 0.25119611, 0.15442763, 0.26856837, 0.44008726,\n",
       "       0.21980033, 0.15290379, 0.22664755, 0.23478216, 0.05682614,\n",
       "       0.02541722, 0.22018525, 0.321507  , 0.07307921, 0.34341659,\n",
       "       0.25419268, 0.30251008, 0.16501525, 0.12681203, 0.30150893,\n",
       "       0.13565819, 0.24304742, 0.04728211, 0.13546604, 0.06819477,\n",
       "       0.38328465, 0.24041897, 0.36437365, 0.2277111 , 0.2238249 ,\n",
       "       0.12900986, 0.09372998, 0.27954628, 0.112875  , 0.13783817,\n",
       "       0.16672858, 0.18760364, 0.19405776, 0.08870328, 0.32183743,\n",
       "       0.23099837, 0.23233386, 0.22567679, 0.23935278, 0.11786739,\n",
       "       0.22756965, 0.07206543, 0.26351337, 0.40341326, 0.07775566,\n",
       "       0.19499642, 0.14685715, 0.07429671, 0.05834139, 0.20054923,\n",
       "       0.26221248, 0.44683804, 0.15390129, 0.27579349, 0.1803114 ,\n",
       "       0.43889837, 0.14950068, 0.14470073, 0.14769731, 0.09096489,\n",
       "       0.14474292, 0.18873301, 0.24380926, 0.1238956 , 0.15142351,\n",
       "       0.06622904, 0.17745646, 0.03711935, 0.35435897, 0.07183594,\n",
       "       0.15634176, 0.09986937, 0.15141553, 0.16147119, 0.18763703,\n",
       "       0.31818821, 0.09134187, 0.26305499, 0.08401042, 0.12738281,\n",
       "       0.2483041 , 0.37531245, 0.2493671 , 0.11714905, 0.13861801,\n",
       "       0.44737015, 0.09221826, 0.13583149, 0.17725658, 0.20424338,\n",
       "       0.08878682, 0.06261015, 0.39062635, 0.18604577, 0.1032862 ,\n",
       "       0.21729431, 0.13065341, 0.30943642, 0.15106612, 0.20896295,\n",
       "       0.06781388, 0.07092985, 0.29213632, 0.07602959, 0.12355751,\n",
       "       0.37555949, 0.1165248 , 0.16194992, 0.15589847, 0.28824157,\n",
       "       0.08531126, 0.44886122, 0.15929158, 0.28462148, 0.16733263,\n",
       "       0.13301229, 0.29452327, 0.09177354, 0.12153093, 0.17384954,\n",
       "       0.16856264, 0.08679247, 0.16051546, 0.32302373, 0.35697261,\n",
       "       0.28914139, 0.19887809, 0.1154083 , 0.20551456, 0.27100753,\n",
       "       0.21176736, 0.21562479, 0.118898  , 0.09788731, 0.09039043,\n",
       "       0.13686915, 0.08988612, 0.05399946, 0.0897413 , 0.168627  ,\n",
       "       0.27227568, 0.11852599, 0.16258365, 0.08361942, 0.19909311,\n",
       "       0.10197472, 0.13808716, 0.2109612 , 0.11518651, 0.27785277,\n",
       "       0.26814402, 0.32773693, 0.21342902, 0.13366734, 0.06382706,\n",
       "       0.45471044, 0.19389887, 0.24375628, 0.32893105, 0.44744411,\n",
       "       0.04319761, 0.1535136 , 0.3457832 , 0.22939955, 0.32482365,\n",
       "       0.16691269, 0.25873859, 0.19975254, 0.108262  , 0.16051636,\n",
       "       0.19148194, 0.26112637, 0.23711617, 0.17170788, 0.31206672,\n",
       "       0.18197086, 0.06800087, 0.15247991, 0.15104433, 0.33487235,\n",
       "       0.17830604, 0.11674364, 0.20788859, 0.06807735, 0.13276868,\n",
       "       0.10330261, 0.23918107, 0.20484144, 0.25604812, 0.21566995,\n",
       "       0.20476057, 0.17619033, 0.0798957 , 0.0581221 , 0.20748136,\n",
       "       0.08250745, 0.17289021, 0.2654066 , 0.21634834, 0.15106156,\n",
       "       0.17400952, 0.12502259, 0.38261895, 0.26407355, 0.03953781,\n",
       "       0.09061605, 0.16129046, 0.08620706, 0.24984932, 0.0803923 ,\n",
       "       0.50687712, 0.05585226, 0.11979927, 0.06291397, 0.23575908,\n",
       "       0.11671753, 0.13140124, 0.12113512, 0.16757816, 0.04729891,\n",
       "       0.08187268, 0.37778957, 0.27024988, 0.29008482, 0.13504583,\n",
       "       0.14814585, 0.12062975, 0.19622672, 0.05356957, 0.24099684,\n",
       "       0.41063807, 0.24809393, 0.06551496, 0.05800902, 0.17927484,\n",
       "       0.11031197, 0.35413822, 0.20730431, 0.2810317 , 0.2982549 ,\n",
       "       0.35565813, 0.22662577, 0.3198163 , 0.40942813, 0.11338511,\n",
       "       0.37894491, 0.53804717, 0.13056365, 0.13734826, 0.18176116,\n",
       "       0.28100678, 0.16159221, 0.15242009, 0.17434716, 0.16723905,\n",
       "       0.11063604, 0.11568943, 0.10175269, 0.05873856, 0.12904488,\n",
       "       0.10962038, 0.33308605, 0.09394791, 0.0941149 , 0.15658527,\n",
       "       0.2706005 , 0.07665316, 0.11531288, 0.1171618 , 0.15153648,\n",
       "       0.4220652 , 0.09314487, 0.11349593, 0.08142313, 0.27232153,\n",
       "       0.4229246 , 0.35676223, 0.20508521, 0.12147252, 0.16851201,\n",
       "       0.22375229, 0.25922347, 0.13970898, 0.18142116, 0.14299831,\n",
       "       0.19168728, 0.10558238, 0.11311875, 0.08840999, 0.23477957,\n",
       "       0.18918334, 0.2856812 , 0.17757988, 0.28648332, 0.20314616,\n",
       "       0.05850057, 0.2440675 , 0.11720854, 0.20240484, 0.08653642,\n",
       "       0.21052811, 0.19083364, 0.23072958, 0.13829118, 0.21172034,\n",
       "       0.18794847, 0.0870298 , 0.3059507 , 0.11039281, 0.16812252,\n",
       "       0.47017211, 0.05416511, 0.24589487, 0.24841976, 0.10309062,\n",
       "       0.14054469, 0.30109763, 0.22116739, 0.12136934, 0.11959994,\n",
       "       0.26889596, 0.05540109, 0.09076178, 0.32924331, 0.09486525,\n",
       "       0.15437216, 0.2306025 , 0.40266817, 0.16989249, 0.21214453,\n",
       "       0.11578347, 0.11279294, 0.35012646, 0.13592012])"
      ]
     },
     "execution_count": 81,
     "metadata": {},
     "output_type": "execute_result"
    }
   ],
   "source": [
    "logreg.predict_proba(X_test)[:, 1]"
   ]
  },
  {
   "cell_type": "markdown",
   "metadata": {},
   "source": [
    "# Dokładność"
   ]
  },
  {
   "cell_type": "code",
   "execution_count": 82,
   "metadata": {},
   "outputs": [
    {
     "name": "stdout",
     "output_type": "stream",
     "text": [
      "Model accuracy score: 0.8194\n"
     ]
    }
   ],
   "source": [
    "print('Model accuracy score: {0:0.4f}'. format(\n",
    "    accuracy_score(y_test, y_pred_test)))"
   ]
  },
  {
   "cell_type": "markdown",
   "metadata": {},
   "source": [
    "# Macierz pomyłek"
   ]
  },
  {
   "cell_type": "code",
   "execution_count": 83,
   "metadata": {},
   "outputs": [
    {
     "name": "stdout",
     "output_type": "stream",
     "text": [
      "Confusion matrix\n",
      "\n",
      " [[371   3]\n",
      " [ 79   1]]\n",
      "\n",
      "True Positives(TP) =  371\n",
      "\n",
      "True Negatives(TN) =  1\n",
      "\n",
      "False Positives(FP) =  3\n",
      "\n",
      "False Negatives(FN) =  79\n"
     ]
    }
   ],
   "source": [
    "cm = confusion_matrix(y_test, y_pred_test)\n",
    "\n",
    "print('Confusion matrix\\n\\n', cm)\n",
    "\n",
    "print('\\nTrue Positives(TP) = ', cm[0, 0])\n",
    "\n",
    "print('\\nTrue Negatives(TN) = ', cm[1, 1])\n",
    "\n",
    "print('\\nFalse Positives(FP) = ', cm[0, 1])\n",
    "\n",
    "print('\\nFalse Negatives(FN) = ', cm[1, 0])"
   ]
  },
  {
   "cell_type": "markdown",
   "metadata": {},
   "source": [
    "# Wizualizacja macierzy pomyłek z heatmapą seaborn\n"
   ]
  },
  {
   "cell_type": "code",
   "execution_count": 84,
   "metadata": {},
   "outputs": [
    {
     "data": {
      "text/plain": [
       "<Axes: >"
      ]
     },
     "execution_count": 84,
     "metadata": {},
     "output_type": "execute_result"
    },
    {
     "data": {
      "image/png": "[encoded data removed]",
      "text/plain": [
       "<Figure size 640x480 with 2 Axes>"
      ]
     },
     "metadata": {},
     "output_type": "display_data"
    }
   ],
   "source": [
    "cm_matrix = pd.DataFrame(data=cm, columns=['Actual Positive:1', 'Actual Negative:0'],\n",
    "                         index=['Predict Positive:1', 'Predict Negative:0'])\n",
    "\n",
    "sns.heatmap(cm_matrix, annot=True, fmt='d', cmap='YlGnBu')"
   ]
  },
  {
   "cell_type": "markdown",
   "metadata": {},
   "source": [
    "# Dokładność klasyfikatora\n"
   ]
  },
  {
   "cell_type": "code",
   "execution_count": 85,
   "metadata": {},
   "outputs": [
    {
     "name": "stdout",
     "output_type": "stream",
     "text": [
      "Classification accuracy : 0.8194\n"
     ]
    }
   ],
   "source": [
    "TP = cm[0, 0]\n",
    "TN = cm[1, 1]\n",
    "FP = cm[0, 1]\n",
    "FN = cm[1, 0]\n",
    "classification_accuracy = (TP + TN) / float(TP + TN + FP + FN)\n",
    "\n",
    "print('Classification accuracy : {0:0.4f}'.format(classification_accuracy))"
   ]
  },
  {
   "cell_type": "markdown",
   "metadata": {},
   "source": [
    "# Precyzja klasyfikatora"
   ]
  },
  {
   "cell_type": "code",
   "execution_count": 86,
   "metadata": {},
   "outputs": [
    {
     "name": "stdout",
     "output_type": "stream",
     "text": [
      "Precision : 0.9920\n"
     ]
    }
   ],
   "source": [
    "precision = TP / float(TP + FP)\n",
    "\n",
    "print('Precision : {0:0.4f}'.format(precision))"
   ]
  },
  {
   "cell_type": "code",
   "execution_count": 87,
   "metadata": {},
   "outputs": [],
   "source": [
    "y_pred1 = logreg.predict_proba(X_test)[:, 1]"
   ]
  },
  {
   "cell_type": "markdown",
   "metadata": {},
   "source": [
    "# Krzywa ROC"
   ]
  },
  {
   "cell_type": "code",
   "execution_count": 88,
   "metadata": {},
   "outputs": [
    {
     "data": {
      "image/png": "[encoded data removed]",
      "text/plain": [
       "<Figure size 600x400 with 1 Axes>"
      ]
     },
     "metadata": {},
     "output_type": "display_data"
    }
   ],
   "source": [
    "fpr, tpr, thresholds = roc_curve(y_test, y_pred1, pos_label='Yes')\n",
    "\n",
    "plt.figure(figsize=(6, 4))\n",
    "\n",
    "plt.plot(fpr, tpr, linewidth=2)\n",
    "\n",
    "plt.plot([0, 1], [0, 1], 'k--')\n",
    "\n",
    "plt.rcParams['font.size'] = 12\n",
    "\n",
    "plt.title('ROC curve for RainTomorrow classifier')\n",
    "\n",
    "plt.xlabel('False Positive Rate (1 - Specificity)')\n",
    "\n",
    "plt.ylabel('True Positive Rate (Sensitivity)')\n",
    "\n",
    "plt.show()"
   ]
  },
  {
   "cell_type": "markdown",
   "metadata": {},
   "source": [
    "# Eskport modelu"
   ]
  },
  {
   "cell_type": "code",
   "execution_count": 89,
   "metadata": {},
   "outputs": [],
   "source": [
    "filename = \"model.h5\"\n",
    "pickle.dump(logreg, open(filename, 'wb'))\n",
    "with open('encoder.pkl', 'wb') as file:\n",
    "    pickle.dump(encoder, file)\n",
    "\n"
   ]
  },
  {
   "cell_type": "code",
   "execution_count": 90,
   "metadata": {},
   "outputs": [
    {
     "name": "stdout",
     "output_type": "stream",
     "text": [
      "88\n"
     ]
    }
   ],
   "source": [
    "total_features = len(numerical) - len(['Temp3pm', 'Temp9am', 'Humidity9am'])\n",
    "total_features += 2\n",
    "total_features += sum([len(x[column].unique()) for column in categorical])\n",
    "print(total_features)"
   ]
  }
 ],
 "metadata": {
  "kernelspec": {
   "display_name": "Python 3",
   "language": "python",
   "name": "python3"
  },
  "language_info": {
   "codemirror_mode": {
    "name": "ipython",
    "version": 3
   },
   "file_extension": ".py",
   "mimetype": "text/x-python",
   "name": "python",
   "nbconvert_exporter": "python",
   "pygments_lexer": "ipython3",
   "version": "3.12.1"
  }
 },
 "nbformat": 4,
 "nbformat_minor": 2
}
