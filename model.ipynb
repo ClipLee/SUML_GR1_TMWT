{
 "cells": [
  {
   "cell_type": "markdown",
   "metadata": {},
   "source": [
    "# Import bibliotek"
   ]
  },
  {
   "cell_type": "code",
   "execution_count": 16,
   "metadata": {},
   "outputs": [],
   "source": [
    "import pandas as pd\n",
    "from sklearn.model_selection import train_test_split\n",
    "import category_encoders as ce\n",
    "from sklearn.linear_model import LogisticRegression\n",
    "from sklearn.metrics import accuracy_score, confusion_matrix, roc_curve\n",
    "from sklearn import metrics\n",
    "import matplotlib.pyplot as plt\n",
    "import seaborn as sns\n",
    "import pickle\n",
    "from sklearn.preprocessing import MinMaxScaler"
   ]
  },
  {
   "cell_type": "markdown",
   "metadata": {},
   "source": [
    "# Wybranie datasetu i podział na zbiory"
   ]
  },
  {
   "cell_type": "code",
   "execution_count": 17,
   "metadata": {},
   "outputs": [],
   "source": [
    "def choose_dataset(train_data, test_data):\n",
    "    train_data = train_data\n",
    "    test_data = test_data\n",
    "    return train_data, test_data"
   ]
  },
  {
   "cell_type": "code",
   "execution_count": 18,
   "metadata": {},
   "outputs": [],
   "source": [
    "x = pd.read_csv(\"data/data2008.csv\")\n",
    "y = pd.read_csv('data/data2009.csv')"
   ]
  },
  {
   "cell_type": "code",
   "execution_count": 19,
   "metadata": {},
   "outputs": [],
   "source": [
    "if (len(x)) > len(y):\n",
    "    x = x[:len(y)]\n",
    "else:\n",
    "    y = y[:len(x)]"
   ]
  },
  {
   "cell_type": "markdown",
   "metadata": {},
   "source": [
    "# Sprawdzenie istnienia brakujących wartości"
   ]
  },
  {
   "cell_type": "code",
   "execution_count": 20,
   "metadata": {},
   "outputs": [],
   "source": [
    "x = x[x[\"RainTomorrow\"].notna()]\n",
    "y = y[y[\"RainTomorrow\"].notna()]"
   ]
  },
  {
   "cell_type": "markdown",
   "metadata": {},
   "source": [
    "# Wyświetl wartości kategoryczne i liczbowe"
   ]
  },
  {
   "cell_type": "code",
   "execution_count": 21,
   "metadata": {},
   "outputs": [
    {
     "data": {
      "text/plain": [
       "['Location',\n",
       " 'WindGustDir',\n",
       " 'WindDir9am',\n",
       " 'WindDir3pm',\n",
       " 'RainToday',\n",
       " 'RainTomorrow',\n",
       " 'Coordinates']"
      ]
     },
     "execution_count": 21,
     "metadata": {},
     "output_type": "execute_result"
    }
   ],
   "source": [
    "categorical = [col for col in x.columns if x[col].dtypes == 'O']\n",
    "\n",
    "categorical"
   ]
  },
  {
   "cell_type": "code",
   "execution_count": 22,
   "metadata": {},
   "outputs": [
    {
     "data": {
      "text/plain": [
       "['MinTemp',\n",
       " 'MaxTemp',\n",
       " 'Rainfall',\n",
       " 'WindGustSpeed',\n",
       " 'WindSpeed9am',\n",
       " 'WindSpeed3pm',\n",
       " 'Humidity9am',\n",
       " 'Humidity3pm',\n",
       " 'Pressure9am',\n",
       " 'Pressure3pm',\n",
       " 'Temp9am',\n",
       " 'Temp3pm',\n",
       " 'Year',\n",
       " 'Month',\n",
       " 'Day']"
      ]
     },
     "execution_count": 22,
     "metadata": {},
     "output_type": "execute_result"
    }
   ],
   "source": [
    "numerical = [col for col in x.columns if x[col].dtypes != 'O']\n",
    "\n",
    "numerical"
   ]
  },
  {
   "cell_type": "markdown",
   "metadata": {},
   "source": [
    "# Odrzucanie wartości wysoce skorelowanych"
   ]
  },
  {
   "cell_type": "code",
   "execution_count": 23,
   "metadata": {},
   "outputs": [],
   "source": [
    "x = x.drop(['Temp3pm', 'Temp9am', 'Humidity9am'], axis=1)\n",
    "y = y.drop(['Temp3pm', 'Temp9am', 'Humidity9am'], axis=1)"
   ]
  },
  {
   "cell_type": "code",
   "execution_count": 24,
   "metadata": {},
   "outputs": [
    {
     "data": {
      "text/plain": [
       "Index(['Location', 'MinTemp', 'MaxTemp', 'Rainfall', 'WindGustDir',\n",
       "       'WindGustSpeed', 'WindDir9am', 'WindDir3pm', 'WindSpeed9am',\n",
       "       'WindSpeed3pm', 'Humidity3pm', 'Pressure9am', 'Pressure3pm',\n",
       "       'RainToday', 'RainTomorrow', 'Coordinates', 'Year', 'Month', 'Day'],\n",
       "      dtype='object')"
      ]
     },
     "execution_count": 24,
     "metadata": {},
     "output_type": "execute_result"
    }
   ],
   "source": [
    "x.columns"
   ]
  },
  {
   "cell_type": "markdown",
   "metadata": {},
   "source": [
    "# Podział danych"
   ]
  },
  {
   "cell_type": "code",
   "execution_count": 25,
   "metadata": {},
   "outputs": [],
   "source": [
    "X = x.drop(['RainTomorrow'], axis=1)\n",
    "\n",
    "y = y['RainTomorrow']"
   ]
  },
  {
   "cell_type": "code",
   "execution_count": 26,
   "metadata": {},
   "outputs": [
    {
     "data": {
      "text/plain": [
       "((1816, 18), (454, 18))"
      ]
     },
     "execution_count": 26,
     "metadata": {},
     "output_type": "execute_result"
    }
   ],
   "source": [
    "X_train, X_test, y_train, y_test = train_test_split(\n",
    "    X, y, test_size=0.2, random_state=0)\n",
    "X_train.shape, X_test.shape"
   ]
  },
  {
   "cell_type": "markdown",
   "metadata": {},
   "source": [
    "# Zakodowanie zmiennej RainToday"
   ]
  },
  {
   "cell_type": "code",
   "execution_count": 27,
   "metadata": {},
   "outputs": [],
   "source": [
    "encoder = ce.BinaryEncoder(cols=['RainToday'])\n",
    "\n",
    "X_train = encoder.fit_transform(X_train)\n",
    "\n",
    "X_test = encoder.transform(X_test)"
   ]
  },
  {
   "cell_type": "markdown",
   "metadata": {},
   "source": [
    "# Utworzenie zbioru treningowego."
   ]
  },
  {
   "cell_type": "code",
   "execution_count": 28,
   "metadata": {},
   "outputs": [
    {
     "name": "stdout",
     "output_type": "stream",
     "text": [
      "Index(['Location', 'MinTemp', 'MaxTemp', 'Rainfall', 'WindGustDir',\n",
      "       'WindGustSpeed', 'WindDir9am', 'WindDir3pm', 'WindSpeed9am',\n",
      "       'WindSpeed3pm', 'Humidity3pm', 'Pressure9am', 'Pressure3pm',\n",
      "       'RainToday_0', 'RainToday_1', 'Coordinates', 'Year', 'Month', 'Day'],\n",
      "      dtype='object')\n"
     ]
    }
   ],
   "source": [
    "print(X_train.columns)"
   ]
  },
  {
   "cell_type": "code",
   "execution_count": 31,
   "metadata": {},
   "outputs": [],
   "source": [
    "numerical = [col for col in numerical if col not in ['Humidity9am', 'Temp9am', 'Temp3pm']]\n",
    "\n",
    "X_train = pd.concat([X_train[numerical], X_train[['RainToday_0', 'RainToday_1']],\n",
    "                     pd.get_dummies(X_train.Location),\n",
    "                     pd.get_dummies(X_train.WindGustDir),\n",
    "                     pd.get_dummies(X_train.WindDir9am),\n",
    "                     pd.get_dummies(X_train.WindDir3pm),\n",
    "                     pd.get_dummies(X_train.Coordinates)], axis=1)"
   ]
  },
  {
   "cell_type": "markdown",
   "metadata": {},
   "source": [
    "# Utworzenie zbioru testowego."
   ]
  },
  {
   "cell_type": "code",
   "execution_count": 32,
   "metadata": {},
   "outputs": [],
   "source": [
    "X_test = pd.concat([X_test[numerical], X_test[['RainToday_0', 'RainToday_1']],\n",
    "                    pd.get_dummies(X_test.Location),\n",
    "                    pd.get_dummies(X_test.WindGustDir),\n",
    "                    pd.get_dummies(X_test.WindDir9am),\n",
    "                    pd.get_dummies(X_test.WindDir3pm),\n",
    "                    pd.get_dummies(X_test.Coordinates)], axis=1)"
   ]
  },
  {
   "cell_type": "code",
   "execution_count": 52,
   "metadata": {},
   "outputs": [
    {
     "name": "stdout",
     "output_type": "stream",
     "text": [
      "MultiIndex([(             'MinTemp',),\n",
      "            (             'MaxTemp',),\n",
      "            (            'Rainfall',),\n",
      "            (       'WindGustSpeed',),\n",
      "            (        'WindSpeed9am',),\n",
      "            (        'WindSpeed3pm',),\n",
      "            (         'Humidity3pm',),\n",
      "            (         'Pressure9am',),\n",
      "            (         'Pressure3pm',),\n",
      "            (                'Year',),\n",
      "            ...\n",
      "            ('(-35.3075, 149.1244)',),\n",
      "            ('(-35.4235, 149.0754)',),\n",
      "            (    '(-35.55, 148.75)',),\n",
      "            ('(-36.0736, 146.9135)',),\n",
      "            ('(-36.7667, 144.2667)',),\n",
      "            (    '(-37.55, 143.85)',),\n",
      "            ('(-37.8136, 144.9631)',),\n",
      "            ('(-37.8333, 140.7667)',),\n",
      "            ('(-41.4593, 147.1472)',),\n",
      "            ('(-42.8806, 147.3256)',)],\n",
      "           length=108)\n"
     ]
    }
   ],
   "source": [
    "cols = X_train.columns"
   ]
  },
  {
   "cell_type": "code",
   "execution_count": 34,
   "metadata": {},
   "outputs": [],
   "source": [
    "scaler = MinMaxScaler()\n",
    "\n",
    "X_train = scaler.fit_transform(X_train)\n",
    "\n",
    "X_test = scaler.transform(X_test)"
   ]
  },
  {
   "cell_type": "code",
   "execution_count": 35,
   "metadata": {},
   "outputs": [],
   "source": [
    "X_train = pd.DataFrame(X_train, columns=[cols])"
   ]
  },
  {
   "cell_type": "code",
   "execution_count": 36,
   "metadata": {},
   "outputs": [],
   "source": [
    "X_test = pd.DataFrame(X_test, columns=[cols])"
   ]
  },
  {
   "cell_type": "markdown",
   "metadata": {},
   "source": [
    "# Trenowanie modelu"
   ]
  },
  {
   "cell_type": "code",
   "execution_count": 37,
   "metadata": {},
   "outputs": [
    {
     "data": {
      "text/html": [
       "<style>#sk-container-id-1 {\n",
       "  /* Definition of color scheme common for light and dark mode */\n",
       "  --sklearn-color-text: black;\n",
       "  --sklearn-color-line: gray;\n",
       "  /* Definition of color scheme for unfitted estimators */\n",
       "  --sklearn-color-unfitted-level-0: #fff5e6;\n",
       "  --sklearn-color-unfitted-level-1: #f6e4d2;\n",
       "  --sklearn-color-unfitted-level-2: #ffe0b3;\n",
       "  --sklearn-color-unfitted-level-3: chocolate;\n",
       "  /* Definition of color scheme for fitted estimators */\n",
       "  --sklearn-color-fitted-level-0: #f0f8ff;\n",
       "  --sklearn-color-fitted-level-1: #d4ebff;\n",
       "  --sklearn-color-fitted-level-2: #b3dbfd;\n",
       "  --sklearn-color-fitted-level-3: cornflowerblue;\n",
       "\n",
       "  /* Specific color for light theme */\n",
       "  --sklearn-color-text-on-default-background: var(--sg-text-color, var(--theme-code-foreground, var(--jp-content-font-color1, black)));\n",
       "  --sklearn-color-background: var(--sg-background-color, var(--theme-background, var(--jp-layout-color0, white)));\n",
       "  --sklearn-color-border-box: var(--sg-text-color, var(--theme-code-foreground, var(--jp-content-font-color1, black)));\n",
       "  --sklearn-color-icon: #696969;\n",
       "\n",
       "  @media (prefers-color-scheme: dark) {\n",
       "    /* Redefinition of color scheme for dark theme */\n",
       "    --sklearn-color-text-on-default-background: var(--sg-text-color, var(--theme-code-foreground, var(--jp-content-font-color1, white)));\n",
       "    --sklearn-color-background: var(--sg-background-color, var(--theme-background, var(--jp-layout-color0, #111)));\n",
       "    --sklearn-color-border-box: var(--sg-text-color, var(--theme-code-foreground, var(--jp-content-font-color1, white)));\n",
       "    --sklearn-color-icon: #878787;\n",
       "  }\n",
       "}\n",
       "\n",
       "#sk-container-id-1 {\n",
       "  color: var(--sklearn-color-text);\n",
       "}\n",
       "\n",
       "#sk-container-id-1 pre {\n",
       "  padding: 0;\n",
       "}\n",
       "\n",
       "#sk-container-id-1 input.sk-hidden--visually {\n",
       "  border: 0;\n",
       "  clip: rect(1px 1px 1px 1px);\n",
       "  clip: rect(1px, 1px, 1px, 1px);\n",
       "  height: 1px;\n",
       "  margin: -1px;\n",
       "  overflow: hidden;\n",
       "  padding: 0;\n",
       "  position: absolute;\n",
       "  width: 1px;\n",
       "}\n",
       "\n",
       "#sk-container-id-1 div.sk-dashed-wrapped {\n",
       "  border: 1px dashed var(--sklearn-color-line);\n",
       "  margin: 0 0.4em 0.5em 0.4em;\n",
       "  box-sizing: border-box;\n",
       "  padding-bottom: 0.4em;\n",
       "  background-color: var(--sklearn-color-background);\n",
       "}\n",
       "\n",
       "#sk-container-id-1 div.sk-container {\n",
       "  /* jupyter's `normalize.less` sets `[hidden] { display: none; }`\n",
       "     but bootstrap.min.css set `[hidden] { display: none !important; }`\n",
       "     so we also need the `!important` here to be able to override the\n",
       "     default hidden behavior on the sphinx rendered scikit-learn.org.\n",
       "     See: https://github.com/scikit-learn/scikit-learn/issues/21755 */\n",
       "  display: inline-block !important;\n",
       "  position: relative;\n",
       "}\n",
       "\n",
       "#sk-container-id-1 div.sk-text-repr-fallback {\n",
       "  display: none;\n",
       "}\n",
       "\n",
       "div.sk-parallel-item,\n",
       "div.sk-serial,\n",
       "div.sk-item {\n",
       "  /* draw centered vertical line to link estimators */\n",
       "  background-image: linear-gradient(var(--sklearn-color-text-on-default-background), var(--sklearn-color-text-on-default-background));\n",
       "  background-size: 2px 100%;\n",
       "  background-repeat: no-repeat;\n",
       "  background-position: center center;\n",
       "}\n",
       "\n",
       "/* Parallel-specific style estimator block */\n",
       "\n",
       "#sk-container-id-1 div.sk-parallel-item::after {\n",
       "  content: \"\";\n",
       "  width: 100%;\n",
       "  border-bottom: 2px solid var(--sklearn-color-text-on-default-background);\n",
       "  flex-grow: 1;\n",
       "}\n",
       "\n",
       "#sk-container-id-1 div.sk-parallel {\n",
       "  display: flex;\n",
       "  align-items: stretch;\n",
       "  justify-content: center;\n",
       "  background-color: var(--sklearn-color-background);\n",
       "  position: relative;\n",
       "}\n",
       "\n",
       "#sk-container-id-1 div.sk-parallel-item {\n",
       "  display: flex;\n",
       "  flex-direction: column;\n",
       "}\n",
       "\n",
       "#sk-container-id-1 div.sk-parallel-item:first-child::after {\n",
       "  align-self: flex-end;\n",
       "  width: 50%;\n",
       "}\n",
       "\n",
       "#sk-container-id-1 div.sk-parallel-item:last-child::after {\n",
       "  align-self: flex-start;\n",
       "  width: 50%;\n",
       "}\n",
       "\n",
       "#sk-container-id-1 div.sk-parallel-item:only-child::after {\n",
       "  width: 0;\n",
       "}\n",
       "\n",
       "/* Serial-specific style estimator block */\n",
       "\n",
       "#sk-container-id-1 div.sk-serial {\n",
       "  display: flex;\n",
       "  flex-direction: column;\n",
       "  align-items: center;\n",
       "  background-color: var(--sklearn-color-background);\n",
       "  padding-right: 1em;\n",
       "  padding-left: 1em;\n",
       "}\n",
       "\n",
       "\n",
       "/* Toggleable style: style used for estimator/Pipeline/ColumnTransformer box that is\n",
       "clickable and can be expanded/collapsed.\n",
       "- Pipeline and ColumnTransformer use this feature and define the default style\n",
       "- Estimators will overwrite some part of the style using the `sk-estimator` class\n",
       "*/\n",
       "\n",
       "/* Pipeline and ColumnTransformer style (default) */\n",
       "\n",
       "#sk-container-id-1 div.sk-toggleable {\n",
       "  /* Default theme specific background. It is overwritten whether we have a\n",
       "  specific estimator or a Pipeline/ColumnTransformer */\n",
       "  background-color: var(--sklearn-color-background);\n",
       "}\n",
       "\n",
       "/* Toggleable label */\n",
       "#sk-container-id-1 label.sk-toggleable__label {\n",
       "  cursor: pointer;\n",
       "  display: block;\n",
       "  width: 100%;\n",
       "  margin-bottom: 0;\n",
       "  padding: 0.5em;\n",
       "  box-sizing: border-box;\n",
       "  text-align: center;\n",
       "}\n",
       "\n",
       "#sk-container-id-1 label.sk-toggleable__label-arrow:before {\n",
       "  /* Arrow on the left of the label */\n",
       "  content: \"▸\";\n",
       "  float: left;\n",
       "  margin-right: 0.25em;\n",
       "  color: var(--sklearn-color-icon);\n",
       "}\n",
       "\n",
       "#sk-container-id-1 label.sk-toggleable__label-arrow:hover:before {\n",
       "  color: var(--sklearn-color-text);\n",
       "}\n",
       "\n",
       "/* Toggleable content - dropdown */\n",
       "\n",
       "#sk-container-id-1 div.sk-toggleable__content {\n",
       "  max-height: 0;\n",
       "  max-width: 0;\n",
       "  overflow: hidden;\n",
       "  text-align: left;\n",
       "  /* unfitted */\n",
       "  background-color: var(--sklearn-color-unfitted-level-0);\n",
       "}\n",
       "\n",
       "#sk-container-id-1 div.sk-toggleable__content.fitted {\n",
       "  /* fitted */\n",
       "  background-color: var(--sklearn-color-fitted-level-0);\n",
       "}\n",
       "\n",
       "#sk-container-id-1 div.sk-toggleable__content pre {\n",
       "  margin: 0.2em;\n",
       "  border-radius: 0.25em;\n",
       "  color: var(--sklearn-color-text);\n",
       "  /* unfitted */\n",
       "  background-color: var(--sklearn-color-unfitted-level-0);\n",
       "}\n",
       "\n",
       "#sk-container-id-1 div.sk-toggleable__content.fitted pre {\n",
       "  /* unfitted */\n",
       "  background-color: var(--sklearn-color-fitted-level-0);\n",
       "}\n",
       "\n",
       "#sk-container-id-1 input.sk-toggleable__control:checked~div.sk-toggleable__content {\n",
       "  /* Expand drop-down */\n",
       "  max-height: 200px;\n",
       "  max-width: 100%;\n",
       "  overflow: auto;\n",
       "}\n",
       "\n",
       "#sk-container-id-1 input.sk-toggleable__control:checked~label.sk-toggleable__label-arrow:before {\n",
       "  content: \"▾\";\n",
       "}\n",
       "\n",
       "/* Pipeline/ColumnTransformer-specific style */\n",
       "\n",
       "#sk-container-id-1 div.sk-label input.sk-toggleable__control:checked~label.sk-toggleable__label {\n",
       "  color: var(--sklearn-color-text);\n",
       "  background-color: var(--sklearn-color-unfitted-level-2);\n",
       "}\n",
       "\n",
       "#sk-container-id-1 div.sk-label.fitted input.sk-toggleable__control:checked~label.sk-toggleable__label {\n",
       "  background-color: var(--sklearn-color-fitted-level-2);\n",
       "}\n",
       "\n",
       "/* Estimator-specific style */\n",
       "\n",
       "/* Colorize estimator box */\n",
       "#sk-container-id-1 div.sk-estimator input.sk-toggleable__control:checked~label.sk-toggleable__label {\n",
       "  /* unfitted */\n",
       "  background-color: var(--sklearn-color-unfitted-level-2);\n",
       "}\n",
       "\n",
       "#sk-container-id-1 div.sk-estimator.fitted input.sk-toggleable__control:checked~label.sk-toggleable__label {\n",
       "  /* fitted */\n",
       "  background-color: var(--sklearn-color-fitted-level-2);\n",
       "}\n",
       "\n",
       "#sk-container-id-1 div.sk-label label.sk-toggleable__label,\n",
       "#sk-container-id-1 div.sk-label label {\n",
       "  /* The background is the default theme color */\n",
       "  color: var(--sklearn-color-text-on-default-background);\n",
       "}\n",
       "\n",
       "/* On hover, darken the color of the background */\n",
       "#sk-container-id-1 div.sk-label:hover label.sk-toggleable__label {\n",
       "  color: var(--sklearn-color-text);\n",
       "  background-color: var(--sklearn-color-unfitted-level-2);\n",
       "}\n",
       "\n",
       "/* Label box, darken color on hover, fitted */\n",
       "#sk-container-id-1 div.sk-label.fitted:hover label.sk-toggleable__label.fitted {\n",
       "  color: var(--sklearn-color-text);\n",
       "  background-color: var(--sklearn-color-fitted-level-2);\n",
       "}\n",
       "\n",
       "/* Estimator label */\n",
       "\n",
       "#sk-container-id-1 div.sk-label label {\n",
       "  font-family: monospace;\n",
       "  font-weight: bold;\n",
       "  display: inline-block;\n",
       "  line-height: 1.2em;\n",
       "}\n",
       "\n",
       "#sk-container-id-1 div.sk-label-container {\n",
       "  text-align: center;\n",
       "}\n",
       "\n",
       "/* Estimator-specific */\n",
       "#sk-container-id-1 div.sk-estimator {\n",
       "  font-family: monospace;\n",
       "  border: 1px dotted var(--sklearn-color-border-box);\n",
       "  border-radius: 0.25em;\n",
       "  box-sizing: border-box;\n",
       "  margin-bottom: 0.5em;\n",
       "  /* unfitted */\n",
       "  background-color: var(--sklearn-color-unfitted-level-0);\n",
       "}\n",
       "\n",
       "#sk-container-id-1 div.sk-estimator.fitted {\n",
       "  /* fitted */\n",
       "  background-color: var(--sklearn-color-fitted-level-0);\n",
       "}\n",
       "\n",
       "/* on hover */\n",
       "#sk-container-id-1 div.sk-estimator:hover {\n",
       "  /* unfitted */\n",
       "  background-color: var(--sklearn-color-unfitted-level-2);\n",
       "}\n",
       "\n",
       "#sk-container-id-1 div.sk-estimator.fitted:hover {\n",
       "  /* fitted */\n",
       "  background-color: var(--sklearn-color-fitted-level-2);\n",
       "}\n",
       "\n",
       "/* Specification for estimator info (e.g. \"i\" and \"?\") */\n",
       "\n",
       "/* Common style for \"i\" and \"?\" */\n",
       "\n",
       ".sk-estimator-doc-link,\n",
       "a:link.sk-estimator-doc-link,\n",
       "a:visited.sk-estimator-doc-link {\n",
       "  float: right;\n",
       "  font-size: smaller;\n",
       "  line-height: 1em;\n",
       "  font-family: monospace;\n",
       "  background-color: var(--sklearn-color-background);\n",
       "  border-radius: 1em;\n",
       "  height: 1em;\n",
       "  width: 1em;\n",
       "  text-decoration: none !important;\n",
       "  margin-left: 1ex;\n",
       "  /* unfitted */\n",
       "  border: var(--sklearn-color-unfitted-level-1) 1pt solid;\n",
       "  color: var(--sklearn-color-unfitted-level-1);\n",
       "}\n",
       "\n",
       ".sk-estimator-doc-link.fitted,\n",
       "a:link.sk-estimator-doc-link.fitted,\n",
       "a:visited.sk-estimator-doc-link.fitted {\n",
       "  /* fitted */\n",
       "  border: var(--sklearn-color-fitted-level-1) 1pt solid;\n",
       "  color: var(--sklearn-color-fitted-level-1);\n",
       "}\n",
       "\n",
       "/* On hover */\n",
       "div.sk-estimator:hover .sk-estimator-doc-link:hover,\n",
       ".sk-estimator-doc-link:hover,\n",
       "div.sk-label-container:hover .sk-estimator-doc-link:hover,\n",
       ".sk-estimator-doc-link:hover {\n",
       "  /* unfitted */\n",
       "  background-color: var(--sklearn-color-unfitted-level-3);\n",
       "  color: var(--sklearn-color-background);\n",
       "  text-decoration: none;\n",
       "}\n",
       "\n",
       "div.sk-estimator.fitted:hover .sk-estimator-doc-link.fitted:hover,\n",
       ".sk-estimator-doc-link.fitted:hover,\n",
       "div.sk-label-container:hover .sk-estimator-doc-link.fitted:hover,\n",
       ".sk-estimator-doc-link.fitted:hover {\n",
       "  /* fitted */\n",
       "  background-color: var(--sklearn-color-fitted-level-3);\n",
       "  color: var(--sklearn-color-background);\n",
       "  text-decoration: none;\n",
       "}\n",
       "\n",
       "/* Span, style for the box shown on hovering the info icon */\n",
       ".sk-estimator-doc-link span {\n",
       "  display: none;\n",
       "  z-index: 9999;\n",
       "  position: relative;\n",
       "  font-weight: normal;\n",
       "  right: .2ex;\n",
       "  padding: .5ex;\n",
       "  margin: .5ex;\n",
       "  width: min-content;\n",
       "  min-width: 20ex;\n",
       "  max-width: 50ex;\n",
       "  color: var(--sklearn-color-text);\n",
       "  box-shadow: 2pt 2pt 4pt #999;\n",
       "  /* unfitted */\n",
       "  background: var(--sklearn-color-unfitted-level-0);\n",
       "  border: .5pt solid var(--sklearn-color-unfitted-level-3);\n",
       "}\n",
       "\n",
       ".sk-estimator-doc-link.fitted span {\n",
       "  /* fitted */\n",
       "  background: var(--sklearn-color-fitted-level-0);\n",
       "  border: var(--sklearn-color-fitted-level-3);\n",
       "}\n",
       "\n",
       ".sk-estimator-doc-link:hover span {\n",
       "  display: block;\n",
       "}\n",
       "\n",
       "/* \"?\"-specific style due to the `<a>` HTML tag */\n",
       "\n",
       "#sk-container-id-1 a.estimator_doc_link {\n",
       "  float: right;\n",
       "  font-size: 1rem;\n",
       "  line-height: 1em;\n",
       "  font-family: monospace;\n",
       "  background-color: var(--sklearn-color-background);\n",
       "  border-radius: 1rem;\n",
       "  height: 1rem;\n",
       "  width: 1rem;\n",
       "  text-decoration: none;\n",
       "  /* unfitted */\n",
       "  color: var(--sklearn-color-unfitted-level-1);\n",
       "  border: var(--sklearn-color-unfitted-level-1) 1pt solid;\n",
       "}\n",
       "\n",
       "#sk-container-id-1 a.estimator_doc_link.fitted {\n",
       "  /* fitted */\n",
       "  border: var(--sklearn-color-fitted-level-1) 1pt solid;\n",
       "  color: var(--sklearn-color-fitted-level-1);\n",
       "}\n",
       "\n",
       "/* On hover */\n",
       "#sk-container-id-1 a.estimator_doc_link:hover {\n",
       "  /* unfitted */\n",
       "  background-color: var(--sklearn-color-unfitted-level-3);\n",
       "  color: var(--sklearn-color-background);\n",
       "  text-decoration: none;\n",
       "}\n",
       "\n",
       "#sk-container-id-1 a.estimator_doc_link.fitted:hover {\n",
       "  /* fitted */\n",
       "  background-color: var(--sklearn-color-fitted-level-3);\n",
       "}\n",
       "</style><div id=\"sk-container-id-1\" class=\"sk-top-container\"><div class=\"sk-text-repr-fallback\"><pre>LogisticRegression(random_state=0, solver=&#x27;liblinear&#x27;)</pre><b>In a Jupyter environment, please rerun this cell to show the HTML representation or trust the notebook. <br />On GitHub, the HTML representation is unable to render, please try loading this page with nbviewer.org.</b></div><div class=\"sk-container\" hidden><div class=\"sk-item\"><div class=\"sk-estimator fitted sk-toggleable\"><input class=\"sk-toggleable__control sk-hidden--visually\" id=\"sk-estimator-id-1\" type=\"checkbox\" checked><label for=\"sk-estimator-id-1\" class=\"sk-toggleable__label fitted sk-toggleable__label-arrow fitted\">&nbsp;&nbsp;LogisticRegression<a class=\"sk-estimator-doc-link fitted\" rel=\"noreferrer\" target=\"_blank\" href=\"https://scikit-learn.org/1.4/modules/generated/sklearn.linear_model.LogisticRegression.html\">?<span>Documentation for LogisticRegression</span></a><span class=\"sk-estimator-doc-link fitted\">i<span>Fitted</span></span></label><div class=\"sk-toggleable__content fitted\"><pre>LogisticRegression(random_state=0, solver=&#x27;liblinear&#x27;)</pre></div> </div></div></div></div>"
      ],
      "text/plain": [
       "LogisticRegression(random_state=0, solver='liblinear')"
      ]
     },
     "execution_count": 37,
     "metadata": {},
     "output_type": "execute_result"
    }
   ],
   "source": [
    "# instantiate the model\n",
    "logreg = LogisticRegression(solver='liblinear', random_state=0)\n",
    "\n",
    "\n",
    "# fit the model\n",
    "logreg.fit(X_train, y_train)"
   ]
  },
  {
   "cell_type": "markdown",
   "metadata": {},
   "source": [
    "# Kodowanie zmiennych kategorycznych"
   ]
  },
  {
   "cell_type": "code",
   "execution_count": 38,
   "metadata": {},
   "outputs": [
    {
     "data": {
      "text/plain": [
       "\"from sklearn import preprocessing\\nle = preprocessing.LabelEncoder()\\ncleaned_data['Location'] = le.fit_transform(cleaned_data['Location'])\\ncleaned_data['WindDir9am'] = le.fit_transform(cleaned_data['WindDir9am'])\\ncleaned_data['WindDir3pm'] = le.fit_transform(cleaned_data['WindDir3pm'])\\ncleaned_data['WindGustDir'] = le.fit_transform(cleaned_data['WindGustDir'])\\n\""
      ]
     },
     "execution_count": 38,
     "metadata": {},
     "output_type": "execute_result"
    }
   ],
   "source": [
    "'''from sklearn import preprocessing\n",
    "le = preprocessing.LabelEncoder()\n",
    "cleaned_data['Location'] = le.fit_transform(cleaned_data['Location'])\n",
    "cleaned_data['WindDir9am'] = le.fit_transform(cleaned_data['WindDir9am'])\n",
    "cleaned_data['WindDir3pm'] = le.fit_transform(cleaned_data['WindDir3pm'])\n",
    "cleaned_data['WindGustDir'] = le.fit_transform(cleaned_data['WindGustDir'])\n",
    "'''"
   ]
  },
  {
   "cell_type": "code",
   "execution_count": 39,
   "metadata": {},
   "outputs": [
    {
     "data": {
      "text/plain": [
       "MultiIndex([(             'MinTemp',),\n",
       "            (             'MaxTemp',),\n",
       "            (            'Rainfall',),\n",
       "            (       'WindGustSpeed',),\n",
       "            (        'WindSpeed9am',),\n",
       "            (        'WindSpeed3pm',),\n",
       "            (         'Humidity3pm',),\n",
       "            (         'Pressure9am',),\n",
       "            (         'Pressure3pm',),\n",
       "            (                'Year',),\n",
       "            ...\n",
       "            ('(-35.3075, 149.1244)',),\n",
       "            ('(-35.4235, 149.0754)',),\n",
       "            (    '(-35.55, 148.75)',),\n",
       "            ('(-36.0736, 146.9135)',),\n",
       "            ('(-36.7667, 144.2667)',),\n",
       "            (    '(-37.55, 143.85)',),\n",
       "            ('(-37.8136, 144.9631)',),\n",
       "            ('(-37.8333, 140.7667)',),\n",
       "            ('(-41.4593, 147.1472)',),\n",
       "            ('(-42.8806, 147.3256)',)],\n",
       "           length=108)"
      ]
     },
     "execution_count": 39,
     "metadata": {},
     "output_type": "execute_result"
    }
   ],
   "source": [
    "X_train.columns"
   ]
  },
  {
   "cell_type": "markdown",
   "metadata": {},
   "source": [
    "# Predykcja wyników"
   ]
  },
  {
   "cell_type": "code",
   "execution_count": 40,
   "metadata": {},
   "outputs": [
    {
     "data": {
      "text/plain": [
       "array(['No', 'No', 'No', 'No', 'No', 'No', 'No', 'No', 'No', 'No', 'No',\n",
       "       'No', 'No', 'No', 'No', 'No', 'No', 'No', 'No', 'No', 'No', 'No',\n",
       "       'No', 'No', 'No', 'No', 'No', 'No', 'No', 'No', 'No', 'No', 'No',\n",
       "       'No', 'No', 'No', 'No', 'No', 'No', 'No', 'No', 'No', 'No', 'Yes',\n",
       "       'No', 'No', 'No', 'No', 'No', 'No', 'No', 'No', 'No', 'No', 'No',\n",
       "       'No', 'No', 'No', 'No', 'No', 'No', 'No', 'No', 'No', 'No', 'No',\n",
       "       'No', 'No', 'No', 'No', 'Yes', 'No', 'No', 'No', 'No', 'No', 'No',\n",
       "       'No', 'No', 'No', 'No', 'No', 'No', 'No', 'No', 'No', 'No', 'No',\n",
       "       'No', 'No', 'Yes', 'No', 'No', 'No', 'No', 'No', 'No', 'No', 'No',\n",
       "       'No', 'No', 'No', 'No', 'No', 'No', 'No', 'No', 'No', 'No', 'No',\n",
       "       'No', 'No', 'No', 'No', 'No', 'No', 'No', 'No', 'No', 'No', 'No',\n",
       "       'No', 'No', 'No', 'No', 'No', 'No', 'No', 'No', 'No', 'No', 'No',\n",
       "       'No', 'No', 'No', 'No', 'No', 'No', 'No', 'No', 'No', 'No', 'No',\n",
       "       'No', 'No', 'No', 'No', 'No', 'No', 'No', 'No', 'No', 'No', 'No',\n",
       "       'No', 'No', 'No', 'No', 'No', 'No', 'No', 'No', 'No', 'No', 'No',\n",
       "       'No', 'No', 'No', 'No', 'No', 'No', 'No', 'No', 'No', 'No', 'No',\n",
       "       'No', 'No', 'No', 'No', 'No', 'No', 'No', 'No', 'No', 'No', 'No',\n",
       "       'No', 'No', 'No', 'No', 'No', 'No', 'No', 'No', 'No', 'No', 'No',\n",
       "       'No', 'No', 'No', 'No', 'No', 'No', 'No', 'No', 'No', 'No', 'No',\n",
       "       'No', 'No', 'No', 'No', 'No', 'No', 'No', 'No', 'No', 'No', 'No',\n",
       "       'No', 'No', 'No', 'No', 'No', 'No', 'No', 'No', 'No', 'No', 'No',\n",
       "       'No', 'No', 'No', 'No', 'No', 'No', 'No', 'No', 'No', 'No', 'No',\n",
       "       'No', 'No', 'No', 'No', 'No', 'No', 'No', 'No', 'No', 'No', 'No',\n",
       "       'No', 'No', 'No', 'No', 'No', 'No', 'No', 'No', 'No', 'No', 'No',\n",
       "       'No', 'No', 'No', 'No', 'No', 'No', 'No', 'No', 'No', 'No', 'No',\n",
       "       'No', 'No', 'No', 'No', 'No', 'No', 'No', 'No', 'No', 'No', 'No',\n",
       "       'No', 'No', 'No', 'No', 'No', 'No', 'No', 'No', 'No', 'No', 'No',\n",
       "       'No', 'No', 'No', 'No', 'No', 'No', 'No', 'No', 'No', 'No', 'No',\n",
       "       'No', 'No', 'No', 'No', 'No', 'No', 'No', 'No', 'No', 'No', 'No',\n",
       "       'No', 'No', 'No', 'No', 'No', 'No', 'No', 'No', 'No', 'No', 'No',\n",
       "       'Yes', 'No', 'No', 'No', 'No', 'No', 'No', 'No', 'No', 'No', 'No',\n",
       "       'No', 'No', 'No', 'No', 'No', 'No', 'No', 'No', 'No', 'No', 'No',\n",
       "       'No', 'No', 'No', 'No', 'No', 'No', 'No', 'No', 'No', 'No', 'No',\n",
       "       'No', 'No', 'No', 'Yes', 'No', 'No', 'No', 'No', 'No', 'No', 'No',\n",
       "       'No', 'No', 'No', 'No', 'No', 'No', 'No', 'No', 'No', 'No', 'No',\n",
       "       'No', 'No', 'No', 'No', 'No', 'No', 'No', 'No', 'No', 'No', 'No',\n",
       "       'No', 'No', 'No', 'No', 'No', 'No', 'No', 'No', 'No', 'No', 'No',\n",
       "       'No', 'No', 'No', 'No', 'No', 'No', 'No', 'No', 'No', 'No', 'No',\n",
       "       'No', 'No', 'No', 'No', 'No', 'No', 'No', 'No', 'No', 'No', 'No',\n",
       "       'No', 'No', 'No', 'No', 'No', 'No', 'No', 'No', 'No', 'No', 'No',\n",
       "       'No', 'No', 'No', 'No', 'No', 'No', 'No', 'No', 'No', 'No', 'No',\n",
       "       'No', 'No', 'No'], dtype=object)"
      ]
     },
     "execution_count": 40,
     "metadata": {},
     "output_type": "execute_result"
    }
   ],
   "source": [
    "y_pred_test = logreg.predict(X_test)\n",
    "\n",
    "y_pred_test"
   ]
  },
  {
   "cell_type": "code",
   "execution_count": 41,
   "metadata": {},
   "outputs": [
    {
     "data": {
      "text/plain": [
       "array([0.80241366, 0.77827905, 0.81546173, 0.91504598, 0.78311943,\n",
       "       0.88130419, 0.54960873, 0.88753862, 0.80247608, 0.90427689,\n",
       "       0.7824152 , 0.82409187, 0.76749728, 0.76580965, 0.85933894,\n",
       "       0.80939991, 0.82552888, 0.80232058, 0.93924146, 0.74442449,\n",
       "       0.93232958, 0.6914833 , 0.85879509, 0.88843587, 0.91126589,\n",
       "       0.80483736, 0.83707873, 0.63071546, 0.91880873, 0.78761308,\n",
       "       0.75461638, 0.67699361, 0.85532905, 0.90194054, 0.91160532,\n",
       "       0.83786628, 0.85189811, 0.76046861, 0.69858488, 0.73588563,\n",
       "       0.82572349, 0.78239208, 0.87147133, 0.49784471, 0.94731985,\n",
       "       0.89803403, 0.72927118, 0.76263907, 0.90695096, 0.83990482,\n",
       "       0.80374189, 0.67279922, 0.82648361, 0.80746742, 0.53638755,\n",
       "       0.69583779, 0.82796539, 0.8835843 , 0.77430896, 0.61739164,\n",
       "       0.93886372, 0.88036716, 0.89292378, 0.64444974, 0.96096193,\n",
       "       0.94470835, 0.84167659, 0.71109335, 0.92912436, 0.90844126,\n",
       "       0.36086158, 0.69878187, 0.87843414, 0.91498994, 0.93514439,\n",
       "       0.82329061, 0.80762201, 0.89266252, 0.76176499, 0.89398948,\n",
       "       0.89535529, 0.75959164, 0.898507  , 0.84411054, 0.86622223,\n",
       "       0.61319051, 0.83434144, 0.88399628, 0.86352424, 0.68780488,\n",
       "       0.43439651, 0.70978242, 0.64013241, 0.70424421, 0.94578218,\n",
       "       0.76433643, 0.91301085, 0.83345915, 0.93817432, 0.77459994,\n",
       "       0.89980008, 0.89237486, 0.76214584, 0.73320015, 0.84759776,\n",
       "       0.76048114, 0.88438814, 0.92975116, 0.88562304, 0.79215751,\n",
       "       0.90602084, 0.72273719, 0.89005426, 0.85562772, 0.66450274,\n",
       "       0.85678287, 0.74816434, 0.84705617, 0.73192732, 0.55251598,\n",
       "       0.77749897, 0.84688896, 0.77530546, 0.76659083, 0.94395456,\n",
       "       0.97923088, 0.78089051, 0.67459845, 0.92852898, 0.65218445,\n",
       "       0.7424084 , 0.69383761, 0.82653229, 0.87401311, 0.70192535,\n",
       "       0.86636652, 0.75277058, 0.96096577, 0.86565225, 0.93095603,\n",
       "       0.6044652 , 0.75562046, 0.63267796, 0.77016198, 0.77615366,\n",
       "       0.87367922, 0.90889423, 0.7189552 , 0.88944084, 0.86385944,\n",
       "       0.83367068, 0.81418363, 0.8090686 , 0.91290982, 0.67902897,\n",
       "       0.77263727, 0.76552388, 0.77325523, 0.76936774, 0.88256863,\n",
       "       0.77212391, 0.94054864, 0.73347711, 0.593337  , 0.92387942,\n",
       "       0.80605624, 0.85425821, 0.92694622, 0.95170006, 0.81637214,\n",
       "       0.7416621 , 0.55482129, 0.84656247, 0.71650999, 0.81817439,\n",
       "       0.55620174, 0.85121607, 0.85457759, 0.85364438, 0.91008554,\n",
       "       0.85568439, 0.81177339, 0.73569226, 0.89507425, 0.84853446,\n",
       "       0.93486181, 0.82207534, 0.96721367, 0.63942599, 0.93004284,\n",
       "       0.84329557, 0.90032871, 0.85198164, 0.84141647, 0.81444923,\n",
       "       0.68139723, 0.91082856, 0.73649894, 0.91664232, 0.87555121,\n",
       "       0.74979881, 0.618546  , 0.74985789, 0.88388385, 0.86572031,\n",
       "       0.52756205, 0.90202985, 0.86229878, 0.82433163, 0.7984564 ,\n",
       "       0.9153049 , 0.94307589, 0.60535177, 0.81515424, 0.89955263,\n",
       "       0.7781007 , 0.869189  , 0.68750784, 0.84914419, 0.7887159 ,\n",
       "       0.93388471, 0.93121119, 0.70242461, 0.93699374, 0.87715607,\n",
       "       0.62168831, 0.88543196, 0.83670741, 0.84284204, 0.69584474,\n",
       "       0.91650976, 0.54390577, 0.83267178, 0.71588888, 0.83390984,\n",
       "       0.86977685, 0.70793866, 0.91064038, 0.88011731, 0.82669188,\n",
       "       0.83430346, 0.91434743, 0.83940881, 0.67872929, 0.64359272,\n",
       "       0.70631152, 0.7997138 , 0.88586527, 0.79225086, 0.72854229,\n",
       "       0.79502828, 0.77588179, 0.88370482, 0.90230801, 0.91121788,\n",
       "       0.8606673 , 0.9135309 , 0.95742424, 0.91153853, 0.83531797,\n",
       "       0.72629432, 0.88004261, 0.83769025, 0.91795918, 0.79937858,\n",
       "       0.8986738 , 0.86067454, 0.79486917, 0.90443978, 0.72078422,\n",
       "       0.73163099, 0.67212409, 0.78682276, 0.86640262, 0.9469113 ,\n",
       "       0.54304756, 0.80781279, 0.76007793, 0.65463918, 0.54889511,\n",
       "       0.96509482, 0.84728432, 0.65095691, 0.7711849 , 0.67046125,\n",
       "       0.83333533, 0.74569269, 0.79734077, 0.89628006, 0.84094878,\n",
       "       0.80460576, 0.73654724, 0.76227666, 0.82674953, 0.68838797,\n",
       "       0.80758027, 0.93158824, 0.84865638, 0.84817476, 0.66639386,\n",
       "       0.82113179, 0.88190687, 0.79195163, 0.94450761, 0.86728712,\n",
       "       0.89232594, 0.75699801, 0.802364  , 0.73786811, 0.78924617,\n",
       "       0.79195221, 0.8232194 , 0.93331658, 0.95215159, 0.79205468,\n",
       "       0.91749821, 0.83135613, 0.73292842, 0.78501266, 0.85052207,\n",
       "       0.83336844, 0.87508642, 0.61486423, 0.73173884, 0.96154623,\n",
       "       0.91036735, 0.83868594, 0.91620537, 0.75269933, 0.9220683 ,\n",
       "       0.49264486, 0.94574559, 0.88536181, 0.94914396, 0.77239624,\n",
       "       0.8837581 , 0.86893133, 0.87879708, 0.83123477, 0.96039388,\n",
       "       0.91955285, 0.60106968, 0.73026551, 0.70725207, 0.86615627,\n",
       "       0.85499266, 0.88128355, 0.80558047, 0.95554016, 0.75989204,\n",
       "       0.59020047, 0.7399329 , 0.94133083, 0.94229393, 0.82068925,\n",
       "       0.88933196, 0.62857307, 0.79235657, 0.71728647, 0.68538013,\n",
       "       0.64510888, 0.77103294, 0.68030271, 0.58649129, 0.87936723,\n",
       "       0.61581336, 0.45144485, 0.8733865 , 0.85779265, 0.81903659,\n",
       "       0.71551212, 0.83732693, 0.84746381, 0.82550854, 0.83282658,\n",
       "       0.88950169, 0.88383948, 0.90329464, 0.94682216, 0.86887588,\n",
       "       0.89161463, 0.6674182 , 0.90894628, 0.92089592, 0.84521545,\n",
       "       0.72825213, 0.92545952, 0.89015143, 0.88461726, 0.8479671 ,\n",
       "       0.563992  , 0.9096643 , 0.89508105, 0.92655733, 0.72844873,\n",
       "       0.57077513, 0.64336645, 0.7985722 , 0.87955238, 0.83330345,\n",
       "       0.77807145, 0.74195043, 0.86450285, 0.82157613, 0.85139517,\n",
       "       0.80817195, 0.89452195, 0.88617473, 0.91269405, 0.76339636,\n",
       "       0.81380116, 0.71190799, 0.82165728, 0.71050008, 0.79740645,\n",
       "       0.94257701, 0.75654257, 0.88828662, 0.80269978, 0.92839944,\n",
       "       0.7853795 , 0.80879391, 0.77014154, 0.86537746, 0.78823923,\n",
       "       0.80930246, 0.91248704, 0.6918354 , 0.89012252, 0.83273157,\n",
       "       0.52892409, 0.94606702, 0.75357761, 0.74980178, 0.89610402,\n",
       "       0.86002787, 0.70004002, 0.77943126, 0.88484103, 0.88018858,\n",
       "       0.72659548, 0.95373917, 0.91152431, 0.66553393, 0.90587651,\n",
       "       0.84905299, 0.76702276, 0.59278453, 0.83071341, 0.78803522,\n",
       "       0.88443297, 0.8904187 , 0.64950035, 0.866771  ])"
      ]
     },
     "execution_count": 41,
     "metadata": {},
     "output_type": "execute_result"
    }
   ],
   "source": [
    "logreg.predict_proba(X_test)[:, 0]"
   ]
  },
  {
   "cell_type": "code",
   "execution_count": 42,
   "metadata": {},
   "outputs": [
    {
     "data": {
      "text/plain": [
       "array([0.19758634, 0.22172095, 0.18453827, 0.08495402, 0.21688057,\n",
       "       0.11869581, 0.45039127, 0.11246138, 0.19752392, 0.09572311,\n",
       "       0.2175848 , 0.17590813, 0.23250272, 0.23419035, 0.14066106,\n",
       "       0.19060009, 0.17447112, 0.19767942, 0.06075854, 0.25557551,\n",
       "       0.06767042, 0.3085167 , 0.14120491, 0.11156413, 0.08873411,\n",
       "       0.19516264, 0.16292127, 0.36928454, 0.08119127, 0.21238692,\n",
       "       0.24538362, 0.32300639, 0.14467095, 0.09805946, 0.08839468,\n",
       "       0.16213372, 0.14810189, 0.23953139, 0.30141512, 0.26411437,\n",
       "       0.17427651, 0.21760792, 0.12852867, 0.50215529, 0.05268015,\n",
       "       0.10196597, 0.27072882, 0.23736093, 0.09304904, 0.16009518,\n",
       "       0.19625811, 0.32720078, 0.17351639, 0.19253258, 0.46361245,\n",
       "       0.30416221, 0.17203461, 0.1164157 , 0.22569104, 0.38260836,\n",
       "       0.06113628, 0.11963284, 0.10707622, 0.35555026, 0.03903807,\n",
       "       0.05529165, 0.15832341, 0.28890665, 0.07087564, 0.09155874,\n",
       "       0.63913842, 0.30121813, 0.12156586, 0.08501006, 0.06485561,\n",
       "       0.17670939, 0.19237799, 0.10733748, 0.23823501, 0.10601052,\n",
       "       0.10464471, 0.24040836, 0.101493  , 0.15588946, 0.13377777,\n",
       "       0.38680949, 0.16565856, 0.11600372, 0.13647576, 0.31219512,\n",
       "       0.56560349, 0.29021758, 0.35986759, 0.29575579, 0.05421782,\n",
       "       0.23566357, 0.08698915, 0.16654085, 0.06182568, 0.22540006,\n",
       "       0.10019992, 0.10762514, 0.23785416, 0.26679985, 0.15240224,\n",
       "       0.23951886, 0.11561186, 0.07024884, 0.11437696, 0.20784249,\n",
       "       0.09397916, 0.27726281, 0.10994574, 0.14437228, 0.33549726,\n",
       "       0.14321713, 0.25183566, 0.15294383, 0.26807268, 0.44748402,\n",
       "       0.22250103, 0.15311104, 0.22469454, 0.23340917, 0.05604544,\n",
       "       0.02076912, 0.21910949, 0.32540155, 0.07147102, 0.34781555,\n",
       "       0.2575916 , 0.30616239, 0.17346771, 0.12598689, 0.29807465,\n",
       "       0.13363348, 0.24722942, 0.03903423, 0.13434775, 0.06904397,\n",
       "       0.3955348 , 0.24437954, 0.36732204, 0.22983802, 0.22384634,\n",
       "       0.12632078, 0.09110577, 0.2810448 , 0.11055916, 0.13614056,\n",
       "       0.16632932, 0.18581637, 0.1909314 , 0.08709018, 0.32097103,\n",
       "       0.22736273, 0.23447612, 0.22674477, 0.23063226, 0.11743137,\n",
       "       0.22787609, 0.05945136, 0.26652289, 0.406663  , 0.07612058,\n",
       "       0.19394376, 0.14574179, 0.07305378, 0.04829994, 0.18362786,\n",
       "       0.2583379 , 0.44517871, 0.15343753, 0.28349001, 0.18182561,\n",
       "       0.44379826, 0.14878393, 0.14542241, 0.14635562, 0.08991446,\n",
       "       0.14431561, 0.18822661, 0.26430774, 0.10492575, 0.15146554,\n",
       "       0.06513819, 0.17792466, 0.03278633, 0.36057401, 0.06995716,\n",
       "       0.15670443, 0.09967129, 0.14801836, 0.15858353, 0.18555077,\n",
       "       0.31860277, 0.08917144, 0.26350106, 0.08335768, 0.12444879,\n",
       "       0.25020119, 0.381454  , 0.25014211, 0.11611615, 0.13427969,\n",
       "       0.47243795, 0.09797015, 0.13770122, 0.17566837, 0.2015436 ,\n",
       "       0.0846951 , 0.05692411, 0.39464823, 0.18484576, 0.10044737,\n",
       "       0.2218993 , 0.130811  , 0.31249216, 0.15085581, 0.2112841 ,\n",
       "       0.06611529, 0.06878881, 0.29757539, 0.06300626, 0.12284393,\n",
       "       0.37831169, 0.11456804, 0.16329259, 0.15715796, 0.30415526,\n",
       "       0.08349024, 0.45609423, 0.16732822, 0.28411112, 0.16609016,\n",
       "       0.13022315, 0.29206134, 0.08935962, 0.11988269, 0.17330812,\n",
       "       0.16569654, 0.08565257, 0.16059119, 0.32127071, 0.35640728,\n",
       "       0.29368848, 0.2002862 , 0.11413473, 0.20774914, 0.27145771,\n",
       "       0.20497172, 0.22411821, 0.11629518, 0.09769199, 0.08878212,\n",
       "       0.1393327 , 0.0864691 , 0.04257576, 0.08846147, 0.16468203,\n",
       "       0.27370568, 0.11995739, 0.16230975, 0.08204082, 0.20062142,\n",
       "       0.1013262 , 0.13932546, 0.20513083, 0.09556022, 0.27921578,\n",
       "       0.26836901, 0.32787591, 0.21317724, 0.13359738, 0.0530887 ,\n",
       "       0.45695244, 0.19218721, 0.23992207, 0.34536082, 0.45110489,\n",
       "       0.03490518, 0.15271568, 0.34904309, 0.2288151 , 0.32953875,\n",
       "       0.16666467, 0.25430731, 0.20265923, 0.10371994, 0.15905122,\n",
       "       0.19539424, 0.26345276, 0.23772334, 0.17325047, 0.31161203,\n",
       "       0.19241973, 0.06841176, 0.15134362, 0.15182524, 0.33360614,\n",
       "       0.17886821, 0.11809313, 0.20804837, 0.05549239, 0.13271288,\n",
       "       0.10767406, 0.24300199, 0.197636  , 0.26213189, 0.21075383,\n",
       "       0.20804779, 0.1767806 , 0.06668342, 0.04784841, 0.20794532,\n",
       "       0.08250179, 0.16864387, 0.26707158, 0.21498734, 0.14947793,\n",
       "       0.16663156, 0.12491358, 0.38513577, 0.26826116, 0.03845377,\n",
       "       0.08963265, 0.16131406, 0.08379463, 0.24730067, 0.0779317 ,\n",
       "       0.50735514, 0.05425441, 0.11463819, 0.05085604, 0.22760376,\n",
       "       0.1162419 , 0.13106867, 0.12120292, 0.16876523, 0.03960612,\n",
       "       0.08044715, 0.39893032, 0.26973449, 0.29274793, 0.13384373,\n",
       "       0.14500734, 0.11871645, 0.19441953, 0.04445984, 0.24010796,\n",
       "       0.40979953, 0.2600671 , 0.05866917, 0.05770607, 0.17931075,\n",
       "       0.11066804, 0.37142693, 0.20764343, 0.28271353, 0.31461987,\n",
       "       0.35489112, 0.22896706, 0.31969729, 0.41350871, 0.12063277,\n",
       "       0.38418664, 0.54855515, 0.1266135 , 0.14220735, 0.18096341,\n",
       "       0.28448788, 0.16267307, 0.15253619, 0.17449146, 0.16717342,\n",
       "       0.11049831, 0.11616052, 0.09670536, 0.05317784, 0.13112412,\n",
       "       0.10838537, 0.3325818 , 0.09105372, 0.07910408, 0.15478455,\n",
       "       0.27174787, 0.07454048, 0.10984857, 0.11538274, 0.1520329 ,\n",
       "       0.436008  , 0.0903357 , 0.10491895, 0.07344267, 0.27155127,\n",
       "       0.42922487, 0.35663355, 0.2014278 , 0.12044762, 0.16669655,\n",
       "       0.22192855, 0.25804957, 0.13549715, 0.17842387, 0.14860483,\n",
       "       0.19182805, 0.10547805, 0.11382527, 0.08730595, 0.23660364,\n",
       "       0.18619884, 0.28809201, 0.17834272, 0.28949992, 0.20259355,\n",
       "       0.05742299, 0.24345743, 0.11171338, 0.19730022, 0.07160056,\n",
       "       0.2146205 , 0.19120609, 0.22985846, 0.13462254, 0.21176077,\n",
       "       0.19069754, 0.08751296, 0.3081646 , 0.10987748, 0.16726843,\n",
       "       0.47107591, 0.05393298, 0.24642239, 0.25019822, 0.10389598,\n",
       "       0.13997213, 0.29995998, 0.22056874, 0.11515897, 0.11981142,\n",
       "       0.27340452, 0.04626083, 0.08847569, 0.33446607, 0.09412349,\n",
       "       0.15094701, 0.23297724, 0.40721547, 0.16928659, 0.21196478,\n",
       "       0.11556703, 0.1095813 , 0.35049965, 0.133229  ])"
      ]
     },
     "execution_count": 42,
     "metadata": {},
     "output_type": "execute_result"
    }
   ],
   "source": [
    "logreg.predict_proba(X_test)[:, 1]"
   ]
  },
  {
   "cell_type": "markdown",
   "metadata": {},
   "source": [
    "# Dokładność"
   ]
  },
  {
   "cell_type": "code",
   "execution_count": 43,
   "metadata": {},
   "outputs": [
    {
     "name": "stdout",
     "output_type": "stream",
     "text": [
      "Model accuracy score: 0.8172\n"
     ]
    }
   ],
   "source": [
    "print('Model accuracy score: {0:0.4f}'. format(\n",
    "    accuracy_score(y_test, y_pred_test)))"
   ]
  },
  {
   "cell_type": "markdown",
   "metadata": {},
   "source": [
    "# Macierz pomyłek"
   ]
  },
  {
   "cell_type": "code",
   "execution_count": 44,
   "metadata": {},
   "outputs": [
    {
     "name": "stdout",
     "output_type": "stream",
     "text": [
      "Confusion matrix\n",
      "\n",
      " [[370   4]\n",
      " [ 79   1]]\n",
      "\n",
      "True Positives(TP) =  370\n",
      "\n",
      "True Negatives(TN) =  1\n",
      "\n",
      "False Positives(FP) =  4\n",
      "\n",
      "False Negatives(FN) =  79\n"
     ]
    }
   ],
   "source": [
    "cm = confusion_matrix(y_test, y_pred_test)\n",
    "\n",
    "print('Confusion matrix\\n\\n', cm)\n",
    "\n",
    "print('\\nTrue Positives(TP) = ', cm[0, 0])\n",
    "\n",
    "print('\\nTrue Negatives(TN) = ', cm[1, 1])\n",
    "\n",
    "print('\\nFalse Positives(FP) = ', cm[0, 1])\n",
    "\n",
    "print('\\nFalse Negatives(FN) = ', cm[1, 0])"
   ]
  },
  {
   "cell_type": "markdown",
   "metadata": {},
   "source": [
    "# Wizualizacja macierzy pomyłek z heatmapą seaborn\n"
   ]
  },
  {
   "cell_type": "code",
   "execution_count": 45,
   "metadata": {},
   "outputs": [
    {
     "data": {
      "text/plain": [
       "<Axes: >"
      ]
     },
     "execution_count": 45,
     "metadata": {},
     "output_type": "execute_result"
    },
    {
     "data": {
      "image/png": "[encoded data removed]",
      "text/plain": [
       "<Figure size 640x480 with 2 Axes>"
      ]
     },
     "metadata": {},
     "output_type": "display_data"
    }
   ],
   "source": [
    "cm_matrix = pd.DataFrame(data=cm, columns=['Actual Positive:1', 'Actual Negative:0'],\n",
    "                         index=['Predict Positive:1', 'Predict Negative:0'])\n",
    "\n",
    "sns.heatmap(cm_matrix, annot=True, fmt='d', cmap='YlGnBu')"
   ]
  },
  {
   "cell_type": "markdown",
   "metadata": {},
   "source": [
    "# Dokładność klasyfikatora\n"
   ]
  },
  {
   "cell_type": "code",
   "execution_count": 46,
   "metadata": {},
   "outputs": [
    {
     "name": "stdout",
     "output_type": "stream",
     "text": [
      "Classification accuracy : 0.8172\n"
     ]
    }
   ],
   "source": [
    "TP = cm[0, 0]\n",
    "TN = cm[1, 1]\n",
    "FP = cm[0, 1]\n",
    "FN = cm[1, 0]\n",
    "classification_accuracy = (TP + TN) / float(TP + TN + FP + FN)\n",
    "\n",
    "print('Classification accuracy : {0:0.4f}'.format(classification_accuracy))"
   ]
  },
  {
   "cell_type": "markdown",
   "metadata": {},
   "source": [
    "# Precyzja klasyfikatora"
   ]
  },
  {
   "cell_type": "code",
   "execution_count": 47,
   "metadata": {},
   "outputs": [
    {
     "name": "stdout",
     "output_type": "stream",
     "text": [
      "Precision : 0.9893\n"
     ]
    }
   ],
   "source": [
    "precision = TP / float(TP + FP)\n",
    "\n",
    "print('Precision : {0:0.4f}'.format(precision))"
   ]
  },
  {
   "cell_type": "code",
   "execution_count": 48,
   "metadata": {},
   "outputs": [],
   "source": [
    "y_pred1 = logreg.predict_proba(X_test)[:, 1]"
   ]
  },
  {
   "cell_type": "markdown",
   "metadata": {},
   "source": [
    "# Krzywa ROC"
   ]
  },
  {
   "cell_type": "code",
   "execution_count": 49,
   "metadata": {},
   "outputs": [
    {
     "data": {
      "image/png": "[encoded data removed]",
      "text/plain": [
       "<Figure size 600x400 with 1 Axes>"
      ]
     },
     "metadata": {},
     "output_type": "display_data"
    }
   ],
   "source": [
    "fpr, tpr, thresholds = roc_curve(y_test, y_pred1, pos_label='Yes')\n",
    "\n",
    "plt.figure(figsize=(6, 4))\n",
    "\n",
    "plt.plot(fpr, tpr, linewidth=2)\n",
    "\n",
    "plt.plot([0, 1], [0, 1], 'k--')\n",
    "\n",
    "plt.rcParams['font.size'] = 12\n",
    "\n",
    "plt.title('ROC curve for RainTomorrow classifier')\n",
    "\n",
    "plt.xlabel('False Positive Rate (1 - Specificity)')\n",
    "\n",
    "plt.ylabel('True Positive Rate (Sensitivity)')\n",
    "\n",
    "plt.show()"
   ]
  },
  {
   "cell_type": "markdown",
   "metadata": {},
   "source": [
    "# Eskport modelu"
   ]
  },
  {
   "cell_type": "code",
   "execution_count": 53,
   "metadata": {},
   "outputs": [],
   "source": [
    "filename = \"model.h5\"\n",
    "pickle.dump(logreg, open(filename, 'wb'))\n",
    "with open('encoder.pkl', 'wb') as file:\n",
    "    pickle.dump(encoder, file)\n",
    "\n"
   ]
  },
  {
   "cell_type": "code",
   "execution_count": 56,
   "metadata": {},
   "outputs": [
    {
     "name": "stdout",
     "output_type": "stream",
     "text": [
      "109\n"
     ]
    }
   ],
   "source": [
    "total_features = len(numerical) - len(['Temp3pm', 'Temp9am', 'Humidity9am'])\n",
    "total_features += 2\n",
    "total_features += sum([len(x[column].unique()) for column in categorical])\n",
    "print(total_features)"
   ]
  }
 ],
 "metadata": {
  "kernelspec": {
   "display_name": "Python 3",
   "language": "python",
   "name": "python3"
  },
  "language_info": {
   "codemirror_mode": {
    "name": "ipython",
    "version": 3
   },
   "file_extension": ".py",
   "mimetype": "text/x-python",
   "name": "python",
   "nbconvert_exporter": "python",
   "pygments_lexer": "ipython3",
   "version": "3.12.1"
  }
 },
 "nbformat": 4,
 "nbformat_minor": 2
}
