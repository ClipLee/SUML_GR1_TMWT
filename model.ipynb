{
 "cells": [
  {
   "cell_type": "markdown",
   "metadata": {},
   "source": [
    "# Import bibliotek"
   ]
  },
  {
   "cell_type": "code",
   "execution_count": 1,
   "metadata": {},
   "outputs": [
    {
     "name": "stderr",
     "output_type": "stream",
     "text": [
      "C:\\Users\\klips\\AppData\\Local\\Temp\\ipykernel_39112\\4164267714.py:1: DeprecationWarning: \n",
      "Pyarrow will become a required dependency of pandas in the next major release of pandas (pandas 3.0),\n",
      "(to allow more performant data types, such as the Arrow string type, and better interoperability with other libraries)\n",
      "but was not found to be installed on your system.\n",
      "If this would cause problems for you,\n",
      "please provide us feedback at https://github.com/pandas-dev/pandas/issues/54466\n",
      "        \n",
      "  import pandas as pd\n"
     ]
    }
   ],
   "source": [
    "import pandas as pd\n",
    "from sklearn.model_selection import train_test_split\n",
    "import category_encoders as ce\n",
    "from sklearn.linear_model import LogisticRegression\n",
    "from sklearn.metrics import accuracy_score, confusion_matrix, roc_curve\n",
    "from sklearn import metrics\n",
    "import matplotlib.pyplot as plt\n",
    "import seaborn as sns\n",
    "import pickle\n",
    "from sklearn.preprocessing import MinMaxScaler"
   ]
  },
  {
   "cell_type": "markdown",
   "metadata": {},
   "source": [
    "# Wybranie datasetu i podział na zbiory"
   ]
  },
  {
   "cell_type": "code",
   "execution_count": 2,
   "metadata": {},
   "outputs": [],
   "source": [
    "def choose_dataset(train_data, test_data):\n",
    "    train_data = train_data\n",
    "    test_data = test_data\n",
    "    return train_data, test_data"
   ]
  },
  {
   "cell_type": "code",
   "execution_count": 3,
   "metadata": {},
   "outputs": [],
   "source": [
    "x = pd.read_csv(\"data/data2008.csv\")\n",
    "y = pd.read_csv('data/data2009.csv')"
   ]
  },
  {
   "cell_type": "code",
   "execution_count": 4,
   "metadata": {},
   "outputs": [],
   "source": [
    "if (len(x)) > len(y):\n",
    "    x = x[:len(y)]\n",
    "else:\n",
    "    y = y[:len(x)]"
   ]
  },
  {
   "cell_type": "markdown",
   "metadata": {},
   "source": [
    "# Sprawdzenie istnienia brakujących wartości"
   ]
  },
  {
   "cell_type": "code",
   "execution_count": 5,
   "metadata": {},
   "outputs": [],
   "source": [
    "x = x[x[\"RainTomorrow\"].notna()]\n",
    "y = y[y[\"RainTomorrow\"].notna()]"
   ]
  },
  {
   "cell_type": "markdown",
   "metadata": {},
   "source": [
    "# Wyświetl wartości kategoryczne i liczbowe"
   ]
  },
  {
   "cell_type": "code",
   "execution_count": 6,
   "metadata": {},
   "outputs": [
    {
     "data": {
      "text/plain": [
       "['WindGustDir', 'WindDir9am', 'WindDir3pm', 'RainToday', 'RainTomorrow']"
      ]
     },
     "execution_count": 6,
     "metadata": {},
     "output_type": "execute_result"
    }
   ],
   "source": [
    "categorical = [col for col in x.columns if x[col].dtypes == 'O']\n",
    "\n",
    "categorical"
   ]
  },
  {
   "cell_type": "code",
   "execution_count": 7,
   "metadata": {},
   "outputs": [
    {
     "data": {
      "text/plain": [
       "['MinTemp',\n",
       " 'MaxTemp',\n",
       " 'Rainfall',\n",
       " 'WindGustSpeed',\n",
       " 'WindSpeed9am',\n",
       " 'WindSpeed3pm',\n",
       " 'Humidity9am',\n",
       " 'Humidity3pm',\n",
       " 'Pressure9am',\n",
       " 'Pressure3pm',\n",
       " 'Temp9am',\n",
       " 'Temp3pm',\n",
       " 'Latitude',\n",
       " 'Longitude',\n",
       " 'Year',\n",
       " 'Month',\n",
       " 'Day']"
      ]
     },
     "execution_count": 7,
     "metadata": {},
     "output_type": "execute_result"
    }
   ],
   "source": [
    "numerical = [col for col in x.columns if x[col].dtypes != 'O']\n",
    "\n",
    "numerical"
   ]
  },
  {
   "cell_type": "markdown",
   "metadata": {},
   "source": [
    "# Odrzucanie wartości wysoce skorelowanych"
   ]
  },
  {
   "cell_type": "code",
   "execution_count": 8,
   "metadata": {},
   "outputs": [],
   "source": [
    "x = x.drop(['Temp3pm', 'Temp9am', 'Humidity9am'], axis=1)\n",
    "y = y.drop(['Temp3pm', 'Temp9am', 'Humidity9am'], axis=1)"
   ]
  },
  {
   "cell_type": "code",
   "execution_count": 9,
   "metadata": {},
   "outputs": [
    {
     "data": {
      "text/plain": [
       "Index(['MinTemp', 'MaxTemp', 'Rainfall', 'WindGustDir', 'WindGustSpeed',\n",
       "       'WindDir9am', 'WindDir3pm', 'WindSpeed9am', 'WindSpeed3pm',\n",
       "       'Humidity3pm', 'Pressure9am', 'Pressure3pm', 'RainToday',\n",
       "       'RainTomorrow', 'Latitude', 'Longitude', 'Year', 'Month', 'Day'],\n",
       "      dtype='object')"
      ]
     },
     "execution_count": 9,
     "metadata": {},
     "output_type": "execute_result"
    }
   ],
   "source": [
    "x.columns"
   ]
  },
  {
   "cell_type": "markdown",
   "metadata": {},
   "source": [
    "# Podział danych"
   ]
  },
  {
   "cell_type": "code",
   "execution_count": 10,
   "metadata": {},
   "outputs": [],
   "source": [
    "X = x.drop(['RainTomorrow'], axis=1)\n",
    "\n",
    "y = y['RainTomorrow']"
   ]
  },
  {
   "cell_type": "code",
   "execution_count": 11,
   "metadata": {},
   "outputs": [
    {
     "data": {
      "text/plain": [
       "((1816, 18), (454, 18))"
      ]
     },
     "execution_count": 11,
     "metadata": {},
     "output_type": "execute_result"
    }
   ],
   "source": [
    "X_train, X_test, y_train, y_test = train_test_split(\n",
    "    X, y, test_size=0.2, random_state=0)\n",
    "X_train.shape, X_test.shape"
   ]
  },
  {
   "cell_type": "markdown",
   "metadata": {},
   "source": [
    "# Zakodowanie zmiennej RainToday"
   ]
  },
  {
   "cell_type": "code",
   "execution_count": 12,
   "metadata": {},
   "outputs": [],
   "source": [
    "encoder = ce.BinaryEncoder(cols=['RainToday'])\n",
    "\n",
    "X_train = encoder.fit_transform(X_train)\n",
    "\n",
    "X_test = encoder.transform(X_test)"
   ]
  },
  {
   "cell_type": "markdown",
   "metadata": {},
   "source": [
    "# Utworzenie zbioru treningowego."
   ]
  },
  {
   "cell_type": "code",
   "execution_count": 13,
   "metadata": {},
   "outputs": [
    {
     "name": "stdout",
     "output_type": "stream",
     "text": [
      "Index(['MinTemp', 'MaxTemp', 'Rainfall', 'WindGustDir', 'WindGustSpeed',\n",
      "       'WindDir9am', 'WindDir3pm', 'WindSpeed9am', 'WindSpeed3pm',\n",
      "       'Humidity3pm', 'Pressure9am', 'Pressure3pm', 'RainToday_0',\n",
      "       'RainToday_1', 'Latitude', 'Longitude', 'Year', 'Month', 'Day'],\n",
      "      dtype='object')\n"
     ]
    }
   ],
   "source": [
    "print(X_train.columns)"
   ]
  },
  {
   "cell_type": "code",
   "execution_count": 15,
   "metadata": {},
   "outputs": [],
   "source": [
    "numerical = [col for col in numerical if col not in ['Humidity9am', 'Temp9am', 'Temp3pm']]\n",
    "\n",
    "X_train = pd.concat([X_train[numerical], X_train[['RainToday_0', 'RainToday_1']],\n",
    "                     pd.get_dummies(X_train.WindGustDir),\n",
    "                     pd.get_dummies(X_train.WindDir9am),\n",
    "                     pd.get_dummies(X_train.WindDir3pm)], axis=1)"
   ]
  },
  {
   "cell_type": "markdown",
   "metadata": {},
   "source": [
    "# Utworzenie zbioru testowego."
   ]
  },
  {
   "cell_type": "code",
   "execution_count": 17,
   "metadata": {},
   "outputs": [],
   "source": [
    "X_test = pd.concat([X_test[numerical], X_test[['RainToday_0', 'RainToday_1']],\n",
    "                    pd.get_dummies(X_test.WindGustDir),\n",
    "                    pd.get_dummies(X_test.WindDir9am),\n",
    "                    pd.get_dummies(X_test.WindDir3pm),], axis=1)"
   ]
  },
  {
   "cell_type": "code",
   "execution_count": 18,
   "metadata": {},
   "outputs": [],
   "source": [
    "cols = X_train.columns"
   ]
  },
  {
   "cell_type": "code",
   "execution_count": 19,
   "metadata": {},
   "outputs": [],
   "source": [
    "scaler = MinMaxScaler()\n",
    "\n",
    "X_train = scaler.fit_transform(X_train)\n",
    "\n",
    "X_test = scaler.transform(X_test)"
   ]
  },
  {
   "cell_type": "code",
   "execution_count": 20,
   "metadata": {},
   "outputs": [],
   "source": [
    "X_train = pd.DataFrame(X_train, columns=[cols])"
   ]
  },
  {
   "cell_type": "code",
   "execution_count": 21,
   "metadata": {},
   "outputs": [],
   "source": [
    "X_test = pd.DataFrame(X_test, columns=[cols])"
   ]
  },
  {
   "cell_type": "markdown",
   "metadata": {},
   "source": [
    "# Trenowanie modelu"
   ]
  },
  {
   "cell_type": "code",
   "execution_count": 22,
   "metadata": {},
   "outputs": [
    {
     "data": {
      "text/html": [
       "<style>#sk-container-id-1 {\n",
       "  /* Definition of color scheme common for light and dark mode */\n",
       "  --sklearn-color-text: black;\n",
       "  --sklearn-color-line: gray;\n",
       "  /* Definition of color scheme for unfitted estimators */\n",
       "  --sklearn-color-unfitted-level-0: #fff5e6;\n",
       "  --sklearn-color-unfitted-level-1: #f6e4d2;\n",
       "  --sklearn-color-unfitted-level-2: #ffe0b3;\n",
       "  --sklearn-color-unfitted-level-3: chocolate;\n",
       "  /* Definition of color scheme for fitted estimators */\n",
       "  --sklearn-color-fitted-level-0: #f0f8ff;\n",
       "  --sklearn-color-fitted-level-1: #d4ebff;\n",
       "  --sklearn-color-fitted-level-2: #b3dbfd;\n",
       "  --sklearn-color-fitted-level-3: cornflowerblue;\n",
       "\n",
       "  /* Specific color for light theme */\n",
       "  --sklearn-color-text-on-default-background: var(--sg-text-color, var(--theme-code-foreground, var(--jp-content-font-color1, black)));\n",
       "  --sklearn-color-background: var(--sg-background-color, var(--theme-background, var(--jp-layout-color0, white)));\n",
       "  --sklearn-color-border-box: var(--sg-text-color, var(--theme-code-foreground, var(--jp-content-font-color1, black)));\n",
       "  --sklearn-color-icon: #696969;\n",
       "\n",
       "  @media (prefers-color-scheme: dark) {\n",
       "    /* Redefinition of color scheme for dark theme */\n",
       "    --sklearn-color-text-on-default-background: var(--sg-text-color, var(--theme-code-foreground, var(--jp-content-font-color1, white)));\n",
       "    --sklearn-color-background: var(--sg-background-color, var(--theme-background, var(--jp-layout-color0, #111)));\n",
       "    --sklearn-color-border-box: var(--sg-text-color, var(--theme-code-foreground, var(--jp-content-font-color1, white)));\n",
       "    --sklearn-color-icon: #878787;\n",
       "  }\n",
       "}\n",
       "\n",
       "#sk-container-id-1 {\n",
       "  color: var(--sklearn-color-text);\n",
       "}\n",
       "\n",
       "#sk-container-id-1 pre {\n",
       "  padding: 0;\n",
       "}\n",
       "\n",
       "#sk-container-id-1 input.sk-hidden--visually {\n",
       "  border: 0;\n",
       "  clip: rect(1px 1px 1px 1px);\n",
       "  clip: rect(1px, 1px, 1px, 1px);\n",
       "  height: 1px;\n",
       "  margin: -1px;\n",
       "  overflow: hidden;\n",
       "  padding: 0;\n",
       "  position: absolute;\n",
       "  width: 1px;\n",
       "}\n",
       "\n",
       "#sk-container-id-1 div.sk-dashed-wrapped {\n",
       "  border: 1px dashed var(--sklearn-color-line);\n",
       "  margin: 0 0.4em 0.5em 0.4em;\n",
       "  box-sizing: border-box;\n",
       "  padding-bottom: 0.4em;\n",
       "  background-color: var(--sklearn-color-background);\n",
       "}\n",
       "\n",
       "#sk-container-id-1 div.sk-container {\n",
       "  /* jupyter's `normalize.less` sets `[hidden] { display: none; }`\n",
       "     but bootstrap.min.css set `[hidden] { display: none !important; }`\n",
       "     so we also need the `!important` here to be able to override the\n",
       "     default hidden behavior on the sphinx rendered scikit-learn.org.\n",
       "     See: https://github.com/scikit-learn/scikit-learn/issues/21755 */\n",
       "  display: inline-block !important;\n",
       "  position: relative;\n",
       "}\n",
       "\n",
       "#sk-container-id-1 div.sk-text-repr-fallback {\n",
       "  display: none;\n",
       "}\n",
       "\n",
       "div.sk-parallel-item,\n",
       "div.sk-serial,\n",
       "div.sk-item {\n",
       "  /* draw centered vertical line to link estimators */\n",
       "  background-image: linear-gradient(var(--sklearn-color-text-on-default-background), var(--sklearn-color-text-on-default-background));\n",
       "  background-size: 2px 100%;\n",
       "  background-repeat: no-repeat;\n",
       "  background-position: center center;\n",
       "}\n",
       "\n",
       "/* Parallel-specific style estimator block */\n",
       "\n",
       "#sk-container-id-1 div.sk-parallel-item::after {\n",
       "  content: \"\";\n",
       "  width: 100%;\n",
       "  border-bottom: 2px solid var(--sklearn-color-text-on-default-background);\n",
       "  flex-grow: 1;\n",
       "}\n",
       "\n",
       "#sk-container-id-1 div.sk-parallel {\n",
       "  display: flex;\n",
       "  align-items: stretch;\n",
       "  justify-content: center;\n",
       "  background-color: var(--sklearn-color-background);\n",
       "  position: relative;\n",
       "}\n",
       "\n",
       "#sk-container-id-1 div.sk-parallel-item {\n",
       "  display: flex;\n",
       "  flex-direction: column;\n",
       "}\n",
       "\n",
       "#sk-container-id-1 div.sk-parallel-item:first-child::after {\n",
       "  align-self: flex-end;\n",
       "  width: 50%;\n",
       "}\n",
       "\n",
       "#sk-container-id-1 div.sk-parallel-item:last-child::after {\n",
       "  align-self: flex-start;\n",
       "  width: 50%;\n",
       "}\n",
       "\n",
       "#sk-container-id-1 div.sk-parallel-item:only-child::after {\n",
       "  width: 0;\n",
       "}\n",
       "\n",
       "/* Serial-specific style estimator block */\n",
       "\n",
       "#sk-container-id-1 div.sk-serial {\n",
       "  display: flex;\n",
       "  flex-direction: column;\n",
       "  align-items: center;\n",
       "  background-color: var(--sklearn-color-background);\n",
       "  padding-right: 1em;\n",
       "  padding-left: 1em;\n",
       "}\n",
       "\n",
       "\n",
       "/* Toggleable style: style used for estimator/Pipeline/ColumnTransformer box that is\n",
       "clickable and can be expanded/collapsed.\n",
       "- Pipeline and ColumnTransformer use this feature and define the default style\n",
       "- Estimators will overwrite some part of the style using the `sk-estimator` class\n",
       "*/\n",
       "\n",
       "/* Pipeline and ColumnTransformer style (default) */\n",
       "\n",
       "#sk-container-id-1 div.sk-toggleable {\n",
       "  /* Default theme specific background. It is overwritten whether we have a\n",
       "  specific estimator or a Pipeline/ColumnTransformer */\n",
       "  background-color: var(--sklearn-color-background);\n",
       "}\n",
       "\n",
       "/* Toggleable label */\n",
       "#sk-container-id-1 label.sk-toggleable__label {\n",
       "  cursor: pointer;\n",
       "  display: block;\n",
       "  width: 100%;\n",
       "  margin-bottom: 0;\n",
       "  padding: 0.5em;\n",
       "  box-sizing: border-box;\n",
       "  text-align: center;\n",
       "}\n",
       "\n",
       "#sk-container-id-1 label.sk-toggleable__label-arrow:before {\n",
       "  /* Arrow on the left of the label */\n",
       "  content: \"▸\";\n",
       "  float: left;\n",
       "  margin-right: 0.25em;\n",
       "  color: var(--sklearn-color-icon);\n",
       "}\n",
       "\n",
       "#sk-container-id-1 label.sk-toggleable__label-arrow:hover:before {\n",
       "  color: var(--sklearn-color-text);\n",
       "}\n",
       "\n",
       "/* Toggleable content - dropdown */\n",
       "\n",
       "#sk-container-id-1 div.sk-toggleable__content {\n",
       "  max-height: 0;\n",
       "  max-width: 0;\n",
       "  overflow: hidden;\n",
       "  text-align: left;\n",
       "  /* unfitted */\n",
       "  background-color: var(--sklearn-color-unfitted-level-0);\n",
       "}\n",
       "\n",
       "#sk-container-id-1 div.sk-toggleable__content.fitted {\n",
       "  /* fitted */\n",
       "  background-color: var(--sklearn-color-fitted-level-0);\n",
       "}\n",
       "\n",
       "#sk-container-id-1 div.sk-toggleable__content pre {\n",
       "  margin: 0.2em;\n",
       "  border-radius: 0.25em;\n",
       "  color: var(--sklearn-color-text);\n",
       "  /* unfitted */\n",
       "  background-color: var(--sklearn-color-unfitted-level-0);\n",
       "}\n",
       "\n",
       "#sk-container-id-1 div.sk-toggleable__content.fitted pre {\n",
       "  /* unfitted */\n",
       "  background-color: var(--sklearn-color-fitted-level-0);\n",
       "}\n",
       "\n",
       "#sk-container-id-1 input.sk-toggleable__control:checked~div.sk-toggleable__content {\n",
       "  /* Expand drop-down */\n",
       "  max-height: 200px;\n",
       "  max-width: 100%;\n",
       "  overflow: auto;\n",
       "}\n",
       "\n",
       "#sk-container-id-1 input.sk-toggleable__control:checked~label.sk-toggleable__label-arrow:before {\n",
       "  content: \"▾\";\n",
       "}\n",
       "\n",
       "/* Pipeline/ColumnTransformer-specific style */\n",
       "\n",
       "#sk-container-id-1 div.sk-label input.sk-toggleable__control:checked~label.sk-toggleable__label {\n",
       "  color: var(--sklearn-color-text);\n",
       "  background-color: var(--sklearn-color-unfitted-level-2);\n",
       "}\n",
       "\n",
       "#sk-container-id-1 div.sk-label.fitted input.sk-toggleable__control:checked~label.sk-toggleable__label {\n",
       "  background-color: var(--sklearn-color-fitted-level-2);\n",
       "}\n",
       "\n",
       "/* Estimator-specific style */\n",
       "\n",
       "/* Colorize estimator box */\n",
       "#sk-container-id-1 div.sk-estimator input.sk-toggleable__control:checked~label.sk-toggleable__label {\n",
       "  /* unfitted */\n",
       "  background-color: var(--sklearn-color-unfitted-level-2);\n",
       "}\n",
       "\n",
       "#sk-container-id-1 div.sk-estimator.fitted input.sk-toggleable__control:checked~label.sk-toggleable__label {\n",
       "  /* fitted */\n",
       "  background-color: var(--sklearn-color-fitted-level-2);\n",
       "}\n",
       "\n",
       "#sk-container-id-1 div.sk-label label.sk-toggleable__label,\n",
       "#sk-container-id-1 div.sk-label label {\n",
       "  /* The background is the default theme color */\n",
       "  color: var(--sklearn-color-text-on-default-background);\n",
       "}\n",
       "\n",
       "/* On hover, darken the color of the background */\n",
       "#sk-container-id-1 div.sk-label:hover label.sk-toggleable__label {\n",
       "  color: var(--sklearn-color-text);\n",
       "  background-color: var(--sklearn-color-unfitted-level-2);\n",
       "}\n",
       "\n",
       "/* Label box, darken color on hover, fitted */\n",
       "#sk-container-id-1 div.sk-label.fitted:hover label.sk-toggleable__label.fitted {\n",
       "  color: var(--sklearn-color-text);\n",
       "  background-color: var(--sklearn-color-fitted-level-2);\n",
       "}\n",
       "\n",
       "/* Estimator label */\n",
       "\n",
       "#sk-container-id-1 div.sk-label label {\n",
       "  font-family: monospace;\n",
       "  font-weight: bold;\n",
       "  display: inline-block;\n",
       "  line-height: 1.2em;\n",
       "}\n",
       "\n",
       "#sk-container-id-1 div.sk-label-container {\n",
       "  text-align: center;\n",
       "}\n",
       "\n",
       "/* Estimator-specific */\n",
       "#sk-container-id-1 div.sk-estimator {\n",
       "  font-family: monospace;\n",
       "  border: 1px dotted var(--sklearn-color-border-box);\n",
       "  border-radius: 0.25em;\n",
       "  box-sizing: border-box;\n",
       "  margin-bottom: 0.5em;\n",
       "  /* unfitted */\n",
       "  background-color: var(--sklearn-color-unfitted-level-0);\n",
       "}\n",
       "\n",
       "#sk-container-id-1 div.sk-estimator.fitted {\n",
       "  /* fitted */\n",
       "  background-color: var(--sklearn-color-fitted-level-0);\n",
       "}\n",
       "\n",
       "/* on hover */\n",
       "#sk-container-id-1 div.sk-estimator:hover {\n",
       "  /* unfitted */\n",
       "  background-color: var(--sklearn-color-unfitted-level-2);\n",
       "}\n",
       "\n",
       "#sk-container-id-1 div.sk-estimator.fitted:hover {\n",
       "  /* fitted */\n",
       "  background-color: var(--sklearn-color-fitted-level-2);\n",
       "}\n",
       "\n",
       "/* Specification for estimator info (e.g. \"i\" and \"?\") */\n",
       "\n",
       "/* Common style for \"i\" and \"?\" */\n",
       "\n",
       ".sk-estimator-doc-link,\n",
       "a:link.sk-estimator-doc-link,\n",
       "a:visited.sk-estimator-doc-link {\n",
       "  float: right;\n",
       "  font-size: smaller;\n",
       "  line-height: 1em;\n",
       "  font-family: monospace;\n",
       "  background-color: var(--sklearn-color-background);\n",
       "  border-radius: 1em;\n",
       "  height: 1em;\n",
       "  width: 1em;\n",
       "  text-decoration: none !important;\n",
       "  margin-left: 1ex;\n",
       "  /* unfitted */\n",
       "  border: var(--sklearn-color-unfitted-level-1) 1pt solid;\n",
       "  color: var(--sklearn-color-unfitted-level-1);\n",
       "}\n",
       "\n",
       ".sk-estimator-doc-link.fitted,\n",
       "a:link.sk-estimator-doc-link.fitted,\n",
       "a:visited.sk-estimator-doc-link.fitted {\n",
       "  /* fitted */\n",
       "  border: var(--sklearn-color-fitted-level-1) 1pt solid;\n",
       "  color: var(--sklearn-color-fitted-level-1);\n",
       "}\n",
       "\n",
       "/* On hover */\n",
       "div.sk-estimator:hover .sk-estimator-doc-link:hover,\n",
       ".sk-estimator-doc-link:hover,\n",
       "div.sk-label-container:hover .sk-estimator-doc-link:hover,\n",
       ".sk-estimator-doc-link:hover {\n",
       "  /* unfitted */\n",
       "  background-color: var(--sklearn-color-unfitted-level-3);\n",
       "  color: var(--sklearn-color-background);\n",
       "  text-decoration: none;\n",
       "}\n",
       "\n",
       "div.sk-estimator.fitted:hover .sk-estimator-doc-link.fitted:hover,\n",
       ".sk-estimator-doc-link.fitted:hover,\n",
       "div.sk-label-container:hover .sk-estimator-doc-link.fitted:hover,\n",
       ".sk-estimator-doc-link.fitted:hover {\n",
       "  /* fitted */\n",
       "  background-color: var(--sklearn-color-fitted-level-3);\n",
       "  color: var(--sklearn-color-background);\n",
       "  text-decoration: none;\n",
       "}\n",
       "\n",
       "/* Span, style for the box shown on hovering the info icon */\n",
       ".sk-estimator-doc-link span {\n",
       "  display: none;\n",
       "  z-index: 9999;\n",
       "  position: relative;\n",
       "  font-weight: normal;\n",
       "  right: .2ex;\n",
       "  padding: .5ex;\n",
       "  margin: .5ex;\n",
       "  width: min-content;\n",
       "  min-width: 20ex;\n",
       "  max-width: 50ex;\n",
       "  color: var(--sklearn-color-text);\n",
       "  box-shadow: 2pt 2pt 4pt #999;\n",
       "  /* unfitted */\n",
       "  background: var(--sklearn-color-unfitted-level-0);\n",
       "  border: .5pt solid var(--sklearn-color-unfitted-level-3);\n",
       "}\n",
       "\n",
       ".sk-estimator-doc-link.fitted span {\n",
       "  /* fitted */\n",
       "  background: var(--sklearn-color-fitted-level-0);\n",
       "  border: var(--sklearn-color-fitted-level-3);\n",
       "}\n",
       "\n",
       ".sk-estimator-doc-link:hover span {\n",
       "  display: block;\n",
       "}\n",
       "\n",
       "/* \"?\"-specific style due to the `<a>` HTML tag */\n",
       "\n",
       "#sk-container-id-1 a.estimator_doc_link {\n",
       "  float: right;\n",
       "  font-size: 1rem;\n",
       "  line-height: 1em;\n",
       "  font-family: monospace;\n",
       "  background-color: var(--sklearn-color-background);\n",
       "  border-radius: 1rem;\n",
       "  height: 1rem;\n",
       "  width: 1rem;\n",
       "  text-decoration: none;\n",
       "  /* unfitted */\n",
       "  color: var(--sklearn-color-unfitted-level-1);\n",
       "  border: var(--sklearn-color-unfitted-level-1) 1pt solid;\n",
       "}\n",
       "\n",
       "#sk-container-id-1 a.estimator_doc_link.fitted {\n",
       "  /* fitted */\n",
       "  border: var(--sklearn-color-fitted-level-1) 1pt solid;\n",
       "  color: var(--sklearn-color-fitted-level-1);\n",
       "}\n",
       "\n",
       "/* On hover */\n",
       "#sk-container-id-1 a.estimator_doc_link:hover {\n",
       "  /* unfitted */\n",
       "  background-color: var(--sklearn-color-unfitted-level-3);\n",
       "  color: var(--sklearn-color-background);\n",
       "  text-decoration: none;\n",
       "}\n",
       "\n",
       "#sk-container-id-1 a.estimator_doc_link.fitted:hover {\n",
       "  /* fitted */\n",
       "  background-color: var(--sklearn-color-fitted-level-3);\n",
       "}\n",
       "</style><div id=\"sk-container-id-1\" class=\"sk-top-container\"><div class=\"sk-text-repr-fallback\"><pre>LogisticRegression(random_state=0, solver=&#x27;liblinear&#x27;)</pre><b>In a Jupyter environment, please rerun this cell to show the HTML representation or trust the notebook. <br />On GitHub, the HTML representation is unable to render, please try loading this page with nbviewer.org.</b></div><div class=\"sk-container\" hidden><div class=\"sk-item\"><div class=\"sk-estimator fitted sk-toggleable\"><input class=\"sk-toggleable__control sk-hidden--visually\" id=\"sk-estimator-id-1\" type=\"checkbox\" checked><label for=\"sk-estimator-id-1\" class=\"sk-toggleable__label fitted sk-toggleable__label-arrow fitted\">&nbsp;&nbsp;LogisticRegression<a class=\"sk-estimator-doc-link fitted\" rel=\"noreferrer\" target=\"_blank\" href=\"https://scikit-learn.org/1.4/modules/generated/sklearn.linear_model.LogisticRegression.html\">?<span>Documentation for LogisticRegression</span></a><span class=\"sk-estimator-doc-link fitted\">i<span>Fitted</span></span></label><div class=\"sk-toggleable__content fitted\"><pre>LogisticRegression(random_state=0, solver=&#x27;liblinear&#x27;)</pre></div> </div></div></div></div>"
      ],
      "text/plain": [
       "LogisticRegression(random_state=0, solver='liblinear')"
      ]
     },
     "execution_count": 22,
     "metadata": {},
     "output_type": "execute_result"
    }
   ],
   "source": [
    "# instantiate the model\n",
    "logreg = LogisticRegression(solver='liblinear', random_state=0)\n",
    "\n",
    "\n",
    "# fit the model\n",
    "logreg.fit(X_train, y_train)"
   ]
  },
  {
   "cell_type": "markdown",
   "metadata": {},
   "source": [
    "# Kodowanie zmiennych kategorycznych"
   ]
  },
  {
   "cell_type": "code",
   "execution_count": 23,
   "metadata": {},
   "outputs": [
    {
     "data": {
      "text/plain": [
       "\"from sklearn import preprocessing\\nle = preprocessing.LabelEncoder()\\ncleaned_data['Location'] = le.fit_transform(cleaned_data['Location'])\\ncleaned_data['WindDir9am'] = le.fit_transform(cleaned_data['WindDir9am'])\\ncleaned_data['WindDir3pm'] = le.fit_transform(cleaned_data['WindDir3pm'])\\ncleaned_data['WindGustDir'] = le.fit_transform(cleaned_data['WindGustDir'])\\n\""
      ]
     },
     "execution_count": 23,
     "metadata": {},
     "output_type": "execute_result"
    }
   ],
   "source": [
    "'''from sklearn import preprocessing\n",
    "le = preprocessing.LabelEncoder()\n",
    "cleaned_data['Location'] = le.fit_transform(cleaned_data['Location'])\n",
    "cleaned_data['WindDir9am'] = le.fit_transform(cleaned_data['WindDir9am'])\n",
    "cleaned_data['WindDir3pm'] = le.fit_transform(cleaned_data['WindDir3pm'])\n",
    "cleaned_data['WindGustDir'] = le.fit_transform(cleaned_data['WindGustDir'])\n",
    "'''"
   ]
  },
  {
   "cell_type": "code",
   "execution_count": 24,
   "metadata": {},
   "outputs": [
    {
     "data": {
      "text/plain": [
       "MultiIndex([(      'MinTemp',),\n",
       "            (      'MaxTemp',),\n",
       "            (     'Rainfall',),\n",
       "            ('WindGustSpeed',),\n",
       "            ( 'WindSpeed9am',),\n",
       "            ( 'WindSpeed3pm',),\n",
       "            (  'Humidity3pm',),\n",
       "            (  'Pressure9am',),\n",
       "            (  'Pressure3pm',),\n",
       "            (     'Latitude',),\n",
       "            (    'Longitude',),\n",
       "            (         'Year',),\n",
       "            (        'Month',),\n",
       "            (          'Day',),\n",
       "            (  'RainToday_0',),\n",
       "            (  'RainToday_1',),\n",
       "            (            'E',),\n",
       "            (          'ENE',),\n",
       "            (          'ESE',),\n",
       "            (            'N',),\n",
       "            (           'NE',),\n",
       "            (          'NNE',),\n",
       "            (          'NNW',),\n",
       "            (           'NW',),\n",
       "            (            'S',),\n",
       "            (           'SE',),\n",
       "            (          'SSE',),\n",
       "            (          'SSW',),\n",
       "            (           'SW',),\n",
       "            (            'W',),\n",
       "            (          'WNW',),\n",
       "            (          'WSW',),\n",
       "            (            'E',),\n",
       "            (          'ENE',),\n",
       "            (          'ESE',),\n",
       "            (            'N',),\n",
       "            (           'NE',),\n",
       "            (          'NNE',),\n",
       "            (          'NNW',),\n",
       "            (           'NW',),\n",
       "            (            'S',),\n",
       "            (           'SE',),\n",
       "            (          'SSE',),\n",
       "            (          'SSW',),\n",
       "            (           'SW',),\n",
       "            (            'W',),\n",
       "            (          'WNW',),\n",
       "            (          'WSW',),\n",
       "            (            'E',),\n",
       "            (          'ENE',),\n",
       "            (          'ESE',),\n",
       "            (            'N',),\n",
       "            (           'NE',),\n",
       "            (          'NNE',),\n",
       "            (          'NNW',),\n",
       "            (           'NW',),\n",
       "            (            'S',),\n",
       "            (           'SE',),\n",
       "            (          'SSE',),\n",
       "            (          'SSW',),\n",
       "            (           'SW',),\n",
       "            (            'W',),\n",
       "            (          'WNW',),\n",
       "            (          'WSW',)],\n",
       "           )"
      ]
     },
     "execution_count": 24,
     "metadata": {},
     "output_type": "execute_result"
    }
   ],
   "source": [
    "X_train.columns"
   ]
  },
  {
   "cell_type": "markdown",
   "metadata": {},
   "source": [
    "# Predykcja wyników"
   ]
  },
  {
   "cell_type": "code",
   "execution_count": 25,
   "metadata": {},
   "outputs": [
    {
     "data": {
      "text/plain": [
       "array(['No', 'No', 'No', 'No', 'No', 'No', 'No', 'No', 'No', 'No', 'No',\n",
       "       'No', 'No', 'No', 'No', 'No', 'No', 'No', 'No', 'No', 'No', 'No',\n",
       "       'No', 'No', 'No', 'No', 'No', 'No', 'No', 'No', 'No', 'No', 'No',\n",
       "       'No', 'No', 'No', 'No', 'No', 'No', 'No', 'No', 'No', 'No', 'No',\n",
       "       'No', 'No', 'No', 'No', 'No', 'No', 'No', 'No', 'No', 'No', 'No',\n",
       "       'No', 'No', 'No', 'No', 'No', 'No', 'No', 'No', 'No', 'No', 'No',\n",
       "       'No', 'No', 'No', 'No', 'No', 'No', 'No', 'No', 'No', 'No', 'No',\n",
       "       'No', 'No', 'No', 'No', 'No', 'No', 'No', 'No', 'No', 'No', 'No',\n",
       "       'No', 'No', 'No', 'No', 'No', 'No', 'No', 'No', 'No', 'No', 'No',\n",
       "       'No', 'No', 'No', 'No', 'No', 'No', 'No', 'No', 'No', 'No', 'No',\n",
       "       'No', 'No', 'No', 'No', 'No', 'No', 'No', 'No', 'No', 'No', 'No',\n",
       "       'No', 'No', 'No', 'No', 'No', 'No', 'No', 'No', 'No', 'No', 'No',\n",
       "       'No', 'No', 'No', 'No', 'No', 'No', 'No', 'No', 'No', 'No', 'No',\n",
       "       'No', 'No', 'No', 'No', 'No', 'No', 'No', 'No', 'No', 'No', 'No',\n",
       "       'No', 'No', 'No', 'No', 'No', 'No', 'No', 'No', 'No', 'No', 'No',\n",
       "       'No', 'No', 'No', 'No', 'No', 'No', 'No', 'No', 'No', 'No', 'No',\n",
       "       'No', 'No', 'No', 'No', 'No', 'No', 'No', 'No', 'No', 'No', 'No',\n",
       "       'No', 'No', 'No', 'No', 'No', 'No', 'No', 'No', 'No', 'No', 'No',\n",
       "       'No', 'No', 'No', 'No', 'No', 'No', 'No', 'No', 'No', 'No', 'No',\n",
       "       'No', 'No', 'No', 'No', 'No', 'No', 'No', 'No', 'No', 'No', 'No',\n",
       "       'No', 'No', 'No', 'No', 'No', 'No', 'No', 'No', 'No', 'No', 'No',\n",
       "       'No', 'No', 'No', 'No', 'No', 'No', 'No', 'No', 'No', 'No', 'No',\n",
       "       'No', 'No', 'No', 'No', 'No', 'No', 'No', 'No', 'No', 'No', 'No',\n",
       "       'No', 'No', 'No', 'No', 'No', 'No', 'No', 'No', 'No', 'No', 'No',\n",
       "       'No', 'No', 'No', 'No', 'No', 'No', 'No', 'No', 'No', 'No', 'No',\n",
       "       'No', 'No', 'No', 'No', 'No', 'No', 'No', 'No', 'No', 'No', 'No',\n",
       "       'No', 'No', 'No', 'No', 'No', 'No', 'No', 'No', 'No', 'No', 'No',\n",
       "       'No', 'No', 'No', 'No', 'No', 'No', 'No', 'No', 'No', 'No', 'No',\n",
       "       'No', 'No', 'No', 'No', 'No', 'No', 'No', 'No', 'No', 'No', 'No',\n",
       "       'No', 'No', 'No', 'No', 'No', 'No', 'No', 'No', 'No', 'No', 'No',\n",
       "       'No', 'No', 'No', 'No', 'No', 'No', 'No', 'No', 'No', 'No', 'No',\n",
       "       'No', 'No', 'No', 'No', 'No', 'No', 'No', 'No', 'No', 'No', 'No',\n",
       "       'No', 'No', 'No', 'No', 'No', 'No', 'No', 'No', 'No', 'No', 'No',\n",
       "       'No', 'No', 'No', 'No', 'No', 'No', 'No', 'No', 'No', 'No', 'No',\n",
       "       'No', 'No', 'No', 'No', 'No', 'No', 'No', 'No', 'No', 'No', 'No',\n",
       "       'No', 'No', 'No', 'No', 'No', 'No', 'No', 'No', 'No', 'No', 'No',\n",
       "       'No', 'No', 'No', 'No', 'No', 'No', 'No', 'No', 'No', 'No', 'No',\n",
       "       'No', 'No', 'No', 'No', 'No', 'No', 'No', 'No', 'No', 'No', 'No',\n",
       "       'No', 'No', 'No', 'No', 'No', 'No', 'No', 'No', 'No', 'No', 'No',\n",
       "       'No', 'No', 'No', 'No', 'No', 'No', 'No', 'No', 'No', 'No', 'No',\n",
       "       'No', 'No', 'No', 'No', 'No', 'No', 'No', 'No', 'No', 'No', 'No',\n",
       "       'No', 'No', 'No'], dtype=object)"
      ]
     },
     "execution_count": 25,
     "metadata": {},
     "output_type": "execute_result"
    }
   ],
   "source": [
    "y_pred_test = logreg.predict(X_test)\n",
    "\n",
    "y_pred_test"
   ]
  },
  {
   "cell_type": "code",
   "execution_count": 26,
   "metadata": {},
   "outputs": [
    {
     "data": {
      "text/plain": [
       "array([0.76415543, 0.69162882, 0.73969003, 0.90607424, 0.71887181,\n",
       "       0.92389735, 0.64108283, 0.82811702, 0.85219489, 0.84758857,\n",
       "       0.82852919, 0.81814671, 0.7463349 , 0.75875376, 0.82718575,\n",
       "       0.80097859, 0.85562289, 0.8461447 , 0.91791631, 0.82354306,\n",
       "       0.90143444, 0.80184217, 0.8580596 , 0.89029318, 0.84580475,\n",
       "       0.83241073, 0.83980137, 0.73061277, 0.85475345, 0.7740381 ,\n",
       "       0.7542985 , 0.76400063, 0.89353528, 0.87352451, 0.80992999,\n",
       "       0.89013735, 0.89172718, 0.77138211, 0.69589067, 0.76440283,\n",
       "       0.70342194, 0.80504984, 0.8517799 , 0.7294333 , 0.94440521,\n",
       "       0.86361188, 0.73321876, 0.63011126, 0.78885807, 0.75016951,\n",
       "       0.85181938, 0.80251902, 0.79487731, 0.77701859, 0.67453455,\n",
       "       0.7513362 , 0.82573743, 0.82833535, 0.82738419, 0.62909854,\n",
       "       0.76894385, 0.88528978, 0.83426852, 0.76600156, 0.90439108,\n",
       "       0.88448313, 0.88582377, 0.71980733, 0.81481788, 0.94163799,\n",
       "       0.54972781, 0.69180517, 0.89190193, 0.92012964, 0.91515838,\n",
       "       0.85092811, 0.69637521, 0.76950482, 0.81233168, 0.90214305,\n",
       "       0.88149305, 0.87750224, 0.82718507, 0.70285903, 0.82043417,\n",
       "       0.51586899, 0.83551054, 0.67359495, 0.87252647, 0.83397576,\n",
       "       0.63476937, 0.70612202, 0.80375382, 0.83975176, 0.95455858,\n",
       "       0.7517953 , 0.88569644, 0.84656959, 0.76939213, 0.76585763,\n",
       "       0.89258066, 0.76737482, 0.7381208 , 0.76607238, 0.749167  ,\n",
       "       0.72629208, 0.82038524, 0.88625849, 0.8654314 , 0.86757554,\n",
       "       0.81542911, 0.71018092, 0.88192171, 0.87076939, 0.79318304,\n",
       "       0.79872707, 0.7735532 , 0.86373245, 0.70053845, 0.72141262,\n",
       "       0.82592542, 0.84816951, 0.77340951, 0.79779126, 0.87284563,\n",
       "       0.87544618, 0.7099544 , 0.76933752, 0.91063763, 0.78664047,\n",
       "       0.87208903, 0.7708984 , 0.84139062, 0.76671321, 0.67562961,\n",
       "       0.79521999, 0.82442612, 0.88780133, 0.77507056, 0.87319377,\n",
       "       0.66027797, 0.75435197, 0.67710195, 0.73589211, 0.81799616,\n",
       "       0.77202268, 0.86969958, 0.78296723, 0.85350728, 0.7891239 ,\n",
       "       0.84102818, 0.78374455, 0.76671293, 0.83108653, 0.63203246,\n",
       "       0.72487528, 0.87067434, 0.76161935, 0.70510337, 0.80856472,\n",
       "       0.81426352, 0.86503866, 0.82565544, 0.76983135, 0.8739166 ,\n",
       "       0.79380982, 0.81430846, 0.86272565, 0.80852504, 0.64276064,\n",
       "       0.66319969, 0.70547253, 0.79929196, 0.77621247, 0.83201051,\n",
       "       0.7309718 , 0.80428119, 0.86727266, 0.77562362, 0.9071381 ,\n",
       "       0.86121005, 0.82964816, 0.86537109, 0.78005919, 0.85993822,\n",
       "       0.83234745, 0.83380809, 0.91974102, 0.7096265 , 0.8728228 ,\n",
       "       0.78131961, 0.85774734, 0.72326253, 0.81921644, 0.76335248,\n",
       "       0.64763428, 0.87865789, 0.72552635, 0.92136002, 0.75069022,\n",
       "       0.85007616, 0.76793554, 0.75559857, 0.78979417, 0.72975232,\n",
       "       0.7519128 , 0.91288858, 0.81789708, 0.79448487, 0.77454841,\n",
       "       0.91244278, 0.88174787, 0.65968384, 0.74576481, 0.80331321,\n",
       "       0.86853269, 0.80843184, 0.70832074, 0.85872538, 0.77457758,\n",
       "       0.90475809, 0.90866557, 0.82372263, 0.8709023 , 0.83576416,\n",
       "       0.77593761, 0.82600175, 0.85403427, 0.86966046, 0.76712278,\n",
       "       0.86002951, 0.72286182, 0.83552274, 0.62241665, 0.74709031,\n",
       "       0.74113276, 0.70603225, 0.8420936 , 0.84735895, 0.83618414,\n",
       "       0.81777055, 0.83764266, 0.77053101, 0.59692475, 0.72818386,\n",
       "       0.80932926, 0.7569824 , 0.87681977, 0.84529326, 0.77242885,\n",
       "       0.78425094, 0.76005983, 0.80625455, 0.79688794, 0.84458788,\n",
       "       0.87174881, 0.85853407, 0.84485741, 0.84858287, 0.71370263,\n",
       "       0.74080045, 0.88915363, 0.84299552, 0.83755355, 0.81699268,\n",
       "       0.89094963, 0.82225955, 0.78742784, 0.76715609, 0.75162058,\n",
       "       0.74294511, 0.81205637, 0.77349684, 0.75986773, 0.81293363,\n",
       "       0.69513004, 0.78441832, 0.71359544, 0.68344775, 0.72425873,\n",
       "       0.90240167, 0.80939783, 0.78962486, 0.68765297, 0.75668378,\n",
       "       0.74861631, 0.70813751, 0.87131379, 0.84162699, 0.80464131,\n",
       "       0.85932353, 0.84426105, 0.77051099, 0.77917035, 0.58792157,\n",
       "       0.84712987, 0.91874792, 0.82192835, 0.86240706, 0.69703777,\n",
       "       0.81414221, 0.89252254, 0.78690479, 0.85780399, 0.88890388,\n",
       "       0.88161685, 0.81859083, 0.75773869, 0.81533261, 0.68056105,\n",
       "       0.79724167, 0.75455472, 0.73549761, 0.75847545, 0.73025898,\n",
       "       0.88733126, 0.75085486, 0.75906432, 0.72893456, 0.75113285,\n",
       "       0.79865499, 0.86177362, 0.63168749, 0.7943976 , 0.95077798,\n",
       "       0.90832902, 0.79813044, 0.90254887, 0.77239021, 0.84615015,\n",
       "       0.62351048, 0.90320236, 0.85349008, 0.82335236, 0.70244372,\n",
       "       0.87017223, 0.8235631 , 0.86989908, 0.86248851, 0.86197619,\n",
       "       0.89771448, 0.74479186, 0.74507129, 0.74143298, 0.86858474,\n",
       "       0.83286584, 0.74459523, 0.79533224, 0.82225659, 0.74012114,\n",
       "       0.7697084 , 0.78452105, 0.837066  , 0.89933017, 0.77562721,\n",
       "       0.89498693, 0.68085057, 0.78548892, 0.72497708, 0.79361122,\n",
       "       0.74126471, 0.74566186, 0.72885993, 0.64586071, 0.90563907,\n",
       "       0.74078814, 0.65833321, 0.85402253, 0.86931561, 0.79330053,\n",
       "       0.67222831, 0.8404727 , 0.86422672, 0.74655761, 0.81095007,\n",
       "       0.86153001, 0.90252104, 0.78877288, 0.87839592, 0.89699222,\n",
       "       0.79960644, 0.72912273, 0.86722745, 0.84921649, 0.8222878 ,\n",
       "       0.80744975, 0.9162968 , 0.87258796, 0.84856856, 0.80639334,\n",
       "       0.64466747, 0.88004864, 0.83232067, 0.84974151, 0.7390778 ,\n",
       "       0.76620818, 0.62136252, 0.74800325, 0.82054026, 0.70558485,\n",
       "       0.69932806, 0.72833511, 0.73957477, 0.74942712, 0.8274985 ,\n",
       "       0.82752477, 0.89055337, 0.90315784, 0.9250384 , 0.74763966,\n",
       "       0.80111299, 0.72045587, 0.84337186, 0.71455344, 0.73477504,\n",
       "       0.89002427, 0.758367  , 0.86552184, 0.74801011, 0.73670445,\n",
       "       0.73461103, 0.74528111, 0.74575813, 0.79414804, 0.77960926,\n",
       "       0.83498505, 0.92734844, 0.72144957, 0.85507238, 0.81578393,\n",
       "       0.68807221, 0.92206378, 0.81571135, 0.74022614, 0.84150032,\n",
       "       0.85965649, 0.80696206, 0.8113468 , 0.83678969, 0.85731789,\n",
       "       0.81383577, 0.85196732, 0.90595689, 0.69142125, 0.88794142,\n",
       "       0.74329022, 0.7733474 , 0.77369964, 0.80401129, 0.76766387,\n",
       "       0.88752315, 0.87863024, 0.66774876, 0.82067507])"
      ]
     },
     "execution_count": 26,
     "metadata": {},
     "output_type": "execute_result"
    }
   ],
   "source": [
    "logreg.predict_proba(X_test)[:, 0]"
   ]
  },
  {
   "cell_type": "code",
   "execution_count": 27,
   "metadata": {},
   "outputs": [
    {
     "data": {
      "text/plain": [
       "array([0.23584457, 0.30837118, 0.26030997, 0.09392576, 0.28112819,\n",
       "       0.07610265, 0.35891717, 0.17188298, 0.14780511, 0.15241143,\n",
       "       0.17147081, 0.18185329, 0.2536651 , 0.24124624, 0.17281425,\n",
       "       0.19902141, 0.14437711, 0.1538553 , 0.08208369, 0.17645694,\n",
       "       0.09856556, 0.19815783, 0.1419404 , 0.10970682, 0.15419525,\n",
       "       0.16758927, 0.16019863, 0.26938723, 0.14524655, 0.2259619 ,\n",
       "       0.2457015 , 0.23599937, 0.10646472, 0.12647549, 0.19007001,\n",
       "       0.10986265, 0.10827282, 0.22861789, 0.30410933, 0.23559717,\n",
       "       0.29657806, 0.19495016, 0.1482201 , 0.2705667 , 0.05559479,\n",
       "       0.13638812, 0.26678124, 0.36988874, 0.21114193, 0.24983049,\n",
       "       0.14818062, 0.19748098, 0.20512269, 0.22298141, 0.32546545,\n",
       "       0.2486638 , 0.17426257, 0.17166465, 0.17261581, 0.37090146,\n",
       "       0.23105615, 0.11471022, 0.16573148, 0.23399844, 0.09560892,\n",
       "       0.11551687, 0.11417623, 0.28019267, 0.18518212, 0.05836201,\n",
       "       0.45027219, 0.30819483, 0.10809807, 0.07987036, 0.08484162,\n",
       "       0.14907189, 0.30362479, 0.23049518, 0.18766832, 0.09785695,\n",
       "       0.11850695, 0.12249776, 0.17281493, 0.29714097, 0.17956583,\n",
       "       0.48413101, 0.16448946, 0.32640505, 0.12747353, 0.16602424,\n",
       "       0.36523063, 0.29387798, 0.19624618, 0.16024824, 0.04544142,\n",
       "       0.2482047 , 0.11430356, 0.15343041, 0.23060787, 0.23414237,\n",
       "       0.10741934, 0.23262518, 0.2618792 , 0.23392762, 0.250833  ,\n",
       "       0.27370792, 0.17961476, 0.11374151, 0.1345686 , 0.13242446,\n",
       "       0.18457089, 0.28981908, 0.11807829, 0.12923061, 0.20681696,\n",
       "       0.20127293, 0.2264468 , 0.13626755, 0.29946155, 0.27858738,\n",
       "       0.17407458, 0.15183049, 0.22659049, 0.20220874, 0.12715437,\n",
       "       0.12455382, 0.2900456 , 0.23066248, 0.08936237, 0.21335953,\n",
       "       0.12791097, 0.2291016 , 0.15860938, 0.23328679, 0.32437039,\n",
       "       0.20478001, 0.17557388, 0.11219867, 0.22492944, 0.12680623,\n",
       "       0.33972203, 0.24564803, 0.32289805, 0.26410789, 0.18200384,\n",
       "       0.22797732, 0.13030042, 0.21703277, 0.14649272, 0.2108761 ,\n",
       "       0.15897182, 0.21625545, 0.23328707, 0.16891347, 0.36796754,\n",
       "       0.27512472, 0.12932566, 0.23838065, 0.29489663, 0.19143528,\n",
       "       0.18573648, 0.13496134, 0.17434456, 0.23016865, 0.1260834 ,\n",
       "       0.20619018, 0.18569154, 0.13727435, 0.19147496, 0.35723936,\n",
       "       0.33680031, 0.29452747, 0.20070804, 0.22378753, 0.16798949,\n",
       "       0.2690282 , 0.19571881, 0.13272734, 0.22437638, 0.0928619 ,\n",
       "       0.13878995, 0.17035184, 0.13462891, 0.21994081, 0.14006178,\n",
       "       0.16765255, 0.16619191, 0.08025898, 0.2903735 , 0.1271772 ,\n",
       "       0.21868039, 0.14225266, 0.27673747, 0.18078356, 0.23664752,\n",
       "       0.35236572, 0.12134211, 0.27447365, 0.07863998, 0.24930978,\n",
       "       0.14992384, 0.23206446, 0.24440143, 0.21020583, 0.27024768,\n",
       "       0.2480872 , 0.08711142, 0.18210292, 0.20551513, 0.22545159,\n",
       "       0.08755722, 0.11825213, 0.34031616, 0.25423519, 0.19668679,\n",
       "       0.13146731, 0.19156816, 0.29167926, 0.14127462, 0.22542242,\n",
       "       0.09524191, 0.09133443, 0.17627737, 0.1290977 , 0.16423584,\n",
       "       0.22406239, 0.17399825, 0.14596573, 0.13033954, 0.23287722,\n",
       "       0.13997049, 0.27713818, 0.16447726, 0.37758335, 0.25290969,\n",
       "       0.25886724, 0.29396775, 0.1579064 , 0.15264105, 0.16381586,\n",
       "       0.18222945, 0.16235734, 0.22946899, 0.40307525, 0.27181614,\n",
       "       0.19067074, 0.2430176 , 0.12318023, 0.15470674, 0.22757115,\n",
       "       0.21574906, 0.23994017, 0.19374545, 0.20311206, 0.15541212,\n",
       "       0.12825119, 0.14146593, 0.15514259, 0.15141713, 0.28629737,\n",
       "       0.25919955, 0.11084637, 0.15700448, 0.16244645, 0.18300732,\n",
       "       0.10905037, 0.17774045, 0.21257216, 0.23284391, 0.24837942,\n",
       "       0.25705489, 0.18794363, 0.22650316, 0.24013227, 0.18706637,\n",
       "       0.30486996, 0.21558168, 0.28640456, 0.31655225, 0.27574127,\n",
       "       0.09759833, 0.19060217, 0.21037514, 0.31234703, 0.24331622,\n",
       "       0.25138369, 0.29186249, 0.12868621, 0.15837301, 0.19535869,\n",
       "       0.14067647, 0.15573895, 0.22948901, 0.22082965, 0.41207843,\n",
       "       0.15287013, 0.08125208, 0.17807165, 0.13759294, 0.30296223,\n",
       "       0.18585779, 0.10747746, 0.21309521, 0.14219601, 0.11109612,\n",
       "       0.11838315, 0.18140917, 0.24226131, 0.18466739, 0.31943895,\n",
       "       0.20275833, 0.24544528, 0.26450239, 0.24152455, 0.26974102,\n",
       "       0.11266874, 0.24914514, 0.24093568, 0.27106544, 0.24886715,\n",
       "       0.20134501, 0.13822638, 0.36831251, 0.2056024 , 0.04922202,\n",
       "       0.09167098, 0.20186956, 0.09745113, 0.22760979, 0.15384985,\n",
       "       0.37648952, 0.09679764, 0.14650992, 0.17664764, 0.29755628,\n",
       "       0.12982777, 0.1764369 , 0.13010092, 0.13751149, 0.13802381,\n",
       "       0.10228552, 0.25520814, 0.25492871, 0.25856702, 0.13141526,\n",
       "       0.16713416, 0.25540477, 0.20466776, 0.17774341, 0.25987886,\n",
       "       0.2302916 , 0.21547895, 0.162934  , 0.10066983, 0.22437279,\n",
       "       0.10501307, 0.31914943, 0.21451108, 0.27502292, 0.20638878,\n",
       "       0.25873529, 0.25433814, 0.27114007, 0.35413929, 0.09436093,\n",
       "       0.25921186, 0.34166679, 0.14597747, 0.13068439, 0.20669947,\n",
       "       0.32777169, 0.1595273 , 0.13577328, 0.25344239, 0.18904993,\n",
       "       0.13846999, 0.09747896, 0.21122712, 0.12160408, 0.10300778,\n",
       "       0.20039356, 0.27087727, 0.13277255, 0.15078351, 0.1777122 ,\n",
       "       0.19255025, 0.0837032 , 0.12741204, 0.15143144, 0.19360666,\n",
       "       0.35533253, 0.11995136, 0.16767933, 0.15025849, 0.2609222 ,\n",
       "       0.23379182, 0.37863748, 0.25199675, 0.17945974, 0.29441515,\n",
       "       0.30067194, 0.27166489, 0.26042523, 0.25057288, 0.1725015 ,\n",
       "       0.17247523, 0.10944663, 0.09684216, 0.0749616 , 0.25236034,\n",
       "       0.19888701, 0.27954413, 0.15662814, 0.28544656, 0.26522496,\n",
       "       0.10997573, 0.241633  , 0.13447816, 0.25198989, 0.26329555,\n",
       "       0.26538897, 0.25471889, 0.25424187, 0.20585196, 0.22039074,\n",
       "       0.16501495, 0.07265156, 0.27855043, 0.14492762, 0.18421607,\n",
       "       0.31192779, 0.07793622, 0.18428865, 0.25977386, 0.15849968,\n",
       "       0.14034351, 0.19303794, 0.1886532 , 0.16321031, 0.14268211,\n",
       "       0.18616423, 0.14803268, 0.09404311, 0.30857875, 0.11205858,\n",
       "       0.25670978, 0.2266526 , 0.22630036, 0.19598871, 0.23233613,\n",
       "       0.11247685, 0.12136976, 0.33225124, 0.17932493])"
      ]
     },
     "execution_count": 27,
     "metadata": {},
     "output_type": "execute_result"
    }
   ],
   "source": [
    "logreg.predict_proba(X_test)[:, 1]"
   ]
  },
  {
   "cell_type": "markdown",
   "metadata": {},
   "source": [
    "# Dokładność"
   ]
  },
  {
   "cell_type": "code",
   "execution_count": 28,
   "metadata": {},
   "outputs": [
    {
     "name": "stdout",
     "output_type": "stream",
     "text": [
      "Model accuracy score: 0.8238\n"
     ]
    }
   ],
   "source": [
    "print('Model accuracy score: {0:0.4f}'. format(\n",
    "    accuracy_score(y_test, y_pred_test)))"
   ]
  },
  {
   "cell_type": "markdown",
   "metadata": {},
   "source": [
    "# Macierz pomyłek"
   ]
  },
  {
   "cell_type": "code",
   "execution_count": 29,
   "metadata": {},
   "outputs": [
    {
     "name": "stdout",
     "output_type": "stream",
     "text": [
      "Confusion matrix\n",
      "\n",
      " [[374   0]\n",
      " [ 80   0]]\n",
      "\n",
      "True Positives(TP) =  374\n",
      "\n",
      "True Negatives(TN) =  0\n",
      "\n",
      "False Positives(FP) =  0\n",
      "\n",
      "False Negatives(FN) =  80\n"
     ]
    }
   ],
   "source": [
    "cm = confusion_matrix(y_test, y_pred_test)\n",
    "\n",
    "print('Confusion matrix\\n\\n', cm)\n",
    "\n",
    "print('\\nTrue Positives(TP) = ', cm[0, 0])\n",
    "\n",
    "print('\\nTrue Negatives(TN) = ', cm[1, 1])\n",
    "\n",
    "print('\\nFalse Positives(FP) = ', cm[0, 1])\n",
    "\n",
    "print('\\nFalse Negatives(FN) = ', cm[1, 0])"
   ]
  },
  {
   "cell_type": "markdown",
   "metadata": {},
   "source": [
    "# Wizualizacja macierzy pomyłek z heatmapą seaborn\n"
   ]
  },
  {
   "cell_type": "code",
   "execution_count": 30,
   "metadata": {},
   "outputs": [
    {
     "data": {
      "text/plain": [
       "<Axes: >"
      ]
     },
     "execution_count": 30,
     "metadata": {},
     "output_type": "execute_result"
    },
    {
     "data": {
      "image/png": "[encoded data removed]",
      "text/plain": [
       "<Figure size 640x480 with 2 Axes>"
      ]
     },
     "metadata": {},
     "output_type": "display_data"
    }
   ],
   "source": [
    "cm_matrix = pd.DataFrame(data=cm, columns=['Actual Positive:1', 'Actual Negative:0'],\n",
    "                         index=['Predict Positive:1', 'Predict Negative:0'])\n",
    "\n",
    "sns.heatmap(cm_matrix, annot=True, fmt='d', cmap='YlGnBu')"
   ]
  },
  {
   "cell_type": "markdown",
   "metadata": {},
   "source": [
    "# Dokładność klasyfikatora\n"
   ]
  },
  {
   "cell_type": "code",
   "execution_count": 31,
   "metadata": {},
   "outputs": [
    {
     "name": "stdout",
     "output_type": "stream",
     "text": [
      "Classification accuracy : 0.8238\n"
     ]
    }
   ],
   "source": [
    "TP = cm[0, 0]\n",
    "TN = cm[1, 1]\n",
    "FP = cm[0, 1]\n",
    "FN = cm[1, 0]\n",
    "classification_accuracy = (TP + TN) / float(TP + TN + FP + FN)\n",
    "\n",
    "print('Classification accuracy : {0:0.4f}'.format(classification_accuracy))"
   ]
  },
  {
   "cell_type": "markdown",
   "metadata": {},
   "source": [
    "# Precyzja klasyfikatora"
   ]
  },
  {
   "cell_type": "code",
   "execution_count": 32,
   "metadata": {},
   "outputs": [
    {
     "name": "stdout",
     "output_type": "stream",
     "text": [
      "Precision : 1.0000\n"
     ]
    }
   ],
   "source": [
    "precision = TP / float(TP + FP)\n",
    "\n",
    "print('Precision : {0:0.4f}'.format(precision))"
   ]
  },
  {
   "cell_type": "code",
   "execution_count": 33,
   "metadata": {},
   "outputs": [],
   "source": [
    "y_pred1 = logreg.predict_proba(X_test)[:, 1]"
   ]
  },
  {
   "cell_type": "markdown",
   "metadata": {},
   "source": [
    "# Krzywa ROC"
   ]
  },
  {
   "cell_type": "code",
   "execution_count": 34,
   "metadata": {},
   "outputs": [
    {
     "data": {
      "image/png": "[encoded data removed]",
      "text/plain": [
       "<Figure size 600x400 with 1 Axes>"
      ]
     },
     "metadata": {},
     "output_type": "display_data"
    }
   ],
   "source": [
    "fpr, tpr, thresholds = roc_curve(y_test, y_pred1, pos_label='Yes')\n",
    "\n",
    "plt.figure(figsize=(6, 4))\n",
    "\n",
    "plt.plot(fpr, tpr, linewidth=2)\n",
    "\n",
    "plt.plot([0, 1], [0, 1], 'k--')\n",
    "\n",
    "plt.rcParams['font.size'] = 12\n",
    "\n",
    "plt.title('ROC curve for RainTomorrow classifier')\n",
    "\n",
    "plt.xlabel('False Positive Rate (1 - Specificity)')\n",
    "\n",
    "plt.ylabel('True Positive Rate (Sensitivity)')\n",
    "\n",
    "plt.show()"
   ]
  },
  {
   "cell_type": "markdown",
   "metadata": {},
   "source": [
    "# Eskport modelu"
   ]
  },
  {
   "cell_type": "code",
   "execution_count": 35,
   "metadata": {},
   "outputs": [],
   "source": [
    "filename = \"model.h5\"\n",
    "pickle.dump(logreg, open(filename, 'wb'))\n",
    "with open('encoder.pkl', 'wb') as file:\n",
    "    pickle.dump(encoder, file)\n",
    "\n"
   ]
  },
  {
   "cell_type": "code",
   "execution_count": 36,
   "metadata": {},
   "outputs": [
    {
     "name": "stdout",
     "output_type": "stream",
     "text": [
      "65\n"
     ]
    }
   ],
   "source": [
    "total_features = len(numerical) - len(['Temp3pm', 'Temp9am', 'Humidity9am'])\n",
    "total_features += 2\n",
    "total_features += sum([len(x[column].unique()) for column in categorical])\n",
    "print(total_features)"
   ]
  }
 ],
 "metadata": {
  "kernelspec": {
   "display_name": "Python 3",
   "language": "python",
   "name": "python3"
  },
  "language_info": {
   "codemirror_mode": {
    "name": "ipython",
    "version": 3
   },
   "file_extension": ".py",
   "mimetype": "text/x-python",
   "name": "python",
   "nbconvert_exporter": "python",
   "pygments_lexer": "ipython3",
   "version": "3.12.1"
  }
 },
 "nbformat": 4,
 "nbformat_minor": 2
}
