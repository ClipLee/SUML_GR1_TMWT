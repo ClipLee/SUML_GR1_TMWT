{
 "cells": [
  {
   "cell_type": "markdown",
   "metadata": {},
   "source": [
    "# Import bibliotek"
   ]
  },
  {
   "cell_type": "code",
   "execution_count": 1,
   "metadata": {},
   "outputs": [],
   "source": [
    "import pandas as pd\n",
    "from sklearn.model_selection import train_test_split\n",
    "import category_encoders as ce\n",
    "from sklearn.linear_model import LogisticRegression\n",
    "from sklearn.metrics import accuracy_score, confusion_matrix, roc_curve\n",
    "from sklearn import metrics\n",
    "import matplotlib.pyplot as plt\n",
    "import seaborn as sns\n",
    "import pickle\n",
    "from sklearn.preprocessing import MinMaxScaler\n",
    "import os"
   ]
  },
  {
   "cell_type": "markdown",
   "metadata": {},
   "source": [
    "# Wybranie datasetu"
   ]
  },
  {
   "cell_type": "code",
   "execution_count": 2,
   "metadata": {},
   "outputs": [],
   "source": [
    "def choose_dataset(train_data, test_data):\n",
    "    train_data = train_data\n",
    "    test_data = test_data\n",
    "    return train_data, test_data"
   ]
  },
  {
   "cell_type": "code",
   "execution_count": 3,
   "metadata": {},
   "outputs": [],
   "source": [
    "x = pd.read_csv(\"../data/data2008.csv\")\n",
    "y = pd.read_csv('../data/data2009.csv')"
   ]
  },
  {
   "cell_type": "code",
   "execution_count": 4,
   "metadata": {},
   "outputs": [],
   "source": [
    "if (len(x)) > len(y):\n",
    "    x = x[:len(y)]\n",
    "else:\n",
    "    y = y[:len(x)]"
   ]
  },
  {
   "cell_type": "markdown",
   "metadata": {},
   "source": [
    "# Sprawdzenie istnienia brakujących wartości"
   ]
  },
  {
   "cell_type": "code",
   "execution_count": 5,
   "metadata": {},
   "outputs": [],
   "source": [
    "x = x[x[\"RainTomorrow\"].notna()]\n",
    "y = y[y[\"RainTomorrow\"].notna()]"
   ]
  },
  {
   "cell_type": "markdown",
   "metadata": {},
   "source": [
    "# Odrzucanie wartości wysoce skorelowanych i niewaznych"
   ]
  },
  {
   "cell_type": "code",
   "execution_count": 6,
   "metadata": {},
   "outputs": [],
   "source": [
    "x = x.drop(['Temp3pm', 'Temp9am', 'Humidity9am','WindGustDir', 'WindDir9am', 'WindDir3pm'], axis=1)\n",
    "y = y.drop(['Temp3pm', 'Temp9am', 'Humidity9am', 'WindGustDir', 'WindDir9am', 'WindDir3pm'], axis=1)"
   ]
  },
  {
   "cell_type": "markdown",
   "metadata": {},
   "source": [
    "# Wyświetl wartości kategoryczne i liczbowe"
   ]
  },
  {
   "cell_type": "code",
   "execution_count": 7,
   "metadata": {},
   "outputs": [
    {
     "data": {
      "text/plain": [
       "['Location', 'RainToday', 'RainTomorrow']"
      ]
     },
     "execution_count": 7,
     "metadata": {},
     "output_type": "execute_result"
    }
   ],
   "source": [
    "categorical = [col for col in x.columns if x[col].dtypes == 'O']\n",
    "\n",
    "categorical"
   ]
  },
  {
   "cell_type": "code",
   "execution_count": 8,
   "metadata": {},
   "outputs": [
    {
     "data": {
      "text/plain": [
       "['MinTemp',\n",
       " 'MaxTemp',\n",
       " 'Rainfall',\n",
       " 'WindGustSpeed',\n",
       " 'WindSpeed9am',\n",
       " 'WindSpeed3pm',\n",
       " 'Humidity3pm',\n",
       " 'Pressure9am',\n",
       " 'Pressure3pm',\n",
       " 'Latitude',\n",
       " 'Longitude',\n",
       " 'Year',\n",
       " 'Month',\n",
       " 'Day']"
      ]
     },
     "execution_count": 8,
     "metadata": {},
     "output_type": "execute_result"
    }
   ],
   "source": [
    "numerical = [col for col in x.columns if x[col].dtypes != 'O']\n",
    "\n",
    "numerical"
   ]
  },
  {
   "cell_type": "code",
   "execution_count": 9,
   "metadata": {},
   "outputs": [
    {
     "data": {
      "text/plain": [
       "Index(['Location', 'MinTemp', 'MaxTemp', 'Rainfall', 'WindGustSpeed',\n",
       "       'WindSpeed9am', 'WindSpeed3pm', 'Humidity3pm', 'Pressure9am',\n",
       "       'Pressure3pm', 'RainToday', 'RainTomorrow', 'Latitude', 'Longitude',\n",
       "       'Year', 'Month', 'Day'],\n",
       "      dtype='object')"
      ]
     },
     "execution_count": 9,
     "metadata": {},
     "output_type": "execute_result"
    }
   ],
   "source": [
    "x.columns"
   ]
  },
  {
   "cell_type": "markdown",
   "metadata": {},
   "source": [
    "# Podział danych"
   ]
  },
  {
   "cell_type": "code",
   "execution_count": 10,
   "metadata": {},
   "outputs": [],
   "source": [
    "X = x.drop(['RainTomorrow'], axis=1)\n",
    "\n",
    "y = y['RainTomorrow']"
   ]
  },
  {
   "cell_type": "code",
   "execution_count": 11,
   "metadata": {},
   "outputs": [
    {
     "data": {
      "text/plain": [
       "((1816, 16), (454, 16))"
      ]
     },
     "execution_count": 11,
     "metadata": {},
     "output_type": "execute_result"
    }
   ],
   "source": [
    "X_train, X_test, y_train, y_test = train_test_split(\n",
    "    X, y, test_size=0.2, random_state=0)\n",
    "X_train.shape, X_test.shape"
   ]
  },
  {
   "cell_type": "markdown",
   "metadata": {},
   "source": [
    "# Zakodowanie zmiennej RainToday"
   ]
  },
  {
   "cell_type": "code",
   "execution_count": 12,
   "metadata": {},
   "outputs": [],
   "source": [
    "encoder = ce.BinaryEncoder(cols=['RainToday'])\n",
    "\n",
    "X_train = encoder.fit_transform(X_train)\n",
    "\n",
    "X_test = encoder.transform(X_test)"
   ]
  },
  {
   "cell_type": "markdown",
   "metadata": {},
   "source": [
    "# Utworzenie zbioru treningowego."
   ]
  },
  {
   "cell_type": "code",
   "execution_count": 13,
   "metadata": {},
   "outputs": [
    {
     "name": "stdout",
     "output_type": "stream",
     "text": [
      "Index(['Location', 'MinTemp', 'MaxTemp', 'Rainfall', 'WindGustSpeed',\n",
      "       'WindSpeed9am', 'WindSpeed3pm', 'Humidity3pm', 'Pressure9am',\n",
      "       'Pressure3pm', 'RainToday_0', 'RainToday_1', 'Latitude', 'Longitude',\n",
      "       'Year', 'Month', 'Day'],\n",
      "      dtype='object')\n"
     ]
    }
   ],
   "source": [
    "print(X_train.columns)"
   ]
  },
  {
   "cell_type": "code",
   "execution_count": 14,
   "metadata": {},
   "outputs": [],
   "source": [
    "numerical = [col for col in numerical if col not in ['Humidity9am', 'Temp9am', 'Temp3pm']]\n",
    "\n",
    "X_train = pd.concat([X_train[numerical], X_train[['RainToday_0', 'RainToday_1']],\n",
    "                     pd.get_dummies(X_train.Location)], axis=1)"
   ]
  },
  {
   "cell_type": "markdown",
   "metadata": {},
   "source": [
    "# Utworzenie zbioru testowego."
   ]
  },
  {
   "cell_type": "code",
   "execution_count": 15,
   "metadata": {},
   "outputs": [],
   "source": [
    "X_test = pd.concat([X_test[numerical], X_test[['RainToday_0', 'RainToday_1']],\n",
    "                    pd.get_dummies(X_test.Location)], axis=1)"
   ]
  },
  {
   "cell_type": "code",
   "execution_count": 16,
   "metadata": {},
   "outputs": [],
   "source": [
    "cols = X_train.columns"
   ]
  },
  {
   "cell_type": "code",
   "execution_count": 17,
   "metadata": {},
   "outputs": [],
   "source": [
    "scaler = MinMaxScaler()\n",
    "\n",
    "X_train = scaler.fit_transform(X_train)\n",
    "\n",
    "X_test = scaler.transform(X_test)"
   ]
  },
  {
   "cell_type": "code",
   "execution_count": 18,
   "metadata": {},
   "outputs": [],
   "source": [
    "X_train = pd.DataFrame(X_train, columns=[cols])"
   ]
  },
  {
   "cell_type": "code",
   "execution_count": 19,
   "metadata": {},
   "outputs": [],
   "source": [
    "X_test = pd.DataFrame(X_test, columns=[cols])"
   ]
  },
  {
   "cell_type": "markdown",
   "metadata": {},
   "source": [
    "# Trenowanie modelu"
   ]
  },
  {
   "cell_type": "code",
   "execution_count": 20,
   "metadata": {},
   "outputs": [
    {
     "data": {
      "text/html": [
       "<style>#sk-container-id-1 {\n",
       "  /* Definition of color scheme common for light and dark mode */\n",
       "  --sklearn-color-text: black;\n",
       "  --sklearn-color-line: gray;\n",
       "  /* Definition of color scheme for unfitted estimators */\n",
       "  --sklearn-color-unfitted-level-0: #fff5e6;\n",
       "  --sklearn-color-unfitted-level-1: #f6e4d2;\n",
       "  --sklearn-color-unfitted-level-2: #ffe0b3;\n",
       "  --sklearn-color-unfitted-level-3: chocolate;\n",
       "  /* Definition of color scheme for fitted estimators */\n",
       "  --sklearn-color-fitted-level-0: #f0f8ff;\n",
       "  --sklearn-color-fitted-level-1: #d4ebff;\n",
       "  --sklearn-color-fitted-level-2: #b3dbfd;\n",
       "  --sklearn-color-fitted-level-3: cornflowerblue;\n",
       "\n",
       "  /* Specific color for light theme */\n",
       "  --sklearn-color-text-on-default-background: var(--sg-text-color, var(--theme-code-foreground, var(--jp-content-font-color1, black)));\n",
       "  --sklearn-color-background: var(--sg-background-color, var(--theme-background, var(--jp-layout-color0, white)));\n",
       "  --sklearn-color-border-box: var(--sg-text-color, var(--theme-code-foreground, var(--jp-content-font-color1, black)));\n",
       "  --sklearn-color-icon: #696969;\n",
       "\n",
       "  @media (prefers-color-scheme: dark) {\n",
       "    /* Redefinition of color scheme for dark theme */\n",
       "    --sklearn-color-text-on-default-background: var(--sg-text-color, var(--theme-code-foreground, var(--jp-content-font-color1, white)));\n",
       "    --sklearn-color-background: var(--sg-background-color, var(--theme-background, var(--jp-layout-color0, #111)));\n",
       "    --sklearn-color-border-box: var(--sg-text-color, var(--theme-code-foreground, var(--jp-content-font-color1, white)));\n",
       "    --sklearn-color-icon: #878787;\n",
       "  }\n",
       "}\n",
       "\n",
       "#sk-container-id-1 {\n",
       "  color: var(--sklearn-color-text);\n",
       "}\n",
       "\n",
       "#sk-container-id-1 pre {\n",
       "  padding: 0;\n",
       "}\n",
       "\n",
       "#sk-container-id-1 input.sk-hidden--visually {\n",
       "  border: 0;\n",
       "  clip: rect(1px 1px 1px 1px);\n",
       "  clip: rect(1px, 1px, 1px, 1px);\n",
       "  height: 1px;\n",
       "  margin: -1px;\n",
       "  overflow: hidden;\n",
       "  padding: 0;\n",
       "  position: absolute;\n",
       "  width: 1px;\n",
       "}\n",
       "\n",
       "#sk-container-id-1 div.sk-dashed-wrapped {\n",
       "  border: 1px dashed var(--sklearn-color-line);\n",
       "  margin: 0 0.4em 0.5em 0.4em;\n",
       "  box-sizing: border-box;\n",
       "  padding-bottom: 0.4em;\n",
       "  background-color: var(--sklearn-color-background);\n",
       "}\n",
       "\n",
       "#sk-container-id-1 div.sk-container {\n",
       "  /* jupyter's `normalize.less` sets `[hidden] { display: none; }`\n",
       "     but bootstrap.min.css set `[hidden] { display: none !important; }`\n",
       "     so we also need the `!important` here to be able to override the\n",
       "     default hidden behavior on the sphinx rendered scikit-learn.org.\n",
       "     See: https://github.com/scikit-learn/scikit-learn/issues/21755 */\n",
       "  display: inline-block !important;\n",
       "  position: relative;\n",
       "}\n",
       "\n",
       "#sk-container-id-1 div.sk-text-repr-fallback {\n",
       "  display: none;\n",
       "}\n",
       "\n",
       "div.sk-parallel-item,\n",
       "div.sk-serial,\n",
       "div.sk-item {\n",
       "  /* draw centered vertical line to link estimators */\n",
       "  background-image: linear-gradient(var(--sklearn-color-text-on-default-background), var(--sklearn-color-text-on-default-background));\n",
       "  background-size: 2px 100%;\n",
       "  background-repeat: no-repeat;\n",
       "  background-position: center center;\n",
       "}\n",
       "\n",
       "/* Parallel-specific style estimator block */\n",
       "\n",
       "#sk-container-id-1 div.sk-parallel-item::after {\n",
       "  content: \"\";\n",
       "  width: 100%;\n",
       "  border-bottom: 2px solid var(--sklearn-color-text-on-default-background);\n",
       "  flex-grow: 1;\n",
       "}\n",
       "\n",
       "#sk-container-id-1 div.sk-parallel {\n",
       "  display: flex;\n",
       "  align-items: stretch;\n",
       "  justify-content: center;\n",
       "  background-color: var(--sklearn-color-background);\n",
       "  position: relative;\n",
       "}\n",
       "\n",
       "#sk-container-id-1 div.sk-parallel-item {\n",
       "  display: flex;\n",
       "  flex-direction: column;\n",
       "}\n",
       "\n",
       "#sk-container-id-1 div.sk-parallel-item:first-child::after {\n",
       "  align-self: flex-end;\n",
       "  width: 50%;\n",
       "}\n",
       "\n",
       "#sk-container-id-1 div.sk-parallel-item:last-child::after {\n",
       "  align-self: flex-start;\n",
       "  width: 50%;\n",
       "}\n",
       "\n",
       "#sk-container-id-1 div.sk-parallel-item:only-child::after {\n",
       "  width: 0;\n",
       "}\n",
       "\n",
       "/* Serial-specific style estimator block */\n",
       "\n",
       "#sk-container-id-1 div.sk-serial {\n",
       "  display: flex;\n",
       "  flex-direction: column;\n",
       "  align-items: center;\n",
       "  background-color: var(--sklearn-color-background);\n",
       "  padding-right: 1em;\n",
       "  padding-left: 1em;\n",
       "}\n",
       "\n",
       "\n",
       "/* Toggleable style: style used for estimator/Pipeline/ColumnTransformer box that is\n",
       "clickable and can be expanded/collapsed.\n",
       "- Pipeline and ColumnTransformer use this feature and define the default style\n",
       "- Estimators will overwrite some part of the style using the `sk-estimator` class\n",
       "*/\n",
       "\n",
       "/* Pipeline and ColumnTransformer style (default) */\n",
       "\n",
       "#sk-container-id-1 div.sk-toggleable {\n",
       "  /* Default theme specific background. It is overwritten whether we have a\n",
       "  specific estimator or a Pipeline/ColumnTransformer */\n",
       "  background-color: var(--sklearn-color-background);\n",
       "}\n",
       "\n",
       "/* Toggleable label */\n",
       "#sk-container-id-1 label.sk-toggleable__label {\n",
       "  cursor: pointer;\n",
       "  display: block;\n",
       "  width: 100%;\n",
       "  margin-bottom: 0;\n",
       "  padding: 0.5em;\n",
       "  box-sizing: border-box;\n",
       "  text-align: center;\n",
       "}\n",
       "\n",
       "#sk-container-id-1 label.sk-toggleable__label-arrow:before {\n",
       "  /* Arrow on the left of the label */\n",
       "  content: \"▸\";\n",
       "  float: left;\n",
       "  margin-right: 0.25em;\n",
       "  color: var(--sklearn-color-icon);\n",
       "}\n",
       "\n",
       "#sk-container-id-1 label.sk-toggleable__label-arrow:hover:before {\n",
       "  color: var(--sklearn-color-text);\n",
       "}\n",
       "\n",
       "/* Toggleable content - dropdown */\n",
       "\n",
       "#sk-container-id-1 div.sk-toggleable__content {\n",
       "  max-height: 0;\n",
       "  max-width: 0;\n",
       "  overflow: hidden;\n",
       "  text-align: left;\n",
       "  /* unfitted */\n",
       "  background-color: var(--sklearn-color-unfitted-level-0);\n",
       "}\n",
       "\n",
       "#sk-container-id-1 div.sk-toggleable__content.fitted {\n",
       "  /* fitted */\n",
       "  background-color: var(--sklearn-color-fitted-level-0);\n",
       "}\n",
       "\n",
       "#sk-container-id-1 div.sk-toggleable__content pre {\n",
       "  margin: 0.2em;\n",
       "  border-radius: 0.25em;\n",
       "  color: var(--sklearn-color-text);\n",
       "  /* unfitted */\n",
       "  background-color: var(--sklearn-color-unfitted-level-0);\n",
       "}\n",
       "\n",
       "#sk-container-id-1 div.sk-toggleable__content.fitted pre {\n",
       "  /* unfitted */\n",
       "  background-color: var(--sklearn-color-fitted-level-0);\n",
       "}\n",
       "\n",
       "#sk-container-id-1 input.sk-toggleable__control:checked~div.sk-toggleable__content {\n",
       "  /* Expand drop-down */\n",
       "  max-height: 200px;\n",
       "  max-width: 100%;\n",
       "  overflow: auto;\n",
       "}\n",
       "\n",
       "#sk-container-id-1 input.sk-toggleable__control:checked~label.sk-toggleable__label-arrow:before {\n",
       "  content: \"▾\";\n",
       "}\n",
       "\n",
       "/* Pipeline/ColumnTransformer-specific style */\n",
       "\n",
       "#sk-container-id-1 div.sk-label input.sk-toggleable__control:checked~label.sk-toggleable__label {\n",
       "  color: var(--sklearn-color-text);\n",
       "  background-color: var(--sklearn-color-unfitted-level-2);\n",
       "}\n",
       "\n",
       "#sk-container-id-1 div.sk-label.fitted input.sk-toggleable__control:checked~label.sk-toggleable__label {\n",
       "  background-color: var(--sklearn-color-fitted-level-2);\n",
       "}\n",
       "\n",
       "/* Estimator-specific style */\n",
       "\n",
       "/* Colorize estimator box */\n",
       "#sk-container-id-1 div.sk-estimator input.sk-toggleable__control:checked~label.sk-toggleable__label {\n",
       "  /* unfitted */\n",
       "  background-color: var(--sklearn-color-unfitted-level-2);\n",
       "}\n",
       "\n",
       "#sk-container-id-1 div.sk-estimator.fitted input.sk-toggleable__control:checked~label.sk-toggleable__label {\n",
       "  /* fitted */\n",
       "  background-color: var(--sklearn-color-fitted-level-2);\n",
       "}\n",
       "\n",
       "#sk-container-id-1 div.sk-label label.sk-toggleable__label,\n",
       "#sk-container-id-1 div.sk-label label {\n",
       "  /* The background is the default theme color */\n",
       "  color: var(--sklearn-color-text-on-default-background);\n",
       "}\n",
       "\n",
       "/* On hover, darken the color of the background */\n",
       "#sk-container-id-1 div.sk-label:hover label.sk-toggleable__label {\n",
       "  color: var(--sklearn-color-text);\n",
       "  background-color: var(--sklearn-color-unfitted-level-2);\n",
       "}\n",
       "\n",
       "/* Label box, darken color on hover, fitted */\n",
       "#sk-container-id-1 div.sk-label.fitted:hover label.sk-toggleable__label.fitted {\n",
       "  color: var(--sklearn-color-text);\n",
       "  background-color: var(--sklearn-color-fitted-level-2);\n",
       "}\n",
       "\n",
       "/* Estimator label */\n",
       "\n",
       "#sk-container-id-1 div.sk-label label {\n",
       "  font-family: monospace;\n",
       "  font-weight: bold;\n",
       "  display: inline-block;\n",
       "  line-height: 1.2em;\n",
       "}\n",
       "\n",
       "#sk-container-id-1 div.sk-label-container {\n",
       "  text-align: center;\n",
       "}\n",
       "\n",
       "/* Estimator-specific */\n",
       "#sk-container-id-1 div.sk-estimator {\n",
       "  font-family: monospace;\n",
       "  border: 1px dotted var(--sklearn-color-border-box);\n",
       "  border-radius: 0.25em;\n",
       "  box-sizing: border-box;\n",
       "  margin-bottom: 0.5em;\n",
       "  /* unfitted */\n",
       "  background-color: var(--sklearn-color-unfitted-level-0);\n",
       "}\n",
       "\n",
       "#sk-container-id-1 div.sk-estimator.fitted {\n",
       "  /* fitted */\n",
       "  background-color: var(--sklearn-color-fitted-level-0);\n",
       "}\n",
       "\n",
       "/* on hover */\n",
       "#sk-container-id-1 div.sk-estimator:hover {\n",
       "  /* unfitted */\n",
       "  background-color: var(--sklearn-color-unfitted-level-2);\n",
       "}\n",
       "\n",
       "#sk-container-id-1 div.sk-estimator.fitted:hover {\n",
       "  /* fitted */\n",
       "  background-color: var(--sklearn-color-fitted-level-2);\n",
       "}\n",
       "\n",
       "/* Specification for estimator info (e.g. \"i\" and \"?\") */\n",
       "\n",
       "/* Common style for \"i\" and \"?\" */\n",
       "\n",
       ".sk-estimator-doc-link,\n",
       "a:link.sk-estimator-doc-link,\n",
       "a:visited.sk-estimator-doc-link {\n",
       "  float: right;\n",
       "  font-size: smaller;\n",
       "  line-height: 1em;\n",
       "  font-family: monospace;\n",
       "  background-color: var(--sklearn-color-background);\n",
       "  border-radius: 1em;\n",
       "  height: 1em;\n",
       "  width: 1em;\n",
       "  text-decoration: none !important;\n",
       "  margin-left: 1ex;\n",
       "  /* unfitted */\n",
       "  border: var(--sklearn-color-unfitted-level-1) 1pt solid;\n",
       "  color: var(--sklearn-color-unfitted-level-1);\n",
       "}\n",
       "\n",
       ".sk-estimator-doc-link.fitted,\n",
       "a:link.sk-estimator-doc-link.fitted,\n",
       "a:visited.sk-estimator-doc-link.fitted {\n",
       "  /* fitted */\n",
       "  border: var(--sklearn-color-fitted-level-1) 1pt solid;\n",
       "  color: var(--sklearn-color-fitted-level-1);\n",
       "}\n",
       "\n",
       "/* On hover */\n",
       "div.sk-estimator:hover .sk-estimator-doc-link:hover,\n",
       ".sk-estimator-doc-link:hover,\n",
       "div.sk-label-container:hover .sk-estimator-doc-link:hover,\n",
       ".sk-estimator-doc-link:hover {\n",
       "  /* unfitted */\n",
       "  background-color: var(--sklearn-color-unfitted-level-3);\n",
       "  color: var(--sklearn-color-background);\n",
       "  text-decoration: none;\n",
       "}\n",
       "\n",
       "div.sk-estimator.fitted:hover .sk-estimator-doc-link.fitted:hover,\n",
       ".sk-estimator-doc-link.fitted:hover,\n",
       "div.sk-label-container:hover .sk-estimator-doc-link.fitted:hover,\n",
       ".sk-estimator-doc-link.fitted:hover {\n",
       "  /* fitted */\n",
       "  background-color: var(--sklearn-color-fitted-level-3);\n",
       "  color: var(--sklearn-color-background);\n",
       "  text-decoration: none;\n",
       "}\n",
       "\n",
       "/* Span, style for the box shown on hovering the info icon */\n",
       ".sk-estimator-doc-link span {\n",
       "  display: none;\n",
       "  z-index: 9999;\n",
       "  position: relative;\n",
       "  font-weight: normal;\n",
       "  right: .2ex;\n",
       "  padding: .5ex;\n",
       "  margin: .5ex;\n",
       "  width: min-content;\n",
       "  min-width: 20ex;\n",
       "  max-width: 50ex;\n",
       "  color: var(--sklearn-color-text);\n",
       "  box-shadow: 2pt 2pt 4pt #999;\n",
       "  /* unfitted */\n",
       "  background: var(--sklearn-color-unfitted-level-0);\n",
       "  border: .5pt solid var(--sklearn-color-unfitted-level-3);\n",
       "}\n",
       "\n",
       ".sk-estimator-doc-link.fitted span {\n",
       "  /* fitted */\n",
       "  background: var(--sklearn-color-fitted-level-0);\n",
       "  border: var(--sklearn-color-fitted-level-3);\n",
       "}\n",
       "\n",
       ".sk-estimator-doc-link:hover span {\n",
       "  display: block;\n",
       "}\n",
       "\n",
       "/* \"?\"-specific style due to the `<a>` HTML tag */\n",
       "\n",
       "#sk-container-id-1 a.estimator_doc_link {\n",
       "  float: right;\n",
       "  font-size: 1rem;\n",
       "  line-height: 1em;\n",
       "  font-family: monospace;\n",
       "  background-color: var(--sklearn-color-background);\n",
       "  border-radius: 1rem;\n",
       "  height: 1rem;\n",
       "  width: 1rem;\n",
       "  text-decoration: none;\n",
       "  /* unfitted */\n",
       "  color: var(--sklearn-color-unfitted-level-1);\n",
       "  border: var(--sklearn-color-unfitted-level-1) 1pt solid;\n",
       "}\n",
       "\n",
       "#sk-container-id-1 a.estimator_doc_link.fitted {\n",
       "  /* fitted */\n",
       "  border: var(--sklearn-color-fitted-level-1) 1pt solid;\n",
       "  color: var(--sklearn-color-fitted-level-1);\n",
       "}\n",
       "\n",
       "/* On hover */\n",
       "#sk-container-id-1 a.estimator_doc_link:hover {\n",
       "  /* unfitted */\n",
       "  background-color: var(--sklearn-color-unfitted-level-3);\n",
       "  color: var(--sklearn-color-background);\n",
       "  text-decoration: none;\n",
       "}\n",
       "\n",
       "#sk-container-id-1 a.estimator_doc_link.fitted:hover {\n",
       "  /* fitted */\n",
       "  background-color: var(--sklearn-color-fitted-level-3);\n",
       "}\n",
       "</style><div id=\"sk-container-id-1\" class=\"sk-top-container\"><div class=\"sk-text-repr-fallback\"><pre>LogisticRegression(random_state=0, solver=&#x27;liblinear&#x27;)</pre><b>In a Jupyter environment, please rerun this cell to show the HTML representation or trust the notebook. <br />On GitHub, the HTML representation is unable to render, please try loading this page with nbviewer.org.</b></div><div class=\"sk-container\" hidden><div class=\"sk-item\"><div class=\"sk-estimator fitted sk-toggleable\"><input class=\"sk-toggleable__control sk-hidden--visually\" id=\"sk-estimator-id-1\" type=\"checkbox\" checked><label for=\"sk-estimator-id-1\" class=\"sk-toggleable__label fitted sk-toggleable__label-arrow fitted\">&nbsp;&nbsp;LogisticRegression<a class=\"sk-estimator-doc-link fitted\" rel=\"noreferrer\" target=\"_blank\" href=\"https://scikit-learn.org/1.4/modules/generated/sklearn.linear_model.LogisticRegression.html\">?<span>Documentation for LogisticRegression</span></a><span class=\"sk-estimator-doc-link fitted\">i<span>Fitted</span></span></label><div class=\"sk-toggleable__content fitted\"><pre>LogisticRegression(random_state=0, solver=&#x27;liblinear&#x27;)</pre></div> </div></div></div></div>"
      ],
      "text/plain": [
       "LogisticRegression(random_state=0, solver='liblinear')"
      ]
     },
     "execution_count": 20,
     "metadata": {},
     "output_type": "execute_result"
    }
   ],
   "source": [
    "# instantiate the model\n",
    "logreg = LogisticRegression(solver='liblinear', random_state=0)\n",
    "\n",
    "\n",
    "# fit the model\n",
    "logreg.fit(X_train, y_train)"
   ]
  },
  {
   "cell_type": "markdown",
   "metadata": {},
   "source": [
    "# Kodowanie zmiennych kategorycznych"
   ]
  },
  {
   "cell_type": "code",
   "execution_count": 21,
   "metadata": {},
   "outputs": [
    {
     "data": {
      "text/plain": [
       "\"from sklearn import preprocessing\\nle = preprocessing.LabelEncoder()\\ncleaned_data['Location'] = le.fit_transform(cleaned_data['Location'])\\ncleaned_data['WindDir9am'] = le.fit_transform(cleaned_data['WindDir9am'])\\ncleaned_data['WindDir3pm'] = le.fit_transform(cleaned_data['WindDir3pm'])\\ncleaned_data['WindGustDir'] = le.fit_transform(cleaned_data['WindGustDir'])\\n\""
      ]
     },
     "execution_count": 21,
     "metadata": {},
     "output_type": "execute_result"
    }
   ],
   "source": [
    "'''from sklearn import preprocessing\n",
    "le = preprocessing.LabelEncoder()\n",
    "cleaned_data['Location'] = le.fit_transform(cleaned_data['Location'])\n",
    "cleaned_data['WindDir9am'] = le.fit_transform(cleaned_data['WindDir9am'])\n",
    "cleaned_data['WindDir3pm'] = le.fit_transform(cleaned_data['WindDir3pm'])\n",
    "cleaned_data['WindGustDir'] = le.fit_transform(cleaned_data['WindGustDir'])\n",
    "'''"
   ]
  },
  {
   "cell_type": "code",
   "execution_count": 22,
   "metadata": {},
   "outputs": [
    {
     "data": {
      "text/plain": [
       "MultiIndex([(      'MinTemp',),\n",
       "            (      'MaxTemp',),\n",
       "            (     'Rainfall',),\n",
       "            ('WindGustSpeed',),\n",
       "            ( 'WindSpeed9am',),\n",
       "            ( 'WindSpeed3pm',),\n",
       "            (  'Humidity3pm',),\n",
       "            (  'Pressure9am',),\n",
       "            (  'Pressure3pm',),\n",
       "            (     'Latitude',),\n",
       "            (    'Longitude',),\n",
       "            (         'Year',),\n",
       "            (        'Month',),\n",
       "            (          'Day',),\n",
       "            (  'RainToday_0',),\n",
       "            (  'RainToday_1',),\n",
       "            (     'Adelaide',),\n",
       "            (       'Albany',),\n",
       "            (       'Albury',),\n",
       "            ( 'AliceSprings',),\n",
       "            (     'Ballarat',),\n",
       "            (      'Bendigo',),\n",
       "            (     'Brisbane',),\n",
       "            (       'Cairns',),\n",
       "            (     'Canberra',),\n",
       "            (       'Darwin',),\n",
       "            (    'GoldCoast',),\n",
       "            (       'Hobart',),\n",
       "            (   'Launceston',),\n",
       "            (    'Melbourne',),\n",
       "            ( 'MountGambier',),\n",
       "            (  'MountGinini',),\n",
       "            (    'Newcastle',),\n",
       "            (      'Penrith',),\n",
       "            (        'Perth',),\n",
       "            (       'Sydney',),\n",
       "            (   'Townsville',),\n",
       "            (  'Tuggeranong',),\n",
       "            (   'Wollongong',)],\n",
       "           )"
      ]
     },
     "execution_count": 22,
     "metadata": {},
     "output_type": "execute_result"
    }
   ],
   "source": [
    "X_train.columns"
   ]
  },
  {
   "cell_type": "markdown",
   "metadata": {},
   "source": [
    "# Predykcja wyników"
   ]
  },
  {
   "cell_type": "code",
   "execution_count": 23,
   "metadata": {},
   "outputs": [
    {
     "data": {
      "text/plain": [
       "array(['No', 'No', 'No', 'No', 'No', 'No', 'Yes', 'No', 'No', 'No', 'No',\n",
       "       'No', 'No', 'No', 'No', 'No', 'No', 'No', 'No', 'No', 'No', 'No',\n",
       "       'No', 'No', 'No', 'No', 'No', 'No', 'No', 'No', 'No', 'No', 'No',\n",
       "       'No', 'No', 'No', 'No', 'No', 'No', 'No', 'No', 'No', 'No', 'No',\n",
       "       'No', 'No', 'No', 'No', 'No', 'No', 'No', 'No', 'No', 'No', 'No',\n",
       "       'No', 'No', 'No', 'No', 'No', 'No', 'No', 'No', 'No', 'No', 'No',\n",
       "       'No', 'No', 'No', 'No', 'No', 'No', 'No', 'No', 'No', 'No', 'No',\n",
       "       'No', 'No', 'No', 'No', 'No', 'No', 'No', 'No', 'No', 'No', 'No',\n",
       "       'No', 'No', 'No', 'No', 'No', 'No', 'No', 'No', 'No', 'No', 'No',\n",
       "       'No', 'No', 'No', 'No', 'No', 'No', 'No', 'No', 'No', 'No', 'No',\n",
       "       'No', 'No', 'No', 'No', 'No', 'No', 'No', 'No', 'No', 'No', 'No',\n",
       "       'No', 'No', 'No', 'No', 'No', 'No', 'No', 'No', 'No', 'No', 'No',\n",
       "       'No', 'No', 'No', 'No', 'No', 'No', 'No', 'No', 'No', 'No', 'No',\n",
       "       'No', 'No', 'No', 'No', 'No', 'No', 'No', 'No', 'No', 'No', 'No',\n",
       "       'No', 'No', 'No', 'No', 'No', 'No', 'No', 'No', 'No', 'No', 'No',\n",
       "       'No', 'No', 'No', 'No', 'No', 'No', 'No', 'No', 'No', 'No', 'No',\n",
       "       'No', 'No', 'No', 'No', 'No', 'No', 'No', 'No', 'No', 'No', 'No',\n",
       "       'No', 'No', 'No', 'No', 'No', 'No', 'No', 'No', 'No', 'No', 'No',\n",
       "       'No', 'No', 'No', 'No', 'No', 'No', 'No', 'No', 'No', 'No', 'No',\n",
       "       'No', 'No', 'No', 'No', 'No', 'No', 'No', 'No', 'No', 'No', 'No',\n",
       "       'No', 'No', 'No', 'No', 'No', 'No', 'No', 'No', 'No', 'No', 'No',\n",
       "       'No', 'No', 'No', 'No', 'No', 'No', 'No', 'No', 'No', 'No', 'No',\n",
       "       'No', 'No', 'No', 'No', 'No', 'No', 'No', 'No', 'No', 'No', 'No',\n",
       "       'No', 'No', 'No', 'No', 'No', 'No', 'No', 'No', 'No', 'No', 'No',\n",
       "       'No', 'No', 'No', 'No', 'No', 'No', 'No', 'No', 'No', 'No', 'No',\n",
       "       'No', 'No', 'No', 'No', 'Yes', 'No', 'No', 'No', 'No', 'No', 'No',\n",
       "       'No', 'No', 'No', 'No', 'No', 'No', 'No', 'No', 'No', 'No', 'No',\n",
       "       'No', 'No', 'No', 'No', 'No', 'No', 'No', 'No', 'No', 'No', 'No',\n",
       "       'No', 'No', 'No', 'No', 'No', 'No', 'No', 'No', 'No', 'No', 'No',\n",
       "       'No', 'No', 'No', 'No', 'No', 'No', 'No', 'No', 'No', 'No', 'No',\n",
       "       'No', 'No', 'No', 'No', 'No', 'No', 'No', 'No', 'No', 'No', 'No',\n",
       "       'No', 'No', 'No', 'No', 'No', 'No', 'No', 'No', 'No', 'No', 'No',\n",
       "       'No', 'No', 'No', 'No', 'No', 'No', 'No', 'No', 'No', 'No', 'No',\n",
       "       'No', 'No', 'No', 'No', 'No', 'No', 'No', 'No', 'No', 'No', 'No',\n",
       "       'No', 'No', 'No', 'No', 'No', 'No', 'No', 'No', 'No', 'No', 'No',\n",
       "       'No', 'No', 'No', 'No', 'No', 'No', 'No', 'No', 'No', 'No', 'No',\n",
       "       'No', 'No', 'No', 'No', 'No', 'No', 'No', 'No', 'No', 'No', 'No',\n",
       "       'No', 'No', 'No', 'No', 'No', 'No', 'No', 'No', 'No', 'No', 'No',\n",
       "       'No', 'No', 'No', 'No', 'No', 'No', 'No', 'No', 'No', 'No', 'No',\n",
       "       'No', 'No', 'No', 'No', 'No', 'No', 'No', 'No', 'No', 'No', 'No',\n",
       "       'No', 'No', 'No', 'No', 'No', 'No', 'No', 'No', 'No', 'No', 'No',\n",
       "       'No', 'No', 'No'], dtype=object)"
      ]
     },
     "execution_count": 23,
     "metadata": {},
     "output_type": "execute_result"
    }
   ],
   "source": [
    "y_pred_test = logreg.predict(X_test)\n",
    "\n",
    "y_pred_test"
   ]
  },
  {
   "cell_type": "code",
   "execution_count": 24,
   "metadata": {},
   "outputs": [
    {
     "data": {
      "text/plain": [
       "array([0.80338651, 0.81586197, 0.82884095, 0.87037307, 0.76646837,\n",
       "       0.70058132, 0.49572802, 0.88257958, 0.75974696, 0.87329062,\n",
       "       0.73538618, 0.77257868, 0.81612931, 0.71612337, 0.86429881,\n",
       "       0.80123948, 0.79873668, 0.82023043, 0.81932545, 0.75950053,\n",
       "       0.84587485, 0.72057207, 0.85593151, 0.85914254, 0.91637999,\n",
       "       0.80064312, 0.82453492, 0.69573532, 0.90650297, 0.72948938,\n",
       "       0.76204624, 0.66740907, 0.85284591, 0.83604942, 0.91832365,\n",
       "       0.78294811, 0.81519795, 0.78201783, 0.74803149, 0.76693311,\n",
       "       0.84939329, 0.77216318, 0.82780656, 0.54211188, 0.91804235,\n",
       "       0.89409305, 0.69767703, 0.86496802, 0.90666352, 0.86140774,\n",
       "       0.80267814, 0.6563679 , 0.88931797, 0.893496  , 0.71501145,\n",
       "       0.73207447, 0.83268725, 0.77510222, 0.76448704, 0.67236445,\n",
       "       0.93377932, 0.88642936, 0.92432492, 0.63125391, 0.90950991,\n",
       "       0.89711931, 0.76658493, 0.85370881, 0.93424732, 0.81838089,\n",
       "       0.53940257, 0.7447186 , 0.78339394, 0.88334512, 0.90233089,\n",
       "       0.81562617, 0.84272903, 0.84866361, 0.7250511 , 0.8696524 ,\n",
       "       0.85261982, 0.79910452, 0.86806514, 0.83594387, 0.85023157,\n",
       "       0.77207581, 0.79200997, 0.91306589, 0.82752199, 0.65373901,\n",
       "       0.55878826, 0.65537454, 0.65918998, 0.69972098, 0.90947974,\n",
       "       0.79962793, 0.87201687, 0.84917483, 0.91622496, 0.76336837,\n",
       "       0.85632554, 0.89578306, 0.81856943, 0.72923551, 0.82579715,\n",
       "       0.78402936, 0.76102348, 0.88958284, 0.88887705, 0.78004377,\n",
       "       0.88330171, 0.7665501 , 0.74483758, 0.89628641, 0.69174437,\n",
       "       0.87752336, 0.77291595, 0.87984625, 0.82830927, 0.60708222,\n",
       "       0.79013934, 0.82687649, 0.7712954 , 0.85612255, 0.91298962,\n",
       "       0.95084435, 0.81017775, 0.6596344 , 0.88993596, 0.56733057,\n",
       "       0.74200232, 0.53616107, 0.74624216, 0.83542016, 0.70276326,\n",
       "       0.86645458, 0.7067854 , 0.93653706, 0.8999671 , 0.9063346 ,\n",
       "       0.76244836, 0.83259728, 0.63496259, 0.83568621, 0.74674282,\n",
       "       0.88006822, 0.89081   , 0.77733226, 0.84964213, 0.81554023,\n",
       "       0.80537584, 0.76562428, 0.83863918, 0.89172092, 0.79928167,\n",
       "       0.8320942 , 0.8595548 , 0.85063085, 0.84688976, 0.83626664,\n",
       "       0.77856483, 0.92625888, 0.64031369, 0.6683649 , 0.82539966,\n",
       "       0.79765866, 0.79918057, 0.90721929, 0.91712922, 0.89964641,\n",
       "       0.75302699, 0.59295593, 0.82419192, 0.71301204, 0.81100566,\n",
       "       0.67585011, 0.86890103, 0.78437418, 0.82440865, 0.91962087,\n",
       "       0.9130479 , 0.68796868, 0.72860221, 0.91119712, 0.83935928,\n",
       "       0.89396498, 0.76843309, 0.92605518, 0.72079674, 0.92188605,\n",
       "       0.85955187, 0.87866685, 0.80836091, 0.81596206, 0.76480466,\n",
       "       0.78635798, 0.90134333, 0.76288354, 0.89563973, 0.8572435 ,\n",
       "       0.80607665, 0.72498364, 0.74614934, 0.81057885, 0.8440123 ,\n",
       "       0.713092  , 0.80654313, 0.84540228, 0.85671438, 0.8222337 ,\n",
       "       0.89216687, 0.90439033, 0.61361573, 0.85933725, 0.9092005 ,\n",
       "       0.78023263, 0.8593861 , 0.67754972, 0.8385423 , 0.80244637,\n",
       "       0.8774172 , 0.92064933, 0.70338693, 0.90146234, 0.90560531,\n",
       "       0.6966028 , 0.8580646 , 0.89436535, 0.77346272, 0.67511827,\n",
       "       0.87959427, 0.53285433, 0.74899841, 0.79204056, 0.80250499,\n",
       "       0.84237528, 0.76170949, 0.91913224, 0.87058248, 0.80703753,\n",
       "       0.8772129 , 0.81764178, 0.87940337, 0.801161  , 0.57932382,\n",
       "       0.7257145 , 0.82195122, 0.83196887, 0.82899392, 0.59993494,\n",
       "       0.84461088, 0.84307603, 0.84565158, 0.86520676, 0.88064578,\n",
       "       0.85297643, 0.85812454, 0.94243506, 0.91769338, 0.82692385,\n",
       "       0.71755475, 0.86583233, 0.74728064, 0.86885283, 0.88682482,\n",
       "       0.84199576, 0.870022  , 0.88580807, 0.890172  , 0.73817882,\n",
       "       0.73808265, 0.75263932, 0.77694728, 0.85642805, 0.92632945,\n",
       "       0.5802845 , 0.76199093, 0.74716386, 0.73009154, 0.47106557,\n",
       "       0.93749749, 0.78900357, 0.67392357, 0.78875327, 0.67611293,\n",
       "       0.78539629, 0.74268569, 0.83660658, 0.88700667, 0.8940201 ,\n",
       "       0.77225203, 0.59534012, 0.84535266, 0.91345967, 0.84279798,\n",
       "       0.8027223 , 0.88278848, 0.87486066, 0.81807117, 0.71048003,\n",
       "       0.71761996, 0.85295144, 0.75188112, 0.89602702, 0.81607725,\n",
       "       0.81703838, 0.75596068, 0.8138544 , 0.80739943, 0.76831108,\n",
       "       0.75547082, 0.78535663, 0.9100004 , 0.9409755 , 0.87272048,\n",
       "       0.88404178, 0.8211316 , 0.7488214 , 0.76270142, 0.8139161 ,\n",
       "       0.83092712, 0.88630206, 0.69068822, 0.84205592, 0.915395  ,\n",
       "       0.88906821, 0.86359158, 0.89653548, 0.80777075, 0.90780428,\n",
       "       0.61572095, 0.92405481, 0.86923257, 0.91043426, 0.82627549,\n",
       "       0.882393  , 0.80411786, 0.84475164, 0.81640389, 0.93270274,\n",
       "       0.86031258, 0.7219797 , 0.70517945, 0.82401335, 0.86315521,\n",
       "       0.82980043, 0.82876434, 0.74947835, 0.93333058, 0.76575611,\n",
       "       0.66579956, 0.79251139, 0.92308199, 0.92696423, 0.82221266,\n",
       "       0.8703438 , 0.76196347, 0.80292242, 0.80618607, 0.71000226,\n",
       "       0.71083113, 0.80086341, 0.8299972 , 0.70244651, 0.77395741,\n",
       "       0.55937118, 0.50919798, 0.86446884, 0.75911451, 0.87450564,\n",
       "       0.85839639, 0.83316494, 0.80578363, 0.83239008, 0.79131312,\n",
       "       0.83940593, 0.86482773, 0.91224999, 0.87876556, 0.8622107 ,\n",
       "       0.81382181, 0.64201038, 0.87612031, 0.91441325, 0.81961934,\n",
       "       0.62113004, 0.88841287, 0.84603232, 0.92720165, 0.77735855,\n",
       "       0.7676015 , 0.83312438, 0.89860289, 0.93123201, 0.79791053,\n",
       "       0.72740916, 0.6887176 , 0.78819159, 0.86727858, 0.8527645 ,\n",
       "       0.85007566, 0.71463762, 0.9119089 , 0.801748  , 0.7524406 ,\n",
       "       0.77898793, 0.80226558, 0.8299796 , 0.86568161, 0.7980635 ,\n",
       "       0.80667068, 0.71443822, 0.8653689 , 0.76661332, 0.76629109,\n",
       "       0.91487807, 0.70546206, 0.87964958, 0.84969689, 0.93906989,\n",
       "       0.80543763, 0.84655945, 0.78254492, 0.85897111, 0.7691101 ,\n",
       "       0.75822633, 0.88560543, 0.8125039 , 0.8583236 , 0.79664013,\n",
       "       0.63017904, 0.87921294, 0.77333364, 0.80300841, 0.85028249,\n",
       "       0.85461043, 0.63144885, 0.86064197, 0.86261845, 0.84697751,\n",
       "       0.80366277, 0.92185701, 0.89220922, 0.67753247, 0.8838792 ,\n",
       "       0.84746358, 0.81050929, 0.64797214, 0.83010774, 0.73061219,\n",
       "       0.87379507, 0.84474488, 0.84594559, 0.82869406])"
      ]
     },
     "execution_count": 24,
     "metadata": {},
     "output_type": "execute_result"
    }
   ],
   "source": [
    "logreg.predict_proba(X_test)[:, 0]"
   ]
  },
  {
   "cell_type": "code",
   "execution_count": 25,
   "metadata": {},
   "outputs": [
    {
     "data": {
      "text/plain": [
       "array([0.19661349, 0.18413803, 0.17115905, 0.12962693, 0.23353163,\n",
       "       0.29941868, 0.50427198, 0.11742042, 0.24025304, 0.12670938,\n",
       "       0.26461382, 0.22742132, 0.18387069, 0.28387663, 0.13570119,\n",
       "       0.19876052, 0.20126332, 0.17976957, 0.18067455, 0.24049947,\n",
       "       0.15412515, 0.27942793, 0.14406849, 0.14085746, 0.08362001,\n",
       "       0.19935688, 0.17546508, 0.30426468, 0.09349703, 0.27051062,\n",
       "       0.23795376, 0.33259093, 0.14715409, 0.16395058, 0.08167635,\n",
       "       0.21705189, 0.18480205, 0.21798217, 0.25196851, 0.23306689,\n",
       "       0.15060671, 0.22783682, 0.17219344, 0.45788812, 0.08195765,\n",
       "       0.10590695, 0.30232297, 0.13503198, 0.09333648, 0.13859226,\n",
       "       0.19732186, 0.3436321 , 0.11068203, 0.106504  , 0.28498855,\n",
       "       0.26792553, 0.16731275, 0.22489778, 0.23551296, 0.32763555,\n",
       "       0.06622068, 0.11357064, 0.07567508, 0.36874609, 0.09049009,\n",
       "       0.10288069, 0.23341507, 0.14629119, 0.06575268, 0.18161911,\n",
       "       0.46059743, 0.2552814 , 0.21660606, 0.11665488, 0.09766911,\n",
       "       0.18437383, 0.15727097, 0.15133639, 0.2749489 , 0.1303476 ,\n",
       "       0.14738018, 0.20089548, 0.13193486, 0.16405613, 0.14976843,\n",
       "       0.22792419, 0.20799003, 0.08693411, 0.17247801, 0.34626099,\n",
       "       0.44121174, 0.34462546, 0.34081002, 0.30027902, 0.09052026,\n",
       "       0.20037207, 0.12798313, 0.15082517, 0.08377504, 0.23663163,\n",
       "       0.14367446, 0.10421694, 0.18143057, 0.27076449, 0.17420285,\n",
       "       0.21597064, 0.23897652, 0.11041716, 0.11112295, 0.21995623,\n",
       "       0.11669829, 0.2334499 , 0.25516242, 0.10371359, 0.30825563,\n",
       "       0.12247664, 0.22708405, 0.12015375, 0.17169073, 0.39291778,\n",
       "       0.20986066, 0.17312351, 0.2287046 , 0.14387745, 0.08701038,\n",
       "       0.04915565, 0.18982225, 0.3403656 , 0.11006404, 0.43266943,\n",
       "       0.25799768, 0.46383893, 0.25375784, 0.16457984, 0.29723674,\n",
       "       0.13354542, 0.2932146 , 0.06346294, 0.1000329 , 0.0936654 ,\n",
       "       0.23755164, 0.16740272, 0.36503741, 0.16431379, 0.25325718,\n",
       "       0.11993178, 0.10919   , 0.22266774, 0.15035787, 0.18445977,\n",
       "       0.19462416, 0.23437572, 0.16136082, 0.10827908, 0.20071833,\n",
       "       0.1679058 , 0.1404452 , 0.14936915, 0.15311024, 0.16373336,\n",
       "       0.22143517, 0.07374112, 0.35968631, 0.3316351 , 0.17460034,\n",
       "       0.20234134, 0.20081943, 0.09278071, 0.08287078, 0.10035359,\n",
       "       0.24697301, 0.40704407, 0.17580808, 0.28698796, 0.18899434,\n",
       "       0.32414989, 0.13109897, 0.21562582, 0.17559135, 0.08037913,\n",
       "       0.0869521 , 0.31203132, 0.27139779, 0.08880288, 0.16064072,\n",
       "       0.10603502, 0.23156691, 0.07394482, 0.27920326, 0.07811395,\n",
       "       0.14044813, 0.12133315, 0.19163909, 0.18403794, 0.23519534,\n",
       "       0.21364202, 0.09865667, 0.23711646, 0.10436027, 0.1427565 ,\n",
       "       0.19392335, 0.27501636, 0.25385066, 0.18942115, 0.1559877 ,\n",
       "       0.286908  , 0.19345687, 0.15459772, 0.14328562, 0.1777663 ,\n",
       "       0.10783313, 0.09560967, 0.38638427, 0.14066275, 0.0907995 ,\n",
       "       0.21976737, 0.1406139 , 0.32245028, 0.1614577 , 0.19755363,\n",
       "       0.1225828 , 0.07935067, 0.29661307, 0.09853766, 0.09439469,\n",
       "       0.3033972 , 0.1419354 , 0.10563465, 0.22653728, 0.32488173,\n",
       "       0.12040573, 0.46714567, 0.25100159, 0.20795944, 0.19749501,\n",
       "       0.15762472, 0.23829051, 0.08086776, 0.12941752, 0.19296247,\n",
       "       0.1227871 , 0.18235822, 0.12059663, 0.198839  , 0.42067618,\n",
       "       0.2742855 , 0.17804878, 0.16803113, 0.17100608, 0.40006506,\n",
       "       0.15538912, 0.15692397, 0.15434842, 0.13479324, 0.11935422,\n",
       "       0.14702357, 0.14187546, 0.05756494, 0.08230662, 0.17307615,\n",
       "       0.28244525, 0.13416767, 0.25271936, 0.13114717, 0.11317518,\n",
       "       0.15800424, 0.129978  , 0.11419193, 0.109828  , 0.26182118,\n",
       "       0.26191735, 0.24736068, 0.22305272, 0.14357195, 0.07367055,\n",
       "       0.4197155 , 0.23800907, 0.25283614, 0.26990846, 0.52893443,\n",
       "       0.06250251, 0.21099643, 0.32607643, 0.21124673, 0.32388707,\n",
       "       0.21460371, 0.25731431, 0.16339342, 0.11299333, 0.1059799 ,\n",
       "       0.22774797, 0.40465988, 0.15464734, 0.08654033, 0.15720202,\n",
       "       0.1972777 , 0.11721152, 0.12513934, 0.18192883, 0.28951997,\n",
       "       0.28238004, 0.14704856, 0.24811888, 0.10397298, 0.18392275,\n",
       "       0.18296162, 0.24403932, 0.1861456 , 0.19260057, 0.23168892,\n",
       "       0.24452918, 0.21464337, 0.0899996 , 0.0590245 , 0.12727952,\n",
       "       0.11595822, 0.1788684 , 0.2511786 , 0.23729858, 0.1860839 ,\n",
       "       0.16907288, 0.11369794, 0.30931178, 0.15794408, 0.084605  ,\n",
       "       0.11093179, 0.13640842, 0.10346452, 0.19222925, 0.09219572,\n",
       "       0.38427905, 0.07594519, 0.13076743, 0.08956574, 0.17372451,\n",
       "       0.117607  , 0.19588214, 0.15524836, 0.18359611, 0.06729726,\n",
       "       0.13968742, 0.2780203 , 0.29482055, 0.17598665, 0.13684479,\n",
       "       0.17019957, 0.17123566, 0.25052165, 0.06666942, 0.23424389,\n",
       "       0.33420044, 0.20748861, 0.07691801, 0.07303577, 0.17778734,\n",
       "       0.1296562 , 0.23803653, 0.19707758, 0.19381393, 0.28999774,\n",
       "       0.28916887, 0.19913659, 0.1700028 , 0.29755349, 0.22604259,\n",
       "       0.44062882, 0.49080202, 0.13553116, 0.24088549, 0.12549436,\n",
       "       0.14160361, 0.16683506, 0.19421637, 0.16760992, 0.20868688,\n",
       "       0.16059407, 0.13517227, 0.08775001, 0.12123444, 0.1377893 ,\n",
       "       0.18617819, 0.35798962, 0.12387969, 0.08558675, 0.18038066,\n",
       "       0.37886996, 0.11158713, 0.15396768, 0.07279835, 0.22264145,\n",
       "       0.2323985 , 0.16687562, 0.10139711, 0.06876799, 0.20208947,\n",
       "       0.27259084, 0.3112824 , 0.21180841, 0.13272142, 0.1472355 ,\n",
       "       0.14992434, 0.28536238, 0.0880911 , 0.198252  , 0.2475594 ,\n",
       "       0.22101207, 0.19773442, 0.1700204 , 0.13431839, 0.2019365 ,\n",
       "       0.19332932, 0.28556178, 0.1346311 , 0.23338668, 0.23370891,\n",
       "       0.08512193, 0.29453794, 0.12035042, 0.15030311, 0.06093011,\n",
       "       0.19456237, 0.15344055, 0.21745508, 0.14102889, 0.2308899 ,\n",
       "       0.24177367, 0.11439457, 0.1874961 , 0.1416764 , 0.20335987,\n",
       "       0.36982096, 0.12078706, 0.22666636, 0.19699159, 0.14971751,\n",
       "       0.14538957, 0.36855115, 0.13935803, 0.13738155, 0.15302249,\n",
       "       0.19633723, 0.07814299, 0.10779078, 0.32246753, 0.1161208 ,\n",
       "       0.15253642, 0.18949071, 0.35202786, 0.16989226, 0.26938781,\n",
       "       0.12620493, 0.15525512, 0.15405441, 0.17130594])"
      ]
     },
     "execution_count": 25,
     "metadata": {},
     "output_type": "execute_result"
    }
   ],
   "source": [
    "logreg.predict_proba(X_test)[:, 1]"
   ]
  },
  {
   "cell_type": "markdown",
   "metadata": {},
   "source": [
    "# Dokładność"
   ]
  },
  {
   "cell_type": "code",
   "execution_count": 26,
   "metadata": {},
   "outputs": [
    {
     "name": "stdout",
     "output_type": "stream",
     "text": [
      "Model accuracy score: 0.8282\n"
     ]
    }
   ],
   "source": [
    "print('Model accuracy score: {0:0.4f}'. format(\n",
    "    accuracy_score(y_test, y_pred_test)))"
   ]
  },
  {
   "cell_type": "markdown",
   "metadata": {},
   "source": [
    "# Macierz pomyłek"
   ]
  },
  {
   "cell_type": "code",
   "execution_count": 27,
   "metadata": {},
   "outputs": [
    {
     "name": "stdout",
     "output_type": "stream",
     "text": [
      "Confusion matrix\n",
      "\n",
      " [[374   0]\n",
      " [ 78   2]]\n",
      "\n",
      "True Positives(TP) =  374\n",
      "\n",
      "True Negatives(TN) =  2\n",
      "\n",
      "False Positives(FP) =  0\n",
      "\n",
      "False Negatives(FN) =  78\n"
     ]
    }
   ],
   "source": [
    "cm = confusion_matrix(y_test, y_pred_test)\n",
    "\n",
    "print('Confusion matrix\\n\\n', cm)\n",
    "\n",
    "print('\\nTrue Positives(TP) = ', cm[0, 0])\n",
    "\n",
    "print('\\nTrue Negatives(TN) = ', cm[1, 1])\n",
    "\n",
    "print('\\nFalse Positives(FP) = ', cm[0, 1])\n",
    "\n",
    "print('\\nFalse Negatives(FN) = ', cm[1, 0])"
   ]
  },
  {
   "cell_type": "markdown",
   "metadata": {},
   "source": [
    "# Wizualizacja macierzy pomyłek z heatmapą seaborn\n"
   ]
  },
  {
   "cell_type": "code",
   "execution_count": 28,
   "metadata": {},
   "outputs": [
    {
     "data": {
      "text/plain": [
       "<Axes: >"
      ]
     },
     "execution_count": 28,
     "metadata": {},
     "output_type": "execute_result"
    },
    {
     "data": {
      "image/png": "[encoded data removed]",
      "text/plain": [
       "<Figure size 640x480 with 2 Axes>"
      ]
     },
     "metadata": {},
     "output_type": "display_data"
    }
   ],
   "source": [
    "cm_matrix = pd.DataFrame(data=cm, columns=['Actual Positive:1', 'Actual Negative:0'],\n",
    "                         index=['Predict Positive:1', 'Predict Negative:0'])\n",
    "\n",
    "sns.heatmap(cm_matrix, annot=True, fmt='d', cmap='YlGnBu')"
   ]
  },
  {
   "cell_type": "markdown",
   "metadata": {},
   "source": [
    "# Dokładność klasyfikatora\n"
   ]
  },
  {
   "cell_type": "code",
   "execution_count": 29,
   "metadata": {},
   "outputs": [
    {
     "name": "stdout",
     "output_type": "stream",
     "text": [
      "Classification accuracy : 0.8282\n"
     ]
    }
   ],
   "source": [
    "TP = cm[0, 0]\n",
    "TN = cm[1, 1]\n",
    "FP = cm[0, 1]\n",
    "FN = cm[1, 0]\n",
    "classification_accuracy = (TP + TN) / float(TP + TN + FP + FN)\n",
    "\n",
    "print('Classification accuracy : {0:0.4f}'.format(classification_accuracy))"
   ]
  },
  {
   "cell_type": "markdown",
   "metadata": {},
   "source": [
    "# Precyzja klasyfikatora"
   ]
  },
  {
   "cell_type": "code",
   "execution_count": 30,
   "metadata": {},
   "outputs": [
    {
     "name": "stdout",
     "output_type": "stream",
     "text": [
      "Precision : 1.0000\n"
     ]
    }
   ],
   "source": [
    "precision = TP / float(TP + FP)\n",
    "\n",
    "print('Precision : {0:0.4f}'.format(precision))"
   ]
  },
  {
   "cell_type": "code",
   "execution_count": 31,
   "metadata": {},
   "outputs": [],
   "source": [
    "y_pred1 = logreg.predict_proba(X_test)[:, 1]"
   ]
  },
  {
   "cell_type": "markdown",
   "metadata": {},
   "source": [
    "# Krzywa ROC"
   ]
  },
  {
   "cell_type": "code",
   "execution_count": 32,
   "metadata": {},
   "outputs": [
    {
     "data": {
      "image/png": "[encoded data removed]",
      "text/plain": [
       "<Figure size 600x400 with 1 Axes>"
      ]
     },
     "metadata": {},
     "output_type": "display_data"
    }
   ],
   "source": [
    "fpr, tpr, thresholds = roc_curve(y_test, y_pred1, pos_label='Yes')\n",
    "\n",
    "plt.figure(figsize=(6, 4))\n",
    "\n",
    "plt.plot(fpr, tpr, linewidth=2)\n",
    "\n",
    "plt.plot([0, 1], [0, 1], 'k--')\n",
    "\n",
    "plt.rcParams['font.size'] = 12\n",
    "\n",
    "plt.title('ROC curve for RainTomorrow classifier')\n",
    "\n",
    "plt.xlabel('False Positive Rate (1 - Specificity)')\n",
    "\n",
    "plt.ylabel('True Positive Rate (Sensitivity)')\n",
    "\n",
    "plt.show()"
   ]
  },
  {
   "cell_type": "markdown",
   "metadata": {},
   "source": [
    "# Eskport modelu"
   ]
  },
  {
   "cell_type": "code",
   "execution_count": 33,
   "metadata": {},
   "outputs": [],
   "source": [
    "model_dir = 'model'\n",
    "if not os.path.exists(model_dir):\n",
    "    os.makedirs(model_dir)\n",
    "\n",
    "# Save the model\n",
    "model_filename = os.path.join(model_dir, 'model.h5')\n",
    "pickle.dump(logreg, open(model_filename, 'wb'))\n",
    "\n",
    "# Save the encoder\n",
    "encoder_filename = os.path.join(model_dir, 'encoder.pkl')\n",
    "with open(encoder_filename, 'wb') as file:\n",
    "    pickle.dump(encoder, file)"
   ]
  },
  {
   "cell_type": "code",
   "execution_count": 34,
   "metadata": {},
   "outputs": [
    {
     "name": "stdout",
     "output_type": "stream",
     "text": [
      "40\n"
     ]
    }
   ],
   "source": [
    "total_features = len(numerical) - len(['Temp3pm', 'Temp9am', 'Humidity9am'])\n",
    "total_features += 2\n",
    "total_features += sum([len(x[column].unique()) for column in categorical])\n",
    "print(total_features)"
   ]
  }
 ],
 "metadata": {
  "kernelspec": {
   "display_name": "Python 3",
   "language": "python",
   "name": "python3"
  },
  "language_info": {
   "codemirror_mode": {
    "name": "ipython",
    "version": 3
   },
   "file_extension": ".py",
   "mimetype": "text/x-python",
   "name": "python",
   "nbconvert_exporter": "python",
   "pygments_lexer": "ipython3",
   "version": "3.12.1"
  }
 },
 "nbformat": 4,
 "nbformat_minor": 2
}
