{
 "cells": [
  {
   "cell_type": "code",
   "execution_count": 1,
   "metadata": {},
   "outputs": [
    {
     "name": "stdout",
     "output_type": "stream",
     "text": [
      "************* Module app\n",
      "app\\app.py:7:9: C0303: Trailing whitespace (trailing-whitespace)\n",
      "app\\app.py:23:18: C0303: Trailing whitespace (trailing-whitespace)\n",
      "app\\app.py:32:0: C0303: Trailing whitespace (trailing-whitespace)\n",
      "app\\app.py:36:0: C0303: Trailing whitespace (trailing-whitespace)\n",
      "app\\app.py:37:0: C0301: Line too long (117/100) (line-too-long)\n",
      "app\\app.py:45:0: C0303: Trailing whitespace (trailing-whitespace)\n",
      "app\\app.py:77:43: C0303: Trailing whitespace (trailing-whitespace)\n",
      "app\\app.py:78:0: C0301: Line too long (113/100) (line-too-long)\n",
      "app\\app.py:79:0: C0301: Line too long (122/100) (line-too-long)\n",
      "app\\app.py:82:0: C0303: Trailing whitespace (trailing-whitespace)\n",
      "app\\app.py:84:71: C0303: Trailing whitespace (trailing-whitespace)\n",
      "app\\app.py:85:71: C0303: Trailing whitespace (trailing-whitespace)\n",
      "app\\app.py:89:0: C0303: Trailing whitespace (trailing-whitespace)\n",
      "app\\app.py:93:0: C0301: Line too long (114/100) (line-too-long)\n",
      "app\\app.py:94:0: C0301: Line too long (129/100) (line-too-long)\n",
      "app\\app.py:96:0: C0301: Line too long (125/100) (line-too-long)\n",
      "app\\app.py:97:0: C0301: Line too long (149/100) (line-too-long)\n",
      "app\\app.py:105:0: C0304: Final newline missing (missing-final-newline)\n",
      "app\\app.py:1:0: C0114: Missing module docstring (missing-module-docstring)\n",
      "app\\app.py:8:0: C0116: Missing function or method docstring (missing-function-docstring)\n",
      "app\\app.py:14:0: C0116: Missing function or method docstring (missing-function-docstring)\n",
      "app\\app.py:19:0: C0116: Missing function or method docstring (missing-function-docstring)\n",
      "app\\app.py:23:0: C0116: Missing function or method docstring (missing-function-docstring)\n",
      "app\\app.py:28:0: C0116: Missing function or method docstring (missing-function-docstring)\n",
      "app\\app.py:51:0: C0116: Missing function or method docstring (missing-function-docstring)\n",
      "app\\app.py:51:0: R0914: Too many local variables (27/15) (too-many-locals)\n"
     ]
    },
    {
     "name": "stderr",
     "output_type": "stream",
     "text": [
      "<unknown>:485: SyntaxWarning: invalid escape sequence '\\.'\n"
     ]
    },
    {
     "name": "stdout",
     "output_type": "stream",
     "text": [
      "app\\app.py:57:4: W0612: Unused variable 'scaler' (unused-variable)\n",
      "app\\app.py:2:0: C0411: standard import \"import pickle\" should be placed before \"import streamlit as st\" (wrong-import-order)\n",
      "app\\app.py:4:0: W0611: Unused MinMaxScaler imported from sklearn.preprocessing (unused-import)\n",
      "app\\app.py:5:0: W0611: Unused category_encoders imported as ce (unused-import)\n",
      "\n",
      "-----------------------------------\n",
      "Your code has been rated at 5.52/10\n",
      "\n"
     ]
    },
    {
     "ename": "SystemExit",
     "evalue": "28",
     "output_type": "error",
     "traceback": [
      "An exception has occurred, use %tb to see the full traceback.\n",
      "\u001b[1;31mSystemExit\u001b[0m\u001b[1;31m:\u001b[0m 28\n"
     ]
    },
    {
     "name": "stderr",
     "output_type": "stream",
     "text": [
      "c:\\Users\\klips\\Documents\\PJATK\\7 - Zimowy\\SUML\\SUML_GR1_TMWT\\.venv\\Lib\\site-packages\\IPython\\core\\interactiveshell.py:3561: UserWarning: To exit: use 'exit', 'quit', or Ctrl-D.\n",
      "  warn(\"To exit: use 'exit', 'quit', or Ctrl-D.\", stacklevel=1)\n"
     ]
    }
   ],
   "source": [
    "from pylint.lint import Run\n",
    "\n",
    "results = Run(['app/app.py'])\n",
    "score = results.linter.stats['global_note']\n",
    "print(f\"Pylint score: {score}\")"
   ]
  }
 ],
 "metadata": {
  "kernelspec": {
   "display_name": "Python 3",
   "language": "python",
   "name": "python3"
  },
  "language_info": {
   "codemirror_mode": {
    "name": "ipython",
    "version": 3
   },
   "file_extension": ".py",
   "mimetype": "text/x-python",
   "name": "python",
   "nbconvert_exporter": "python",
   "pygments_lexer": "ipython3",
   "version": "3.12.1"
  }
 },
 "nbformat": 4,
 "nbformat_minor": 2
}
