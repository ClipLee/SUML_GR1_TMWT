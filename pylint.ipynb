{
 "cells": [
  {
   "cell_type": "code",
   "execution_count": 1,
   "metadata": {},
   "outputs": [
    {
     "name": "stdout",
     "output_type": "stream",
     "text": [
      "************* Module app\n",
      "app\\app.py:102:0: C0301: Line too long (137/100) (line-too-long)\n",
      "app\\app.py:103:0: C0301: Line too long (146/100) (line-too-long)\n",
      "app\\app.py:115:0: C0301: Line too long (114/100) (line-too-long)\n",
      "app\\app.py:116:0: C0301: Line too long (129/100) (line-too-long)\n",
      "app\\app.py:118:0: C0301: Line too long (125/100) (line-too-long)\n",
      "app\\app.py:119:0: C0301: Line too long (149/100) (line-too-long)\n",
      "app\\app.py:70:0: R0914: Too many local variables (26/15) (too-many-locals)\n",
      "\n",
      "------------------------------------------------------------------\n",
      "Your code has been rated at 8.91/10 (previous run: 7.31/10, +1.59)\n",
      "\n"
     ]
    },
    {
     "ename": "SystemExit",
     "evalue": "24",
     "output_type": "error",
     "traceback": [
      "An exception has occurred, use %tb to see the full traceback.\n",
      "\u001b[1;31mSystemExit\u001b[0m\u001b[1;31m:\u001b[0m 24\n"
     ]
    },
    {
     "name": "stderr",
     "output_type": "stream",
     "text": [
      "C:\\Users\\s20901\\AppData\\Roaming\\Python\\Python311\\site-packages\\IPython\\core\\interactiveshell.py:3561: UserWarning: To exit: use 'exit', 'quit', or Ctrl-D.\n",
      "  warn(\"To exit: use 'exit', 'quit', or Ctrl-D.\", stacklevel=1)\n"
     ]
    }
   ],
   "source": [
    "from pylint.lint import Run\n",
    "\n",
    "results = Run(['app/app.py'])\n",
    "score = results.linter.stats['global_note']\n",
    "print(f\"Pylint score: {score}\")"
   ]
  }
 ],
 "metadata": {
  "kernelspec": {
   "display_name": "Python 3",
   "language": "python",
   "name": "python3"
  },
  "language_info": {
   "codemirror_mode": {
    "name": "ipython",
    "version": 3
   },
   "file_extension": ".py",
   "mimetype": "text/x-python",
   "name": "python",
   "nbconvert_exporter": "python",
   "pygments_lexer": "ipython3",
   "version": "3.11.4"
  }
 },
 "nbformat": 4,
 "nbformat_minor": 2
}
